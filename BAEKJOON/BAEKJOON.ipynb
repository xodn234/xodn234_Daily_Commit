{
  "nbformat": 4,
  "nbformat_minor": 0,
  "metadata": {
    "colab": {
      "name": "BAEKJOON.ipynb",
      "private_outputs": true,
      "provenance": [],
      "collapsed_sections": [],
      "authorship_tag": "ABX9TyOQLV4PJgcR7ArY0UXgXAbS",
      "include_colab_link": true
    },
    "kernelspec": {
      "name": "python3",
      "display_name": "Python 3"
    },
    "language_info": {
      "name": "python"
    }
  },
  "cells": [
    {
      "cell_type": "markdown",
      "metadata": {
        "id": "view-in-github",
        "colab_type": "text"
      },
      "source": [
        "<a href=\"https://colab.research.google.com/github/xodn234/xodn234_Daily_Commit/blob/main/BAEKJOON/BAEKJOON.ipynb\" target=\"_parent\"><img src=\"https://colab.research.google.com/assets/colab-badge.svg\" alt=\"Open In Colab\"/></a>"
      ]
    },
    {
      "cell_type": "code",
      "execution_count": null,
      "metadata": {
        "id": "26358QnULIK_"
      },
      "outputs": [],
      "source": [
        "# https://www.acmicpc.net/step"
      ]
    },
    {
      "cell_type": "code",
      "source": [
        "# 1-1 Hello World!를 출력하시오.\n",
        "print('Hello World!')"
      ],
      "metadata": {
        "id": "tmxnsuvCLNYj"
      },
      "execution_count": null,
      "outputs": []
    },
    {
      "cell_type": "code",
      "source": [
        "# 1-2 두 줄에 걸쳐 \"강한친구 대한육군\"을 한 줄에 한 번씩 출력한다.\n",
        "for i in range(2):\n",
        "  print(\"강한친구 대한육군\")"
      ],
      "metadata": {
        "id": "PZyFkc1rznZD"
      },
      "execution_count": null,
      "outputs": []
    },
    {
      "cell_type": "code",
      "source": [
        "# 1-3 아래 예제와 같이 고양이를 출력하시오.\n",
        "print('\\\\    /\\\\')\n",
        "print(\" )  ( ')\")\n",
        "print('(  /  )')\n",
        "print(' \\\\(__)|')"
      ],
      "metadata": {
        "id": "AWmpS23G0R8X"
      },
      "execution_count": null,
      "outputs": []
    },
    {
      "cell_type": "code",
      "source": [
        "# 1-4 아래 예제와 같이 개를 출력하시오.\n",
        "print(\"|\\_/|\")\n",
        "print(\"|q p|   /}\")\n",
        "print('( 0 )\"\"\"\\\\')  \n",
        "print('|\"^\"`    |')\n",
        "print(\"||_/=\\\\\\__|\")"
      ],
      "metadata": {
        "id": "36YLx-nZ3oNV"
      },
      "execution_count": null,
      "outputs": []
    },
    {
      "cell_type": "code",
      "source": [
        "# 1-5 두 정수 A와 B를 입력받은 다음, A+B를 출력하는 프로그램을 작성하시오.\n"
      ],
      "metadata": {
        "id": "VkUh_gja372R"
      },
      "execution_count": null,
      "outputs": []
    }
  ]
}