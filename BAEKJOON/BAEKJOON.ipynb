{
  "nbformat": 4,
  "nbformat_minor": 0,
  "metadata": {
    "colab": {
      "name": "BAEKJOON.ipynb",
      "private_outputs": true,
      "provenance": [],
      "collapsed_sections": [],
      "authorship_tag": "ABX9TyPGEoNjoPZ+AXL677iCr+Ok",
      "include_colab_link": true
    },
    "kernelspec": {
      "name": "python3",
      "display_name": "Python 3"
    },
    "language_info": {
      "name": "python"
    }
  },
  "cells": [
    {
      "cell_type": "markdown",
      "metadata": {
        "id": "view-in-github",
        "colab_type": "text"
      },
      "source": [
        "<a href=\"https://colab.research.google.com/github/xodn234/xodn234_Daily_Commit/blob/main/BAEKJOON/BAEKJOON.ipynb\" target=\"_parent\"><img src=\"https://colab.research.google.com/assets/colab-badge.svg\" alt=\"Open In Colab\"/></a>"
      ]
    },
    {
      "cell_type": "code",
      "execution_count": null,
      "metadata": {
        "id": "26358QnULIK_"
      },
      "outputs": [],
      "source": [
        "# https://www.acmicpc.net/step"
      ]
    },
    {
      "cell_type": "code",
      "source": [
        "# 1-1 Hello World!를 출력하시오.\n",
        "print('Hello World!')"
      ],
      "metadata": {
        "id": "tmxnsuvCLNYj"
      },
      "execution_count": null,
      "outputs": []
    }
  ]
}