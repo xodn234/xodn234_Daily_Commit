{
  "nbformat": 4,
  "nbformat_minor": 0,
  "metadata": {
    "colab": {
      "name": "BAEKJOON.ipynb",
      "private_outputs": true,
      "provenance": [],
      "collapsed_sections": [],
      "authorship_tag": "ABX9TyNU2EG37GOqAIXpZMFL32gg",
      "include_colab_link": true
    },
    "kernelspec": {
      "name": "python3",
      "display_name": "Python 3"
    },
    "language_info": {
      "name": "python"
    }
  },
  "cells": [
    {
      "cell_type": "markdown",
      "metadata": {
        "id": "view-in-github",
        "colab_type": "text"
      },
      "source": [
        "<a href=\"https://colab.research.google.com/github/xodn234/xodn234_Daily_Commit/blob/main/BAEKJOON/BAEKJOON.ipynb\" target=\"_parent\"><img src=\"https://colab.research.google.com/assets/colab-badge.svg\" alt=\"Open In Colab\"/></a>"
      ]
    },
    {
      "cell_type": "markdown",
      "source": [
        "# https://www.acmicpc.net/step"
      ],
      "metadata": {
        "id": "pcKTJnBD1zQL"
      }
    },
    {
      "cell_type": "code",
      "source": [
        "import time\n",
        "startTime = time.time()\n",
        "\n",
        "### 코드 작성 ###\n",
        "\n",
        "print(f\"측정 시간 : {time.time() - startTime}\")"
      ],
      "metadata": {
        "id": "E1Ud3M7w5UD6"
      },
      "execution_count": null,
      "outputs": []
    },
    {
      "cell_type": "code",
      "source": [
        "# 2557\n",
        "# 1-1 Hello World!를 출력하시오.\n",
        "print('Hello World!')"
      ],
      "metadata": {
        "id": "tmxnsuvCLNYj"
      },
      "execution_count": null,
      "outputs": []
    },
    {
      "cell_type": "code",
      "source": [
        "# 10718\n",
        "# 1-2 두 줄에 걸쳐 \"강한친구 대한육군\"을 한 줄에 한 번씩 출력한다.\n",
        "for i in range(2):\n",
        "  print(\"강한친구 대한육군\")"
      ],
      "metadata": {
        "id": "PZyFkc1rznZD"
      },
      "execution_count": null,
      "outputs": []
    },
    {
      "cell_type": "code",
      "source": [
        "# 10171\n",
        "# 1-3 아래 예제와 같이 고양이를 출력하시오.\n",
        "print('\\\\    /\\\\')\n",
        "print(\" )  ( ')\")\n",
        "print('(  /  )')\n",
        "print(' \\\\(__)|')"
      ],
      "metadata": {
        "id": "AWmpS23G0R8X"
      },
      "execution_count": null,
      "outputs": []
    },
    {
      "cell_type": "markdown",
      "source": [
        ""
      ],
      "metadata": {
        "id": "NVC4kZZq93UM"
      }
    },
    {
      "cell_type": "code",
      "source": [
        "# 10172\n",
        "# 1-4 아래 예제와 같이 개를 출력하시오.\n",
        "print(\"|\\_/|\")\n",
        "print(\"|q p|   /}\")\n",
        "print('( 0 )\"\"\"\\\\')  \n",
        "print('|\"^\"`    |')\n",
        "print(\"||_/=\\\\\\__|\")"
      ],
      "metadata": {
        "id": "36YLx-nZ3oNV"
      },
      "execution_count": null,
      "outputs": []
    },
    {
      "cell_type": "code",
      "source": [
        "# 1000\n",
        "# 1-5 두 정수 A와 B를 입력받은 다음, A+B를 출력하는 프로그램을 작성하시오.\n",
        "A, B = map(int, input().split())\n",
        "print(A + B)"
      ],
      "metadata": {
        "id": "VkUh_gja372R"
      },
      "execution_count": null,
      "outputs": []
    },
    {
      "cell_type": "code",
      "source": [
        "# 1001\n",
        "# 1-6 두 정수 A와 B를 입력받은 다음, A-B를 출력하는 프로그램을 작성하시오.\n",
        "A, B = map(int, input().split())\n",
        "print(A - B)"
      ],
      "metadata": {
        "id": "fs1WUKsfDJVx"
      },
      "execution_count": null,
      "outputs": []
    },
    {
      "cell_type": "code",
      "source": [
        "# 10998\n",
        "# 1-7 두 정수 A와 B를 입력받은 다음, A×B를 출력하는 프로그램을 작성하시오.\n",
        "A, B = map(int, input().split())\n",
        "print(A * B)"
      ],
      "metadata": {
        "id": "XO_vFLSXEg_w"
      },
      "execution_count": null,
      "outputs": []
    },
    {
      "cell_type": "code",
      "source": [
        "# 1008\n",
        "# 1-8 두 정수 A와 B를 입력받은 다음, A/B를 출력하는 프로그램을 작성하시오.\n",
        "A, B = map(int, input().split())\n",
        "print(A / B)"
      ],
      "metadata": {
        "id": "s18Ej9q4E-Cs"
      },
      "execution_count": null,
      "outputs": []
    },
    {
      "cell_type": "code",
      "source": [
        "# 10869\n",
        "# 1-9 두 자연수 A와 B가 주어진다. 이때, A+B, A-B, A*B, A/B(몫), A%B(나머지)를 출력하는 프로그램을 작성하시오. \n",
        "A, B = map(int, input().split())\n",
        "print(A+B)\n",
        "print(A-B)\n",
        "print(A*B)\n",
        "print(A//B)\n",
        "print(A%B)"
      ],
      "metadata": {
        "id": "SwUv46T6Fbx0"
      },
      "execution_count": null,
      "outputs": []
    },
    {
      "cell_type": "code",
      "source": [
        "# 10926\n",
        "# 1-10 하는 사이트에 회원가입을 하다가 joonas라는 아이디가 이미 존재하는 것을 보고 놀랐다. \n",
        "# 준하는 놀람을 ??!로 표현한다. 준하가 가입하려고 하는 사이트에 이미 존재하는 아이디가 주어졌을 때, \n",
        "# 놀람을 표현하는 프로그램을 작성하시오.\n",
        "id = str(input())\n",
        "print(id+'??!')"
      ],
      "metadata": {
        "id": "0Ulvfs2VGxkY"
      },
      "execution_count": null,
      "outputs": []
    },
    {
      "cell_type": "code",
      "source": [
        "# 18108\n",
        "# 1-11 불기 연도가 주어질 때 이를 서기 연도로 바꿔 주는 프로그램을 작성하시오.\n",
        "year_o = int(input())\n",
        "year_n = year_o - 543\n",
        "print(year_n)"
      ],
      "metadata": {
        "id": "Gy_yjE5-HwZ5"
      },
      "execution_count": null,
      "outputs": []
    },
    {
      "cell_type": "code",
      "source": [
        "# 10430\n",
        "# 1-12  수 A, B, C가 주어졌을 때, 위의 네 가지 값을 구하는 프로그램을 작성\n",
        "# (A+B)%C는 ((A%C) + (B%C))%C \n",
        "# (A×B)%C는 ((A%C) × (B%C))%C\n",
        "A, B, C = map(int, input().split())\n",
        "print((A+B)%C)\n",
        "print(((A%C)+(B%C))%C )\n",
        "print((A*B)%C)\n",
        "print(((A%C)*(B%C))%C)"
      ],
      "metadata": {
        "id": "-EnaeaxpKJ_y"
      },
      "execution_count": null,
      "outputs": []
    },
    {
      "cell_type": "code",
      "source": [
        "# 2588\n",
        "# 1-13 (세 자리 수) × (세 자리 수)는 다음과 같은 과정을 통하여 이루어진다.\n",
        "# (1)과 (2)위치에 들어갈 세 자리 자연수가 주어질 때 (3), (4), (5), (6)위치에 들어갈 값을 구하는 프로그램을 작성하시오.\n",
        "# a, b = map(str, input().split())\n",
        "a = input() # 다른 줄에 입력이 되어야 함으로 각각 입력을 받는다.\n",
        "b = input()\n",
        "AB2 = int(a) * int(b[-1])\n",
        "AB1 = int(a) * int(b[-2])\n",
        "AB0 = int(a) * int(b[-3])\n",
        "AB = int(a) * int(b)\n",
        "print(AB2)\n",
        "print(AB1)\n",
        "print(AB0)\n",
        "print(AB)"
      ],
      "metadata": {
        "id": "OFmIAZHaWQ4X"
      },
      "execution_count": null,
      "outputs": []
    },
    {
      "cell_type": "code",
      "source": [
        "# 1330\n",
        "# 2-1 두 정수 A와 B가 주어졌을 때, A와 B를 비교하는 프로그램을 작성하시오.\n",
        "# 첫째 줄에 A와 B가 주어진다. A와 B는 공백 한 칸으로 구분되어져 있다.\n",
        "# 첫째 줄에 다음 세 가지 중 하나를 출력한다.\n",
        "# A가 B보다 큰 경우에는 '>'를 출력한다.\n",
        "# A가 B보다 작은 경우에는 '<'를 출력한다.\n",
        "# A와 B가 같은 경우에는 '=='를 출력한다.\n",
        "A, B = map(int, input().split())\n",
        "if A > B:\n",
        "  print('>')\n",
        "elif A < B:\n",
        "  print('<')\n",
        "else:\n",
        "  print('==')"
      ],
      "metadata": {
        "id": "usKJoSvxbSgi"
      },
      "execution_count": null,
      "outputs": []
    },
    {
      "cell_type": "code",
      "source": [
        "# 9498\n",
        "# 2-2 시험 점수를 입력받아 90 ~ 100점은 A, 80 ~ 89점은 B, 70 ~ 79점은 C,\n",
        "# 60 ~ 69점은 D, 나머지 점수는 F를 출력하는 프로그램을 작성\n",
        "score = int(input())\n",
        "if score >= 90:\n",
        "  print('A')\n",
        "elif score >= 80:\n",
        "  print('B')\n",
        "elif score >= 70:\n",
        "  print('C')\n",
        "elif score >= 60:\n",
        "  print('D')\n",
        "else:\n",
        "  print('F')"
      ],
      "metadata": {
        "id": "ustwdmweGe2X"
      },
      "execution_count": null,
      "outputs": []
    },
    {
      "cell_type": "code",
      "source": [
        "# 2753\n",
        "# 2-3 연도가 주어졌을 때, 윤년이면 1, 아니면 0을 출력하는 프로그램을 작성하시오.\n",
        "# 윤년은 연도가 4의 배수이면서, 100의 배수가 아닐 때 또는 400의 배수일 때이다.\n",
        "year = int(input())\n",
        "if year % 4 == 0:\n",
        "  if year % 100 == 0 and year % 400 != 0:\n",
        "    print(0)\n",
        "  else:\n",
        "    print(1)\n",
        "else:\n",
        "  print(0)"
      ],
      "metadata": {
        "id": "mc4-AvpJKszj"
      },
      "execution_count": null,
      "outputs": []
    },
    {
      "cell_type": "code",
      "source": [
        "# 14681\n",
        "# 2-4 주어진 점이 어느 사분면에 속하는지 알아내는 것이다. 사분면은 아래 그림처럼 1부터 4까지 번호를 갖는다.\n",
        "# \"Quadrant n\"은 \"제n사분면\"이라는 뜻\n",
        "x = int(input())\n",
        "y = int(input())\n",
        "if x > 0 and y > 0:\n",
        "  print(1)\n",
        "elif x < 0 and y > 0:\n",
        "  print(2)\n",
        "elif x < 0 and y < 0:\n",
        "  print(3)\n",
        "elif x > 0 and y < 0:\n",
        "  print(4)"
      ],
      "metadata": {
        "id": "hqoov0-fOUsS"
      },
      "execution_count": null,
      "outputs": []
    },
    {
      "cell_type": "code",
      "source": [
        "# 2884\n",
        "# 2-5 45분 일찍 알람 설정하기\n",
        "H, M = map(int, input().split())\n",
        "time = H * 60 + M - 45\n",
        "HH = time // 60\n",
        "MM = time % 60\n",
        "if HH < 0:\n",
        "  HH = 23\n",
        "print(HH, MM)"
      ],
      "metadata": {
        "id": "8ZHd_eL8PlWZ"
      },
      "execution_count": null,
      "outputs": []
    },
    {
      "cell_type": "code",
      "source": [
        "# 2525\n",
        "# 2-6 훈제오리구이를 시작하는 시각과 오븐구이를 하는 데 필요한 시간이 분단위로 주어졌을 때, \n",
        "# 오븐구이가 끝나는 시각을 계산\n",
        "# 째 줄에 종료되는 시각의 시와 분,  번째 줄에는 요리하는 데 필요한 시간\n",
        "A, B = map(int, input().split())\n",
        "C = int(input())\n",
        "time = A * 60 + B + C\n",
        "AA = time // 60\n",
        "BB = time % 60\n",
        "if AA > 23:\n",
        "  AA -= 24\n",
        "print(AA, BB)"
      ],
      "metadata": {
        "id": "d_6kLDmxRsug"
      },
      "execution_count": null,
      "outputs": []
    },
    {
      "cell_type": "code",
      "source": [
        "# 2480\n",
        "# 2-7 3개 주사위의 나온 눈이 주어질 때, 상금을 계산하는 프로그램\n",
        "A, B, C = map(int, input().split())\n",
        "if A == B == C:\n",
        "  print(10000 + A * 1000)\n",
        "elif A == B != C:\n",
        "   print(1000 + A * 100)\n",
        "elif A != B == C:\n",
        "   print(1000 + B * 100)\n",
        "elif A == C != B:\n",
        "   print(1000 + A * 100)   \n",
        "else:\n",
        "  list_ = [A, B, C]\n",
        "  print(max(list_) * 100)"
      ],
      "metadata": {
        "id": "zRiLCAcbMhBb"
      },
      "execution_count": null,
      "outputs": []
    },
    {
      "cell_type": "code",
      "source": [
        "# 2739\n",
        "# 3-1 N을 입력받은 뒤, 구구단 N단을 출력하는 프로그램을 작성\n",
        "N = int(input())\n",
        "for i in range(1, 10):\n",
        "  print(f'{N} * {i} = {N * i}')"
      ],
      "metadata": {
        "id": "oLiJgxpQYI6I"
      },
      "execution_count": null,
      "outputs": []
    },
    {
      "cell_type": "code",
      "source": [
        "# 10950\n",
        "# 3-2 두 정수 A와 B를 입력받은 다음, A+B를 출력하는 프로그램을 작성\n",
        "T = int(input())\n",
        "for i in range(T):\n",
        "  A, B = map(int, input().split())\n",
        "  print(A + B)"
      ],
      "metadata": {
        "id": "PJJg1pTrY1-F"
      },
      "execution_count": null,
      "outputs": []
    },
    {
      "cell_type": "code",
      "source": [
        "# 8393\n",
        "# 3-3 n이 주어졌을 때, 1부터 n까지 합을 구하는 프로그램\n",
        "n = int(input())\n",
        "num = 0\n",
        "for i in range(0, n+1):\n",
        "  num += i\n",
        "print(num)"
      ],
      "metadata": {
        "id": "0v2ZO69130UQ"
      },
      "execution_count": null,
      "outputs": []
    },
    {
      "cell_type": "code",
      "source": [
        "# 15552\n",
        "# 3-4 첫 줄에 테스트케이스의 개수 T가 주어진다. \n",
        "# T는 최대 1,000,000이다. \n",
        "# 다음 T줄에는 각각 두 정수 A와 B가 주어진다. A와 B는 1 이상, 1,000 이하이다.\n",
        "import sys\n",
        "T = int(input())\n",
        "for i in range(T):\n",
        "  A, B = map(int, sys.stdin.readline().split())\n",
        "  print(A + B)\n",
        "# 오류나지만 정답?"
      ],
      "metadata": {
        "id": "VVKpZK6z7csx"
      },
      "execution_count": null,
      "outputs": []
    },
    {
      "cell_type": "code",
      "source": [
        "# 2741\n",
        "# 3-5 N이 주어졌을 때, 1부터 N까지 한 줄에 하나씩 출력하는 프로그램\n",
        "N = int(input())\n",
        "for i in range(1, N+1):\n",
        "  print(i)"
      ],
      "metadata": {
        "id": "TIjTTrUuA2gW"
      },
      "execution_count": null,
      "outputs": []
    },
    {
      "cell_type": "code",
      "source": [
        "# 2742\n",
        "# 3-6 자연수 N이 주어졌을 때, N부터 1까지 한 줄에 하나씩 출력하는 프로그램을 작성\n",
        "N = int(input())\n",
        "for i in range(N, 0, -1):\n",
        "  print(i)"
      ],
      "metadata": {
        "id": "t6Vsmegego8U"
      },
      "execution_count": null,
      "outputs": []
    },
    {
      "cell_type": "code",
      "source": [
        "# 11021\n",
        "# 3-7 자연수 N이 주어졌을 때, N부터 1까지 한 줄에 하나씩 출력하는 프로그램\n",
        "N = int(input())\n",
        "for i in range(N, 0, -1):\n",
        "  print(i)"
      ],
      "metadata": {
        "id": "UvUlqZnzhIap"
      },
      "execution_count": null,
      "outputs": []
    },
    {
      "cell_type": "code",
      "source": [
        "# 11022\n",
        "# 3-8 A와 B를 입력받은 다음, A+B를 출력하는 프로그램\n",
        "N = int(input())\n",
        "for i in range(1, N + 1):\n",
        "  A, B = map(int, input().split())\n",
        "  print(f\"Case #{i}:\", A + B)"
      ],
      "metadata": {
        "id": "WUfVUoIOhce6"
      },
      "execution_count": null,
      "outputs": []
    },
    {
      "cell_type": "code",
      "source": [
        "# 2438\n",
        "# 3-9 첫째 줄에는 별 1개, 둘째 줄에는 별 2개, N번째 줄에는 별 N개를 찍는 문제\n",
        "N = int(input())\n",
        "for i in range(1, N+1):\n",
        "  for j in range(i):\n",
        "    print('*', end='', sep='')\n",
        "  print('')"
      ],
      "metadata": {
        "id": "HWMXQpZwHAoX"
      },
      "execution_count": null,
      "outputs": []
    },
    {
      "cell_type": "code",
      "source": [
        "# 2439\n",
        "# 3-10 첫째 줄에는 별 1개, 둘째 줄에는 별 2개, N번째 줄에는 별 N개를 찍는 문제\n",
        "N = int(input())\n",
        "M = N\n",
        "for i in range(1, N+1):\n",
        "  for j in range(M-1, 0, -1):\n",
        "    print(' ', end='', sep='')\n",
        "  for k in range(i):\n",
        "    print('*', end='', sep='')\n",
        "  M -= 1\n",
        "  print('')"
      ],
      "metadata": {
        "id": "PInB3RnJJPdK"
      },
      "execution_count": null,
      "outputs": []
    },
    {
      "cell_type": "code",
      "source": [
        "# 10871\n",
        "# 3-11 정수 N개로 이루어진 수열 A와 정수 X가 주어진다. 이때, \n",
        "# A에서 X보다 작은 수를 모두 출력하는 프로그램을 작성\n",
        "N, X = map(int, input().split())\n",
        "A = list(map(int, input().split()))\n",
        "for i in range(N):\n",
        "  if A[i] < X:\n",
        "    print(A[i], end=' ', sep=' ')"
      ],
      "metadata": {
        "id": "EUJIcZYFoOMK"
      },
      "execution_count": null,
      "outputs": []
    },
    {
      "cell_type": "code",
      "source": [
        "# 10952\n",
        "# 3-12 정수 A와 B를 입력받은 다음, A+B를 출력하는 프로그램을 작성\n",
        "while(1):\n",
        "  A, B = map(int, input().split())\n",
        "  if A ==0 or B == 0:\n",
        "    break\n",
        "  else:\n",
        "    print(A + B)"
      ],
      "metadata": {
        "id": "Ag8VslahEqnH"
      },
      "execution_count": null,
      "outputs": []
    },
    {
      "cell_type": "code",
      "source": [
        "# 10951\n",
        "# 3-13 두 정수 A와 B를 입력받은 다음, A+B를 출력하는 프로그램을 작성\n",
        "while(1):\n",
        "  try:\n",
        "    A, B = map(int, input().split()) \n",
        "    print(A + B)\n",
        "  except:\n",
        "    break"
      ],
      "metadata": {
        "id": "rgar5LqNWr7I"
      },
      "execution_count": null,
      "outputs": []
    },
    {
      "cell_type": "code",
      "source": [
        "# 1110\n",
        "# 3-14 10보다 작다면 앞에 0을 붙여 두 자리 수로 만들고, 각 자리의 숫자를 더한다\n",
        "# 그 다음, 주어진 수의 가장 오른쪽 자리 수와 앞에서 구한 합의 가장 오른쪽 자리 수를 이어 붙이면 새로운 수를 만들 수 있다\n",
        "# 4번만에 원래 수로 돌아올 수 있다. 따라서 26의 사이클의 길이는 4\n",
        "# N이 주어졌을 때, N의 사이클의 길이를 구하는 프로그램을 작성\n",
        "N = int(input())\n",
        "num = N\n",
        "count = 0\n",
        "\n",
        "while(1):\n",
        "  num_10 = num // 10\n",
        "  num_1 = num % 10\n",
        "  num_new = (num_10 + num_1) % 10\n",
        "  num = (num_1 * 10) + num_new\n",
        "  count += 1\n",
        "\n",
        "  if num == N:\n",
        "    print(count)\n",
        "    break\n",
        "  "
      ],
      "metadata": {
        "id": "BrqFfbHUXlNI"
      },
      "execution_count": null,
      "outputs": []
    },
    {
      "cell_type": "code",
      "source": [
        "# 10818\n",
        "# 4-1 N개의 정수가 주어진다. 이때, 최솟값과 최댓값을 구하는 프로그램을 작성\n",
        "# 첫째 줄에 정수의 개수, 둘째 줄에는 N개의 정수를 공백으로 구분해서 주어진다\n",
        "N = int(input())\n",
        "array = list(map(int, input().split()))\n",
        "print(min(array), max(array))"
      ],
      "metadata": {
        "id": "0YjO2pehVBvR"
      },
      "execution_count": null,
      "outputs": []
    },
    {
      "cell_type": "code",
      "source": [
        "# 2562\n",
        "# 4-2 개의 서로 다른 자연수가 주어질 때, \n",
        "# 이들 중 최댓값을 찾고 그 최댓값이 몇 번째 수인지를 구하는 프로그램을 작성\n",
        "\n",
        "new_num = 0\n",
        "count = 0\n",
        "for i in range(9):\n",
        "  num = int(input())\n",
        "  count += 1\n",
        "\n",
        "  if num > new_num:\n",
        "    new_num = num\n",
        "    num_cnt = count\n",
        "\n",
        "print(new_num)\n",
        "print(num_cnt)"
      ],
      "metadata": {
        "id": "4D8JOd0bYcBO"
      },
      "execution_count": null,
      "outputs": []
    },
    {
      "cell_type": "code",
      "source": [
        "# 2577\n",
        "# 4-3 A, B, C가 주어질 때 A × B × C를 계산한 결과에 0부터 9까지 각각의 숫자가 몇 번씩 쓰였는지를 구하는\n",
        "# 예를 들어 A = 150, B = 266, C = 427 이라면 A × B × C = 150 × 266 × 427 = 17037300\n",
        "\n",
        "A = int(input())\n",
        "B = int(input())\n",
        "C = int(input())\n",
        "\n",
        "num = A * B * C\n",
        "num = str(num)\n",
        "\n",
        "for i in range(10):\n",
        "  count = 0\n",
        "  for j in range(len(num)):\n",
        "    if i == int(num[j]):\n",
        "      count += 1\n",
        "  print(count)"
      ],
      "metadata": {
        "id": "T5ANkKaqaO66"
      },
      "execution_count": null,
      "outputs": []
    },
    {
      "cell_type": "code",
      "source": [
        "# 3052\n",
        "# 4-4 두 자연수 A와 B가 있을 때, A%B는 A를 B로 나눈 나머지 이다.\n",
        "# 10개를 입력받은 뒤, 이를 42로 나눈 나머지를 구한다. \n",
        "# 그 다음 서로 다른 값이 몇 개 있는지 출력하는 프로그램을 작성\n",
        "\n",
        "array = []\n",
        "for i in range(10):\n",
        "  num = int(input())\n",
        "  num_42 = num % 42\n",
        "  if num_42 not in array:\n",
        "    array.append(num_42)\n",
        "print(len(array))"
      ],
      "metadata": {
        "id": "_dRJBr-w2RCc"
      },
      "execution_count": null,
      "outputs": []
    },
    {
      "cell_type": "code",
      "source": [
        "# 1546\n",
        "# 4-5 예를 들어, 세준이의 최고점이 70이고, 수학점수가 50이었으면 수학점수는 50/70*100이 되어 71.43점이 된다.\n",
        "# 시험 본 과목의 개수 N\n",
        "N = int(input())\n",
        "score = list(map(float, input().split()))\n",
        "m_score = max(score)\n",
        "for i in range(len(score)):\n",
        "  score[i] = score[i]/m_score*100\n",
        "print(sum(score) / len(score))"
      ],
      "metadata": {
        "id": "E7tyxctoQugD"
      },
      "execution_count": null,
      "outputs": []
    },
    {
      "cell_type": "code",
      "source": [
        "# 8958\n",
        "# 4-6 O는 문제를 맞은 것이고, X는 문제를 틀린 것이다. 문제를 맞은 경우 그 문제의 점수는 그 문제까지 연속된 O의 개수가 된다.\n",
        "# ex) \"OOXXOXXOOO\"의 점수는 1+2+0+0+1+0+0+1+2+3 = 10점이다.\n",
        "N = int(input())\n",
        "for i in range(N):\n",
        "  score = 1\n",
        "  total_score = 0\n",
        "  ox = input()\n",
        "  for j in range(len(ox)):\n",
        "    if ox[j] == 'O':\n",
        "      total_score += score\n",
        "      score += 1\n",
        "    else:\n",
        "      score = 1\n",
        "  print(total_score)"
      ],
      "metadata": {
        "id": "-HYhQGtPEhjz"
      },
      "execution_count": null,
      "outputs": []
    },
    {
      "cell_type": "code",
      "source": [
        "# 4344\n",
        "# 4-7 첫째 줄에는 테스트 케이스의 개수 C\n",
        "# 둘째 줄부터 각 테스트 케이스마다 학생의 수 N(1 ≤ N ≤ 1000, N은 정수)이 첫 수로 주어지고, \n",
        "# 이어서 N명의 점수가 주어진다. 점수는 0보다 크거나 같고, 100보다 작거나 같은 정수이다.\n",
        "N = int(input())\n",
        "for i in range(N):\n",
        "  num_score = list(map(int, input().split()))\n",
        "  avr = sum(num_score[1:])/num_score[0]\n",
        "  count = 0\n",
        "  for j in num_score[1:]:\n",
        "    if j > avr:\n",
        "      count += 1\n",
        "    avr_num = (count / num_score[0]) * 100\n",
        "  print(f'{avr_num:.3f}%')"
      ],
      "metadata": {
        "id": "d8YWL4vWCWQE"
      },
      "execution_count": null,
      "outputs": []
    },
    {
      "cell_type": "code",
      "source": [
        "# 15596\n",
        "# 5-1 정수 n개가 주어졌을 때, n개의 합을 구하는 함수를 작성\n",
        "def solve(a):\n",
        "  return sum(a)"
      ],
      "metadata": {
        "id": "VLhOxfb5JnzQ"
      },
      "execution_count": null,
      "outputs": []
    },
    {
      "cell_type": "code",
      "source": [
        "# 4673\n",
        "# 5-2 양의 정수 n이 주어졌을 때, 이 수를 시작해서 n, d(n), d(d(n)), d(d(d(n))), ...과 같은 무한 수열을 만들 수 있다.\n",
        "# 문제 생략\n",
        "def d(n):\n",
        "  n = n + sum(map(int, str(n)))\n",
        "  return n\n",
        "\n",
        "nn = set()\n",
        "for i in range(1, 10001):\n",
        "  nn.add(d(i))\n",
        "\n",
        "for j in range(1, 10001):\n",
        "  if j not in nn:\n",
        "    print(j)"
      ],
      "metadata": {
        "id": "faqPy8dANmzL"
      },
      "execution_count": null,
      "outputs": []
    },
    {
      "cell_type": "code",
      "source": [
        "# 1065\n",
        "# 5-3 N이 주어졌을 때, 1보다 크거나 같고, N보다 작거나 같은 한수의 개수를 출력하는 프로그램을 작성\n",
        "def hansu(num) :\n",
        "    count = 0\n",
        "    for i in range(1, num+1):\n",
        "        num_list = list(map(int,str(i)))\n",
        "        if i < 100:\n",
        "            count += 1  \n",
        "        elif num_list[0] - num_list[1] == num_list[1] - num_list[2]:\n",
        "            count += 1  \n",
        "    return count\n",
        "\n",
        "num = int(input())\n",
        "print(hansu(num))"
      ],
      "metadata": {
        "id": "yXAFpMiBRBYF"
      },
      "execution_count": null,
      "outputs": []
    },
    {
      "cell_type": "code",
      "source": [
        "# 11654\n",
        "# 6-1 알파벳 소문자, 대문자, 숫자 0-9중 하나가 주어졌을 때, 주어진 글자의 아스키 코드값을 출력하는 프로그램을 작성\n",
        "a = input()\n",
        "print(ord(a))"
      ],
      "metadata": {
        "id": "14RiZ3IY9hcG"
      },
      "execution_count": null,
      "outputs": []
    },
    {
      "cell_type": "code",
      "source": [
        "# 11720\n",
        "# 6-2 N개의 숫자가 공백 없이 쓰여있다. 이 숫자를 모두 합해서 출력하는 프로그램을 작성\n",
        "N = int(input())\n",
        "num = input()\n",
        "t_num = 0\n",
        "for i in range(N):\n",
        "  t_num += int(num[i])\n",
        "print(t_num)"
      ],
      "metadata": {
        "id": "oJnGMVWO-rwU"
      },
      "execution_count": null,
      "outputs": []
    },
    {
      "cell_type": "code",
      "source": [
        "# 10809\n",
        "# 6-3  소문자로만 이루어진 단어 S가 주어진다. 각각의 알파벳에 대해서, 단어에 포함되어 있는 경우에는 처음 등장하는 위치를, \n",
        "# 포함되어 있지 않은 경우에는 -1을 출력하는 프로그램을 작성\n",
        "word = input()\n",
        "inc = []\n",
        "num = [-1 for i in range(0, 26)]\n",
        "for j in range(0, 26):\n",
        "  for i in range(0, len(word)):\n",
        "    if word[i] not in inc:\n",
        "      num[ord(word[i]) - 97] = i\n",
        "      inc.append(word[i])\n",
        "  print(num[j], end = ' ')"
      ],
      "metadata": {
        "id": "P_ACLcADAxX3"
      },
      "execution_count": null,
      "outputs": []
    },
    {
      "cell_type": "code",
      "source": [
        "# 2675\n",
        "# 6-4 문자열 S를 입력받은 후에, 각 문자를 R번 반복해 새 문자열 P를 만든 후 출력하는 프로그램을 작성\n",
        "P = int(input())\n",
        "for i in range(P):\n",
        "  T, S = map(str, input().split())\n",
        "  T = int(T)\n",
        "  for i in range(len(S)):\n",
        "    print(S[i]  * T, end='')\n",
        "  print()"
      ],
      "metadata": {
        "id": "VphhJxEdhXIK"
      },
      "execution_count": null,
      "outputs": []
    },
    {
      "cell_type": "code",
      "source": [
        "# 1157\n",
        "# 6-5 알파벳 대소문자로 된 단어가 주어지면, 이 단어에서 가장 많이 사용된 알파벳이 무엇인지 알아내는 프로그램을 작성\n",
        "word = input()\n",
        "word = word.lower()\n",
        "from collections import Counter\n",
        "word_dic = Counter(word)\n",
        "count = 0\n",
        "for k, v in word_dic.items():\n",
        "  if v == max(word_dic.values()) and count == 0:\n",
        "    count += 1\n",
        "    word_max = k\n",
        "  elif v == max(word_dic.values()) and count != 0:\n",
        "    word_max = '?'\n",
        "print(word_max.upper())"
      ],
      "metadata": {
        "id": "-G1-sQUolzOa"
      },
      "execution_count": null,
      "outputs": []
    },
    {
      "cell_type": "code",
      "source": [
        "# 1152\n",
        "# 6-6 어 대소문자와 공백으로 이루어진 문자열이 주어진다. 이 문자열에는 몇 개의 단어가 있을까? \n",
        "word = input()\n",
        "print(len(word.split()))"
      ],
      "metadata": {
        "id": "mByRRRvIU7i0"
      },
      "execution_count": null,
      "outputs": []
    },
    {
      "cell_type": "code",
      "source": [
        "# 2908\n",
        "# 6-7 상수는 수를 다른 사람과 다르게 거꾸로 읽는다. 예를 들어, 734와 893을 칠판에 적었다면, 상수는 이 수를 437과 398로 읽는다. \n",
        "# 따라서, 상수는 두 수중 큰 수인 437을 큰 수라고 말할 것이다.\n",
        "A, B = map(int, input().split())\n",
        "C = (A % 10)*100 + (A // 10 % 10)*10 + (A // 100)\n",
        "D = (B % 10)*100 + (B // 10 % 10)*10 + (B // 100)\n",
        "if C > D:\n",
        "  print(C)\n",
        "else:\n",
        "  print(D)"
      ],
      "metadata": {
        "id": "5DEg3Gc0YIx7"
      },
      "execution_count": null,
      "outputs": []
    },
    {
      "cell_type": "code",
      "source": [
        "# 5622\n",
        "# 6-8 숫자 1을 걸려면 총 2초가 필요하다. \n",
        "# 1보다 큰 수를 거는데 걸리는 시간은 이보다 더 걸리며, 한 칸 옆에 있는 숫자를 걸기 위해선 1초씩 더 걸린다.\n",
        "# 전화를 걸기 위해서 필요한 최소 시간을 구하는 프로그램\n",
        "bet = input()\n",
        "dial = ['ABC', 'DEF', 'GHI', 'JKL', 'MNO', 'PQRS', 'TUV', 'WXYZ']\n",
        "time = 0\n",
        "for i in range(len(bet)):\n",
        "  for j in range(len(dial)):\n",
        "    if bet[i] in dial[j]:\n",
        "      time += (j+3)\n",
        "      break\n",
        "print(time)"
      ],
      "metadata": {
        "id": "aeI9re_LZ8gt"
      },
      "execution_count": null,
      "outputs": []
    },
    {
      "cell_type": "code",
      "source": [
        "# 2941\n",
        "# 6-9  단어가 주어졌을 때, 몇 개의 크로아티아 알파벳으로 이루어져 있는지 출력한다.\n",
        "word = input()\n",
        "bet_list = ['c=', 'c-', 'dz=', 'd-', 'lj', 'nj', 's=', 'z=']\n",
        "for i in bet_list:\n",
        "  word = word.replace(i, '0')\n",
        "print(len(word))"
      ],
      "metadata": {
        "id": "75UrBhgJub4x"
      },
      "execution_count": null,
      "outputs": []
    },
    {
      "cell_type": "code",
      "source": [
        "# 1316\n",
        "# 6-10 단어 N개를 입력으로 받아 그룹 단어의 개수를 출력하는 프로그램을 작성\n",
        "N = int(input())\n",
        "word_group = N\n",
        "for i in range(N):\n",
        "  word = input()\n",
        "  for j in range(len(word)-1):\n",
        "    if word[j] == word[j+1]:\n",
        "      pass\n",
        "    elif word[j] in word[j+1:]:\n",
        "      word_group -= 1\n",
        "      break\n",
        "\n",
        "print(word_group)"
      ],
      "metadata": {
        "id": "8xsSXW1PEXy9"
      },
      "execution_count": null,
      "outputs": []
    },
    {
      "cell_type": "code",
      "source": [
        "N=int(input())\n",
        "\n",
        "answer=0\n",
        "\n",
        "for i in range(N):\n",
        "    word = input()\n",
        "    for j in range(len(word)):\n",
        "        if j!=len(word)-1:\n",
        "            if word[j]==word[j+1]:\n",
        "                pass\n",
        "            elif word[j] in word[j+1:]:\n",
        "                break\n",
        "        else:\n",
        "            answer+=1\n",
        "print(answer)"
      ],
      "metadata": {
        "id": "Aqqz86iJd1pr"
      },
      "execution_count": null,
      "outputs": []
    },
    {
      "cell_type": "code",
      "source": [
        "# 1712\n",
        "# 7-1 A, B, C가 주어졌을 때, 손익분기점을 구하는 프로그램을 작성\n",
        "A, B, C = map(int, input().split())\n",
        "if B>=C:\n",
        "  print(-1)\n",
        "else:\n",
        "  print((A // (C - B)) + 1)"
      ],
      "metadata": {
        "id": "OGtLdP3PitS2"
      },
      "execution_count": null,
      "outputs": []
    },
    {
      "cell_type": "code",
      "source": [
        "# 2292\n",
        "# 7-2 숫자 N이 주어졌을 때, 벌집의 중앙 1에서 N번 방까지 최소 개수의 \n",
        "# 방을 지나서 갈 때 몇 개의 방을 지나가는지(시작과 끝을 포함하여)를 계산하는 프로그램을 작성\n",
        "N = int(input())\n",
        "zip = 1\n",
        "room = 1\n",
        "while (N > zip):\n",
        "  zip += 6*room\n",
        "  room += 1\n",
        "print(room)\n",
        "\n",
        "# 1\n",
        "# 2~7\n",
        "# 8~19\n",
        "# 20~37"
      ],
      "metadata": {
        "id": "e126aAremVjl"
      },
      "execution_count": null,
      "outputs": []
    },
    {
      "cell_type": "code",
      "source": [
        "# 1193\n",
        "# 7-3 가 주어졌을 때, X번째 분수를 구하는 프로그램을 작성\n"
      ],
      "metadata": {
        "id": "59OaPfOMWaov"
      },
      "execution_count": null,
      "outputs": []
    },
    {
      "cell_type": "code",
      "source": [
        "# 2869\n",
        "# 7-4 달팽이는 낮에 A미터 올라갈 수 있다. 하지만, 밤에 잠을 자는 동안 B미터 미끄러진다.\n",
        "# 또, 정상에 올라간 후에는 미끄러지지 않는다.\n",
        "# 달팽이가 나무 막대를 모두 올라가려면, 며칠이 걸리는지 구하는 프로그램을 작성하시오.\n",
        "A, B, V = map(int, input().split())\n",
        "day = (V - B) // (A - B)\n",
        "if (V - B) % (A - B) != 0:\n",
        "  day += 1\n",
        "print(day)"
      ],
      "metadata": {
        "id": "BUb1u3EtYhYK"
      },
      "execution_count": null,
      "outputs": []
    },
    {
      "cell_type": "code",
      "source": [
        "# 10250\n",
        "# 7-5  설문조사 결과 대로 호텔 정문으로부터 걷는 거리가 가장 짧도록 방을 배정하는 프로그램을 작성\n",
        "N = int(input())\n",
        "for i in range(N):\n",
        "  H, W, N = map(int, input().split())\n",
        "  f = N % H * 100\n",
        "  if f == 0:\n",
        "    f = H * 100\n",
        "  r = ((N-1) // H)+1\n",
        "  print(f + r)"
      ],
      "metadata": {
        "id": "nA5zRGdYA9__"
      },
      "execution_count": null,
      "outputs": []
    },
    {
      "cell_type": "code",
      "source": [
        "# 2775\n",
        "# 7-6 각각의 Test case에 대해서 해당 집에 거주민 수를 출력하라.\n",
        "# 2층 1  4  10  20  35 \n",
        "# 1층 1  3  6   10  15\n",
        "# 0층 1  2  3    4   5\n",
        "N = int(input())\n",
        "for i in range(N):\n",
        "  k = int(input())\n",
        "  n = int(input())\n",
        "\n",
        "  arr = [i for i in range(1, n+1)]\n",
        "  for j in range(k):\n",
        "    for z in range(1, n):\n",
        "      arr[z] += arr[z-1]\n",
        "  print(arr[-1])"
      ],
      "metadata": {
        "id": "cA9Kw-XYV0id"
      },
      "execution_count": null,
      "outputs": []
    },
    {
      "cell_type": "code",
      "source": [
        "# 2839 \n",
        "# 7-7 상근이가 설탕을 정확하게 N킬로그램 배달해야 할 때, 봉지 몇 개를 가져가면 되는지 \n",
        "# 그 수를 구하는 프로그램을 작성\n",
        "suger = int(input())\n",
        "bag = 0\n",
        "while suger >= 0:\n",
        "  if suger % 5 == 0:\n",
        "    bag += (suger // 5)\n",
        "    break\n",
        "  else:\n",
        "    suger -= 3\n",
        "    bag += 1\n",
        "  if suger < 3 and suger != 0:\n",
        "    bag = -1\n",
        "print(bag)"
      ],
      "metadata": {
        "id": "3FKXm9_q4Nus"
      },
      "execution_count": null,
      "outputs": []
    },
    {
      "cell_type": "code",
      "source": [
        "# 10757\n",
        "# 7-8 두 정수 A와 B를 입력받은 다음, A+B를 출력하는 프로그램을 작성\n",
        "A, B = map(int, input().split())\n",
        "print(A+B)"
      ],
      "metadata": {
        "id": "aY4-LUQ35Qn-"
      },
      "execution_count": null,
      "outputs": []
    },
    {
      "cell_type": "code",
      "source": [
        "# 1978\n",
        "# 8-1 주어진 수 N개 중에서 소수가 몇 개인지 찾아서 출력하는 프로그램을 작성\n",
        "N = int(input())\n",
        "A = map(int, input().split())\n",
        "\n",
        "count = 0\n",
        "\n",
        "for i in A:\n",
        "  err = 0\n",
        "  if i > 1 :\n",
        "    for j in range(2, i):\n",
        "      if i % j == 0:\n",
        "        err += 1\n",
        "    if err == 0:\n",
        "      count += 1\n",
        "    \n",
        "print(count)"
      ],
      "metadata": {
        "id": "5ZhUOTDO6Awv"
      },
      "execution_count": null,
      "outputs": []
    },
    {
      "cell_type": "code",
      "source": [
        "# 2581\n",
        "# 8-2 M과 N이 주어질 때 M이상 N이하의 자연수 중 소수인 것을 모두 골라 이들 소수의 합과 최솟값을 찾는 프로그램을 작성"
      ],
      "metadata": {
        "id": "vOSi3gBPHKha"
      },
      "execution_count": null,
      "outputs": []
    }
  ]
}