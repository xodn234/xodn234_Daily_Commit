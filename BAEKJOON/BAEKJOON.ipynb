{
  "nbformat": 4,
  "nbformat_minor": 0,
  "metadata": {
    "colab": {
      "name": "BAEKJOON.ipynb",
      "private_outputs": true,
      "provenance": [],
      "collapsed_sections": [],
      "authorship_tag": "ABX9TyMyzatFZnR1GjokH4Cj5Og/",
      "include_colab_link": true
    },
    "kernelspec": {
      "name": "python3",
      "display_name": "Python 3"
    },
    "language_info": {
      "name": "python"
    }
  },
  "cells": [
    {
      "cell_type": "markdown",
      "metadata": {
        "id": "view-in-github",
        "colab_type": "text"
      },
      "source": [
        "<a href=\"https://colab.research.google.com/github/xodn234/xodn234_Daily_Commit/blob/main/BAEKJOON/BAEKJOON.ipynb\" target=\"_parent\"><img src=\"https://colab.research.google.com/assets/colab-badge.svg\" alt=\"Open In Colab\"/></a>"
      ]
    },
    {
      "cell_type": "code",
      "execution_count": null,
      "metadata": {
        "id": "26358QnULIK_"
      },
      "outputs": [],
      "source": [
        "# https://www.acmicpc.net/step"
      ]
    },
    {
      "cell_type": "code",
      "source": [
        "# 1-1 Hello World!를 출력하시오.\n",
        "print('Hello World!')"
      ],
      "metadata": {
        "id": "tmxnsuvCLNYj"
      },
      "execution_count": null,
      "outputs": []
    },
    {
      "cell_type": "code",
      "source": [
        "# 1-2 두 줄에 걸쳐 \"강한친구 대한육군\"을 한 줄에 한 번씩 출력한다.\n",
        "for i in range(2):\n",
        "  print(\"강한친구 대한육군\")"
      ],
      "metadata": {
        "id": "PZyFkc1rznZD"
      },
      "execution_count": null,
      "outputs": []
    },
    {
      "cell_type": "code",
      "source": [
        "# 1-3 아래 예제와 같이 고양이를 출력하시오.\n",
        "print('\\\\    /\\\\')\n",
        "print(\" )  ( ')\")\n",
        "print('(  /  )')\n",
        "print(' \\\\(__)|')"
      ],
      "metadata": {
        "id": "AWmpS23G0R8X"
      },
      "execution_count": null,
      "outputs": []
    },
    {
      "cell_type": "code",
      "source": [
        "# 1-4 아래 예제와 같이 개를 출력하시오.\n",
        "print(\"|\\_/|\")\n",
        "print(\"|q p|   /}\")\n",
        "print('( 0 )\"\"\"\\\\')  \n",
        "print('|\"^\"`    |')\n",
        "print(\"||_/=\\\\\\__|\")"
      ],
      "metadata": {
        "id": "36YLx-nZ3oNV"
      },
      "execution_count": null,
      "outputs": []
    },
    {
      "cell_type": "code",
      "source": [
        "# 1-5 두 정수 A와 B를 입력받은 다음, A+B를 출력하는 프로그램을 작성하시오.\n",
        "A, B = map(int, input().split())\n",
        "print(A + B)"
      ],
      "metadata": {
        "id": "VkUh_gja372R"
      },
      "execution_count": null,
      "outputs": []
    },
    {
      "cell_type": "code",
      "source": [
        "# 1-6 두 정수 A와 B를 입력받은 다음, A-B를 출력하는 프로그램을 작성하시오.\n",
        "A, B = map(int, input().split())\n",
        "print(A - B)"
      ],
      "metadata": {
        "id": "fs1WUKsfDJVx"
      },
      "execution_count": null,
      "outputs": []
    },
    {
      "cell_type": "code",
      "source": [
        "# 1-7 두 정수 A와 B를 입력받은 다음, A×B를 출력하는 프로그램을 작성하시오.\n",
        "A, B = map(int, input().split())\n",
        "print(A * B)"
      ],
      "metadata": {
        "id": "XO_vFLSXEg_w"
      },
      "execution_count": null,
      "outputs": []
    },
    {
      "cell_type": "code",
      "source": [
        "# 1-8 두 정수 A와 B를 입력받은 다음, A/B를 출력하는 프로그램을 작성하시오.\n",
        "A, B = map(int, input().split())\n",
        "print(A / B)"
      ],
      "metadata": {
        "id": "s18Ej9q4E-Cs"
      },
      "execution_count": null,
      "outputs": []
    },
    {
      "cell_type": "code",
      "source": [
        "# 1-9 두 자연수 A와 B가 주어진다. 이때, A+B, A-B, A*B, A/B(몫), A%B(나머지)를 출력하는 프로그램을 작성하시오. \n",
        "A, B = map(int, input().split())\n",
        "print(A+B)\n",
        "print(A-B)\n",
        "print(A*B)\n",
        "print(A//B)\n",
        "print(A%B)"
      ],
      "metadata": {
        "id": "SwUv46T6Fbx0"
      },
      "execution_count": null,
      "outputs": []
    },
    {
      "cell_type": "code",
      "source": [
        "# 1-10 하는 사이트에 회원가입을 하다가 joonas라는 아이디가 이미 존재하는 것을 보고 놀랐다. \n",
        "# 준하는 놀람을 ??!로 표현한다. 준하가 가입하려고 하는 사이트에 이미 존재하는 아이디가 주어졌을 때, \n",
        "# 놀람을 표현하는 프로그램을 작성하시오.\n",
        "id = str(input())\n",
        "print(id+'??!')"
      ],
      "metadata": {
        "id": "0Ulvfs2VGxkY"
      },
      "execution_count": null,
      "outputs": []
    },
    {
      "cell_type": "code",
      "source": [
        "# 1-11 불기 연도가 주어질 때 이를 서기 연도로 바꿔 주는 프로그램을 작성하시오.\n",
        "year_o = int(input())\n",
        "year_n = year_o - 543\n",
        "print(year_n)"
      ],
      "metadata": {
        "id": "Gy_yjE5-HwZ5"
      },
      "execution_count": null,
      "outputs": []
    },
    {
      "cell_type": "code",
      "source": [
        "# 1-12  수 A, B, C가 주어졌을 때, 위의 네 가지 값을 구하는 프로그램을 작성\n",
        "# (A+B)%C는 ((A%C) + (B%C))%C \n",
        "# (A×B)%C는 ((A%C) × (B%C))%C\n",
        "A, B, C = map(int, input().split())\n",
        "print((A+B)%C)\n",
        "print(((A%C)+(B%C))%C )\n",
        "print((A*B)%C)\n",
        "print(((A%C)*(B%C))%C)"
      ],
      "metadata": {
        "id": "-EnaeaxpKJ_y"
      },
      "execution_count": null,
      "outputs": []
    },
    {
      "cell_type": "code",
      "source": [
        "# 1-13 (세 자리 수) × (세 자리 수)는 다음과 같은 과정을 통하여 이루어진다.\n",
        "# (1)과 (2)위치에 들어갈 세 자리 자연수가 주어질 때 (3), (4), (5), (6)위치에 들어갈 값을 구하는 프로그램을 작성하시오.\n",
        "# a, b = map(str, input().split())\n",
        "a = input() # 다른 줄에 입력이 되어야 함으로 각각 입력을 받는다.\n",
        "b = input()\n",
        "AB2 = int(a) * int(b[-1])\n",
        "AB1 = int(a) * int(b[-2])\n",
        "AB0 = int(a) * int(b[-3])\n",
        "AB = int(a) * int(b)\n",
        "print(AB2)\n",
        "print(AB1)\n",
        "print(AB0)\n",
        "print(AB)"
      ],
      "metadata": {
        "id": "OFmIAZHaWQ4X"
      },
      "execution_count": null,
      "outputs": []
    },
    {
      "cell_type": "code",
      "source": [
        "# 2-1 두 정수 A와 B가 주어졌을 때, A와 B를 비교하는 프로그램을 작성하시오.\n",
        "# 첫째 줄에 A와 B가 주어진다. A와 B는 공백 한 칸으로 구분되어져 있다.\n",
        "# 첫째 줄에 다음 세 가지 중 하나를 출력한다.\n",
        "# A가 B보다 큰 경우에는 '>'를 출력한다.\n",
        "# A가 B보다 작은 경우에는 '<'를 출력한다.\n",
        "# A와 B가 같은 경우에는 '=='를 출력한다.\n",
        "A, B = map(int, input().split())\n",
        "if A > B:\n",
        "  print('>')\n",
        "elif A < B:\n",
        "  print('<')\n",
        "else:\n",
        "  print('==')"
      ],
      "metadata": {
        "id": "usKJoSvxbSgi"
      },
      "execution_count": null,
      "outputs": []
    }
  ]
}