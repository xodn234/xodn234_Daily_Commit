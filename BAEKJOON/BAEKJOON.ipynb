{
  "nbformat": 4,
  "nbformat_minor": 0,
  "metadata": {
    "colab": {
      "name": "BAEKJOON.ipynb",
      "private_outputs": true,
      "provenance": [],
      "collapsed_sections": [],
      "authorship_tag": "ABX9TyOCn5oVj5KT8ldZEqHdtIrA",
      "include_colab_link": true
    },
    "kernelspec": {
      "name": "python3",
      "display_name": "Python 3"
    },
    "language_info": {
      "name": "python"
    }
  },
  "cells": [
    {
      "cell_type": "markdown",
      "metadata": {
        "id": "view-in-github",
        "colab_type": "text"
      },
      "source": [
        "<a href=\"https://colab.research.google.com/github/xodn234/xodn234_Daily_Commit/blob/main/BAEKJOON/BAEKJOON.ipynb\" target=\"_parent\"><img src=\"https://colab.research.google.com/assets/colab-badge.svg\" alt=\"Open In Colab\"/></a>"
      ]
    },
    {
      "cell_type": "code",
      "execution_count": null,
      "metadata": {
        "id": "26358QnULIK_"
      },
      "outputs": [],
      "source": [
        "# https://www.acmicpc.net/step"
      ]
    },
    {
      "cell_type": "code",
      "source": [
        "# 1-1 Hello World!를 출력하시오.\n",
        "print('Hello World!')"
      ],
      "metadata": {
        "id": "tmxnsuvCLNYj"
      },
      "execution_count": null,
      "outputs": []
    },
    {
      "cell_type": "code",
      "source": [
        "# 1-2 두 줄에 걸쳐 \"강한친구 대한육군\"을 한 줄에 한 번씩 출력한다.\n",
        "for i in range(2):\n",
        "  print(\"강한친구 대한육군\")"
      ],
      "metadata": {
        "id": "PZyFkc1rznZD"
      },
      "execution_count": null,
      "outputs": []
    },
    {
      "cell_type": "code",
      "source": [
        "# 1-3 아래 예제와 같이 고양이를 출력하시오.\n",
        "print('\\\\    /\\\\')\n",
        "print(\" )  ( ')\")\n",
        "print('(  /  )')\n",
        "print(' \\\\(__)|')"
      ],
      "metadata": {
        "id": "AWmpS23G0R8X"
      },
      "execution_count": null,
      "outputs": []
    },
    {
      "cell_type": "code",
      "source": [
        "# 1-4 아래 예제와 같이 개를 출력하시오.\n",
        "print(\"|\\_/|\")\n",
        "print(\"|q p|   /}\")\n",
        "print('( 0 )\"\"\"\\\\')  \n",
        "print('|\"^\"`    |')\n",
        "print(\"||_/=\\\\\\__|\")"
      ],
      "metadata": {
        "id": "36YLx-nZ3oNV"
      },
      "execution_count": null,
      "outputs": []
    },
    {
      "cell_type": "code",
      "source": [
        "# 1-5 두 정수 A와 B를 입력받은 다음, A+B를 출력하는 프로그램을 작성하시오.\n",
        "A, B = map(int, input().split())\n",
        "print(A + B)"
      ],
      "metadata": {
        "id": "VkUh_gja372R"
      },
      "execution_count": null,
      "outputs": []
    },
    {
      "cell_type": "code",
      "source": [
        "# 1-6 두 정수 A와 B를 입력받은 다음, A-B를 출력하는 프로그램을 작성하시오.\n",
        "A, B = map(int, input().split())\n",
        "print(A - B)"
      ],
      "metadata": {
        "id": "fs1WUKsfDJVx"
      },
      "execution_count": null,
      "outputs": []
    },
    {
      "cell_type": "code",
      "source": [
        "# 1-7 두 정수 A와 B를 입력받은 다음, A×B를 출력하는 프로그램을 작성하시오.\n",
        "A, B = map(int, input().split())\n",
        "print(A * B)"
      ],
      "metadata": {
        "id": "XO_vFLSXEg_w"
      },
      "execution_count": null,
      "outputs": []
    },
    {
      "cell_type": "code",
      "source": [
        "# 1-8 두 정수 A와 B를 입력받은 다음, A/B를 출력하는 프로그램을 작성하시오.\n",
        "A, B = map(int, input().split())\n",
        "print(A / B)"
      ],
      "metadata": {
        "id": "s18Ej9q4E-Cs"
      },
      "execution_count": null,
      "outputs": []
    },
    {
      "cell_type": "code",
      "source": [
        "# 1-9 두 자연수 A와 B가 주어진다. 이때, A+B, A-B, A*B, A/B(몫), A%B(나머지)를 출력하는 프로그램을 작성하시오. \n",
        "A, B = map(int, input().split())\n",
        "print(A+B)\n",
        "print(A-B)\n",
        "print(A*B)\n",
        "print(A//B)\n",
        "print(A%B)"
      ],
      "metadata": {
        "id": "SwUv46T6Fbx0"
      },
      "execution_count": null,
      "outputs": []
    },
    {
      "cell_type": "code",
      "source": [
        "# 1-10 하는 사이트에 회원가입을 하다가 joonas라는 아이디가 이미 존재하는 것을 보고 놀랐다. \n",
        "# 준하는 놀람을 ??!로 표현한다. 준하가 가입하려고 하는 사이트에 이미 존재하는 아이디가 주어졌을 때, \n",
        "# 놀람을 표현하는 프로그램을 작성하시오.\n",
        "id = str(input())\n",
        "print(id+'??!')"
      ],
      "metadata": {
        "id": "0Ulvfs2VGxkY"
      },
      "execution_count": null,
      "outputs": []
    },
    {
      "cell_type": "code",
      "source": [
        "# 1-11 불기 연도가 주어질 때 이를 서기 연도로 바꿔 주는 프로그램을 작성하시오.\n",
        "year_o = int(input())\n",
        "year_n = year_o - 543\n",
        "print(year_n)"
      ],
      "metadata": {
        "id": "Gy_yjE5-HwZ5"
      },
      "execution_count": null,
      "outputs": []
    },
    {
      "cell_type": "code",
      "source": [
        "# 1-12  수 A, B, C가 주어졌을 때, 위의 네 가지 값을 구하는 프로그램을 작성\n",
        "# (A+B)%C는 ((A%C) + (B%C))%C \n",
        "# (A×B)%C는 ((A%C) × (B%C))%C\n",
        "A, B, C = map(int, input().split())\n",
        "print((A+B)%C)\n",
        "print(((A%C)+(B%C))%C )\n",
        "print((A*B)%C)\n",
        "print(((A%C)*(B%C))%C)"
      ],
      "metadata": {
        "id": "-EnaeaxpKJ_y"
      },
      "execution_count": null,
      "outputs": []
    },
    {
      "cell_type": "code",
      "source": [
        "# 1-13 (세 자리 수) × (세 자리 수)는 다음과 같은 과정을 통하여 이루어진다.\n",
        "# (1)과 (2)위치에 들어갈 세 자리 자연수가 주어질 때 (3), (4), (5), (6)위치에 들어갈 값을 구하는 프로그램을 작성하시오.\n",
        "# a, b = map(str, input().split())\n",
        "a = input() # 다른 줄에 입력이 되어야 함으로 각각 입력을 받는다.\n",
        "b = input()\n",
        "AB2 = int(a) * int(b[-1])\n",
        "AB1 = int(a) * int(b[-2])\n",
        "AB0 = int(a) * int(b[-3])\n",
        "AB = int(a) * int(b)\n",
        "print(AB2)\n",
        "print(AB1)\n",
        "print(AB0)\n",
        "print(AB)"
      ],
      "metadata": {
        "id": "OFmIAZHaWQ4X"
      },
      "execution_count": null,
      "outputs": []
    },
    {
      "cell_type": "code",
      "source": [
        "# 2-1 두 정수 A와 B가 주어졌을 때, A와 B를 비교하는 프로그램을 작성하시오.\n",
        "# 첫째 줄에 A와 B가 주어진다. A와 B는 공백 한 칸으로 구분되어져 있다.\n",
        "# 첫째 줄에 다음 세 가지 중 하나를 출력한다.\n",
        "# A가 B보다 큰 경우에는 '>'를 출력한다.\n",
        "# A가 B보다 작은 경우에는 '<'를 출력한다.\n",
        "# A와 B가 같은 경우에는 '=='를 출력한다.\n",
        "A, B = map(int, input().split())\n",
        "if A > B:\n",
        "  print('>')\n",
        "elif A < B:\n",
        "  print('<')\n",
        "else:\n",
        "  print('==')"
      ],
      "metadata": {
        "id": "usKJoSvxbSgi"
      },
      "execution_count": null,
      "outputs": []
    },
    {
      "cell_type": "code",
      "source": [
        "# 2-2 시험 점수를 입력받아 90 ~ 100점은 A, 80 ~ 89점은 B, 70 ~ 79점은 C,\n",
        "# 60 ~ 69점은 D, 나머지 점수는 F를 출력하는 프로그램을 작성\n",
        "score = int(input())\n",
        "if score >= 90:\n",
        "  print('A')\n",
        "elif score >= 80:\n",
        "  print('B')\n",
        "elif score >= 70:\n",
        "  print('C')\n",
        "elif score >= 60:\n",
        "  print('D')\n",
        "else:\n",
        "  print('F')"
      ],
      "metadata": {
        "id": "ustwdmweGe2X"
      },
      "execution_count": null,
      "outputs": []
    },
    {
      "cell_type": "code",
      "source": [
        "# 2-3 연도가 주어졌을 때, 윤년이면 1, 아니면 0을 출력하는 프로그램을 작성하시오.\n",
        "# 윤년은 연도가 4의 배수이면서, 100의 배수가 아닐 때 또는 400의 배수일 때이다.\n",
        "year = int(input())\n",
        "if year % 4 == 0:\n",
        "  if year % 100 == 0 and year % 400 != 0:\n",
        "    print(0)\n",
        "  else:\n",
        "    print(1)\n",
        "else:\n",
        "  print(0)"
      ],
      "metadata": {
        "id": "mc4-AvpJKszj"
      },
      "execution_count": null,
      "outputs": []
    },
    {
      "cell_type": "code",
      "source": [
        "# 2-4 주어진 점이 어느 사분면에 속하는지 알아내는 것이다. 사분면은 아래 그림처럼 1부터 4까지 번호를 갖는다.\n",
        "# \"Quadrant n\"은 \"제n사분면\"이라는 뜻\n",
        "x = int(input())\n",
        "y = int(input())\n",
        "if x > 0 and y > 0:\n",
        "  print(1)\n",
        "elif x < 0 and y > 0:\n",
        "  print(2)\n",
        "elif x < 0 and y < 0:\n",
        "  print(3)\n",
        "elif x > 0 and y < 0:\n",
        "  print(4)"
      ],
      "metadata": {
        "id": "hqoov0-fOUsS"
      },
      "execution_count": null,
      "outputs": []
    },
    {
      "cell_type": "code",
      "source": [
        "# 2-5 45분 일찍 알람 설정하기\n",
        "H, M = map(int, input().split())\n",
        "time = H * 60 + M - 45\n",
        "HH = time // 60\n",
        "MM = time % 60\n",
        "if HH < 0:\n",
        "  HH = 23\n",
        "print(HH, MM)"
      ],
      "metadata": {
        "id": "8ZHd_eL8PlWZ"
      },
      "execution_count": null,
      "outputs": []
    },
    {
      "cell_type": "code",
      "source": [
        "# 2-6 훈제오리구이를 시작하는 시각과 오븐구이를 하는 데 필요한 시간이 분단위로 주어졌을 때, \n",
        "# 오븐구이가 끝나는 시각을 계산\n",
        "# 째 줄에 종료되는 시각의 시와 분,  번째 줄에는 요리하는 데 필요한 시간\n",
        "A, B = map(int, input().split())\n",
        "C = int(input())\n",
        "time = A * 60 + B + C\n",
        "AA = time // 60\n",
        "BB = time % 60\n",
        "if AA > 23:\n",
        "  AA -= 24\n",
        "print(AA, BB)"
      ],
      "metadata": {
        "id": "d_6kLDmxRsug"
      },
      "execution_count": null,
      "outputs": []
    },
    {
      "cell_type": "code",
      "source": [
        "# 2-7 3개 주사위의 나온 눈이 주어질 때, 상금을 계산하는 프로그램\n",
        "A, B, C = map(int, input().split())\n",
        "if A == B == C:\n",
        "  print(10000 + A * 1000)\n",
        "elif A == B != C:\n",
        "   print(1000 + A * 100)\n",
        "elif A != B == C:\n",
        "   print(1000 + B * 100)\n",
        "elif A == C != B:\n",
        "   print(1000 + A * 100)   \n",
        "else:\n",
        "  list_ = [A, B, C]\n",
        "  print(max(list_) * 100)"
      ],
      "metadata": {
        "id": "zRiLCAcbMhBb"
      },
      "execution_count": null,
      "outputs": []
    },
    {
      "cell_type": "code",
      "source": [
        "# 3-1 N을 입력받은 뒤, 구구단 N단을 출력하는 프로그램을 작성\n",
        "N = int(input())\n",
        "for i in range(1, 10):\n",
        "  print(f'{N} * {i} = {N * i}')"
      ],
      "metadata": {
        "id": "oLiJgxpQYI6I"
      },
      "execution_count": null,
      "outputs": []
    },
    {
      "cell_type": "code",
      "source": [
        "# 3-2 두 정수 A와 B를 입력받은 다음, A+B를 출력하는 프로그램을 작성"
      ],
      "metadata": {
        "id": "PJJg1pTrY1-F"
      },
      "execution_count": null,
      "outputs": []
    }
  ]
}