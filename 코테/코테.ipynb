{
  "nbformat": 4,
  "nbformat_minor": 0,
  "metadata": {
    "colab": {
      "name": "코테.ipynb",
      "private_outputs": true,
      "provenance": [],
      "authorship_tag": "ABX9TyMJPK85aMegp7O9xvIX0zny",
      "include_colab_link": true
    },
    "kernelspec": {
      "name": "python3",
      "display_name": "Python 3"
    },
    "language_info": {
      "name": "python"
    }
  },
  "cells": [
    {
      "cell_type": "markdown",
      "metadata": {
        "id": "view-in-github",
        "colab_type": "text"
      },
      "source": [
        "<a href=\"https://colab.research.google.com/github/xodn234/xodn234_Daily_Commit/blob/main/%EC%BD%94%ED%85%8C/%EC%BD%94%ED%85%8C.ipynb\" target=\"_parent\"><img src=\"https://colab.research.google.com/assets/colab-badge.svg\" alt=\"Open In Colab\"/></a>"
      ]
    },
    {
      "cell_type": "markdown",
      "source": [
        "# 3. 그리디"
      ],
      "metadata": {
        "id": "P05OmScHFOxD"
      }
    },
    {
      "cell_type": "code",
      "source": [
        "# 거스름돈\n",
        "n = 1260\n",
        "count = 0\n",
        "\n",
        "coin_type = [500, 100, 50, 10]\n",
        "\n",
        "for coin in coin_type:\n",
        "    count += n // coin\n",
        "    n %= coin\n",
        "count"
      ],
      "metadata": {
        "id": "oSLvnqaVCnv-"
      },
      "execution_count": null,
      "outputs": []
    },
    {
      "cell_type": "code",
      "source": [
        "# 큰수의 법칙\n",
        "n, m, k = 5, 8, 3\n",
        "data = [2, 4, 5, 4, 6]\n",
        "\n",
        "# n, m, k = 5, 7, 2\n",
        "# data = [4, 3, 3, 4, 3]\n",
        "\n",
        "num = 0\n",
        "\n",
        "data.sort(reverse=True)\n",
        "\n",
        "for i in range(1, m+1):\n",
        "  if i % 3 == 0:\n",
        "    num += data[1]\n",
        "  else:\n",
        "    num += data[0]\n",
        "num"
      ],
      "metadata": {
        "id": "DZ8PisPWE13w"
      },
      "execution_count": null,
      "outputs": []
    },
    {
      "cell_type": "code",
      "source": [
        "# 숫자 카드 게임\n",
        "# m, n = map(int,input().split())\n",
        "m, n = 2, 4\n",
        "\n",
        "num = 0\n",
        "for i in range(m):\n",
        "  data = list(map(int,input().split()))\n",
        "  min_num = min(data)\n",
        "  num = max(num, min_num)\n",
        "num"
      ],
      "metadata": {
        "id": "tNVXhMDH3rEh"
      },
      "execution_count": null,
      "outputs": []
    },
    {
      "cell_type": "code",
      "source": [
        "# 1이 될 때까지\n",
        "# N = 17\n",
        "# K = 4 #  3\n",
        "\n",
        "N = 25\n",
        "K = 5 # 2\n",
        "\n",
        "count = 0\n",
        "while N != 1:\n",
        "  if N == 1:\n",
        "    break \n",
        "  elif N % K == 0:\n",
        "    N /= K\n",
        "    count += 1\n",
        "  else:\n",
        "    N -= 1\n",
        "    count += 1\n",
        "count"
      ],
      "metadata": {
        "id": "FZxzCbbpHSUN"
      },
      "execution_count": null,
      "outputs": []
    },
    {
      "cell_type": "markdown",
      "source": [
        "#4. 구현"
      ],
      "metadata": {
        "id": "IQIh107okfGl"
      }
    },
    {
      "cell_type": "code",
      "source": [
        "# 아이디어를 코드로 바꾸는 구현"
      ],
      "metadata": {
        "id": "qnHWZLrhkiWj"
      },
      "execution_count": null,
      "outputs": []
    }
  ]
}