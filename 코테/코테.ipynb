{
  "nbformat": 4,
  "nbformat_minor": 0,
  "metadata": {
    "colab": {
      "name": "코테.ipynb",
      "private_outputs": true,
      "provenance": [],
      "authorship_tag": "ABX9TyMzOovqyozkzBPLjT+pSwg1",
      "include_colab_link": true
    },
    "kernelspec": {
      "name": "python3",
      "display_name": "Python 3"
    },
    "language_info": {
      "name": "python"
    }
  },
  "cells": [
    {
      "cell_type": "markdown",
      "metadata": {
        "id": "view-in-github",
        "colab_type": "text"
      },
      "source": [
        "<a href=\"https://colab.research.google.com/github/xodn234/xodn234_Daily_Commit/blob/main/%EC%BD%94%ED%85%8C/%EC%BD%94%ED%85%8C.ipynb\" target=\"_parent\"><img src=\"https://colab.research.google.com/assets/colab-badge.svg\" alt=\"Open In Colab\"/></a>"
      ]
    },
    {
      "cell_type": "code",
      "execution_count": null,
      "metadata": {
        "id": "nHHnDufQB3fZ"
      },
      "outputs": [],
      "source": [
        "# 3. 그리디"
      ]
    },
    {
      "cell_type": "code",
      "source": [
        "# 거스름돈\n",
        "n = 1260\n",
        "count = 0\n",
        "\n",
        "coin_type = [500, 100, 50, 10]\n",
        "\n",
        "for coin in coin_type:\n",
        "    count += n // coin\n",
        "    n %= coin\n",
        "count"
      ],
      "metadata": {
        "id": "oSLvnqaVCnv-"
      },
      "execution_count": null,
      "outputs": []
    },
    {
      "cell_type": "code",
      "source": [
        "# 큰수의 법칙"
      ],
      "metadata": {
        "id": "DZ8PisPWE13w"
      },
      "execution_count": null,
      "outputs": []
    }
  ]
}