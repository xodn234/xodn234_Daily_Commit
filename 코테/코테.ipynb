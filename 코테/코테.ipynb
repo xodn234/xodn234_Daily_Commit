{
  "nbformat": 4,
  "nbformat_minor": 0,
  "metadata": {
    "colab": {
      "name": "코테.ipynb",
      "private_outputs": true,
      "provenance": [],
      "authorship_tag": "ABX9TyP9PmZCMqE2Sw3linjPXVOr",
      "include_colab_link": true
    },
    "kernelspec": {
      "name": "python3",
      "display_name": "Python 3"
    },
    "language_info": {
      "name": "python"
    }
  },
  "cells": [
    {
      "cell_type": "markdown",
      "metadata": {
        "id": "view-in-github",
        "colab_type": "text"
      },
      "source": [
        "<a href=\"https://colab.research.google.com/github/xodn234/xodn234_Daily_Commit/blob/main/%EC%BD%94%ED%85%8C/%EC%BD%94%ED%85%8C.ipynb\" target=\"_parent\"><img src=\"https://colab.research.google.com/assets/colab-badge.svg\" alt=\"Open In Colab\"/></a>"
      ]
    },
    {
      "cell_type": "markdown",
      "source": [
        "# 3. 그리디"
      ],
      "metadata": {
        "id": "P05OmScHFOxD"
      }
    },
    {
      "cell_type": "code",
      "source": [
        "# 거스름돈\n",
        "n = 1260\n",
        "count = 0\n",
        "\n",
        "coin_type = [500, 100, 50, 10]\n",
        "\n",
        "for coin in coin_type:\n",
        "    count += n // coin\n",
        "    n %= coin\n",
        "count"
      ],
      "metadata": {
        "id": "oSLvnqaVCnv-"
      },
      "execution_count": null,
      "outputs": []
    },
    {
      "cell_type": "code",
      "source": [
        "# 큰수의 법칙\n",
        "n, m, k = 5, 8, 3\n",
        "data = [2, 4, 5, 4, 6]\n",
        "\n",
        "# n, m, k = 5, 7, 2\n",
        "# data = [4, 3, 3, 4, 3]\n",
        "\n",
        "num = 0\n",
        "\n",
        "data.sort(reverse=True)\n",
        "\n",
        "for i in range(1, m+1):\n",
        "  if i % 3 == 0:\n",
        "    num += data[1]\n",
        "  else:\n",
        "    num += data[0]\n",
        "num"
      ],
      "metadata": {
        "id": "DZ8PisPWE13w"
      },
      "execution_count": null,
      "outputs": []
    },
    {
      "cell_type": "code",
      "source": [
        "# 숫자 카드 게임\n",
        "# m, n = map(int,input().split())\n",
        "m, n = 2, 4\n",
        "\n",
        "num = 0\n",
        "for i in range(m):\n",
        "  data = list(map(int,input().split()))\n",
        "  min_num = min(data)\n",
        "  num = max(num, min_num)\n",
        "num"
      ],
      "metadata": {
        "id": "tNVXhMDH3rEh"
      },
      "execution_count": null,
      "outputs": []
    },
    {
      "cell_type": "code",
      "source": [
        "# 1이 될 때까지\n",
        "# N = 17\n",
        "# K = 4 #  3\n",
        "\n",
        "N = 25\n",
        "K = 5 # 2\n",
        "\n",
        "count = 0\n",
        "while N != 1:\n",
        "  if N == 1:\n",
        "    break \n",
        "  elif N % K == 0:\n",
        "    N /= K\n",
        "    count += 1\n",
        "  else:\n",
        "    N -= 1\n",
        "    count += 1\n",
        "count"
      ],
      "metadata": {
        "id": "FZxzCbbpHSUN"
      },
      "execution_count": null,
      "outputs": []
    },
    {
      "cell_type": "markdown",
      "source": [
        "#4. 구현\n"
      ],
      "metadata": {
        "id": "IQIh107okfGl"
      }
    },
    {
      "cell_type": "code",
      "source": [
        "# 상하좌우 (다시 풀어보기)\n",
        "\n",
        "n = 5 # int(input())\n",
        "move = ['R', 'R', 'R', 'U', 'D', 'D'] # list(map(str, input().split()))\n",
        "x, y = 1, 1\n",
        "\n",
        "dx = [0, 0, -1, 1]\n",
        "dy = [-1, 1, 0, 0]\n",
        "move_type = ['L', 'R', 'U', 'D']\n",
        "\n",
        "for i in move:\n",
        "  for j in range(len(move_type)):\n",
        "    if i == move_type[j]:\n",
        "      nx = x + dx[j]\n",
        "      ny = y + dy[j]\n",
        "  \n",
        "  if nx < 1 or ny <1 or nx > n or ny > n:\n",
        "    continue\n",
        "  \n",
        "  x, y = nx, ny\n",
        "\n",
        "x, y"
      ],
      "metadata": {
        "id": "qnHWZLrhkiWj"
      },
      "execution_count": null,
      "outputs": []
    },
    {
      "cell_type": "code",
      "source": [
        "# 시각\n",
        "h = 5 # int(input()) \n",
        "\n",
        "count = 0\n",
        "for i in range(h + 1):\n",
        "  for j in range(60):\n",
        "    for z in range(60):\n",
        "      if '3' in str(i) + str(j) + str(z):\n",
        "        count += 1\n",
        "\n",
        "count"
      ],
      "metadata": {
        "id": "VEtVJGynFZ7U"
      },
      "execution_count": null,
      "outputs": []
    },
    {
      "cell_type": "code",
      "source": [
        "# 왕실의 나이트\n",
        "input = 'a1' # input()\n",
        "x = int(input[1])\n",
        "y = int(ord(input[0])) - int(ord('a')) + 1\n",
        "\n",
        "step = [(-2, -1), (-1, -2), (1, -2), (2, -1), (2, 1), (1, 2), (-1, 2), (-2, 1)]\n",
        "\n",
        "result = 0\n",
        "for i in step:\n",
        "  n_x = x + i[0]\n",
        "  n_y = y + i[1]\n",
        "\n",
        "  if n_x >= 1 and n_x <=8 and n_y >= 1 and n_y <= 8:\n",
        "    result += 1\n",
        "result"
      ],
      "metadata": {
        "id": "CTniCt3bZSOe"
      },
      "execution_count": null,
      "outputs": []
    },
    {
      "cell_type": "code",
      "source": [
        "# 게임개발"
      ],
      "metadata": {
        "id": "AIGGnzLxkyw5"
      },
      "execution_count": null,
      "outputs": []
    }
  ]
}