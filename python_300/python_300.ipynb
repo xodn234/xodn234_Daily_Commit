{
  "nbformat": 4,
  "nbformat_minor": 0,
  "metadata": {
    "colab": {
      "name": "python_300.ipynb",
      "private_outputs": true,
      "provenance": [],
      "collapsed_sections": [],
      "authorship_tag": "ABX9TyO4iJs3I7vYc5V5atY7sbfb",
      "include_colab_link": true
    },
    "kernelspec": {
      "name": "python3",
      "display_name": "Python 3"
    },
    "language_info": {
      "name": "python"
    }
  },
  "cells": [
    {
      "cell_type": "markdown",
      "metadata": {
        "id": "view-in-github",
        "colab_type": "text"
      },
      "source": [
        "<a href=\"https://colab.research.google.com/github/xodn234/xodn234_Daily_Commit/blob/main/python_300/python_300.ipynb\" target=\"_parent\"><img src=\"https://colab.research.google.com/assets/colab-badge.svg\" alt=\"Open In Colab\"/></a>"
      ]
    },
    {
      "cell_type": "code",
      "source": [
        "# https://wikidocs.net/7014"
      ],
      "metadata": {
        "id": "rVIef15Yeyil"
      },
      "execution_count": null,
      "outputs": []
    },
    {
      "cell_type": "code",
      "execution_count": null,
      "metadata": {
        "id": "mdedQe7vT9GH"
      },
      "outputs": [],
      "source": [
        "# 1. 화면에 Hello World 문자열을 출력하세요.\n",
        "print('Hello World')"
      ]
    },
    {
      "cell_type": "code",
      "source": [
        "# 2. 화면에 Mary's cosmetics을 출력하세요.\n",
        "print(\"Mary's cosmetics\")"
      ],
      "metadata": {
        "id": "x_NOI-rGOv-9"
      },
      "execution_count": null,
      "outputs": []
    },
    {
      "cell_type": "code",
      "source": [
        "# 3. 화면에 아래 문장을 출력\n",
        "# 신씨가 소리질렀다. \"도둑이야\".\n",
        "print('신씨가 소리질렀다. \"도둑이야\".')"
      ],
      "metadata": {
        "id": "b93O9W_-PLY_"
      },
      "execution_count": null,
      "outputs": []
    },
    {
      "cell_type": "code",
      "source": [
        "# 4. 화면에 \"C:\\Windows\"를 출력하세요.\n",
        "print('\"C:\\Windows\"')"
      ],
      "metadata": {
        "id": "qi212_FdPO3A"
      },
      "execution_count": null,
      "outputs": []
    },
    {
      "cell_type": "code",
      "source": [
        "# 5. 다음 코드를 실행해보고 \\t와 \\n의 역할을 설명해보세요.\n",
        "print(\"안녕하세요.\\n만나서\\t\\t반갑습니다.\")\n",
        "# \\t는 탭을 의미하고 \\n'은 줄바꿈을 의미"
      ],
      "metadata": {
        "id": "6RYJ1arAPgvd"
      },
      "execution_count": null,
      "outputs": []
    },
    {
      "cell_type": "code",
      "source": [
        "# 6. print (\"오늘은\", \"일요일\") 출력결과 예상\n",
        "print(\"오늘은\", \"일요일\")"
      ],
      "metadata": {
        "id": "mtnXzMUYQacR"
      },
      "execution_count": null,
      "outputs": []
    },
    {
      "cell_type": "code",
      "source": [
        "# 7. print() 함수를 사용하여 다음과 같이 출력\n",
        "# naver;kakao;sk;samsung\n",
        "print('naver;kakao;sk;samsung')\n",
        "print(\"naver\", \"kakao\", \"sk\" ,\"samsung\", sep=\";\")"
      ],
      "metadata": {
        "id": "8kIRUuMPRh2k"
      },
      "execution_count": null,
      "outputs": []
    },
    {
      "cell_type": "code",
      "source": [
        "# 8. print() 함수를 사용하여 다음과 같이 출력\n",
        "# naver/kakao/sk/samsung\n",
        "print(\"naver\", \"kakao\", \"sk\" ,\"samsung\", sep=\"/\")"
      ],
      "metadata": {
        "id": "X-2naoy8SNBe"
      },
      "execution_count": null,
      "outputs": []
    },
    {
      "cell_type": "code",
      "source": [
        "# 9. 드를 수정하여 줄바꿈이 없이 출력\n",
        "# print(\"first\");print(\"second\")\n",
        "print(\"first\", end=\" \");print(\"second\")"
      ],
      "metadata": {
        "id": "-VUvVEF6STuP"
      },
      "execution_count": null,
      "outputs": []
    },
    {
      "cell_type": "code",
      "source": [
        "# 10. 5/3의 결과를 화면에 출력하세요.\n",
        "print(5/3)"
      ],
      "metadata": {
        "id": "Zv6-1tx4Sg-k"
      },
      "execution_count": null,
      "outputs": []
    }
  ]
}