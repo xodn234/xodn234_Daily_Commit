{
  "nbformat": 4,
  "nbformat_minor": 0,
  "metadata": {
    "colab": {
      "name": "python_300.ipynb",
      "private_outputs": true,
      "provenance": [],
      "collapsed_sections": [],
      "authorship_tag": "ABX9TyPwllME+iD1rwf/2xT2Cy2E",
      "include_colab_link": true
    },
    "kernelspec": {
      "name": "python3",
      "display_name": "Python 3"
    },
    "language_info": {
      "name": "python"
    }
  },
  "cells": [
    {
      "cell_type": "markdown",
      "metadata": {
        "id": "view-in-github",
        "colab_type": "text"
      },
      "source": [
        "<a href=\"https://colab.research.google.com/github/xodn234/xodn234_Daily_Commit/blob/main/python_300/python_300.ipynb\" target=\"_parent\"><img src=\"https://colab.research.google.com/assets/colab-badge.svg\" alt=\"Open In Colab\"/></a>"
      ]
    },
    {
      "cell_type": "code",
      "source": [
        "# https://wikidocs.net/7014"
      ],
      "metadata": {
        "id": "rVIef15Yeyil"
      },
      "execution_count": null,
      "outputs": []
    },
    {
      "cell_type": "code",
      "execution_count": null,
      "metadata": {
        "id": "mdedQe7vT9GH"
      },
      "outputs": [],
      "source": [
        "# 1. 화면에 Hello World 문자열을 출력하세요.\n",
        "print('Hello World')"
      ]
    },
    {
      "cell_type": "code",
      "source": [
        "# 2. 화면에 Mary's cosmetics을 출력하세요.\n",
        "print(\"Mary's cosmetics\")"
      ],
      "metadata": {
        "id": "x_NOI-rGOv-9"
      },
      "execution_count": null,
      "outputs": []
    },
    {
      "cell_type": "code",
      "source": [
        "# 3. 화면에 아래 문장을 출력\n",
        "# 신씨가 소리질렀다. \"도둑이야\".\n",
        "print('신씨가 소리질렀다. \"도둑이야\".')"
      ],
      "metadata": {
        "id": "b93O9W_-PLY_"
      },
      "execution_count": null,
      "outputs": []
    },
    {
      "cell_type": "code",
      "source": [
        "# 4. 화면에 \"C:\\Windows\"를 출력하세요.\n",
        "print('\"C:\\Windows\"')"
      ],
      "metadata": {
        "id": "qi212_FdPO3A"
      },
      "execution_count": null,
      "outputs": []
    },
    {
      "cell_type": "code",
      "source": [
        "# 5. 다음 코드를 실행해보고 \\t와 \\n의 역할을 설명해보세요.\n",
        "print(\"안녕하세요.\\n만나서\\t\\t반갑습니다.\")\n",
        "# \\t는 탭을 의미하고 \\n'은 줄바꿈을 의미"
      ],
      "metadata": {
        "id": "6RYJ1arAPgvd"
      },
      "execution_count": null,
      "outputs": []
    },
    {
      "cell_type": "code",
      "source": [
        "# 6. print (\"오늘은\", \"일요일\") 출력결과 예상\n",
        "print(\"오늘은\", \"일요일\")"
      ],
      "metadata": {
        "id": "mtnXzMUYQacR"
      },
      "execution_count": null,
      "outputs": []
    },
    {
      "cell_type": "code",
      "source": [
        "# 7. print() 함수를 사용하여 다음과 같이 출력\n",
        "# naver;kakao;sk;samsung\n",
        "print('naver;kakao;sk;samsung')\n",
        "print(\"naver\", \"kakao\", \"sk\" ,\"samsung\", sep=\";\")"
      ],
      "metadata": {
        "id": "8kIRUuMPRh2k"
      },
      "execution_count": null,
      "outputs": []
    },
    {
      "cell_type": "code",
      "source": [
        "# 8. print() 함수를 사용하여 다음과 같이 출력\n",
        "# naver/kakao/sk/samsung\n",
        "print(\"naver\", \"kakao\", \"sk\" ,\"samsung\", sep=\"/\")"
      ],
      "metadata": {
        "id": "X-2naoy8SNBe"
      },
      "execution_count": null,
      "outputs": []
    },
    {
      "cell_type": "code",
      "source": [
        "# 9. 드를 수정하여 줄바꿈이 없이 출력\n",
        "# print(\"first\");print(\"second\")\n",
        "print(\"first\", end=\" \");print(\"second\")"
      ],
      "metadata": {
        "id": "-VUvVEF6STuP"
      },
      "execution_count": null,
      "outputs": []
    },
    {
      "cell_type": "code",
      "source": [
        "# 10. 5/3의 결과를 화면에 출력하세요.\n",
        "print(5/3)"
      ],
      "metadata": {
        "id": "Zv6-1tx4Sg-k"
      },
      "execution_count": null,
      "outputs": []
    },
    {
      "cell_type": "code",
      "source": [
        "# 11. 삼성전자라는 변수로 50,000원을 바인딩해보세요. \n",
        "# 삼성전자 주식 10주를 보유하고 있을 때 총 평가금액을 출력하세요.\n",
        "삼성전자 = 50000\n",
        "총평가금액 = 삼성전자 * 10\n",
        "print(총평가금액)"
      ],
      "metadata": {
        "id": "IVGFeTQW7kyq"
      },
      "execution_count": null,
      "outputs": []
    },
    {
      "cell_type": "code",
      "source": [
        "# 12. 변수를 사용해서 시가총액, 현재가, PER 등을 바인딩해보세요.\n",
        "시가총액 = 298000000000000\n",
        "현재가 = 50000\n",
        "PER = 15.79\n",
        "print(시가총액)\n",
        "print(현재가)\n",
        "print(PER,)"
      ],
      "metadata": {
        "id": "u28L1x4f77Fx"
      },
      "execution_count": null,
      "outputs": []
    },
    {
      "cell_type": "code",
      "source": [
        "# 13. 두 변수를 이용하여 아래와 같이 출력\n",
        "# s = \"hello\"\n",
        "# t = \"python\"\n",
        "# 실행 예) hello! python\n",
        "s = \"hello\"\n",
        "t = \"python\"\n",
        "print(s + '!', t)"
      ],
      "metadata": {
        "id": "rx6NPClK8nm4"
      },
      "execution_count": null,
      "outputs": []
    },
    {
      "cell_type": "code",
      "source": [
        "# 14. 아래 코드의 실행 결과를 예상\n",
        "#  2 + 2 * 3 \n",
        "print( 2 + 2 * 3 )"
      ],
      "metadata": {
        "id": "6Qn-JOd99Ip8"
      },
      "execution_count": null,
      "outputs": []
    },
    {
      "cell_type": "code",
      "source": [
        "# 15. 아래 변수에 바인딩된 값의 타입을 판별\n",
        "# a = \"132\"\n",
        "a = \"132\"\n",
        "print(type(a))"
      ],
      "metadata": {
        "id": "Lw5z01TC9xvg"
      },
      "execution_count": null,
      "outputs": []
    },
    {
      "cell_type": "code",
      "source": [
        "# 16. 문자열 '720'를 정수형으로 변환\n",
        "# num_str = \"720\"\n",
        "num_str = \"720\"\n",
        "num_int = int(num_str)\n",
        "print(num_int, type(num_int))"
      ],
      "metadata": {
        "id": "NL6JbtXJ-Leo"
      },
      "execution_count": null,
      "outputs": []
    },
    {
      "cell_type": "code",
      "source": [
        "# 17. 정수 100을 문자열 '100'으로 변환해보세요.\n",
        "# num = 100\n",
        "num = 100\n",
        "num_str = str(100)\n",
        "print(num_str, type(num_str))"
      ],
      "metadata": {
        "id": "QYGmFeWJ_Z3r"
      },
      "execution_count": null,
      "outputs": []
    },
    {
      "cell_type": "code",
      "source": [
        "# 18. 문자열 \"15.79\"를 실수(float) 타입으로 변환해보세요.\n",
        "num_str = \"15.79\"\n",
        "num_int = float(num_str)\n",
        "print(num_int, type(num_int))"
      ],
      "metadata": {
        "id": "thp6FvCz_lD0"
      },
      "execution_count": null,
      "outputs": []
    },
    {
      "cell_type": "code",
      "source": [
        "# 19. 정수로 변환한 후 최근 3년의 연도를 화면에 출력\n",
        "# year = \"2020\"\n",
        "year = \"2020\"\n",
        "year_int = int(year)\n",
        "print(year_int - 2, year_int - 1, year_int)"
      ],
      "metadata": {
        "id": "XbVhBac4ACj1"
      },
      "execution_count": null,
      "outputs": []
    },
    {
      "cell_type": "code",
      "source": [
        "# 20. 에이컨이 월 48,584원에 무이자 36개월의 조건으로 홈쇼핑에서 판매되고 있습니다. \n",
        "# 총 금액은 계산한 후 이를 화면에 출력\n",
        "m = 48584\n",
        "pay = m * 36\n",
        "print(pay)"
      ],
      "metadata": {
        "id": "j9LJY9K_Bp_5"
      },
      "execution_count": null,
      "outputs": []
    },
    {
      "cell_type": "code",
      "source": [
        "# 21. letters가 바인딩하는 문자열에서 첫번째와 세번째 문자를 출력\n",
        "# letters = 'python'\n",
        "letters = 'python'\n",
        "print(letters[0], letters[2])"
      ],
      "metadata": {
        "id": "T--Ppj3zB39b"
      },
      "execution_count": null,
      "outputs": []
    },
    {
      "cell_type": "code",
      "source": [
        "# 22. 자동차 번호가 다음과 같을 때 뒤에 4자리만 출력하세요.\n",
        "# license_plate = \"24가 2210\"\n",
        "license_plate = \"24가 2210\"\n",
        "print(license_plate[-4:])"
      ],
      "metadata": {
        "id": "1gMxa1DEL7VN"
      },
      "execution_count": null,
      "outputs": []
    },
    {
      "cell_type": "code",
      "source": [
        "# 23. 아래의 문자열에서 '홀' 만 출력하세요.\n",
        "# string = \"홀짝홀짝홀짝\"\n",
        "string = \"홀짝홀짝홀짝\"\n",
        "print(string[::2])"
      ],
      "metadata": {
        "id": "S1dJWK-AMMPU"
      },
      "execution_count": null,
      "outputs": []
    },
    {
      "cell_type": "code",
      "source": [
        "# 24. 문자열을 거꾸로 뒤집어 출력하세요.\n",
        "# string = \"PYTHON\"\n",
        "string = \"PYTHON\"\n",
        "print(string[::-1])"
      ],
      "metadata": {
        "id": "M_HIgjlwMZCn"
      },
      "execution_count": null,
      "outputs": []
    },
    {
      "cell_type": "code",
      "source": [
        "# 25. 아래의 전화번호에서 하이푼 ('-')을 제거하고 출력하세요.\n",
        "# phone_number = \"010-1111-2222\"\n",
        "phone_number = \"010-1111-2222\"\n",
        "print(phone_number.replace(\"-\", \" \"))"
      ],
      "metadata": {
        "id": "lAmOcvnoMuX4"
      },
      "execution_count": null,
      "outputs": []
    },
    {
      "cell_type": "code",
      "source": [
        "# 26. 25번 문제의 전화번호를 아래와 같이 모두 붙여 출력\n",
        "print(phone_number.replace(\"-\", \"\"))"
      ],
      "metadata": {
        "id": "7R1996JZM_Ik"
      },
      "execution_count": null,
      "outputs": []
    },
    {
      "cell_type": "code",
      "source": [
        "# 27. url 에 저장된 웹 페이지 주소에서 도메인을 출력\n",
        "# url = \"http://sharebook.kr\"\n",
        "url = \"http://sharebook.kr\"\n",
        "print(url.split('.')[-1])"
      ],
      "metadata": {
        "id": "DFaTtq0CNKam"
      },
      "execution_count": null,
      "outputs": []
    },
    {
      "cell_type": "code",
      "source": [
        "# 28. 아래 코드의 실행 결과를 예상해보세요.\n",
        "# lang = 'python'\n",
        "# lang[0] = 'P'\n",
        "# print(lang)\n",
        "lang = 'python'\n",
        "lang[0] = 'P'\n",
        "print(lang)"
      ],
      "metadata": {
        "id": "z49kOVFwPaaS"
      },
      "execution_count": null,
      "outputs": []
    },
    {
      "cell_type": "code",
      "source": [
        "# 29. 아래 문자열에서 소문자 'a'를 대문자 'A'로 변경하세요.\n",
        "# string = 'abcdfe2a354a32a'\n",
        "string = 'abcdfe2a354a32a'\n",
        "print(string.replace('a', 'A'))"
      ],
      "metadata": {
        "id": "H8z8clyWQEiN"
      },
      "execution_count": null,
      "outputs": []
    },
    {
      "cell_type": "code",
      "source": [
        "# 30. 아래 코드의 실행 결과를 예상해보세요.\n",
        "# string = 'abcd'\n",
        "# string.replace('b', 'B')\n",
        "# print(string)\n",
        "string = 'abcd'\n",
        "string.replace('b', 'B')\n",
        "print(string)"
      ],
      "metadata": {
        "id": "3LAlBW89QUr7"
      },
      "execution_count": null,
      "outputs": []
    },
    {
      "cell_type": "code",
      "source": [
        "# 31. 아래 코드의 실행 결과를 예상해보세요.\n",
        "# a = \"3\"\n",
        "# b = \"4\"\n",
        "# print(a + b)\n",
        "a = \"3\"\n",
        "b = \"4\"\n",
        "print(a + b)"
      ],
      "metadata": {
        "id": "JKfpVB2bQwUZ"
      },
      "execution_count": null,
      "outputs": []
    },
    {
      "cell_type": "code",
      "source": [
        "# 32. 아래 코드의 실행 결과를 예상해보세요.\n",
        "# print(\"Hi\" * 3)\n",
        "print(\"Hi\" * 3)"
      ],
      "metadata": {
        "id": "shERSh_NQ6V4"
      },
      "execution_count": null,
      "outputs": []
    },
    {
      "cell_type": "code",
      "source": [
        "# 33. 화면에 '-'를 80개 출력하세요.\n",
        "print('-' * 80)"
      ],
      "metadata": {
        "id": "SFnDt-wRQ-jz"
      },
      "execution_count": null,
      "outputs": []
    },
    {
      "cell_type": "code",
      "source": [
        "# 34. 변수에 문자열 더하기와 문자열 곱하기를 사용해서 아래와 같이 출력해보세요.\n",
        "# t1 = 'python'\n",
        "# t2 = 'java'\n",
        "# 실행 예: python java python java python java python java\n",
        "t1 = 'python'\n",
        "t2 = 'java'\n",
        "t3 = t1 + ' ' + t2 + ' '\n",
        "print(t3 * 4)"
      ],
      "metadata": {
        "id": "iXabN8nASUsc"
      },
      "execution_count": null,
      "outputs": []
    },
    {
      "cell_type": "code",
      "source": [
        "# 35. 변수에 다음과 같이 문자열과 정수가 바인딩되어 있을 때 % formatting을 사용해서 다음과 같이 출력해보세요.\n",
        "# name1 = \"김민수\" \n",
        "# age1 = 10\n",
        "# name2 = \"이철희\"\n",
        "# age2 = 13\n",
        "# 이름: 김민수 나이: 10\n",
        "# 이름: 이철희 나이: 13\n",
        "name1 = \"김민수\" \n",
        "age1 = 10\n",
        "name2 = \"이철희\"\n",
        "age2 = 13\n",
        "print('이름: %s나이: %s' % (name1, age1))\n",
        "print('이름: %s나이: %s' % (name2, age2))"
      ],
      "metadata": {
        "id": "iNtQgGAMS6EP"
      },
      "execution_count": null,
      "outputs": []
    },
    {
      "cell_type": "code",
      "source": [
        "# 36. 문자열의 format( ) 메서드를 사용해서 035번 문제를 다시 풀어보세요.\n",
        "print('이름: {}나이: {}'.format(name1, age1))\n",
        "print('이름: {}나이: {}'.format(name2, age2))"
      ],
      "metadata": {
        "id": "oIhFJwJDTkyV"
      },
      "execution_count": null,
      "outputs": []
    },
    {
      "cell_type": "code",
      "source": [
        "# 37. 파이썬 3.6부터 지원하는 f-string을 사용해서 035번 문제를 다시 풀어보세요.\n",
        "print(f'이름: {name1}나이: {age1}')\n",
        "print(f'이름: {name2}나이: {age2}')"
      ],
      "metadata": {
        "id": "7vVsDyNtT9lP"
      },
      "execution_count": null,
      "outputs": []
    },
    {
      "cell_type": "code",
      "source": [
        "# 38. 삼성전자의 상장주식수가 다음과 같습니다. 컴마를 제거한 후 이를 정수 타입으로 변환해보세요.\n",
        "상장주식수 = \"5,969,782,550\"\n",
        "print(int(상장주식수.replace(',', '')))"
      ],
      "metadata": {
        "id": "CfAdSyyYUSaK"
      },
      "execution_count": null,
      "outputs": []
    },
    {
      "cell_type": "code",
      "source": [
        "# 39. 다음과 같은 문자열에서 '2020/03'만 출력하세요.\n",
        "분기 = \"2020/03(E) (IFRS연결)\"\n",
        "print(분기[:7])"
      ],
      "metadata": {
        "id": "-VRiGCKbUmpQ"
      },
      "execution_count": null,
      "outputs": []
    },
    {
      "cell_type": "code",
      "source": [
        "### 40. 문자열의 좌우의 공백이 있을 때 이를 제거해보세요.\n",
        "data = \"   삼성전자    \"\n",
        "print(data.strip())"
      ],
      "metadata": {
        "id": "SCdMXMTGUxVt"
      },
      "execution_count": null,
      "outputs": []
    },
    {
      "cell_type": "code",
      "source": [
        "# 41. 다음과 같은 문자열이 있을 때 이를 대문자 BTC_KRW로 변경하세요.\n",
        "ticker = \"btc_krw\"\n",
        "print(ticker.upper())"
      ],
      "metadata": {
        "id": "YV1cytRGVMnJ"
      },
      "execution_count": null,
      "outputs": []
    },
    {
      "cell_type": "code",
      "source": [
        "# 42. 다음과 같은 문자열이 있을 때 이를 소문자 btc_krw로 변경하세요.\n",
        "ticker = \"BTC_KRW\"\n",
        "print(ticker.lower())"
      ],
      "metadata": {
        "id": "cwR5b6cQzrbH"
      },
      "execution_count": null,
      "outputs": []
    },
    {
      "cell_type": "code",
      "source": [
        "### 43. 문자열 'hello'가 있을 때 이를 'Hello'로 변경해보세요.\n",
        "word = 'hello'\n",
        "print(word.capitalize())"
      ],
      "metadata": {
        "id": "i9Yc_WElzzq8"
      },
      "execution_count": null,
      "outputs": []
    },
    {
      "cell_type": "code",
      "source": [
        "### 44. 파일 이름이 문자열로 저장되어 있을 때 \n",
        "# endswith 메서드를 사용해서 파일 이름이 'xlsx'로 끝나는지 확인해보세요.\n",
        "file_name = \"보고서.xlsx\"\n",
        "print(file_name.endswith('xlsx'))"
      ],
      "metadata": {
        "id": "PBLEf-_20DOK"
      },
      "execution_count": null,
      "outputs": []
    },
    {
      "cell_type": "code",
      "source": [
        "### 45. 추가로 파일 이름이 'xlsx' 또는 'xls'로 끝나는지 확인해보세요.\n",
        "file_name = \"보고서.xlsx\"\n",
        "print(file_name.endswith(('xlsx', 'xls')))"
      ],
      "metadata": {
        "id": "IK2t0-0w0VtX"
      },
      "execution_count": null,
      "outputs": []
    },
    {
      "cell_type": "code",
      "source": [
        "### 46. startswith 메서드를 사용해서 파일 이름이 '2020'로 시작하는지 확인해보세요.\n",
        "file_name = \"2020_보고서.xlsx\"\n",
        "print(file_name.startswith('2020'))"
      ],
      "metadata": {
        "id": "nHEgHpSZ0obF"
      },
      "execution_count": null,
      "outputs": []
    },
    {
      "cell_type": "code",
      "source": [
        "# 47. 다음과 같은 문자열이 있을 때 공백을 기준으로 문자열을 나눠보세요.\n",
        "a = \"hello world\"\n",
        "print(a.split())"
      ],
      "metadata": {
        "id": "EBTeXQiz0udP"
      },
      "execution_count": null,
      "outputs": []
    },
    {
      "cell_type": "code",
      "source": [
        "# 48. 다음과 같이 문자열이 있을 때 btc와 krw로 나눠보세요.\n",
        "ticker = \"btc_krw\"\n",
        "print(ticker.split('_'))"
      ],
      "metadata": {
        "id": "aXTvwDWE1sq4"
      },
      "execution_count": null,
      "outputs": []
    },
    {
      "cell_type": "code",
      "source": [
        "# 49. 다음과 같이 날짜를 표현하는 문자열이 있을 때 연도, 월, 일로 나눠보세요.\n",
        "date = \"2020-05-01\"\n",
        "print(date.split('-'))"
      ],
      "metadata": {
        "id": "kViwGDSU11VG"
      },
      "execution_count": null,
      "outputs": []
    },
    {
      "cell_type": "code",
      "source": [
        "### 50. 문자열의 오른쪽에 공백이 있을 때 이를 제거해보세요.\n",
        "data = \"039490     \"\n",
        "print(data.rstrip())"
      ],
      "metadata": {
        "id": "vFDt219f2QdE"
      },
      "execution_count": null,
      "outputs": []
    },
    {
      "cell_type": "code",
      "source": [
        "# 51. 영화 제목을 movie_rank 이름의 리스트에 저장해보세요. \n",
        "movie_rank = ['닥터 스트레인지', '스플릿', '럭키']\n",
        "print(movie_rank)"
      ],
      "metadata": {
        "id": "-BBPYFmP2YAt"
      },
      "execution_count": null,
      "outputs": []
    },
    {
      "cell_type": "code",
      "source": [
        "# 52. 051의 movie_rank 리스트에 \"배트맨\"을 추가하라\n",
        "movie_rank.append('배트맨')\n",
        "print(movie_rank)"
      ],
      "metadata": {
        "id": "NZ6r9Z_A2qbJ"
      },
      "execution_count": null,
      "outputs": []
    },
    {
      "cell_type": "code",
      "source": [
        "# 53. 슈퍼맨\"을 \"닥터 스트레인지\"와 \"스플릿\" 사이에 추가하라.\n"
      ],
      "metadata": {
        "id": "JpGYOtUb3B_R"
      },
      "execution_count": null,
      "outputs": []
    }
  ]
}