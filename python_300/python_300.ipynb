{
  "nbformat": 4,
  "nbformat_minor": 0,
  "metadata": {
    "colab": {
      "name": "python_300.ipynb",
      "private_outputs": true,
      "provenance": [],
      "collapsed_sections": [],
      "authorship_tag": "ABX9TyO7ykDhu+rNs5B/G9JpPvCu",
      "include_colab_link": true
    },
    "kernelspec": {
      "name": "python3",
      "display_name": "Python 3"
    },
    "language_info": {
      "name": "python"
    }
  },
  "cells": [
    {
      "cell_type": "markdown",
      "metadata": {
        "id": "view-in-github",
        "colab_type": "text"
      },
      "source": [
        "<a href=\"https://colab.research.google.com/github/xodn234/xodn234_Daily_Commit/blob/main/python_300/python_300.ipynb\" target=\"_parent\"><img src=\"https://colab.research.google.com/assets/colab-badge.svg\" alt=\"Open In Colab\"/></a>"
      ]
    },
    {
      "cell_type": "markdown",
      "source": [
        "# https://wikidocs.net/7014"
      ],
      "metadata": {
        "id": "DSRsk3B4vvGI"
      }
    },
    {
      "cell_type": "code",
      "execution_count": null,
      "metadata": {
        "id": "mdedQe7vT9GH"
      },
      "outputs": [],
      "source": [
        "# 1. 화면에 Hello World 문자열을 출력하세요.\n",
        "print('Hello World')"
      ]
    },
    {
      "cell_type": "code",
      "source": [
        "# 2. 화면에 Mary's cosmetics을 출력하세요.\n",
        "print(\"Mary's cosmetics\")"
      ],
      "metadata": {
        "id": "x_NOI-rGOv-9"
      },
      "execution_count": null,
      "outputs": []
    },
    {
      "cell_type": "code",
      "source": [
        "# 3. 화면에 아래 문장을 출력\n",
        "# 신씨가 소리질렀다. \"도둑이야\".\n",
        "print('신씨가 소리질렀다. \"도둑이야\".')"
      ],
      "metadata": {
        "id": "b93O9W_-PLY_"
      },
      "execution_count": null,
      "outputs": []
    },
    {
      "cell_type": "code",
      "source": [
        "# 4. 화면에 \"C:\\Windows\"를 출력하세요.\n",
        "print('\"C:\\Windows\"')"
      ],
      "metadata": {
        "id": "qi212_FdPO3A"
      },
      "execution_count": null,
      "outputs": []
    },
    {
      "cell_type": "code",
      "source": [
        "# 5. 다음 코드를 실행해보고 \\t와 \\n의 역할을 설명해보세요.\n",
        "print(\"안녕하세요.\\n만나서\\t\\t반갑습니다.\")\n",
        "# \\t는 탭을 의미하고 \\n'은 줄바꿈을 의미"
      ],
      "metadata": {
        "id": "6RYJ1arAPgvd"
      },
      "execution_count": null,
      "outputs": []
    },
    {
      "cell_type": "code",
      "source": [
        "# 6. print (\"오늘은\", \"일요일\") 출력결과 예상\n",
        "print(\"오늘은\", \"일요일\")"
      ],
      "metadata": {
        "id": "mtnXzMUYQacR"
      },
      "execution_count": null,
      "outputs": []
    },
    {
      "cell_type": "code",
      "source": [
        "# 7. print() 함수를 사용하여 다음과 같이 출력\n",
        "# naver;kakao;sk;samsung\n",
        "print('naver;kakao;sk;samsung')\n",
        "print(\"naver\", \"kakao\", \"sk\" ,\"samsung\", sep=\";\")"
      ],
      "metadata": {
        "id": "8kIRUuMPRh2k"
      },
      "execution_count": null,
      "outputs": []
    },
    {
      "cell_type": "code",
      "source": [
        "# 8. print() 함수를 사용하여 다음과 같이 출력\n",
        "# naver/kakao/sk/samsung\n",
        "print(\"naver\", \"kakao\", \"sk\" ,\"samsung\", sep=\"/\")"
      ],
      "metadata": {
        "id": "X-2naoy8SNBe"
      },
      "execution_count": null,
      "outputs": []
    },
    {
      "cell_type": "code",
      "source": [
        "# 9. 드를 수정하여 줄바꿈이 없이 출력\n",
        "# print(\"first\");print(\"second\")\n",
        "print(\"first\", end=\" \");print(\"second\")"
      ],
      "metadata": {
        "id": "-VUvVEF6STuP"
      },
      "execution_count": null,
      "outputs": []
    },
    {
      "cell_type": "code",
      "source": [
        "# 10. 5/3의 결과를 화면에 출력하세요.\n",
        "print(5/3)"
      ],
      "metadata": {
        "id": "Zv6-1tx4Sg-k"
      },
      "execution_count": null,
      "outputs": []
    },
    {
      "cell_type": "code",
      "source": [
        "# 11. 삼성전자라는 변수로 50,000원을 바인딩해보세요. \n",
        "# 삼성전자 주식 10주를 보유하고 있을 때 총 평가금액을 출력하세요.\n",
        "삼성전자 = 50000\n",
        "총평가금액 = 삼성전자 * 10\n",
        "print(총평가금액)"
      ],
      "metadata": {
        "id": "IVGFeTQW7kyq"
      },
      "execution_count": null,
      "outputs": []
    },
    {
      "cell_type": "code",
      "source": [
        "# 12. 변수를 사용해서 시가총액, 현재가, PER 등을 바인딩해보세요.\n",
        "시가총액 = 298000000000000\n",
        "현재가 = 50000\n",
        "PER = 15.79\n",
        "print(시가총액)\n",
        "print(현재가)\n",
        "print(PER,)"
      ],
      "metadata": {
        "id": "u28L1x4f77Fx"
      },
      "execution_count": null,
      "outputs": []
    },
    {
      "cell_type": "code",
      "source": [
        "# 13. 두 변수를 이용하여 아래와 같이 출력\n",
        "# s = \"hello\"\n",
        "# t = \"python\"\n",
        "# 실행 예) hello! python\n",
        "s = \"hello\"\n",
        "t = \"python\"\n",
        "print(s + '!', t)"
      ],
      "metadata": {
        "id": "rx6NPClK8nm4"
      },
      "execution_count": null,
      "outputs": []
    },
    {
      "cell_type": "code",
      "source": [
        "# 14. 아래 코드의 실행 결과를 예상\n",
        "#  2 + 2 * 3 \n",
        "print( 2 + 2 * 3 )"
      ],
      "metadata": {
        "id": "6Qn-JOd99Ip8"
      },
      "execution_count": null,
      "outputs": []
    },
    {
      "cell_type": "code",
      "source": [
        "# 15. 아래 변수에 바인딩된 값의 타입을 판별\n",
        "# a = \"132\"\n",
        "a = \"132\"\n",
        "print(type(a))"
      ],
      "metadata": {
        "id": "Lw5z01TC9xvg"
      },
      "execution_count": null,
      "outputs": []
    },
    {
      "cell_type": "code",
      "source": [
        "# 16. 문자열 '720'를 정수형으로 변환\n",
        "# num_str = \"720\"\n",
        "num_str = \"720\"\n",
        "num_int = int(num_str)\n",
        "print(num_int, type(num_int))"
      ],
      "metadata": {
        "id": "NL6JbtXJ-Leo"
      },
      "execution_count": null,
      "outputs": []
    },
    {
      "cell_type": "code",
      "source": [
        "# 17. 정수 100을 문자열 '100'으로 변환해보세요.\n",
        "# num = 100\n",
        "num = 100\n",
        "num_str = str(100)\n",
        "print(num_str, type(num_str))"
      ],
      "metadata": {
        "id": "QYGmFeWJ_Z3r"
      },
      "execution_count": null,
      "outputs": []
    },
    {
      "cell_type": "code",
      "source": [
        "# 18. 문자열 \"15.79\"를 실수(float) 타입으로 변환해보세요.\n",
        "num_str = \"15.79\"\n",
        "num_int = float(num_str)\n",
        "print(num_int, type(num_int))"
      ],
      "metadata": {
        "id": "thp6FvCz_lD0"
      },
      "execution_count": null,
      "outputs": []
    },
    {
      "cell_type": "code",
      "source": [
        "# 19. 정수로 변환한 후 최근 3년의 연도를 화면에 출력\n",
        "# year = \"2020\"\n",
        "year = \"2020\"\n",
        "year_int = int(year)\n",
        "print(year_int - 2, year_int - 1, year_int)"
      ],
      "metadata": {
        "id": "XbVhBac4ACj1"
      },
      "execution_count": null,
      "outputs": []
    },
    {
      "cell_type": "code",
      "source": [
        "# 20. 에이컨이 월 48,584원에 무이자 36개월의 조건으로 홈쇼핑에서 판매되고 있습니다. \n",
        "# 총 금액은 계산한 후 이를 화면에 출력\n",
        "m = 48584\n",
        "pay = m * 36\n",
        "print(pay)"
      ],
      "metadata": {
        "id": "j9LJY9K_Bp_5"
      },
      "execution_count": null,
      "outputs": []
    },
    {
      "cell_type": "code",
      "source": [
        "# 21. letters가 바인딩하는 문자열에서 첫번째와 세번째 문자를 출력\n",
        "# letters = 'python'\n",
        "letters = 'python'\n",
        "print(letters[0], letters[2])"
      ],
      "metadata": {
        "id": "T--Ppj3zB39b"
      },
      "execution_count": null,
      "outputs": []
    },
    {
      "cell_type": "code",
      "source": [
        "# 22. 자동차 번호가 다음과 같을 때 뒤에 4자리만 출력하세요.\n",
        "# license_plate = \"24가 2210\"\n",
        "license_plate = \"24가 2210\"\n",
        "print(license_plate[-4:])"
      ],
      "metadata": {
        "id": "1gMxa1DEL7VN"
      },
      "execution_count": null,
      "outputs": []
    },
    {
      "cell_type": "code",
      "source": [
        "# 23. 아래의 문자열에서 '홀' 만 출력하세요.\n",
        "# string = \"홀짝홀짝홀짝\"\n",
        "string = \"홀짝홀짝홀짝\"\n",
        "print(string[::2])"
      ],
      "metadata": {
        "id": "S1dJWK-AMMPU"
      },
      "execution_count": null,
      "outputs": []
    },
    {
      "cell_type": "code",
      "source": [
        "# 24. 문자열을 거꾸로 뒤집어 출력하세요.\n",
        "# string = \"PYTHON\"\n",
        "string = \"PYTHON\"\n",
        "print(string[::-1])"
      ],
      "metadata": {
        "id": "M_HIgjlwMZCn"
      },
      "execution_count": null,
      "outputs": []
    },
    {
      "cell_type": "code",
      "source": [
        "# 25. 아래의 전화번호에서 하이푼 ('-')을 제거하고 출력하세요.\n",
        "# phone_number = \"010-1111-2222\"\n",
        "phone_number = \"010-1111-2222\"\n",
        "print(phone_number.replace(\"-\", \" \"))"
      ],
      "metadata": {
        "id": "lAmOcvnoMuX4"
      },
      "execution_count": null,
      "outputs": []
    },
    {
      "cell_type": "code",
      "source": [
        "# 26. 25번 문제의 전화번호를 아래와 같이 모두 붙여 출력\n",
        "print(phone_number.replace(\"-\", \"\"))"
      ],
      "metadata": {
        "id": "7R1996JZM_Ik"
      },
      "execution_count": null,
      "outputs": []
    },
    {
      "cell_type": "code",
      "source": [
        "# 27. url 에 저장된 웹 페이지 주소에서 도메인을 출력\n",
        "# url = \"http://sharebook.kr\"\n",
        "url = \"http://sharebook.kr\"\n",
        "print(url.split('.')[-1])"
      ],
      "metadata": {
        "id": "DFaTtq0CNKam"
      },
      "execution_count": null,
      "outputs": []
    },
    {
      "cell_type": "code",
      "source": [
        "# 28. 아래 코드의 실행 결과를 예상해보세요.\n",
        "# lang = 'python'\n",
        "# lang[0] = 'P'\n",
        "# print(lang)\n",
        "lang = 'python'\n",
        "lang[0] = 'P'\n",
        "print(lang)"
      ],
      "metadata": {
        "id": "z49kOVFwPaaS"
      },
      "execution_count": null,
      "outputs": []
    },
    {
      "cell_type": "code",
      "source": [
        "# 29. 아래 문자열에서 소문자 'a'를 대문자 'A'로 변경하세요.\n",
        "# string = 'abcdfe2a354a32a'\n",
        "string = 'abcdfe2a354a32a'\n",
        "print(string.replace('a', 'A'))"
      ],
      "metadata": {
        "id": "H8z8clyWQEiN"
      },
      "execution_count": null,
      "outputs": []
    },
    {
      "cell_type": "code",
      "source": [
        "# 30. 아래 코드의 실행 결과를 예상해보세요.\n",
        "# string = 'abcd'\n",
        "# string.replace('b', 'B')\n",
        "# print(string)\n",
        "string = 'abcd'\n",
        "string.replace('b', 'B')\n",
        "print(string)"
      ],
      "metadata": {
        "id": "3LAlBW89QUr7"
      },
      "execution_count": null,
      "outputs": []
    },
    {
      "cell_type": "code",
      "source": [
        "# 31. 아래 코드의 실행 결과를 예상해보세요.\n",
        "# a = \"3\"\n",
        "# b = \"4\"\n",
        "# print(a + b)\n",
        "a = \"3\"\n",
        "b = \"4\"\n",
        "print(a + b)"
      ],
      "metadata": {
        "id": "JKfpVB2bQwUZ"
      },
      "execution_count": null,
      "outputs": []
    },
    {
      "cell_type": "code",
      "source": [
        "# 32. 아래 코드의 실행 결과를 예상해보세요.\n",
        "# print(\"Hi\" * 3)\n",
        "print(\"Hi\" * 3)"
      ],
      "metadata": {
        "id": "shERSh_NQ6V4"
      },
      "execution_count": null,
      "outputs": []
    },
    {
      "cell_type": "code",
      "source": [
        "# 33. 화면에 '-'를 80개 출력하세요.\n",
        "print('-' * 80)"
      ],
      "metadata": {
        "id": "SFnDt-wRQ-jz"
      },
      "execution_count": null,
      "outputs": []
    },
    {
      "cell_type": "code",
      "source": [
        "# 34. 변수에 문자열 더하기와 문자열 곱하기를 사용해서 아래와 같이 출력해보세요.\n",
        "# t1 = 'python'\n",
        "# t2 = 'java'\n",
        "# 실행 예: python java python java python java python java\n",
        "t1 = 'python'\n",
        "t2 = 'java'\n",
        "t3 = t1 + ' ' + t2 + ' '\n",
        "print(t3 * 4)"
      ],
      "metadata": {
        "id": "iXabN8nASUsc"
      },
      "execution_count": null,
      "outputs": []
    },
    {
      "cell_type": "code",
      "source": [
        "# 35. 변수에 다음과 같이 문자열과 정수가 바인딩되어 있을 때 % formatting을 사용해서 다음과 같이 출력해보세요.\n",
        "# name1 = \"김민수\" \n",
        "# age1 = 10\n",
        "# name2 = \"이철희\"\n",
        "# age2 = 13\n",
        "# 이름: 김민수 나이: 10\n",
        "# 이름: 이철희 나이: 13\n",
        "name1 = \"김민수\" \n",
        "age1 = 10\n",
        "name2 = \"이철희\"\n",
        "age2 = 13\n",
        "print('이름: %s나이: %s' % (name1, age1))\n",
        "print('이름: %s나이: %s' % (name2, age2))"
      ],
      "metadata": {
        "id": "iNtQgGAMS6EP"
      },
      "execution_count": null,
      "outputs": []
    },
    {
      "cell_type": "code",
      "source": [
        "# 36. 문자열의 format( ) 메서드를 사용해서 035번 문제를 다시 풀어보세요.\n",
        "print('이름: {}나이: {}'.format(name1, age1))\n",
        "print('이름: {}나이: {}'.format(name2, age2))"
      ],
      "metadata": {
        "id": "oIhFJwJDTkyV"
      },
      "execution_count": null,
      "outputs": []
    },
    {
      "cell_type": "code",
      "source": [
        "# 37. 파이썬 3.6부터 지원하는 f-string을 사용해서 035번 문제를 다시 풀어보세요.\n",
        "print(f'이름: {name1}나이: {age1}')\n",
        "print(f'이름: {name2}나이: {age2}')"
      ],
      "metadata": {
        "id": "7vVsDyNtT9lP"
      },
      "execution_count": null,
      "outputs": []
    },
    {
      "cell_type": "code",
      "source": [
        "# 38. 삼성전자의 상장주식수가 다음과 같습니다. 컴마를 제거한 후 이를 정수 타입으로 변환해보세요.\n",
        "상장주식수 = \"5,969,782,550\"\n",
        "print(int(상장주식수.replace(',', '')))"
      ],
      "metadata": {
        "id": "CfAdSyyYUSaK"
      },
      "execution_count": null,
      "outputs": []
    },
    {
      "cell_type": "code",
      "source": [
        "# 39. 다음과 같은 문자열에서 '2020/03'만 출력하세요.\n",
        "분기 = \"2020/03(E) (IFRS연결)\"\n",
        "print(분기[:7])"
      ],
      "metadata": {
        "id": "-VRiGCKbUmpQ"
      },
      "execution_count": null,
      "outputs": []
    },
    {
      "cell_type": "markdown",
      "source": [
        "#  문자열의 좌우의 공백"
      ],
      "metadata": {
        "id": "SM4vpACCxhoG"
      }
    },
    {
      "cell_type": "code",
      "source": [
        "### 40. 문자열의 좌우의 공백이 있을 때 이를 제거해보세요.\n",
        "data = \"   삼성전자    \"\n",
        "print(data.strip())"
      ],
      "metadata": {
        "id": "SCdMXMTGUxVt"
      },
      "execution_count": null,
      "outputs": []
    },
    {
      "cell_type": "code",
      "source": [
        "# 41. 다음과 같은 문자열이 있을 때 이를 대문자 BTC_KRW로 변경하세요.\n",
        "ticker = \"btc_krw\"\n",
        "print(ticker.upper())"
      ],
      "metadata": {
        "id": "YV1cytRGVMnJ"
      },
      "execution_count": null,
      "outputs": []
    },
    {
      "cell_type": "code",
      "source": [
        "# 42. 다음과 같은 문자열이 있을 때 이를 소문자 btc_krw로 변경하세요.\n",
        "ticker = \"BTC_KRW\"\n",
        "print(ticker.lower())"
      ],
      "metadata": {
        "id": "cwR5b6cQzrbH"
      },
      "execution_count": null,
      "outputs": []
    },
    {
      "cell_type": "markdown",
      "source": [
        "# 'hello'가 있을 때 이를 'Hello'로 변"
      ],
      "metadata": {
        "id": "oM6lz4tExlAv"
      }
    },
    {
      "cell_type": "code",
      "source": [
        "### 43. 문자열 'hello'가 있을 때 이를 'Hello'로 변경해보세요.\n",
        "word = 'hello'\n",
        "print(word.capitalize())"
      ],
      "metadata": {
        "id": "i9Yc_WElzzq8"
      },
      "execution_count": null,
      "outputs": []
    },
    {
      "cell_type": "markdown",
      "source": [
        "# 'xlsx'로 끝나는지 확인"
      ],
      "metadata": {
        "id": "AYyQ8DdlxqWA"
      }
    },
    {
      "cell_type": "code",
      "source": [
        "### 44. 파일 이름이 문자열로 저장되어 있을 때 \n",
        "# endswith 메서드를 사용해서 파일 이름이 'xlsx'로 끝나는지 확인해보세요.\n",
        "file_name = \"보고서.xlsx\"\n",
        "print(file_name.endswith('xlsx'))"
      ],
      "metadata": {
        "id": "PBLEf-_20DOK"
      },
      "execution_count": null,
      "outputs": []
    },
    {
      "cell_type": "markdown",
      "source": [
        "# 'xlsx' 또는 'xls'로 끝나는지 확인"
      ],
      "metadata": {
        "id": "VwRsJZN5xttN"
      }
    },
    {
      "cell_type": "code",
      "source": [
        "### 45. 추가로 파일 이름이 'xlsx' 또는 'xls'로 끝나는지 확인해보세요.\n",
        "file_name = \"보고서.xlsx\"\n",
        "print(file_name.endswith(('xlsx', 'xls')))"
      ],
      "metadata": {
        "id": "IK2t0-0w0VtX"
      },
      "execution_count": null,
      "outputs": []
    },
    {
      "cell_type": "markdown",
      "source": [
        "# '2020'로 시작하는지 확인"
      ],
      "metadata": {
        "id": "WAZsDwsIxx6j"
      }
    },
    {
      "cell_type": "code",
      "source": [
        "### 46. startswith 메서드를 사용해서 파일 이름이 '2020'로 시작하는지 확인해보세요.\n",
        "file_name = \"2020_보고서.xlsx\"\n",
        "print(file_name.startswith('2020'))"
      ],
      "metadata": {
        "id": "nHEgHpSZ0obF"
      },
      "execution_count": null,
      "outputs": []
    },
    {
      "cell_type": "code",
      "source": [
        "# 47. 다음과 같은 문자열이 있을 때 공백을 기준으로 문자열을 나눠보세요.\n",
        "a = \"hello world\"\n",
        "print(a.split())"
      ],
      "metadata": {
        "id": "EBTeXQiz0udP"
      },
      "execution_count": null,
      "outputs": []
    },
    {
      "cell_type": "code",
      "source": [
        "# 48. 다음과 같이 문자열이 있을 때 btc와 krw로 나눠보세요.\n",
        "ticker = \"btc_krw\"\n",
        "print(ticker.split('_'))"
      ],
      "metadata": {
        "id": "aXTvwDWE1sq4"
      },
      "execution_count": null,
      "outputs": []
    },
    {
      "cell_type": "code",
      "source": [
        "# 49. 다음과 같이 날짜를 표현하는 문자열이 있을 때 연도, 월, 일로 나눠보세요.\n",
        "date = \"2020-05-01\"\n",
        "print(date.split('-'))"
      ],
      "metadata": {
        "id": "kViwGDSU11VG"
      },
      "execution_count": null,
      "outputs": []
    },
    {
      "cell_type": "markdown",
      "source": [
        "# 문자열의 오른쪽에 공백이 있을 때 이를 제거"
      ],
      "metadata": {
        "id": "_xM3DBwlxzBE"
      }
    },
    {
      "cell_type": "code",
      "source": [
        "### 50. 문자열의 오른쪽에 공백이 있을 때 이를 제거해보세요.\n",
        "data = \"039490     \"\n",
        "print(data.rstrip())"
      ],
      "metadata": {
        "id": "vFDt219f2QdE"
      },
      "execution_count": null,
      "outputs": []
    },
    {
      "cell_type": "code",
      "source": [
        "# 51. 영화 제목을 movie_rank 이름의 리스트에 저장해보세요. \n",
        "movie_rank = ['닥터 스트레인지', '스플릿', '럭키']\n",
        "print(movie_rank)"
      ],
      "metadata": {
        "id": "-BBPYFmP2YAt"
      },
      "execution_count": null,
      "outputs": []
    },
    {
      "cell_type": "code",
      "source": [
        "# 52. 051의 movie_rank 리스트에 \"배트맨\"을 추가하라\n",
        "movie_rank.append('배트맨')\n",
        "print(movie_rank)"
      ],
      "metadata": {
        "id": "NZ6r9Z_A2qbJ"
      },
      "execution_count": null,
      "outputs": []
    },
    {
      "cell_type": "markdown",
      "source": [
        "# 슈퍼맨\"을 \"닥터 스트레인지\"와 \"스플릿\" 사이에 추가"
      ],
      "metadata": {
        "id": "zSp4J2RUx1GK"
      }
    },
    {
      "cell_type": "code",
      "source": [
        "### 53. 슈퍼맨\"을 \"닥터 스트레인지\"와 \"스플릿\" 사이에 추가하라.\n",
        "movie_rank.insert(1, '슈퍼맨')\n",
        "print(movie_rank)"
      ],
      "metadata": {
        "id": "JpGYOtUb3B_R"
      },
      "execution_count": null,
      "outputs": []
    },
    {
      "cell_type": "markdown",
      "source": [
        "# '럭키'를 삭제"
      ],
      "metadata": {
        "id": "edW23eQSyCNs"
      }
    },
    {
      "cell_type": "code",
      "source": [
        "### 54. movie_rank 리스트에서 '럭키'를 삭제\n",
        "del movie_rank[3]\n",
        "print(movie_rank)"
      ],
      "metadata": {
        "id": "3rAwl2Dvx7LN"
      },
      "execution_count": null,
      "outputs": []
    },
    {
      "cell_type": "code",
      "source": [
        "# 55. '스플릿' 과 '배트맨'을 를 삭제\n",
        "del movie_rank[2]\n",
        "del movie_rank[2]\n",
        "print(movie_rank)"
      ],
      "metadata": {
        "id": "4FPo0qFVyK3p"
      },
      "execution_count": null,
      "outputs": []
    },
    {
      "cell_type": "code",
      "source": [
        "# 56. lang1과 lang2 리스트가 있을 때 lang1과 lang2의 원소를 모두 갖고 있는 langs 리스트를 만들어라.\n",
        "lang1 = [\"C\", \"C++\", \"JAVA\"]\n",
        "lang2 = [\"Python\", \"Go\", \"C#\"]\n",
        "lang5 = lang1 + lang2\n",
        "print(lang5)"
      ],
      "metadata": {
        "id": "b4AnE6yVzNmO"
      },
      "execution_count": null,
      "outputs": []
    },
    {
      "cell_type": "markdown",
      "source": [
        "# 다음 리스트에서 최댓값과 최솟값을 출력"
      ],
      "metadata": {
        "id": "U0_sqv0T0BGZ"
      }
    },
    {
      "cell_type": "code",
      "source": [
        "### 57. 다음 리스트에서 최댓값과 최솟값을 출력하라.\n",
        "nums = [1, 2, 3, 4, 5, 6, 7]\n",
        "print(max(nums), min(nums))"
      ],
      "metadata": {
        "id": "Wmh_9QQCzYtE"
      },
      "execution_count": null,
      "outputs": []
    },
    {
      "cell_type": "code",
      "source": [
        "# 58. 다음 리스트의 합을 출력\n",
        "nums = [1, 2, 3, 4, 5]\n",
        "print(sum(nums))"
      ],
      "metadata": {
        "id": "U_afd4ClzvOL"
      },
      "execution_count": null,
      "outputs": []
    },
    {
      "cell_type": "code",
      "source": [
        "# 59. 다음 리스트에 저장된 데이터의 개수를 화면에 구하하라.\n",
        "cook = [\"피자\", \"김밥\", \"만두\", \"양념치킨\", \"족발\", \"피자\", \"김치만두\", \"쫄면\", \"소시지\", \"라면\", \"팥빙수\", \"김치전\"]\n",
        "print(len(cook))"
      ],
      "metadata": {
        "id": "oL5g8Ec_z6lE"
      },
      "execution_count": null,
      "outputs": []
    },
    {
      "cell_type": "code",
      "source": [
        "# 60. 다음 리스트의 평균을 출력\n",
        "nums = [1, 2, 3, 4, 5]\n",
        "print(sum(nums) / len(nums))"
      ],
      "metadata": {
        "id": "UyC2CvZ20OHc"
      },
      "execution_count": null,
      "outputs": []
    },
    {
      "cell_type": "code",
      "source": [
        "# 61. 날짜 정보를 제외하고 가격 정보만을 출력하라.\n",
        "price = ['20180728', 100, 130, 140, 150, 160, 170]\n",
        "print(price[1:])"
      ],
      "metadata": {
        "id": "4NPVuFOv0eET"
      },
      "execution_count": null,
      "outputs": []
    },
    {
      "cell_type": "code",
      "source": [
        "# 62. 슬라이싱을 사용해서 홀수만 출력\n",
        "nums = [1, 2, 3, 4, 5, 6, 7, 8, 9, 10]\n",
        "print(nums[::2])"
      ],
      "metadata": {
        "id": "mp1LJSagJAlf"
      },
      "execution_count": null,
      "outputs": []
    },
    {
      "cell_type": "code",
      "source": [
        "# 63. 슬라이싱을 사용해서 짝수만 출력하라.\n",
        "nums = [1, 2, 3, 4, 5, 6, 7, 8, 9, 10]\n",
        "print(nums[1::2])"
      ],
      "metadata": {
        "id": "KUaAbztzTHEO"
      },
      "execution_count": null,
      "outputs": []
    },
    {
      "cell_type": "code",
      "source": [
        "# 64. 슬라이싱을 사용해서 리스트의 숫자를 역 방향으로 출력하라.\n",
        "nums = [1, 2, 3, 4, 5]\n",
        "print(nums[::-1])"
      ],
      "metadata": {
        "id": "eZzIipqYTN7Q"
      },
      "execution_count": null,
      "outputs": []
    },
    {
      "cell_type": "code",
      "source": [
        "# 65. interest 리스트를 사용하여 아래와 같이 화면에 출력하라.\n",
        "interest = ['삼성전자', 'LG전자', 'Naver']\n",
        "print(interest[0], interest[2])"
      ],
      "metadata": {
        "id": "YvPjFpgeTZg6"
      },
      "execution_count": null,
      "outputs": []
    },
    {
      "cell_type": "markdown",
      "source": [
        "# Join 활용"
      ],
      "metadata": {
        "id": "ogCwvbC5USZk"
      }
    },
    {
      "cell_type": "code",
      "source": [
        "# 66. interest 리스트를 사용하여 아래와 같이 화면에 출력하라.\n",
        "interest = ['삼성전자', 'LG전자', 'Naver', 'SK하이닉스', '미래에셋대우']\n",
        "print(' '.join(interest))"
      ],
      "metadata": {
        "id": "gjnr65OkT6Tz"
      },
      "execution_count": null,
      "outputs": []
    },
    {
      "cell_type": "code",
      "source": [
        "# 67. interest 리스트를 사용하여 아래와 같이 화면에 출력하라.\n",
        "interest = ['삼성전자', 'LG전자', 'Naver', 'SK하이닉스', '미래에셋대우']\n",
        "print('/'.join(interest))"
      ],
      "metadata": {
        "id": "7kg7E2FzUG0r"
      },
      "execution_count": null,
      "outputs": []
    },
    {
      "cell_type": "code",
      "source": [
        "# 68. interest 리스트를 사용하여 아래와 같이 화면에 출력하라.\n",
        "interest = ['삼성전자', 'LG전자', 'Naver', 'SK하이닉스', '미래에셋대우']\n",
        "print('\\n'.join(interest))"
      ],
      "metadata": {
        "id": "fHT1hsqoUvL3"
      },
      "execution_count": null,
      "outputs": []
    },
    {
      "cell_type": "code",
      "source": [
        "# 69. 이를 interest 이름의 리스트로 분리 저장하라.\n",
        "string = \"삼성전자/LG전자/Naver\"\n",
        "print(string.split('/'))"
      ],
      "metadata": {
        "id": "czDsv0LWU1qf"
      },
      "execution_count": null,
      "outputs": []
    },
    {
      "cell_type": "code",
      "source": [
        "# 70. 리스트에 있는 값을 오름차순으로 정렬하세요\n",
        "data = [2, 4, 3, 1, 5, 10, 9]\n",
        "data.sort()\n",
        "print(data)"
      ],
      "metadata": {
        "id": "Bt_BbfXFVDnl"
      },
      "execution_count": null,
      "outputs": []
    },
    {
      "cell_type": "code",
      "source": [
        "# 71. my_variable 이름의 비어있는 튜플을 만들라.\n",
        "my_variable = ()\n",
        "print(my_variable)"
      ],
      "metadata": {
        "id": "1MjBrkp2VWy6"
      },
      "execution_count": null,
      "outputs": []
    },
    {
      "cell_type": "code",
      "source": [
        "# 72. 영화 제목을 movie_rank 이름의 튜플에 저장\n",
        "# 1. 닥터 스트레인지 \n",
        "# 2. 스플릿\n",
        "# 3. 럭키\n",
        "tuple_rank = ('닥터 스트레인지', '스플릿', '럭키')\n",
        "print(tuple_rank)"
      ],
      "metadata": {
        "id": "j1UpGAIwv0Ke"
      },
      "execution_count": null,
      "outputs": []
    },
    {
      "cell_type": "code",
      "source": [
        "# 73. 숫자 1 이 저장된 튜플을 생성\n",
        "tuple_num = (1)\n",
        "print(tuple_num)"
      ],
      "metadata": {
        "id": "Go74cQwOwTy5"
      },
      "execution_count": null,
      "outputs": []
    },
    {
      "cell_type": "code",
      "source": [
        "# 74. 다음 코드를 실행해보고 오류가 발생하는 원인\n",
        "# t = (1, 2, 3)\n",
        "# t[0] = 'a'\n",
        "# 튜플은 원소의 값을 변경하지 못한다."
      ],
      "metadata": {
        "id": "dwavgycmw0Ix"
      },
      "execution_count": null,
      "outputs": []
    },
    {
      "cell_type": "code",
      "source": [
        "# 75. 아래와 같이 t에는 1, 2, 3, 4 데이터가 바인딩되어 있다. t가 바인딩하는 데이터 타입\n",
        "t = 1, 2, 3, 4\n",
        "type(t)"
      ],
      "metadata": {
        "id": "3T8BqrZmxBfk"
      },
      "execution_count": null,
      "outputs": []
    },
    {
      "cell_type": "code",
      "source": [
        "# 76. 변수 t에는 아래와 같은 값이 저장되어 있다. \n",
        "# 변수 t가 ('A', 'b', 'c') 튜플을 가리키도록 수정 하라.\n",
        "t = ('a', 'b', 'c')\n",
        "# 불가능"
      ],
      "metadata": {
        "id": "iX5ji8JBxaZ5"
      },
      "execution_count": null,
      "outputs": []
    },
    {
      "cell_type": "code",
      "source": [
        "# 77. 튜플을 리스트로 변환\n",
        "interest = ('삼성전자', 'LG전자', 'SK Hynix')\n",
        "interest = list(interest)\n",
        "print(interest)"
      ],
      "metadata": {
        "id": "1QawsSOKx1by"
      },
      "execution_count": null,
      "outputs": []
    },
    {
      "cell_type": "code",
      "source": [
        "# 78. 다음 리스트를 튜플로 변경하라\n",
        "interest = ['삼성전자', 'LG전자', 'SK Hynix']\n",
        "interest = tuple(interest)\n",
        "print(interest)"
      ],
      "metadata": {
        "id": "Z43YIXaRx-iN"
      },
      "execution_count": null,
      "outputs": []
    },
    {
      "cell_type": "code",
      "source": [
        "# 79. 다음 코드의 실행 결과를 예상\n",
        "temp = ('apple', 'banana', 'cake')\n",
        "a, b, c = temp\n",
        "print(a, b, c)"
      ],
      "metadata": {
        "id": "PKNaEpbby5dH"
      },
      "execution_count": null,
      "outputs": []
    },
    {
      "cell_type": "markdown",
      "source": [
        "# range 참조"
      ],
      "metadata": {
        "id": "WaMkcN8Ezadu"
      }
    },
    {
      "cell_type": "code",
      "source": [
        "### 80. 1 부터 99까지의 정수 중 짝수만 저장된 튜플을 생성\n",
        "num = tuple(range(2, 100, 2))\n",
        "print(num)"
      ],
      "metadata": {
        "id": "fW_S3_ypzBhT"
      },
      "execution_count": null,
      "outputs": []
    },
    {
      "cell_type": "code",
      "source": [
        "# 81. 10개의 값이 저장된 scores 리스트가 있을 때, \n",
        "# start expression을 사용하여 좌측 8개의 값을 valid_score 변수에 바인딩하여라.\n",
        "scores = [8.8, 8.9, 8.7, 9.2, 9.3, 9.7, 9.9, 9.5, 7.8, 9.4]\n",
        "*a, _, _ = scores\n",
        "print(a)"
      ],
      "metadata": {
        "id": "UWx3oHB4zcXS"
      },
      "execution_count": null,
      "outputs": []
    },
    {
      "cell_type": "code",
      "source": [
        "# 82. 다음과 같이 10개의 값이 저장된 scores 리스트가 있을 때, start expression을 사용하여 우측 8개의 값을 valid_score 변수에 바인딩하여라.\n",
        "scores = [8.8, 8.9, 8.7, 9.2, 9.3, 9.7, 9.9, 9.5, 7.8, 9.4]\n",
        "_, _, *c = scores\n",
        "print(c)"
      ],
      "metadata": {
        "id": "yCJjBB2ZZhJK"
      },
      "execution_count": null,
      "outputs": []
    },
    {
      "cell_type": "code",
      "source": [
        "# 83. start expression을 사용하여 가운데 있는 8개의 값을 valid_score 변수에 바인딩하여라.\n",
        "scores = [8.8, 8.9, 8.7, 9.2, 9.3, 9.7, 9.9, 9.5, 7.8, 9.4]\n",
        "_, *b, _ = scores\n",
        "print(b)"
      ],
      "metadata": {
        "id": "UPYzrXTUabso"
      },
      "execution_count": null,
      "outputs": []
    },
    {
      "cell_type": "code",
      "source": [
        "# 84. temp 이름의 비어있는 딕셔너리를 만들라.\n",
        "temp = {}"
      ],
      "metadata": {
        "id": "n8O9A8r2anaW"
      },
      "execution_count": null,
      "outputs": []
    },
    {
      "cell_type": "code",
      "source": [
        "# 85. 다음 아이스크림 이름과 희망 가격을 딕셔너리로 구성\n",
        "dic = {'메로나':1000, '폴라포':1200, '빵빠레':1800}\n",
        "print(dic)"
      ],
      "metadata": {
        "id": "zlqoKw88bAEr"
      },
      "execution_count": null,
      "outputs": []
    },
    {
      "cell_type": "markdown",
      "source": [
        "# 딕셔너리 추가"
      ],
      "metadata": {
        "id": "ajsVJGn5bs4b"
      }
    },
    {
      "cell_type": "code",
      "source": [
        "### 86. 85 번의 딕셔너리에 아래 아이스크림 가격정보를 추가\n",
        "dic['죠스바'] = 1200\n",
        "dic['월드콘'] = 1500\n",
        "print(dic)"
      ],
      "metadata": {
        "id": "J0adGQjMbkqK"
      },
      "execution_count": null,
      "outputs": []
    },
    {
      "cell_type": "code",
      "source": [
        "# 87. 다음 딕셔너리를 사용하여 메로나 가격을 출력\n",
        "ice = {'메로나': 1000,\n",
        "       '폴로포': 1200,\n",
        "       '빵빠레': 1800,\n",
        "       '죠스바': 1200,\n",
        "       '월드콘': 1500}\n",
        "\n",
        "print(ice['메로나'])"
      ],
      "metadata": {
        "id": "uDD1RwjVb2dV"
      },
      "execution_count": null,
      "outputs": []
    },
    {
      "cell_type": "code",
      "source": [
        "# 88. 다음 딕셔너리에서 메로나의 가격을 1300으로 수정\n",
        "ice = {'메로나': 1000,\n",
        "       '폴로포': 1200,\n",
        "       '빵빠레': 1800,\n",
        "       '죠스바': 1200,\n",
        "       '월드콘': 1500}\n",
        "\n",
        "ice['메로나'] = 1300\n",
        "print(ice)"
      ],
      "metadata": {
        "id": "tR7i2-KwcFyf"
      },
      "execution_count": null,
      "outputs": []
    },
    {
      "cell_type": "code",
      "source": [
        "# 89. 다음 딕셔너리에서 메로나를 삭제\n",
        "ice = {'메로나': 1000,\n",
        "       '폴로포': 1200,\n",
        "       '빵빠레': 1800,\n",
        "       '죠스바': 1200,\n",
        "       '월드콘': 1500}\n",
        "\n",
        "del ice['메로나']\n",
        "print(ice)"
      ],
      "metadata": {
        "id": "PX6KJ6ttcrCX"
      },
      "execution_count": null,
      "outputs": []
    },
    {
      "cell_type": "code",
      "source": [
        "# 90. 에러가 발생한 원인은?\n",
        "icecream = {'폴라포': 1200, '빵빠레': 1800, '월드콘': 1500, '메로나': 1000}\n",
        "icecream['누가바']\n",
        "# 딕셔너리에 없는 키를 사용해서 인덱싱하면 에러가 발생"
      ],
      "metadata": {
        "id": "CfcPH_y9dOaq"
      },
      "execution_count": null,
      "outputs": []
    },
    {
      "cell_type": "code",
      "source": [
        "# 91. 아이스크림 이름을 키값으로, (가격, 재고) 리스트를 딕셔너리의 값으로 저장, 딕셔너리의 이름은 inventory\n",
        "inventory = {'메로나':[300, 20],'비비빅':[400, 3], '죠스바':[250, 100]}\n",
        "print(inventory)"
      ],
      "metadata": {
        "id": "0aWWfRkHd3Qp"
      },
      "execution_count": null,
      "outputs": []
    },
    {
      "cell_type": "code",
      "source": [
        "# 92. inventory 딕셔너리에서 메로나의 가격을 화면에 출력\n",
        "print(inventory['메로나'][0])"
      ],
      "metadata": {
        "id": "_wCygmP9ei-t"
      },
      "execution_count": null,
      "outputs": []
    },
    {
      "cell_type": "code",
      "source": [
        "# 93. inventory 딕셔너리에서 메로나의 재고를 화면에 출력\n",
        "print(inventory['메로나'][1])"
      ],
      "metadata": {
        "id": "KaS39UTEev5H"
      },
      "execution_count": null,
      "outputs": []
    },
    {
      "cell_type": "code",
      "source": [
        "# 94. inventory 딕셔너리에 아래 데이터를 추가\n",
        "inventory = {\"메로나\": [300, 20],\n",
        "              \"비비빅\": [400, 3],\n",
        "              \"죠스바\": [250, 100]}\n",
        "\n",
        "inventory['월드콘'] = [500, 7]\n",
        "print(inventory)"
      ],
      "metadata": {
        "id": "q5Ivhqjde1tK"
      },
      "execution_count": null,
      "outputs": []
    },
    {
      "cell_type": "code",
      "source": [
        "# 95. 다음의 딕셔너리로부터 key 값으로만 구성된 리스트를 생성\n",
        "icecream = {'탱크보이': 1200, '폴라포': 1200, '빵빠레': 1800, '월드콘': 1500, '메로나': 1000}\n",
        "print(list(icecream.keys()))"
      ],
      "metadata": {
        "id": "zRQnzmQzfCSc"
      },
      "execution_count": null,
      "outputs": []
    },
    {
      "cell_type": "code",
      "source": [
        "# 96. 다음의 딕셔너리에서 values 값으로만 구성된 리스트를 생성\n",
        "icecream = {'탱크보이': 1200, '폴라포': 1200, '빵빠레': 1800, '월드콘': 1500, '메로나': 1000}\n",
        "print(list(icecream.values()))"
      ],
      "metadata": {
        "id": "25RnjZJ8fiXn"
      },
      "execution_count": null,
      "outputs": []
    },
    {
      "cell_type": "code",
      "source": [
        "# 97. icecream 딕셔너리에서 아이스크림 판매 금액의 총합을 출력\n",
        "icecream = {'탱크보이': 1200, '폴라포': 1200, '빵빠레': 1800, '월드콘': 1500, '메로나': 1000}\n",
        "print(sum(icecream.values()))"
      ],
      "metadata": {
        "id": "lqVJWllMfpLf"
      },
      "execution_count": null,
      "outputs": []
    },
    {
      "cell_type": "markdown",
      "source": [
        "# 딕셔너리 업데이트"
      ],
      "metadata": {
        "id": "mMjJYTDTgZms"
      }
    },
    {
      "cell_type": "code",
      "source": [
        "### 98. 아래의 new_product 딕셔너리를 다음 icecream 딕셔너리에 추가\n",
        "icecream = {'탱크보이': 1200, '폴라포': 1200, '빵빠레': 1800, '월드콘': 1500, '메로나': 1000}\n",
        "new_product = {'팥빙수':2700, '아맛나':1000}\n",
        "\n",
        "icecream.update(new_product)\n",
        "print(icecream)"
      ],
      "metadata": {
        "id": "ReIMrPkogLwQ"
      },
      "execution_count": null,
      "outputs": []
    },
    {
      "cell_type": "code",
      "source": [
        "# 99. 두 개의 튜플을 하나의 딕셔너리로 변환하라. keys를 키로, vals를 값으로 result 이름의 딕셔너리로 저장\n",
        "keys = (\"apple\", \"pear\", \"peach\")\n",
        "vals = (300, 250, 400)\n",
        "dic = dict(zip(keys, vals))\n",
        "print(dic)"
      ],
      "metadata": {
        "id": "1eDI-ly6gzCt"
      },
      "execution_count": null,
      "outputs": []
    },
    {
      "cell_type": "code",
      "source": [
        "# 100. date와 close_price 두 개의 리스트를 close_table 이름의 딕셔너리로 생성\n",
        "date = ['09/05', '09/06', '09/07', '09/08', '09/09']\n",
        "close_price = [10500, 10300, 10100, 10800, 11000]\n",
        "close_price = dict(zip(date, close_price))\n",
        "print(close_price)"
      ],
      "metadata": {
        "id": "3M_KF6NXhFyQ"
      },
      "execution_count": null,
      "outputs": []
    },
    {
      "cell_type": "code",
      "source": [
        "# 101. 파이썬에서 True 혹은 False를 갖는 데이터 타입\n",
        "# bool"
      ],
      "metadata": {
        "id": "Q12AZnshhTi0"
      },
      "execution_count": null,
      "outputs": []
    },
    {
      "cell_type": "code",
      "source": [
        "# 102. 아래 코드의 출력 결과를 예상\n",
        "print(3 == 5)"
      ],
      "metadata": {
        "id": "ms2o2-84huqw"
      },
      "execution_count": null,
      "outputs": []
    },
    {
      "cell_type": "code",
      "source": [
        "# 103. 아래 코드의 출력 결과를 예상하라\n",
        "print(3 < 5)"
      ],
      "metadata": {
        "id": "J0_icBkOeMIn"
      },
      "execution_count": null,
      "outputs": []
    },
    {
      "cell_type": "code",
      "source": [
        "# 104. 아래 코드의 결과를 예상하라.\n",
        "x = 4\n",
        "print(1 < x < 5)"
      ],
      "metadata": {
        "id": "hbk7Koa1eQFT"
      },
      "execution_count": null,
      "outputs": []
    },
    {
      "cell_type": "code",
      "source": [
        "# 105. 아래 코드의 결과를 예상하라.\n",
        "print ((3 == 3) and (4 != 3))"
      ],
      "metadata": {
        "id": "z2T91c-leV88"
      },
      "execution_count": null,
      "outputs": []
    },
    {
      "cell_type": "code",
      "source": [
        "# 106. 아래 코드에서 에러가 발생하는 원인에 대해 설명\n",
        "# print(3 => 4)\n",
        "# 지원하지 않는 연산자"
      ],
      "metadata": {
        "id": "5b7JIpWLeb8U"
      },
      "execution_count": null,
      "outputs": []
    },
    {
      "cell_type": "code",
      "source": [
        "# 107. 아래 코드의 출력 결과를 예상\n",
        "if 4 < 3:\n",
        "    print(\"Hello World\")"
      ],
      "metadata": {
        "id": "dpEsY3IDejma"
      },
      "execution_count": null,
      "outputs": []
    },
    {
      "cell_type": "code",
      "source": [
        "# 108. 아래 코드의 출력 결과를 예상\n",
        "if 4 < 3:\n",
        "    print(\"Hello World.\")\n",
        "else:\n",
        "    print(\"Hi, there.\")"
      ],
      "metadata": {
        "id": "xK2xNRzjep_u"
      },
      "execution_count": null,
      "outputs": []
    },
    {
      "cell_type": "code",
      "source": [
        "# 109. 아래 코드의 출력 결과를 예상\n",
        "if True :\n",
        "    print (\"1\")\n",
        "    print (\"2\")\n",
        "else :\n",
        "    print(\"3\")\n",
        "print(\"4\")"
      ],
      "metadata": {
        "id": "kf1945FUessx"
      },
      "execution_count": null,
      "outputs": []
    },
    {
      "cell_type": "code",
      "source": [
        "# 110. 아래 코드의 출력 결과를 예상\n",
        "if True :\n",
        "    if False:\n",
        "        print(\"1\")\n",
        "        print(\"2\")\n",
        "    else:\n",
        "        print(\"3\")\n",
        "else :\n",
        "    print(\"4\")\n",
        "print(\"5\")"
      ],
      "metadata": {
        "id": "xYva39lAe8HW"
      },
      "execution_count": null,
      "outputs": []
    },
    {
      "cell_type": "code",
      "source": [
        "# 111. 사용자로부터 입력받은 문자열을 두 번 출력\n",
        "input_ = input()\n",
        "print(input_ * 2)"
      ],
      "metadata": {
        "id": "QWrF-iFAfCld"
      },
      "execution_count": null,
      "outputs": []
    },
    {
      "cell_type": "code",
      "source": [
        "# 112. 사용자로부터 하나의 숫자를 입력받고, 입력 받은 숫자에 10을 더해 출력\n",
        "input_ = int(input())\n",
        "print(input_ + 10)"
      ],
      "metadata": {
        "id": "N9GOvMJRfS5c"
      },
      "execution_count": null,
      "outputs": []
    },
    {
      "cell_type": "code",
      "source": [
        "# 113. 사용자로부터 하나의 숫자를 입력 받고 짝수/홀수를 판별\n",
        "input_ = int(input())\n",
        "if input_ % 2 == 0:\n",
        "  print('짝수')\n",
        "else:\n",
        "  print('홀수')"
      ],
      "metadata": {
        "id": "1LKlVtmt4c0H"
      },
      "execution_count": null,
      "outputs": []
    },
    {
      "cell_type": "code",
      "source": [
        "# 114. 용자로부터 값을 입력받은 후 해당 값에 20을 더한 값을 출력\n",
        "# 사용자가 입력한 값과 20을 더한 계산 값이 255를 초과하는 경우 255를 출력\n",
        "input_ = int(input())\n",
        "input_add = input_ + 20\n",
        "if input_add > 255:\n",
        "  print(255)\n",
        "else:\n",
        "  print(input_add)"
      ],
      "metadata": {
        "id": "HbaUCrzB52jn"
      },
      "execution_count": null,
      "outputs": []
    },
    {
      "cell_type": "code",
      "source": [
        "# 115. 하나의 값을 입력받은 후 해당 값에 20을 뺀 값을 출력, 출력 값의 범위는 0~255\n",
        "# 결괏값이 0보다 작은 값이되는 경우 0을 출력하고 255보다 큰 값이 되는 경우 255를 출력\n",
        "input_ = int(input())\n",
        "input_minus = input_ - 20\n",
        "if input_minus < 0:\n",
        "  print(0)\n",
        "elif input_minus > 255:\n",
        "  print(255)\n",
        "else:\n",
        "  print(input_minus)\n"
      ],
      "metadata": {
        "id": "L4lRJtad6sD-"
      },
      "execution_count": null,
      "outputs": []
    },
    {
      "cell_type": "code",
      "source": [
        "# 116. 사용자로부터 입력 받은 시간이 정각인지 판별\n",
        "time = input(\"현재시간: \")\n",
        "if time[-2:] == \"00\":\n",
        "    print(\"정각 입니다.\")\n",
        "else:\n",
        "    print(\"정각이 아닙니다.\")"
      ],
      "metadata": {
        "id": "uMwnuh0J8FMo"
      },
      "execution_count": null,
      "outputs": []
    },
    {
      "cell_type": "code",
      "source": [
        "# 117. 사용자로 입력받은 단어가 아래 fruit 리스트에 포함되어 있는지를 확인\n",
        "fruit = [\"사과\", \"포도\", \"홍시\"]\n",
        "word = input()\n",
        "if word in fruit:\n",
        "  print('정답')\n",
        "else:\n",
        "  print('오답')"
      ],
      "metadata": {
        "id": "Sh1oG6kY-jwo"
      },
      "execution_count": null,
      "outputs": []
    },
    {
      "cell_type": "code",
      "source": [
        "# 118. 투자 경고 종목 리스트가 있을 때 사용자로부터 종목명을 입력 받은 후 해당 종목이 \n",
        "# 투자 경고 종목이라면 '투자 경고 종목입니다'를 아니면 \"투자 경고 종목이 아닙니다.\"를 출력\n",
        "warn_investment_list = [\"Microsoft\", \"Google\", \"Naver\", \"Kakao\", \"SAMSUNG\", \"LG\"]\n",
        "word = input()\n",
        "if word in warn_investment_list:\n",
        "  print('투자 경고')\n",
        "else:\n",
        "  print('투자 경고 X')"
      ],
      "metadata": {
        "id": "QcrP2oR2_HMc"
      },
      "execution_count": null,
      "outputs": []
    },
    {
      "cell_type": "code",
      "source": [
        "# 119. 아래와 같이 fruit 딕셔너리가 정의되어 있다. \n",
        "# 사용자가 입력한 값이 딕셔너리 키 (key) 값에 포함되었다면 \"정답입니다\"를 아닐 경우 \"오답\n",
        "fruit = {\"봄\" : \"딸기\", \"여름\" : \"토마토\", \"가을\" : \"사과\"}\n",
        "word = input()\n",
        "if word in fruit.keys():\n",
        "  print('정답')\n",
        "else:\n",
        "  print('오답')"
      ],
      "metadata": {
        "id": "0Ks2ZtgtANQP"
      },
      "execution_count": null,
      "outputs": []
    },
    {
      "cell_type": "code",
      "source": [
        "# 120. 아래와 같이 fruit 딕셔너리가 정의되어 있다. \n",
        "# 사용자가 입력한 값이 딕셔너리 키 (value) 에 포함되었다면 \"정답입니다\"를 아닐 경우 \"오답\n",
        "fruit = {\"봄\" : \"딸기\", \"여름\" : \"토마토\", \"가을\" : \"사과\"}\n",
        "word = input()\n",
        "if word in fruit.values():\n",
        "  print('정답')\n",
        "else:\n",
        "  print('오답')"
      ],
      "metadata": {
        "id": "rz_A247xA6-J"
      },
      "execution_count": null,
      "outputs": []
    },
    {
      "cell_type": "code",
      "source": [
        "# 121. 사용자로부터 문자 한 개를 입력 받고, 소문자일 경우 대문자로, 대문자 일 경우, 소문자로 변경해서 출력.\n",
        "word = input()\n",
        "if word.islower():\n",
        "  print(word.upper())\n",
        "else:\n",
        "  print(word.lower())"
      ],
      "metadata": {
        "id": "R5vOeZdFBGiw"
      },
      "execution_count": null,
      "outputs": []
    },
    {
      "cell_type": "code",
      "source": [
        "# 122. 사용자로부터 score를 입력받아 학점을 출력\n",
        "score = int(input())\n",
        "if score > 80:\n",
        "  print('A')\n",
        "elif score > 60:\n",
        "  print('B')\n",
        "elif score > 40:\n",
        "  print('C')\n",
        "elif score > 20:\n",
        "  print('D')\n",
        "else:\n",
        "  print('E')    "
      ],
      "metadata": {
        "id": "JDT-LjCqI7Zf"
      },
      "execution_count": null,
      "outputs": []
    },
    {
      "cell_type": "code",
      "source": [
        "# 123. 달러, 엔, 유로, 또는 위안 금액을 입력받은 후 이를 원으로 변환하는 프로그램을 작성\n",
        "change = {'달러':1167,\n",
        "         '엔':1.096,\n",
        "         '유로':1268,\n",
        "         '위안':171}\n",
        "num, money = input().split()\n",
        "print(float(num) * change[money], '원')"
      ],
      "metadata": {
        "id": "QWa5pb6MJUOB"
      },
      "execution_count": null,
      "outputs": []
    },
    {
      "cell_type": "code",
      "source": [
        "# 124. 사용자로부터 세 개의 숫자를 입력 받은 후 가장 큰 숫자를 출력\n",
        "a, b, c = map(int, input().split())\n",
        "if a > b and a > c:\n",
        "  num = a\n",
        "elif b > a and b > c:\n",
        "  num = b\n",
        "else:\n",
        "  num = c\n",
        "print(num)"
      ],
      "metadata": {
        "id": "l_aPSedrFAFX"
      },
      "execution_count": null,
      "outputs": []
    },
    {
      "cell_type": "code",
      "source": [
        "# 125. 사용자로부터 휴대전화 번호를 입력 받고, 통신사를 출력하는 프로그램을 작성\n",
        "# number = 011-345-1922\n",
        "tel = {'011':'SKT',\n",
        "       '016':'KT',\n",
        "       '019':'LGU',\n",
        "       '010': '알수없음'}\n",
        "number = input()\n",
        "num = number.split('-')[0]\n",
        "tel[num]"
      ],
      "metadata": {
        "id": "zsJvtbuBTHvT"
      },
      "execution_count": null,
      "outputs": []
    },
    {
      "cell_type": "code",
      "source": [
        "# 126. 사용자로 부터 5자리 우편번호를 입력받고 구를 판별\n",
        "# 우편번호: 01400\n",
        "mail_num_dic = {'0':'강북구',\n",
        "            '1':'강북구',\n",
        "            '2':'강북구',\n",
        "            '3':'도봉구',\n",
        "            '4':'도봉구',\n",
        "            '5':'도봉구',\n",
        "            '6':'노원구',\n",
        "            '7':'노원구',\n",
        "            '8':'노원구',\n",
        "            '9':'노원구'}\n",
        "mail_num = input()\n",
        "mail_num_dic[mail_num[2]]\n"
      ],
      "metadata": {
        "id": "tbpq4ct-gdHj"
      },
      "execution_count": null,
      "outputs": []
    },
    {
      "cell_type": "code",
      "source": [
        "# 127. 주민등록번호 뒷 자리 7자리 중 첫째 자리는 성별을 나타내는데, 1, 3은 남자 2, 4는 여자를 의미한다. \n",
        "# 사용자로부터 13자리의 주민등록번호를 입력 받은 후 성별 (남자, 여자)를 출력하는 프로그램을 작성하라.\n",
        "# 주민등록번호: 821010-1635210\n",
        "gender_num = input()\n",
        "if int(gender_num[7]) == 1 or int(gender_num[7]) == 3:\n",
        "  print('남자')\n",
        "else:\n",
        "  print('여자')"
      ],
      "metadata": {
        "id": "UZeRKzHCjsEE"
      },
      "execution_count": null,
      "outputs": []
    },
    {
      "cell_type": "code",
      "source": [
        "# 128. 주민등록번호의 뒷 자리 7자리 중 두번째와 세번째는 지역코드를 의미한다. \n",
        "# 주민 등록 번호를 입력 받은 후 출생지가 서울인지 아닌지 판단하는 코드를 작성하라\n",
        "# 주민등록번호: 821010-1635210\n",
        "num = input()\n",
        "num_a = num.split('-')[1][1:3]\n",
        "if int(num_a) < 8:\n",
        "  print('서울')\n",
        "else:\n",
        "  print('부산')"
      ],
      "metadata": {
        "id": "qQI0Jw_6mnQD"
      },
      "execution_count": null,
      "outputs": []
    },
    {
      "cell_type": "code",
      "source": [
        "# 129. 주민등록번호 먼저 앞에서부터 12자리의 숫자에 2, 3, 4, 5, 6, 7, 8, 9, 2, 3, 4, 5를 차례로 곱한 뒤 그 값을 전부 더한다\n",
        "# 산 결과 값을 11로 나누면 나머지가 나오는데 11에서 나머지를 뺀 값이 주민등록번호의 마지막 번호\n",
        "# 주민등록번호: 821010-1635210\n",
        "# num = input()\n",
        "## 노가다.. 추 후 풀이"
      ],
      "metadata": {
        "id": "206g1ZG3bdSY"
      },
      "execution_count": null,
      "outputs": []
    },
    {
      "cell_type": "code",
      "source": [
        "# 130. btc 딕셔너리 안에는 시가, 종가, 최고가, 최저가 등이 저장되어 있다. 최고가와 최저가의 차이를 변동폭으로 정의할 때 \n",
        "# (시가 + 변동폭)이 최고가 보다 높을 경우 \"상승장\", 그렇지 않은 경우 \"하락장\" 문자열을 출력하라.\n",
        "import requests\n",
        "btc = requests.get(\"https://api.bithumb.com/public/ticker/\").json()['data']\n",
        "if int(btc['opening_price']) + (int(btc['max_price']) - int(btc['min_price'])) > int(btc['max_price']):\n",
        "  print('상승장')\n",
        "else:\n",
        "  print('하락장')"
      ],
      "metadata": {
        "id": "lvcu86sbcZxw"
      },
      "execution_count": null,
      "outputs": []
    },
    {
      "cell_type": "code",
      "source": [
        "# 131. for문의 실행결과를 예측하라.\n",
        "과일 = [\"사과\", \"귤\", \"수박\"]\n",
        "for 변수 in 과일:\n",
        "    print(변수) "
      ],
      "metadata": {
        "id": "N0vcRFXWfaK0"
      },
      "execution_count": null,
      "outputs": []
    },
    {
      "cell_type": "code",
      "source": [
        "# 132. for문의 실행결과를 예측하라.\n",
        "과일 = [\"사과\", \"귤\", \"수박\"]\n",
        "for 변수 in 과일:\n",
        "  print(\"#####\")"
      ],
      "metadata": {
        "id": "Sx0RK0qrffaZ"
      },
      "execution_count": null,
      "outputs": []
    },
    {
      "cell_type": "code",
      "source": [
        "# 133. 다음 for 문과 동일한 기능을 수행하는 코드를 작성\n",
        "# for 변수 in [\"A\", \"B\", \"C\"]:\n",
        "#   print(변수)\n",
        "A = 'A'\n",
        "B = 'B'\n",
        "C = 'C'\n",
        "print(A, B, C, sep='\\n')"
      ],
      "metadata": {
        "id": "aPR6l23fl5FP"
      },
      "execution_count": null,
      "outputs": []
    },
    {
      "cell_type": "code",
      "source": [
        "# 134. for문을 풀어서 동일한 동작을하는 코드를 작성하라.\n",
        "# for 변수 in [\"A\", \"B\", \"C\"]:\n",
        "#   print(\"출력:\", 변수)\n",
        "A = 'A'\n",
        "B = 'B'\n",
        "C = 'C'\n",
        "print(\"출력:\"+A, \"출력:\"+B, \"출력:\"+C, sep='\\n')"
      ],
      "metadata": {
        "id": "OaECTv3-n1_M"
      },
      "execution_count": null,
      "outputs": []
    },
    {
      "cell_type": "code",
      "source": [
        "# 135. for문을 풀어서 동일한 동작을 하는 코드를 작성하라.\n",
        "# for 변수 in [\"A\", \"B\", \"C\"]:\n",
        "#   b = 변수.lower()\n",
        "#   print(\"변환:\", b)\n",
        "A = 'A'\n",
        "B = 'B'\n",
        "C = 'C'\n",
        "print(\"출력:\"+A.lower(), \"출력:\"+B.lower(), \"출력:\"+C.lower(), sep='\\n')"
      ],
      "metadata": {
        "id": "MXEyljKAoKip"
      },
      "execution_count": null,
      "outputs": []
    },
    {
      "cell_type": "code",
      "source": [
        "# 136. 다음 코드를 for문으로 작성하라.\n",
        "# 변수 = 10\n",
        "# print(변수)\n",
        "# 변수 = 20\n",
        "# print(변수)\n",
        "# 변수 = 30\n",
        "# print(변수)\n",
        "for i in [10, 20, 30]:\n",
        "  print(i)"
      ],
      "metadata": {
        "id": "fzcVTDCXohAr"
      },
      "execution_count": null,
      "outputs": []
    },
    {
      "cell_type": "code",
      "source": [
        "# 137. 다음 코드를 for문으로 작성하라.\n",
        "# print(10)\n",
        "# print(20)\n",
        "# print(30)\n",
        "for i in [10, 20, 30]:\n",
        "  print(i)"
      ],
      "metadata": {
        "id": "bUTpLSXlpCEy"
      },
      "execution_count": null,
      "outputs": []
    },
    {
      "cell_type": "code",
      "source": [
        "# 138. 다음 코드를 for문으로 작성하라.\n",
        "# print(10)\n",
        "# print(\"-------\")\n",
        "# print(20)\n",
        "# print(\"-------\")\n",
        "# print(30)\n",
        "# print(\"-------\")\n",
        "for i in [10, 20, 30]:\n",
        "  print(i)\n",
        "  print(\"-------\")"
      ],
      "metadata": {
        "id": "5DjruWOOpLQj"
      },
      "execution_count": null,
      "outputs": []
    },
    {
      "cell_type": "code",
      "source": [
        "# 139. 다음 코드를 for문으로 작성하라.\n",
        "# print(\"++++\")\n",
        "# print(10)\n",
        "# print(20)\n",
        "# print(30)\n",
        "print(\"++++\")\n",
        "for i in [10, 20, 30]:\n",
        "  print(i)"
      ],
      "metadata": {
        "id": "AhNVlfaz5tyB"
      },
      "execution_count": null,
      "outputs": []
    },
    {
      "cell_type": "code",
      "source": [
        "# 140. 다음 코드를 for문으로 작성하라.\n",
        "# print(\"-------\")\n",
        "# print(\"-------\")\n",
        "# print(\"-------\")\n",
        "# print(\"-------\")\n",
        "for i in range(4):\n",
        "  print(\"-------\")"
      ],
      "metadata": {
        "id": "9jg97Da75z2k"
      },
      "execution_count": null,
      "outputs": []
    },
    {
      "cell_type": "code",
      "source": [
        "# 141. 다음과 같이 판매가가 저장된 리스트가 있을 때 부가세가 포함된 가격을 for 문을 사용해서 화면에 출력하라. \n",
        "# 단 부가세는 10원으로 가정한다.\n",
        "# 리스트 = [100, 200, 300]\n",
        "# 110\n",
        "# 210\n",
        "# 310\n",
        "리스트 = [100, 200, 300]\n",
        "for i in 리스트:\n",
        "  print(i + int(i * 1/10))"
      ],
      "metadata": {
        "id": "iXQ_9knC9Fwm"
      },
      "execution_count": null,
      "outputs": []
    },
    {
      "cell_type": "code",
      "source": [
        "# 142. for 문을 사용해서 리스트에 저장된 값을 다음과 같이 출력하라.\n",
        "# 리스트 = [\"김밥\", \"라면\", \"튀김\"]\n",
        "# 오늘의 메뉴: 김밥\n",
        "# 오늘의 메뉴: 라면\n",
        "# 오늘의 메뉴: 튀김\n",
        "리스트 = [\"김밥\", \"라면\", \"튀김\"]\n",
        "for i in 리스트:\n",
        "  print('오늘의 메뉴: 튀김')"
      ],
      "metadata": {
        "id": "8bgGVjbJAgZV"
      },
      "execution_count": null,
      "outputs": []
    },
    {
      "cell_type": "code",
      "source": [
        "# 143. 저장된 문자열의 길이를 다음과 같이 출력하라.\n",
        "# 리스트 = [\"SK하이닉스\", \"삼성전자\", \"LG전자\"]\n",
        "리스트 = [\"SK하이닉스\", \"삼성전자\", \"LG전자\"]\n",
        "for i in 리스트:\n",
        "  print(len(i))"
      ],
      "metadata": {
        "id": "TsWymDtTEzYQ"
      },
      "execution_count": null,
      "outputs": []
    },
    {
      "cell_type": "code",
      "source": [
        "# 144. 동물 이름과 글자수를 다음과 같이 출력하라.\n",
        "리스트 = ['dog', 'cat', 'parrot']\n",
        "# dog 3\n",
        "# cat 3\n",
        "# parrot 6\n",
        "for i in 리스트:\n",
        "  print(i, len(i))"
      ],
      "metadata": {
        "id": "yp-ZfDUjHBoO"
      },
      "execution_count": null,
      "outputs": []
    },
    {
      "cell_type": "code",
      "source": [
        "# 145. for문을 사용해서 동물 이름의 첫 글자만 출력하라.\n",
        "# 리스트 = ['dog', 'cat', 'parrot']\n",
        "리스트 = ['dog', 'cat', 'parrot']\n",
        "for i in 리스트:\n",
        "  print(i[0])"
      ],
      "metadata": {
        "id": "5aDXDqBCHKnY"
      },
      "execution_count": null,
      "outputs": []
    },
    {
      "cell_type": "code",
      "source": [
        "# 146. for문을 사용해서 다음과 같이 출력하라.\n",
        "# 리스트 = [1, 2, 3]\n",
        "# 3 x 1\n",
        "# 3 x 2\n",
        "# 3 x 3\n",
        "리스트 = [1, 2, 3]\n",
        "for i in 리스트:\n",
        "  print('3 x',i)"
      ],
      "metadata": {
        "id": "ORjzLbMbHXqO"
      },
      "execution_count": null,
      "outputs": []
    },
    {
      "cell_type": "code",
      "source": [
        "# 147. for문을 사용해서 다음과 같이 출력하라.\n",
        "# 리스트 = [1, 2, 3]\n",
        "# 3 x 1 = 3\n",
        "# 3 x 2 = 6\n",
        "# 3 x 3 = 9\n",
        "리스트 = [1, 2, 3]\n",
        "for i in 리스트:\n",
        "  print(3 ,'x' ,i, '=', 3 * i)"
      ],
      "metadata": {
        "id": "64VRa84iHqZz"
      },
      "execution_count": null,
      "outputs": []
    },
    {
      "cell_type": "code",
      "source": [
        "# 148. for문을 사용해서 다음과 같이 출력하라.\n",
        "# 리스트 = [\"가\", \"나\", \"다\", \"라\"]\n",
        "# 나\n",
        "# 다\n",
        "# 라\n",
        "리스트 = [\"가\", \"나\", \"다\", \"라\"]\n",
        "for i in range(1, len(리스트)):\n",
        "  print(리스트[i])"
      ],
      "metadata": {
        "id": "g0ejAqIGH6TZ"
      },
      "execution_count": null,
      "outputs": []
    },
    {
      "cell_type": "code",
      "source": [
        "# 149. for문을 사용해서 다음과 같이 출력하라.\n",
        "# 가\n",
        "# 다\n",
        "리스트 = [\"가\", \"나\", \"다\", \"라\"]\n",
        "for i in range(0, len(리스트), 2):\n",
        "  print(리스트[i])"
      ],
      "metadata": {
        "id": "vz_AQ2i0KxRV"
      },
      "execution_count": null,
      "outputs": []
    },
    {
      "cell_type": "code",
      "source": [
        "# 149. for문을 사용해서 다음과 같이 출력하라.\n",
        "# 리스트 = [\"가\", \"나\", \"다\", \"라\"]\n",
        "# 라\n",
        "# 다\n",
        "# 나\n",
        "# 가\n",
        "리스트 = [\"가\", \"나\", \"다\", \"라\"]\n",
        "for i in range(len(리스트)-1, -1, -1):\n",
        "  print(리스트[i])"
      ],
      "metadata": {
        "id": "H_OYOv8zL2Qf"
      },
      "execution_count": null,
      "outputs": []
    },
    {
      "cell_type": "code",
      "source": [
        "# 151. for문을 사용해서 리스트의 음수를 출력하라.\n",
        "# 리스트 = [3, -20, -3, 44]\n",
        "# -20\n",
        "# -3\n",
        "리스트 = [3, -20, -3, 44]\n",
        "for i in 리스트:\n",
        "  if i < 0:\n",
        "    print(i)"
      ],
      "metadata": {
        "id": "iMTwgzMbMcRH"
      },
      "execution_count": null,
      "outputs": []
    },
    {
      "cell_type": "code",
      "source": [
        "# 152. for문을 사용해서 3의 배수만을 출력하라.\n",
        "# 리스트 = [3, 100, 23, 44]\n",
        "# 3\n",
        "리스트 = [3, 100, 23, 44]\n",
        "for i in 리스트:\n",
        "  if i % 3 == 0:\n",
        "    print(i)"
      ],
      "metadata": {
        "id": "sjljxv5MI9si"
      },
      "execution_count": null,
      "outputs": []
    },
    {
      "cell_type": "code",
      "source": [
        "# 153. 리스트에서 20 보다 작은 3의 배수를 출력하라\n",
        "# 리스트 = [13, 21, 12, 14, 30, 18]\n",
        "# 12\n",
        "# 18\n",
        "리스트 = [13, 21, 12, 14, 30, 18]\n",
        "for i in 리스트:\n",
        "  if i % 3 == 0 and i < 20:\n",
        "    print(i)"
      ],
      "metadata": {
        "id": "2yGBFyYrJRDd"
      },
      "execution_count": null,
      "outputs": []
    },
    {
      "cell_type": "code",
      "source": [
        "# 154. 리스트에서 세 글자 이상의 문자를 화면에 출력하라\n",
        "# 리스트 = [\"I\", \"study\", \"python\", \"language\", \"!\"]\n",
        "리스트 = [\"I\", \"study\", \"python\", \"language\", \"!\"]\n",
        "for i in 리스트:\n",
        "  if len(i) >= 3:\n",
        "    print(i)"
      ],
      "metadata": {
        "id": "XVR2flV9Je4j"
      },
      "execution_count": null,
      "outputs": []
    },
    {
      "cell_type": "code",
      "source": [
        "# 155. 리스트에서 대문자만 화면에 출력하라.\n",
        "# 리스트 = [\"A\", \"b\", \"c\", \"D\"]\n",
        "# A\n",
        "# D\n",
        "리스트 = [\"A\", \"b\", \"c\", \"D\"]\n",
        "for i in 리스트:\n",
        "  if i.upper() == i:\n",
        "    print(i)"
      ],
      "metadata": {
        "id": "Y7yzWHqtctW8"
      },
      "execution_count": null,
      "outputs": []
    },
    {
      "cell_type": "code",
      "source": [
        "# 156. 리스트에서 소문자만 화면에 출력하라.\n",
        "# 리스트 = [\"A\", \"b\", \"c\", \"D\"]\n",
        "# b\n",
        "# c\n",
        "리스트 = [\"A\", \"b\", \"c\", \"D\"]\n",
        "for i in 리스트:\n",
        "  if i.lower() == i:\n",
        "    print(i)"
      ],
      "metadata": {
        "id": "jkGnAsUmewHv"
      },
      "execution_count": null,
      "outputs": []
    },
    {
      "cell_type": "code",
      "source": [
        "# 157. 이름의 첫 글자를 대문자로 변경해서 출력하라.\n",
        "# 리스트 = ['dog', 'cat', 'parrot']\n",
        "# Dog\n",
        "# Cat\n",
        "# Parrot\n",
        "리스트 = ['dog', 'cat', 'parrot']\n",
        "for i in 리스트:\n",
        "  print(i.capitalize())"
      ],
      "metadata": {
        "id": "5wRXsfEZZHNT"
      },
      "execution_count": null,
      "outputs": []
    },
    {
      "cell_type": "code",
      "source": [
        "# 158. 파일 이름이 저장된 리스트에서 확장자를 제거하고 파일 이름만 화면에 출력하라. (힌트: split() 메서드)\n",
        "# 리스트 = ['hello.py', 'ex01.py', 'intro.hwp']\n",
        "# hello\n",
        "# ex01\n",
        "# intro\n",
        "리스트 = ['hello.py', 'ex01.py', 'intro.hwp']\n",
        "for i in 리스트:\n",
        "  print(i.split('.')[0])"
      ],
      "metadata": {
        "id": "YgOrc487rmxa"
      },
      "execution_count": null,
      "outputs": []
    },
    {
      "cell_type": "code",
      "source": [
        "# 159. 파일 이름이 저장된 리스트에서 확장자가 .h인 파일 이름을 출력하라.\n",
        "# 리스트 = ['intra.h', 'intra.c', 'define.h', 'run.py']\n",
        "# intra.h\n",
        "# define.h\n",
        "리스트 = ['intra.h', 'intra.c', 'define.h', 'run.py']\n",
        "for i in 리스트:\n",
        "  if i.split('.')[1] == 'h':\n",
        "    print(i)"
      ],
      "metadata": {
        "id": "1V18LCArsGcA"
      },
      "execution_count": null,
      "outputs": []
    },
    {
      "cell_type": "code",
      "source": [
        "# 160. 파일 이름이 저장된 리스트에서 확장자가 .h나 .c인 파일을 화면에 출력하라.\n",
        "# 리스트 = ['intra.h', 'intra.c', 'define.h', 'run.py']\n",
        "# intra.h\n",
        "# intra.c\n",
        "# define.h\n",
        "리스트 = ['intra.h', 'intra.c', 'define.h', 'run.py']\n",
        "for i in 리스트:\n",
        "  if i.split('.')[1] == 'h' or i.split('.')[1] == 'c':\n",
        "    print(i)"
      ],
      "metadata": {
        "id": "S0VXHno8scsH"
      },
      "execution_count": null,
      "outputs": []
    },
    {
      "cell_type": "code",
      "source": [
        "# 161. for문과 range 구문을 사용해서 0~99까지 한 라인에 하나씩 순차적으로 출력하는 프로그램을 작성하라.\n",
        "for i in range(100): \n",
        "  print(i)"
      ],
      "metadata": {
        "id": "xI_Vs31rsrd0"
      },
      "execution_count": null,
      "outputs": []
    },
    {
      "cell_type": "code",
      "source": [
        "# 162. 월드컵은 4년에 한 번 개최된다. range()를 사용하여 2002~2050년까지 중 월드컵이 개최되는 연도를 출력하라.\n",
        "for i in range(2002, 2051, 4):\n",
        "  print(i)"
      ],
      "metadata": {
        "id": "xfwFZNPuIQqr"
      },
      "execution_count": null,
      "outputs": []
    },
    {
      "cell_type": "code",
      "source": [
        "# 163. 1부터 30까지의 숫자 중 3의 배수를 출력하라.\n",
        "for i in range(3, 31, 3):\n",
        "  print(i)"
      ],
      "metadata": {
        "id": "xGfTXRzANAQu"
      },
      "execution_count": null,
      "outputs": []
    },
    {
      "cell_type": "code",
      "source": [
        " # 164. 99부터 0까지 1씩 감소하는 숫자들을, 한 라인에 하나씩 출력하라.\n",
        "for i in range(99, -1, -1):\n",
        "  print(i)"
      ],
      "metadata": {
        "id": "vcFMD231NHRe"
      },
      "execution_count": null,
      "outputs": []
    },
    {
      "cell_type": "code",
      "source": [
        "# 165. for문을 사용해서 아래와 같이 출력하라.\n",
        "# 0.0\n",
        "# 0.1\n",
        "# 0.2\n",
        "# 0.3\n",
        "# 0.4\n",
        "# 0.5\n",
        "# ...\n",
        "# 0.9\n",
        "for i in range(0, 10):\n",
        "  print(i / 10)"
      ],
      "metadata": {
        "id": "k1FTUiVzXnd1"
      },
      "execution_count": null,
      "outputs": []
    },
    {
      "cell_type": "code",
      "source": [
        "# 166. 구구단 3단을 출력하라.\n",
        "for i in range(1, 10):\n",
        "  print(f'3 x {i} =', 3 * i)"
      ],
      "metadata": {
        "id": "SgZvGUYddWPo"
      },
      "execution_count": null,
      "outputs": []
    },
    {
      "cell_type": "code",
      "source": [
        "# 167. 구구단 3단을 출력하라. 단 홀수 번째만 출력한다.\n",
        "for i in range(1, 10, 2):\n",
        "  print(f'3 x {i} =', 3 * i)"
      ],
      "metadata": {
        "id": "BSzU9vDHAPae"
      },
      "execution_count": null,
      "outputs": []
    },
    {
      "cell_type": "code",
      "source": [
        "# 168. 1~10까지의 숫자에 대해 모두 더한 값을 출력하는 프로그램을 for 문을 사용하여 작성하라.\n",
        "num = 0\n",
        "for i in range(11):\n",
        "  num += i\n",
        "num"
      ],
      "metadata": {
        "id": "GgBmr4KB-pHR"
      },
      "execution_count": null,
      "outputs": []
    },
    {
      "cell_type": "code",
      "source": [
        "# 169. 1~10까지의 숫자 중 모든 홀수의 합을 출력하는 프로그램을 for 문을 사용하여 작성하라.\n",
        "num = 0\n",
        "for i in range(1, 11, 2):\n",
        "  num += i\n",
        "num"
      ],
      "metadata": {
        "id": "ogEHs145CfQl"
      },
      "execution_count": null,
      "outputs": []
    },
    {
      "cell_type": "code",
      "source": [
        "# 170. 1~10까지의 숫자를 모두 곱한 값을 출력하는 프로그램을 for 문을 사용하여 작성하라..\n",
        "num = 1\n",
        "for i in range(1, 11):\n",
        "  num *= i\n",
        "num"
      ],
      "metadata": {
        "id": "tjvrtHOtBb8H"
      },
      "execution_count": null,
      "outputs": []
    },
    {
      "cell_type": "code",
      "source": [
        "# 171. 아래와 같이 리스트의 데이터를 출력하라. 단, for문과 range문을 사용하라.\n",
        "# price_list = [32100, 32150, 32000, 32500]\n",
        "# 32100\n",
        "# 32150\n",
        "# 32000\n",
        "# 32500\n",
        "price_list = [32100, 32150, 32000, 32500]\n",
        "for i in price_list:\n",
        "  print(i)"
      ],
      "metadata": {
        "id": "mDYcK4gIoaLw"
      },
      "execution_count": null,
      "outputs": []
    },
    {
      "cell_type": "code",
      "source": [
        "# 172. 아래와 같이 리스트의 데이터를 출력하라. 단, for문과 range문을 사용하라.\n",
        "# price_list = [32100, 32150, 32000, 32500]\n",
        "# 0 32100\n",
        "# 1 32150\n",
        "# 2 32000\n",
        "# 3 32500\n",
        "price_list = [32100, 32150, 32000, 32500]\n",
        "for num, i in enumerate(price_list):\n",
        "  print(num, i)"
      ],
      "metadata": {
        "id": "sjg7gkmwoeli"
      },
      "execution_count": null,
      "outputs": []
    },
    {
      "cell_type": "code",
      "source": [
        "# 173. 아래와 같이 리스트의 데이터를 출력하라. 단, for문과 range문을 사용하라.\n",
        "# price_list = [32100, 32150, 32000, 32500]\n",
        "# 3 32100\n",
        "# 2 32150\n",
        "# 1 32000\n",
        "# 0 32500\n",
        "price_list = [32100, 32150, 32000, 32500]\n",
        "for i in range(len(price_list)):\n",
        "  print(3 - i, price_list[i])"
      ],
      "metadata": {
        "id": "UoDlUvjyncX3"
      },
      "execution_count": null,
      "outputs": []
    },
    {
      "cell_type": "code",
      "source": [
        "# 174. 아래와 같이 리스트의 데이터를 출력하라. 단, for문과 range문을 사용하라.\n",
        "# price_list = [32100, 32150, 32000, 32500]\n",
        "# 100 32150\n",
        "# 110 32000\n",
        "# 120 32500\n",
        "price_list = [32100, 32150, 32000, 32500]\n",
        "for num, i in enumerate(price_list):\n",
        "  if num > 0:\n",
        "    print(90 + 10*num, i)"
      ],
      "metadata": {
        "id": "LKLkw0XIFRpq"
      },
      "execution_count": null,
      "outputs": []
    },
    {
      "cell_type": "code",
      "source": [
        "#175. my_list를 아래와 같이 출력하라.\n",
        "# my_list = [\"가\", \"나\", \"다\", \"라\"]\n",
        "# 가 나\n",
        "# 나 다\n",
        "# 다 라\n",
        "my_list = [\"가\", \"나\", \"다\", \"라\"]\n",
        "print(my_list[0], my_list[1])\n",
        "print(my_list[1], my_list[2])\n",
        "print(my_list[2], my_list[3])"
      ],
      "metadata": {
        "id": "3zquYPE6TudO"
      },
      "execution_count": null,
      "outputs": []
    },
    {
      "cell_type": "code",
      "source": [
        "#176. 리스트를 아래와 같이 출력하라.\n",
        "# my_list = [\"가\", \"나\", \"다\", \"라\", \"마\"]\n",
        "# 가 나 다\n",
        "# 나 다 라\n",
        "# 다 라 마\n",
        "my_list = [\"가\", \"나\", \"다\", \"라\", \"마\"]\n",
        "print(my_list[0], my_list[1], my_list[2])\n",
        "print(my_list[1], my_list[2], my_list[3])\n",
        "print(my_list[2], my_list[3], my_list[4])"
      ],
      "metadata": {
        "id": "8PFBvEn4L2ku"
      },
      "execution_count": null,
      "outputs": []
    },
    {
      "cell_type": "code",
      "source": [
        "# 177. 반복문과 range 함수를 사용해서 my_list를 아래와 같이 출력하라.\n",
        "# my_list = [\"가\", \"나\", \"다\", \"라\"]\n",
        "# 라 다\n",
        "# 다 나\n",
        "# 나 가\n",
        "my_list = [\"가\", \"나\", \"다\", \"라\"]\n",
        "for i in range(len(my_list)-1, 0, -1):\n",
        "  print(my_list[i], my_list[i-1])\n"
      ],
      "metadata": {
        "id": "CCoKqh-mweVd"
      },
      "execution_count": null,
      "outputs": []
    },
    {
      "cell_type": "code",
      "source": [
        "# 178. 각각의 데이터에 대해서 자신과 우측값과의 차분값을 화면에 출력\n",
        "# my_list = [100, 200, 400, 800]\n",
        "# 100\n",
        "# 200\n",
        "# 400\n",
        "my_list = [100, 200, 400, 800]\n",
        "for i in range(len(my_list)-1, 0, -1):\n",
        "  print(my_list[i] - my_list[i-1])\n"
      ],
      "metadata": {
        "id": "SGFWx-BRqw30"
      },
      "execution_count": null,
      "outputs": []
    },
    {
      "cell_type": "code",
      "source": [
        "# 179. 리스트에는 6일 간의 종가 데이터가 저장되어 있다. 종가 데이터의 3일 이동 평균을 계산하고 이를 화면에 출력\n",
        "# my_list = [100, 200, 400, 800, 1000, 1300]\n",
        "# 233.33333333333334\n",
        "# 466.6666666666667\n",
        "# 733.3333333333334\n",
        "# 1033.3333333333333\n",
        "my_list = [100, 200, 400, 800, 1000, 1300]\n",
        "for i in range(0, 4):\n",
        "  print((my_list[i] + my_list[i+1] + my_list[i+2]) / 3)"
      ],
      "metadata": {
        "id": "PfT9cZa0tnrK"
      },
      "execution_count": null,
      "outputs": []
    },
    {
      "cell_type": "code",
      "source": [
        "# 180. 리스트에 5일간의 저가, 고가 정보가 저장돼 있다. 고가와 저가의 차를 변동폭이라고 정의할 때, \n",
        "# low, high 두 개의 리스트를 사용해서 5일간의 변동폭을 volatility 리스트에 저장하라.\n",
        "low_prices  = [100, 200, 400, 800, 1000]\n",
        "high_prices = [150, 300, 430, 880, 1000]\n",
        "for i in range(len(low_prices)):\n",
        "  print(high_prices[i] - low_prices[i])"
      ],
      "metadata": {
        "id": "n7Q1CcuOKYNq"
      },
      "execution_count": null,
      "outputs": []
    },
    {
      "cell_type": "code",
      "source": [
        "# 181. 아래 표에서 하나의 행을 하나의 리스트로, 총 3개의 리스트를 갖는 이차원 리스트 apart를 정의하라.\n",
        "# 101호\t102호\n",
        "# 201호\t202호\n",
        "# 301호\t302호\n",
        "apart = [['101호', '102호'],['201호', '202호'],['301호', '302호']]"
      ],
      "metadata": {
        "id": "3c1zSLS-l5Fi"
      },
      "execution_count": null,
      "outputs": []
    },
    {
      "cell_type": "code",
      "source": [
        "# 182. 아래 표에서 하나의 열을 하나의 리스트로, 총 2개의 리스트를 갖는 이차원 리스트 stock을 정의하라.\n",
        "# 시가\t종가\n",
        "# 100\t80\n",
        "# 200\t210\n",
        "# 300\t330\n",
        "stock = [['시가', 100, 200, 300], ['종가', 80, 210, 330]]"
      ],
      "metadata": {
        "id": "IHNwH0SCYQf0"
      },
      "execution_count": null,
      "outputs": []
    },
    {
      "cell_type": "code",
      "source": [
        "# 183. 아래 표를 stock 이름의 딕셔너리로 표현하라.시가를 key로 저장하고, 나머지 같은 열의 데이터를 리스트로 저장해서 value로 저장한다. \n",
        "# 종가 역시 key로 저장하고 나머지 같은 열의 데이터를 리스트로 저장해서 value로 저장\n",
        "# 시가\t종가\n",
        "# 100\t80\n",
        "# 200\t210\n",
        "# 300\t330\n",
        "stock = {\"시가\": [100, 200, 300], \"종가\": [80, 210, 330] }"
      ],
      "metadata": {
        "id": "X0jjfom_fvx5"
      },
      "execution_count": null,
      "outputs": []
    },
    {
      "cell_type": "code",
      "source": [
        "# 184. 아래 표를 stock 이라는 이름의 딕셔너리로 표현하라. 날짜를 key로 저장하고, 나머지 같은 행의 데이터를 리스트로 저장해서 value로 저장한다. 첫 열이 날짜이다.\n",
        "# 10/10\t80\t110\t70\t90\n",
        "# 10/11\t210\t230\t190\t200\n",
        "stock = {\"10/10\": [80, 110, 70, 90], \"10/11\": [210, 230, 190, 200] }"
      ],
      "metadata": {
        "id": "rbiUZsKZNjJt"
      },
      "execution_count": null,
      "outputs": []
    },
    {
      "cell_type": "code",
      "source": [
        "#185. 리스트에 저장된 데이터를 아래와 같이 출력하라.\n",
        "# apart = [ [101, 102], [201, 202], [301, 302] ]\n",
        "# 101 호\n",
        "# 102 호\n",
        "# 201 호\n",
        "# 202 호\n",
        "# 301 호\n",
        "# 302 호\n",
        "apart = [ [101, 102], [201, 202], [301, 302] ]\n",
        "for i in apart:\n",
        "  for j in i:\n",
        "    print(j, '호')"
      ],
      "metadata": {
        "id": "_pFRME7TWVcU"
      },
      "execution_count": null,
      "outputs": []
    },
    {
      "cell_type": "code",
      "source": [
        "#186. 리스트에 저장된 데이터를 아래와 같이 출력하라.\n",
        "# apart = [ [101, 102], [201, 202], [301, 302] ]\n",
        "# 301 호\n",
        "# 302 호\n",
        "# 201 호\n",
        "# 202 호\n",
        "# 101 호\n",
        "# 102 호\n",
        "apart = [ [101, 102], [201, 202], [301, 302] ]\n",
        "for i in range(len(apart)-1, -1, -1):\n",
        "  for j in apart[i]:\n",
        "    print(j)"
      ],
      "metadata": {
        "id": "ykiwtWCkkvKD"
      },
      "execution_count": null,
      "outputs": []
    },
    {
      "cell_type": "code",
      "source": [
        "#187. 리스트에 저장된 데이터를 아래와 같이 출력하라.\n",
        "# apart = [ [101, 102], [201, 202], [301, 302] ]\n",
        "# 302 호\n",
        "# 301 호\n",
        "# 202 호\n",
        "# 201 호\n",
        "# 102 호\n",
        "# 101 호"
      ],
      "metadata": {
        "id": "EafcoqtyCZu1"
      },
      "execution_count": null,
      "outputs": []
    }
  ]
}