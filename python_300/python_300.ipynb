{
  "nbformat": 4,
  "nbformat_minor": 0,
  "metadata": {
    "colab": {
      "name": "python_300.ipynb",
      "private_outputs": true,
      "provenance": [],
      "collapsed_sections": [],
      "authorship_tag": "ABX9TyMxJPCENsJ5ZrbUPtPi0ABk",
      "include_colab_link": true
    },
    "kernelspec": {
      "name": "python3",
      "display_name": "Python 3"
    },
    "language_info": {
      "name": "python"
    }
  },
  "cells": [
    {
      "cell_type": "markdown",
      "metadata": {
        "id": "view-in-github",
        "colab_type": "text"
      },
      "source": [
        "<a href=\"https://colab.research.google.com/github/xodn234/xodn234_Daily_Commit/blob/main/python_300/python_300.ipynb\" target=\"_parent\"><img src=\"https://colab.research.google.com/assets/colab-badge.svg\" alt=\"Open In Colab\"/></a>"
      ]
    },
    {
      "cell_type": "code",
      "source": [
        "# https://wikidocs.net/7014"
      ],
      "metadata": {
        "id": "rVIef15Yeyil"
      },
      "execution_count": null,
      "outputs": []
    },
    {
      "cell_type": "code",
      "execution_count": null,
      "metadata": {
        "id": "mdedQe7vT9GH"
      },
      "outputs": [],
      "source": [
        "# 1. 화면에 Hello World 문자열을 출력하세요.\n",
        "print('Hello World')"
      ]
    },
    {
      "cell_type": "code",
      "source": [
        "# 2. 화면에 Mary's cosmetics을 출력하세요.\n",
        "print(\"Mary's cosmetics\")"
      ],
      "metadata": {
        "id": "x_NOI-rGOv-9"
      },
      "execution_count": null,
      "outputs": []
    },
    {
      "cell_type": "code",
      "source": [
        "# 3. 화면에 아래 문장을 출력\n",
        "# 신씨가 소리질렀다. \"도둑이야\".\n",
        "print('신씨가 소리질렀다. \"도둑이야\".')"
      ],
      "metadata": {
        "id": "b93O9W_-PLY_"
      },
      "execution_count": null,
      "outputs": []
    },
    {
      "cell_type": "code",
      "source": [
        "# 4. 화면에 \"C:\\Windows\"를 출력하세요.\n",
        "print('\"C:\\Windows\"')"
      ],
      "metadata": {
        "id": "qi212_FdPO3A"
      },
      "execution_count": null,
      "outputs": []
    },
    {
      "cell_type": "code",
      "source": [
        "# 5. 다음 코드를 실행해보고 \\t와 \\n의 역할을 설명해보세요.\n",
        "print(\"안녕하세요.\\n만나서\\t\\t반갑습니다.\")\n",
        "# \\t는 탭을 의미하고 \\n'은 줄바꿈을 의미"
      ],
      "metadata": {
        "id": "6RYJ1arAPgvd"
      },
      "execution_count": null,
      "outputs": []
    },
    {
      "cell_type": "code",
      "source": [
        "# 6. print (\"오늘은\", \"일요일\") 출력결과 예상\n",
        "print(\"오늘은\", \"일요일\")"
      ],
      "metadata": {
        "id": "mtnXzMUYQacR"
      },
      "execution_count": null,
      "outputs": []
    },
    {
      "cell_type": "code",
      "source": [
        "# 7. print() 함수를 사용하여 다음과 같이 출력\n",
        "# naver;kakao;sk;samsung\n",
        "print('naver;kakao;sk;samsung')\n",
        "print(\"naver\", \"kakao\", \"sk\" ,\"samsung\", sep=\";\")"
      ],
      "metadata": {
        "id": "8kIRUuMPRh2k"
      },
      "execution_count": null,
      "outputs": []
    },
    {
      "cell_type": "code",
      "source": [
        "# 8. print() 함수를 사용하여 다음과 같이 출력\n",
        "# naver/kakao/sk/samsung\n",
        "print(\"naver\", \"kakao\", \"sk\" ,\"samsung\", sep=\"/\")"
      ],
      "metadata": {
        "id": "X-2naoy8SNBe"
      },
      "execution_count": null,
      "outputs": []
    },
    {
      "cell_type": "code",
      "source": [
        "# 9. 드를 수정하여 줄바꿈이 없이 출력\n",
        "# print(\"first\");print(\"second\")\n",
        "print(\"first\", end=\" \");print(\"second\")"
      ],
      "metadata": {
        "id": "-VUvVEF6STuP"
      },
      "execution_count": null,
      "outputs": []
    },
    {
      "cell_type": "code",
      "source": [
        "# 10. 5/3의 결과를 화면에 출력하세요.\n",
        "print(5/3)"
      ],
      "metadata": {
        "id": "Zv6-1tx4Sg-k"
      },
      "execution_count": null,
      "outputs": []
    },
    {
      "cell_type": "code",
      "source": [
        "# 11. 삼성전자라는 변수로 50,000원을 바인딩해보세요. \n",
        "# 삼성전자 주식 10주를 보유하고 있을 때 총 평가금액을 출력하세요.\n",
        "삼성전자 = 50000\n",
        "총평가금액 = 삼성전자 * 10\n",
        "print(총평가금액)"
      ],
      "metadata": {
        "id": "IVGFeTQW7kyq"
      },
      "execution_count": null,
      "outputs": []
    },
    {
      "cell_type": "code",
      "source": [
        "# 12. 변수를 사용해서 시가총액, 현재가, PER 등을 바인딩해보세요.\n",
        "시가총액 = 298000000000000\n",
        "현재가 = 50000\n",
        "PER = 15.79\n",
        "print(시가총액)\n",
        "print(현재가)\n",
        "print(PER,)"
      ],
      "metadata": {
        "id": "u28L1x4f77Fx"
      },
      "execution_count": null,
      "outputs": []
    },
    {
      "cell_type": "code",
      "source": [
        "# 13. 두 변수를 이용하여 아래와 같이 출력\n",
        "# s = \"hello\"\n",
        "# t = \"python\"\n",
        "# 실행 예) hello! python\n",
        "s = \"hello\"\n",
        "t = \"python\"\n",
        "print(s + '!', t)"
      ],
      "metadata": {
        "id": "rx6NPClK8nm4"
      },
      "execution_count": null,
      "outputs": []
    },
    {
      "cell_type": "code",
      "source": [
        "# 14. 아래 코드의 실행 결과를 예상\n",
        "#  2 + 2 * 3 \n",
        "print( 2 + 2 * 3 )"
      ],
      "metadata": {
        "id": "6Qn-JOd99Ip8"
      },
      "execution_count": null,
      "outputs": []
    },
    {
      "cell_type": "code",
      "source": [
        "# 15. 아래 변수에 바인딩된 값의 타입을 판별\n",
        "# a = \"132\"\n",
        "a = \"132\"\n",
        "print(type(a))"
      ],
      "metadata": {
        "id": "Lw5z01TC9xvg"
      },
      "execution_count": null,
      "outputs": []
    },
    {
      "cell_type": "code",
      "source": [
        "# 16. 문자열 '720'를 정수형으로 변환\n",
        "# num_str = \"720\"\n",
        "num_str = \"720\"\n",
        "num_int = int(num_str)\n",
        "print(num_int, type(num_int))"
      ],
      "metadata": {
        "id": "NL6JbtXJ-Leo"
      },
      "execution_count": null,
      "outputs": []
    },
    {
      "cell_type": "code",
      "source": [
        "# 17. 정수 100을 문자열 '100'으로 변환해보세요.\n",
        "# num = 100\n",
        "num = 100\n",
        "num_str = str(100)\n",
        "print(num_str, type(num_str))"
      ],
      "metadata": {
        "id": "QYGmFeWJ_Z3r"
      },
      "execution_count": null,
      "outputs": []
    },
    {
      "cell_type": "code",
      "source": [
        "# 18. 문자열 \"15.79\"를 실수(float) 타입으로 변환해보세요.\n",
        "num_str = \"15.79\"\n",
        "num_int = float(num_str)\n",
        "print(num_int, type(num_int))"
      ],
      "metadata": {
        "id": "thp6FvCz_lD0"
      },
      "execution_count": null,
      "outputs": []
    },
    {
      "cell_type": "code",
      "source": [
        "# 19. 정수로 변환한 후 최근 3년의 연도를 화면에 출력\n",
        "# year = \"2020\"\n",
        "year = \"2020\"\n",
        "year_int = int(year)\n",
        "print(year_int - 2, year_int - 1, year_int)"
      ],
      "metadata": {
        "id": "XbVhBac4ACj1"
      },
      "execution_count": null,
      "outputs": []
    },
    {
      "cell_type": "code",
      "source": [
        "# 20. 에이컨이 월 48,584원에 무이자 36개월의 조건으로 홈쇼핑에서 판매되고 있습니다. \n",
        "# 총 금액은 계산한 후 이를 화면에 출력\n",
        "m = 48584\n",
        "pay = m * 36\n",
        "print(pay)"
      ],
      "metadata": {
        "id": "j9LJY9K_Bp_5"
      },
      "execution_count": null,
      "outputs": []
    },
    {
      "cell_type": "code",
      "source": [
        "# 21. letters가 바인딩하는 문자열에서 첫번째와 세번째 문자를 출력\n",
        "# letters = 'python'\n",
        "letters = 'python'\n",
        "print(letters[0], letters[2])"
      ],
      "metadata": {
        "id": "T--Ppj3zB39b"
      },
      "execution_count": null,
      "outputs": []
    }
  ]
}