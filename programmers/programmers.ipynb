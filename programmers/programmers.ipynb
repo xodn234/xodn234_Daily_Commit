{
  "nbformat": 4,
  "nbformat_minor": 0,
  "metadata": {
    "colab": {
      "name": "programmers.ipynb",
      "private_outputs": true,
      "provenance": [],
      "authorship_tag": "ABX9TyP1DOnAkyE51IS4cr0LxBb6",
      "include_colab_link": true
    },
    "kernelspec": {
      "name": "python3",
      "display_name": "Python 3"
    },
    "language_info": {
      "name": "python"
    }
  },
  "cells": [
    {
      "cell_type": "markdown",
      "metadata": {
        "id": "view-in-github",
        "colab_type": "text"
      },
      "source": [
        "<a href=\"https://colab.research.google.com/github/xodn234/xodn234_Daily_Commit/blob/main/programmers/programmers.ipynb\" target=\"_parent\"><img src=\"https://colab.research.google.com/assets/colab-badge.svg\" alt=\"Open In Colab\"/></a>"
      ]
    },
    {
      "cell_type": "markdown",
      "source": [
        "# https://programmers.co.kr/"
      ],
      "metadata": {
        "id": "8f563x9bKPeN"
      }
    },
    {
      "cell_type": "code",
      "execution_count": null,
      "metadata": {
        "id": "_FlqtGfEH2ol"
      },
      "outputs": [],
      "source": [
        "# lv 1\n",
        "# 로또의 최고 순위와 최저 순위\n",
        "\n",
        "def solution(lottos, win_nums):\n",
        "  answer = []\n",
        "  zero = lottos.count(0)\n",
        "  rank = 1\n",
        "  for i in lottos:\n",
        "    if i not in win_nums:\n",
        "      rank += 1\n",
        "\n",
        "  answer.append(rank - zero)\n",
        "  \n",
        "  if rank == 7:\n",
        "    answer.append(6)\n",
        "  else:\n",
        "    answer.append(rank)\n",
        "  return answer\n",
        "\n",
        "lottos = [1, 2, 3, 4, 5, 6]\n",
        "win_nums = [38, 19, 20, 40, 15, 25]\n",
        "solution(lottos, win_nums)\n",
        "\n",
        "# 정확성: 93.3 \n",
        "# 해당경우 수정 / 코드 효율 개선"
      ]
    }
  ]
}