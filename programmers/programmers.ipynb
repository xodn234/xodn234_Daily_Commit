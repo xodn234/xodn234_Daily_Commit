{
  "nbformat": 4,
  "nbformat_minor": 0,
  "metadata": {
    "colab": {
      "name": "programmers.ipynb",
      "private_outputs": true,
      "provenance": [],
      "authorship_tag": "ABX9TyMlo6ZdyW4xdeIBfAIwZY62",
      "include_colab_link": true
    },
    "kernelspec": {
      "name": "python3",
      "display_name": "Python 3"
    },
    "language_info": {
      "name": "python"
    }
  },
  "cells": [
    {
      "cell_type": "markdown",
      "metadata": {
        "id": "view-in-github",
        "colab_type": "text"
      },
      "source": [
        "<a href=\"https://colab.research.google.com/github/xodn234/xodn234_Daily_Commit/blob/main/programmers/programmers.ipynb\" target=\"_parent\"><img src=\"https://colab.research.google.com/assets/colab-badge.svg\" alt=\"Open In Colab\"/></a>"
      ]
    },
    {
      "cell_type": "markdown",
      "source": [
        "# https://programmers.co.kr/"
      ],
      "metadata": {
        "id": "8f563x9bKPeN"
      }
    },
    {
      "cell_type": "code",
      "execution_count": null,
      "metadata": {
        "id": "_FlqtGfEH2ol"
      },
      "outputs": [],
      "source": [
        "# lv 1\n",
        "# 로또의 최고 순위와 최저 순위\n",
        "\n",
        "def solution(lottos, win_nums):\n",
        "  answer = []\n",
        "  zero = lottos.count(0)\n",
        "  rank = 1\n",
        "  for i in lottos:\n",
        "    if i not in win_nums:\n",
        "      rank += 1\n",
        "\n",
        "  answer.append(rank - zero)\n",
        "  \n",
        "  if rank == 7:\n",
        "    answer.append(6)\n",
        "  else:\n",
        "    answer.append(rank)\n",
        "  return answer\n",
        "\n",
        "lottos = [1, 2, 3, 4, 5, 6]\n",
        "win_nums = [38, 19, 20, 40, 15, 25]\n",
        "solution(lottos, win_nums)\n",
        "\n",
        "# 정확성: 93.3 "
      ]
    },
    {
      "cell_type": "code",
      "source": [
        "# 다시 풀이\n",
        "def solution(lottos, win_nums):\n",
        "  answer = []\n",
        "  zero = lottos.count(0)\n",
        "  num_count = [i for i in lottos if i in win_nums]\n",
        "  rank = 7 - len(num_count)\n",
        "  if rank == 7 and zero == 0:\n",
        "    rank = 6\n",
        "  answer.append(rank - zero)\n",
        "  if rank == 7:\n",
        "    rank = 6 \n",
        "  answer.append(rank)\n",
        "  return answer\n",
        "\n",
        "lottos = [0, 0, 0, 0, 0, 0]\n",
        "win_nums = [38, 19, 20, 40, 15, 25]\n",
        "solution(lottos, win_nums)"
      ],
      "metadata": {
        "id": "F4r2CKdIb_2T"
      },
      "execution_count": null,
      "outputs": []
    },
    {
      "cell_type": "code",
      "source": [
        "# 다른사람 풀이\n",
        "\n",
        "def solution(lottos, win_nums):\n",
        "\n",
        "    rank=[6,6,5,4,3,2,1]\n",
        "\n",
        "    cnt_0 = lottos.count(0)\n",
        "    ans = 0\n",
        "    for x in win_nums:\n",
        "        if x in lottos:\n",
        "            ans += 1\n",
        "    return rank[cnt_0 + ans],rank[ans]"
      ],
      "metadata": {
        "id": "SWZZ7xctN3tc"
      },
      "execution_count": null,
      "outputs": []
    },
    {
      "cell_type": "code",
      "source": [
        "# lv 1\n",
        "# 숫자 문자열과 영단어\n",
        "\n",
        "def solution(s):\n",
        "  answer = s\n",
        "  num = {'0':'zero', '1':'one', '2':'two', '3':'three', '4':'four', '5':'five', '6':'six', '7':'seven', '8':'eight', '9':'nine'}\n",
        "  for i in range(10):\n",
        "    if num[str(i)] in answer:\n",
        "      answer = answer.replace(num[str(i)], str(i))\n",
        "  return int(answer)\n",
        "\n",
        "solution(\"23four5six7\")"
      ],
      "metadata": {
        "id": "woRys2WDI98w"
      },
      "execution_count": null,
      "outputs": []
    },
    {
      "cell_type": "code",
      "source": [
        "# 다른사람 풀이\n",
        "\n",
        "num_dic = {\"zero\":\"0\", \"one\":\"1\", \"two\":\"2\", \"three\":\"3\", \"four\":\"4\", \"five\":\"5\", \"six\":\"6\", \"seven\":\"7\", \"eight\":\"8\", \"nine\":\"9\"}\n",
        "\n",
        "def solution(s):\n",
        "    answer = s\n",
        "    for key, value in num_dic.items():\n",
        "        answer = answer.replace(key, value)\n",
        "    return int(answer)\n",
        "\n",
        "solution(\"23four5six7\")"
      ],
      "metadata": {
        "id": "4ThEG2ScOEmi"
      },
      "execution_count": null,
      "outputs": []
    },
    {
      "cell_type": "code",
      "source": [
        "# lv 1\n",
        "# 크레인 인형뽑기 게임\n",
        "def solution(board, moves):\n",
        "  answer = 0\n",
        "  pick = []\n",
        "\n",
        "  for i in moves:\n",
        "    for j in range(len(board)):\n",
        "      if board[j][i-1] != 0:\n",
        "        pick.append(board[j][i-1])\n",
        "        board[j][i-1] = 0\n",
        "        break\n",
        "\n",
        "    if len(pick) >= 2 and pick[-1] == pick[-2]:\n",
        "      answer += 2\n",
        "      pick = pick[:-2]\n",
        "\n",
        "  return answer\n",
        "\n",
        "\n",
        "\n",
        "board = [[0,0,0,0,0],[0,0,1,0,3],[0,2,5,0,1],[4,2,4,4,2],[3,5,1,3,1]]\n",
        "moves = [1,5,3,5,1,2,1,4]\n",
        "solution(board, moves)\n",
        "\n",
        "### 답은 맞는데 채점은 왜 틀릴까?"
      ],
      "metadata": {
        "id": "tMA5IPKr3n5s"
      },
      "execution_count": null,
      "outputs": []
    },
    {
      "cell_type": "code",
      "source": [
        "# 다른사람 풀이\n",
        "\n",
        "def solution(board, moves):\n",
        "    picked = []\n",
        "    ans = 0\n",
        "    for move in moves:\n",
        "        x = move - 1\n",
        "        for i in range(len(board)):\n",
        "            if board[i][x] != 0:\n",
        "                picked.append(board[i][x])\n",
        "                board[i][x] = 0\n",
        "                break\n",
        "        \n",
        "        if len(picked) > 1:\n",
        "            if picked[-1] == picked[-2]:\n",
        "                picked.pop()\n",
        "                picked.pop()\n",
        "                ans += 2\n",
        "    \n",
        "    return ans\n",
        "\n",
        "board = [[0,0,0,0,0],[0,0,1,0,3],[0,2,5,0,1],[4,2,4,4,2],[3,5,1,3,1]]\n",
        "moves = [1,5,3,5,1,2,1,4]\n",
        "solution(board, moves)"
      ],
      "metadata": {
        "id": "5lylJWV9mvlk"
      },
      "execution_count": null,
      "outputs": []
    },
    {
      "cell_type": "code",
      "source": [
        "# lv 1\n",
        "# 음양 더하기\n",
        "\n",
        "def solution(absolutes, signs):\n",
        "    answer = 123456789\n",
        "    true = True\n",
        "    false = False\n",
        "    sum = 0\n",
        "    for i in range(len(absolutes)):\n",
        "      if signs[i] == true:\n",
        "        sum += absolutes[i]\n",
        "      else:\n",
        "        sum -= absolutes[i]\n",
        "    return sum\n",
        "\n",
        "absolutes = [4,7,12]\n",
        "signs = [true,false,true]\n",
        "solution(absolutes, signs)"
      ],
      "metadata": {
        "id": "k8uEBwUgvsmL"
      },
      "execution_count": null,
      "outputs": []
    },
    {
      "cell_type": "code",
      "source": [
        "# 다른사람 풀이\n",
        "# 진심 놀라움..\n",
        "\n",
        "def solution(absolutes, signs):\n",
        "    return sum(absolutes if sign else -absolutes for absolutes, sign in zip(absolutes, signs))\n",
        "\n",
        "absolutes = [4,7,12]\n",
        "signs = [true,false,true]\n",
        "solution(absolutes, signs)"
      ],
      "metadata": {
        "id": "Z20wBLBG_QQS"
      },
      "execution_count": null,
      "outputs": []
    },
    {
      "cell_type": "code",
      "source": [
        "# lv 1\n",
        "# 소수 만들기\n",
        "# from itertools import combinations (참조)\n",
        "# nums = [1, 2, 3, 4]\n",
        "# combi = list(combinations(nums, 3))\n",
        "# combi\n",
        "\n",
        "from itertools import combinations\n",
        "def solution(nums):\n",
        "  answer = 0\n",
        "  combi = list(combinations(nums, 3))\n",
        "  \n",
        "  for i in combi:\n",
        "    for j in range(2, sum(i)+1):\n",
        "      if sum(i) == j:\n",
        "        answer += 1\n",
        "      elif sum(i) % j == 0:\n",
        "        break\n",
        "\n",
        "  return answer\n",
        "\n",
        "nums = [1,2,7,6,4]\n",
        "solution(nums)"
      ],
      "metadata": {
        "id": "jZcxSDOECyvQ"
      },
      "execution_count": null,
      "outputs": []
    },
    {
      "cell_type": "code",
      "source": [
        "# 끌리는 다른풀이를 못찾음.."
      ],
      "metadata": {
        "id": "YwgMSx5kNli_"
      },
      "execution_count": null,
      "outputs": []
    },
    {
      "cell_type": "code",
      "source": [
        "# # lv 1\n",
        "# K번째수\n",
        "\n",
        "def solution(array, commands):\n",
        "  answer = []\n",
        "  for i, j, k in commands:\n",
        "    arr = array[i-1:j]\n",
        "    arr.sort()\n",
        "    answer.append(arr[k-1])\n",
        "\n",
        "  return answer\n",
        "\n",
        "array = [1, 5, 2, 6, 3, 7, 4]\n",
        "commands = [[2, 5, 3], [4, 4, 1], [1, 7, 3]]\n",
        "solution(array, commands)\n",
        "## [5, 6, 3]"
      ],
      "metadata": {
        "id": "r3a3CdV-Pg83"
      },
      "execution_count": null,
      "outputs": []
    },
    {
      "cell_type": "code",
      "source": [
        "# 다름사람 풀이\n",
        "\n",
        "def solution(array, commands):\n",
        "    return list(map(lambda x:sorted(array[x[0]-1:x[1]])[x[2]-1], commands))\n",
        "\n",
        "array = [1, 5, 2, 6, 3, 7, 4]\n",
        "commands = [[2, 5, 3], [4, 4, 1], [1, 7, 3]]\n",
        "solution(array, commands)"
      ],
      "metadata": {
        "id": "urBbivkbHc1O"
      },
      "execution_count": null,
      "outputs": []
    },
    {
      "cell_type": "code",
      "source": [
        "# # lv 1\n",
        "# 체육복\n",
        "\n",
        "def solution(n, lost, reserve):\n",
        "    answer = 0\n",
        "    return answer\n",
        "\n",
        "n = 3 # 학생수\n",
        "lost = [3] # 체육복 도난당한 학생 번호\n",
        "reserve = [1] # 체육복 여벌 학생 번호\n",
        "solution(n, lost, reserve)\n",
        "# = 5 # 수업 가능한 학생 수"
      ],
      "metadata": {
        "id": "jN4JH26iHowo"
      },
      "execution_count": null,
      "outputs": []
    },
    {
      "cell_type": "code",
      "source": [
        "# set사용\n",
        "set([2, 4]) - set([1, 2, 5]), set([1, 2, 5]) - set([2, 4])"
      ],
      "metadata": {
        "id": "HCO3GQStfwAj"
      },
      "execution_count": null,
      "outputs": []
    },
    {
      "cell_type": "markdown",
      "source": [
        "# SQL"
      ],
      "metadata": {
        "id": "EqwZyBLCV3a1"
      }
    },
    {
      "cell_type": "code",
      "source": [
        "# lv 1\n",
        "# 모든 레코드 조회하기\n",
        "SELECT *\n",
        "FROM ANIMAL_INS\n",
        "ORDER BY ANIMAL_ID"
      ],
      "metadata": {
        "id": "xprTryvBV6K8"
      },
      "execution_count": null,
      "outputs": []
    },
    {
      "cell_type": "code",
      "source": [
        "# lv 1\n",
        "# 최댓값 구하기\n",
        "SELECT MAX(DATETIME)\n",
        "FROM ANIMAL_INS"
      ],
      "metadata": {
        "id": "2pvuP1-IY9uC"
      },
      "execution_count": null,
      "outputs": []
    }
  ]
}