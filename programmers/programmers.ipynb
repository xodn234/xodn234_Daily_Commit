{
  "nbformat": 4,
  "nbformat_minor": 0,
  "metadata": {
    "colab": {
      "name": "programmers.ipynb",
      "private_outputs": true,
      "provenance": [],
      "authorship_tag": "ABX9TyOzfYMuX7RP3RqOAdz0+L0Y",
      "include_colab_link": true
    },
    "kernelspec": {
      "name": "python3",
      "display_name": "Python 3"
    },
    "language_info": {
      "name": "python"
    }
  },
  "cells": [
    {
      "cell_type": "markdown",
      "metadata": {
        "id": "view-in-github",
        "colab_type": "text"
      },
      "source": [
        "<a href=\"https://colab.research.google.com/github/xodn234/xodn234_Daily_Commit/blob/main/programmers/programmers.ipynb\" target=\"_parent\"><img src=\"https://colab.research.google.com/assets/colab-badge.svg\" alt=\"Open In Colab\"/></a>"
      ]
    },
    {
      "cell_type": "code",
      "execution_count": null,
      "metadata": {
        "id": "_FlqtGfEH2ol"
      },
      "outputs": [],
      "source": [
        "# lv 1\n",
        "# 신고 결과 받기"
      ]
    }
  ]
}