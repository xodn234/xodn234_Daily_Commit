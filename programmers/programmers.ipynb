{
  "nbformat": 4,
  "nbformat_minor": 0,
  "metadata": {
    "colab": {
      "name": "programmers.ipynb",
      "private_outputs": true,
      "provenance": [],
      "authorship_tag": "ABX9TyM/ZJFC3aPMQi0AVrVv/ojp",
      "include_colab_link": true
    },
    "kernelspec": {
      "name": "python3",
      "display_name": "Python 3"
    },
    "language_info": {
      "name": "python"
    }
  },
  "cells": [
    {
      "cell_type": "markdown",
      "metadata": {
        "id": "view-in-github",
        "colab_type": "text"
      },
      "source": [
        "<a href=\"https://colab.research.google.com/github/xodn234/xodn234_Daily_Commit/blob/main/programmers/programmers.ipynb\" target=\"_parent\"><img src=\"https://colab.research.google.com/assets/colab-badge.svg\" alt=\"Open In Colab\"/></a>"
      ]
    },
    {
      "cell_type": "markdown",
      "source": [
        "# https://programmers.co.kr/"
      ],
      "metadata": {
        "id": "8f563x9bKPeN"
      }
    },
    {
      "cell_type": "code",
      "execution_count": null,
      "metadata": {
        "id": "_FlqtGfEH2ol"
      },
      "outputs": [],
      "source": [
        "# lv 1\n",
        "# 로또의 최고 순위와 최저 순위\n",
        "\n",
        "def solution(lottos, win_nums):\n",
        "  answer = []\n",
        "  zero = lottos.count(0)\n",
        "  rank = 1\n",
        "  for i in lottos:\n",
        "    if i not in win_nums:\n",
        "      rank += 1\n",
        "\n",
        "  answer.append(rank - zero)\n",
        "  \n",
        "  if rank == 7:\n",
        "    answer.append(6)\n",
        "  else:\n",
        "    answer.append(rank)\n",
        "  return answer\n",
        "\n",
        "lottos = [1, 2, 3, 4, 5, 6]\n",
        "win_nums = [38, 19, 20, 40, 15, 25]\n",
        "solution(lottos, win_nums)\n",
        "\n",
        "# 정확성: 93.3 "
      ]
    },
    {
      "cell_type": "code",
      "source": [
        "# 다시 풀이\n",
        "def solution(lottos, win_nums):\n",
        "  answer = []\n",
        "  zero = lottos.count(0)\n",
        "  num_count = [i for i in lottos if i in win_nums]\n",
        "  rank = 7 - len(num_count)\n",
        "  if rank == 7 and zero == 0:\n",
        "    rank = 6\n",
        "  answer.append(rank - zero)\n",
        "  if rank == 7:\n",
        "    rank = 6 \n",
        "  answer.append(rank)\n",
        "  return answer\n",
        "\n",
        "lottos = [0, 0, 0, 0, 0, 0]\n",
        "win_nums = [38, 19, 20, 40, 15, 25]\n",
        "solution(lottos, win_nums)"
      ],
      "metadata": {
        "id": "F4r2CKdIb_2T"
      },
      "execution_count": null,
      "outputs": []
    },
    {
      "cell_type": "code",
      "source": [
        "def solution(lottos, win_nums):\n",
        "\n",
        "    rank=[6,6,5,4,3,2,1]\n",
        "\n",
        "    cnt_0 = lottos.count(0)\n",
        "    ans = 0\n",
        "    for x in win_nums:\n",
        "        if x in lottos:\n",
        "            ans += 1\n",
        "    return rank[cnt_0 + ans],rank[ans]"
      ],
      "metadata": {
        "id": "SWZZ7xctN3tc"
      },
      "execution_count": null,
      "outputs": []
    },
    {
      "cell_type": "code",
      "source": [
        "# lv 1\n",
        "# 숫자 문자열과 영단어\n",
        "\n",
        "def solution(s):\n",
        "    answer = 0\n",
        "    return answer"
      ],
      "metadata": {
        "id": "9Yql1XpDOb8d"
      },
      "execution_count": null,
      "outputs": []
    }
  ]
}