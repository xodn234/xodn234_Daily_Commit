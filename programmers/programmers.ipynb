{
  "nbformat": 4,
  "nbformat_minor": 0,
  "metadata": {
    "colab": {
      "name": "programmers.ipynb",
      "private_outputs": true,
      "provenance": [],
      "authorship_tag": "ABX9TyOOnLE9j+3SDPlYq5yqspg8",
      "include_colab_link": true
    },
    "kernelspec": {
      "name": "python3",
      "display_name": "Python 3"
    },
    "language_info": {
      "name": "python"
    }
  },
  "cells": [
    {
      "cell_type": "markdown",
      "metadata": {
        "id": "view-in-github",
        "colab_type": "text"
      },
      "source": [
        "<a href=\"https://colab.research.google.com/github/xodn234/xodn234_Daily_Commit/blob/main/programmers/programmers.ipynb\" target=\"_parent\"><img src=\"https://colab.research.google.com/assets/colab-badge.svg\" alt=\"Open In Colab\"/></a>"
      ]
    },
    {
      "cell_type": "markdown",
      "source": [
        "# https://programmers.co.kr/"
      ],
      "metadata": {
        "id": "8f563x9bKPeN"
      }
    },
    {
      "cell_type": "code",
      "execution_count": null,
      "metadata": {
        "id": "_FlqtGfEH2ol"
      },
      "outputs": [],
      "source": [
        "# lv 1\n",
        "# 로또의 최고 순위와 최저 순위\n",
        "\n",
        "def solution(lottos, win_nums):\n",
        "  answer = []\n",
        "  zero = lottos.count(0)\n",
        "  rank = 1\n",
        "  for i in lottos:\n",
        "    if i not in win_nums:\n",
        "      rank += 1\n",
        "\n",
        "  answer.append(rank - zero)\n",
        "  \n",
        "  if rank == 7:\n",
        "    answer.append(6)\n",
        "  else:\n",
        "    answer.append(rank)\n",
        "  return answer\n",
        "\n",
        "lottos = [1, 2, 3, 4, 5, 6]\n",
        "win_nums = [38, 19, 20, 40, 15, 25]\n",
        "solution(lottos, win_nums)\n",
        "\n",
        "# 정확성: 93.3 "
      ]
    },
    {
      "cell_type": "code",
      "source": [
        "# 다시 풀이\n",
        "def solution(lottos, win_nums):\n",
        "  answer = []\n",
        "  zero = lottos.count(0)\n",
        "  num_count = [i for i in lottos if i in win_nums]\n",
        "  rank = 7 - len(num_count)\n",
        "  if rank == 7 and zero == 0:\n",
        "    rank = 6\n",
        "  answer.append(rank - zero)\n",
        "  if rank == 7:\n",
        "    rank = 6 \n",
        "  answer.append(rank)\n",
        "  return answer\n",
        "\n",
        "lottos = [0, 0, 0, 0, 0, 0]\n",
        "win_nums = [38, 19, 20, 40, 15, 25]\n",
        "solution(lottos, win_nums)"
      ],
      "metadata": {
        "id": "F4r2CKdIb_2T"
      },
      "execution_count": null,
      "outputs": []
    },
    {
      "cell_type": "code",
      "source": [
        "# 다른사람 풀이\n",
        "\n",
        "def solution(lottos, win_nums):\n",
        "\n",
        "    rank=[6,6,5,4,3,2,1]\n",
        "\n",
        "    cnt_0 = lottos.count(0)\n",
        "    ans = 0\n",
        "    for x in win_nums:\n",
        "        if x in lottos:\n",
        "            ans += 1\n",
        "    return rank[cnt_0 + ans],rank[ans]"
      ],
      "metadata": {
        "id": "SWZZ7xctN3tc"
      },
      "execution_count": null,
      "outputs": []
    },
    {
      "cell_type": "code",
      "source": [
        "# lv 1\n",
        "# 숫자 문자열과 영단어\n",
        "\n",
        "def solution(s):\n",
        "  answer = s\n",
        "  num = {'0':'zero', '1':'one', '2':'two', '3':'three', '4':'four', '5':'five', '6':'six', '7':'seven', '8':'eight', '9':'nine'}\n",
        "  for i in range(10):\n",
        "    if num[str(i)] in answer:\n",
        "      answer = answer.replace(num[str(i)], str(i))\n",
        "  return int(answer)\n",
        "\n",
        "solution(\"23four5six7\")"
      ],
      "metadata": {
        "id": "woRys2WDI98w"
      },
      "execution_count": null,
      "outputs": []
    },
    {
      "cell_type": "code",
      "source": [
        "# 다른사람 풀이\n",
        "\n",
        "num_dic = {\"zero\":\"0\", \"one\":\"1\", \"two\":\"2\", \"three\":\"3\", \"four\":\"4\", \"five\":\"5\", \"six\":\"6\", \"seven\":\"7\", \"eight\":\"8\", \"nine\":\"9\"}\n",
        "\n",
        "def solution(s):\n",
        "    answer = s\n",
        "    for key, value in num_dic.items():\n",
        "        answer = answer.replace(key, value)\n",
        "    return int(answer)\n",
        "\n",
        "solution(\"23four5six7\")"
      ],
      "metadata": {
        "id": "4ThEG2ScOEmi"
      },
      "execution_count": null,
      "outputs": []
    },
    {
      "cell_type": "code",
      "source": [
        "# lv 1\n",
        "# 크레인 인형뽑기 게임\n",
        "def solution(board, moves):\n",
        "  answer = 0\n",
        "  pick = []\n",
        "\n",
        "  for i in moves:\n",
        "    for j in range(len(board)):\n",
        "      if board[j][i-1] != 0:\n",
        "        pick.append(board[j][i-1])\n",
        "        board[j][i-1] = 0\n",
        "        break\n",
        "\n",
        "    if len(pick) >= 2 and pick[-1] == pick[-2]:\n",
        "      answer += 2\n",
        "      pick = pick[:-2]\n",
        "\n",
        "  return answer\n",
        "\n",
        "\n",
        "\n",
        "board = [[0,0,0,0,0],[0,0,1,0,3],[0,2,5,0,1],[4,2,4,4,2],[3,5,1,3,1]]\n",
        "moves = [1,5,3,5,1,2,1,4]\n",
        "solution(board, moves)\n",
        "\n",
        "### 답은 맞는데 채점은 왜 틀릴까?"
      ],
      "metadata": {
        "id": "tMA5IPKr3n5s"
      },
      "execution_count": null,
      "outputs": []
    },
    {
      "cell_type": "code",
      "source": [
        "# 다른사람 풀이\n",
        "\n",
        "def solution(board, moves):\n",
        "    picked = []\n",
        "    ans = 0\n",
        "    for move in moves:\n",
        "        x = move - 1\n",
        "        for i in range(len(board)):\n",
        "            if board[i][x] != 0:\n",
        "                picked.append(board[i][x])\n",
        "                board[i][x] = 0\n",
        "                break\n",
        "        \n",
        "        if len(picked) > 1:\n",
        "            if picked[-1] == picked[-2]:\n",
        "                picked.pop()\n",
        "                picked.pop()\n",
        "                ans += 2\n",
        "    \n",
        "    return ans\n",
        "\n",
        "board = [[0,0,0,0,0],[0,0,1,0,3],[0,2,5,0,1],[4,2,4,4,2],[3,5,1,3,1]]\n",
        "moves = [1,5,3,5,1,2,1,4]\n",
        "solution(board, moves)"
      ],
      "metadata": {
        "id": "5lylJWV9mvlk"
      },
      "execution_count": null,
      "outputs": []
    },
    {
      "cell_type": "code",
      "source": [
        "# lv 1\n",
        "# 음양 더하기\n",
        "\n",
        "def solution(absolutes, signs):\n",
        "    answer = 123456789\n",
        "    true = True\n",
        "    false = False\n",
        "    sum = 0\n",
        "    for i in range(len(absolutes)):\n",
        "      if signs[i] == true:\n",
        "        sum += absolutes[i]\n",
        "      else:\n",
        "        sum -= absolutes[i]\n",
        "    return sum\n",
        "\n",
        "absolutes = [4,7,12]\n",
        "signs = [true,false,true]\n",
        "solution(absolutes, signs)"
      ],
      "metadata": {
        "id": "k8uEBwUgvsmL"
      },
      "execution_count": null,
      "outputs": []
    },
    {
      "cell_type": "code",
      "source": [
        "# 다른사람 풀이\n",
        "# 진심 놀라움..\n",
        "\n",
        "def solution(absolutes, signs):\n",
        "    return sum(absolutes if sign else -absolutes for absolutes, sign in zip(absolutes, signs))\n",
        "\n",
        "absolutes = [4,7,12]\n",
        "signs = [true,false,true]\n",
        "solution(absolutes, signs)"
      ],
      "metadata": {
        "id": "Z20wBLBG_QQS"
      },
      "execution_count": null,
      "outputs": []
    },
    {
      "cell_type": "code",
      "source": [
        "# lv 1\n",
        "# 소수 만들기\n",
        "# from itertools import combinations (참조)\n",
        "# nums = [1, 2, 3, 4]\n",
        "# combi = list(combinations(nums, 3))\n",
        "# combi\n",
        "\n",
        "from itertools import combinations\n",
        "def solution(nums):\n",
        "  answer = 0\n",
        "  combi = list(combinations(nums, 3))\n",
        "  \n",
        "  for i in combi:\n",
        "    for j in range(2, sum(i)+1):\n",
        "      if sum(i) == j:\n",
        "        answer += 1\n",
        "      elif sum(i) % j == 0:\n",
        "        break\n",
        "\n",
        "  return answer\n",
        "\n",
        "nums = [1,2,7,6,4]\n",
        "solution(nums)"
      ],
      "metadata": {
        "id": "jZcxSDOECyvQ"
      },
      "execution_count": null,
      "outputs": []
    },
    {
      "cell_type": "code",
      "source": [
        "# 끌리는 다른풀이를 못찾음.."
      ],
      "metadata": {
        "id": "YwgMSx5kNli_"
      },
      "execution_count": null,
      "outputs": []
    },
    {
      "cell_type": "code",
      "source": [
        "# # lv 1\n",
        "# K번째수\n",
        "\n",
        "def solution(array, commands):\n",
        "  answer = []\n",
        "  for i, j, k in commands:\n",
        "    arr = array[i-1:j]\n",
        "    arr.sort()\n",
        "    answer.append(arr[k-1])\n",
        "\n",
        "  return answer\n",
        "\n",
        "array = [1, 5, 2, 6, 3, 7, 4]\n",
        "commands = [[2, 5, 3], [4, 4, 1], [1, 7, 3]]\n",
        "solution(array, commands)\n",
        "## [5, 6, 3]"
      ],
      "metadata": {
        "id": "r3a3CdV-Pg83"
      },
      "execution_count": null,
      "outputs": []
    },
    {
      "cell_type": "code",
      "source": [
        "# 다름사람 풀이\n",
        "\n",
        "def solution(array, commands):\n",
        "    return list(map(lambda x:sorted(array[x[0]-1:x[1]])[x[2]-1], commands))\n",
        "\n",
        "array = [1, 5, 2, 6, 3, 7, 4]\n",
        "commands = [[2, 5, 3], [4, 4, 1], [1, 7, 3]]\n",
        "solution(array, commands)"
      ],
      "metadata": {
        "id": "urBbivkbHc1O"
      },
      "execution_count": null,
      "outputs": []
    },
    {
      "cell_type": "code",
      "source": [
        "# # lv 1\n",
        "# 체육복\n",
        "\n",
        "def solution(n, lost, reserve):\n",
        "    reserve_set = set(reserve)-set(lost) \n",
        "    lost_set = set(lost)-set(reserve) \n",
        "    \n",
        "    for reserve_person in reserve_set: \n",
        "        if reserve_person-1 in lost_set: \n",
        "            lost_set.remove(reserve_person-1) \n",
        "        elif reserve_person+1 in lost_set: \n",
        "            lost_set.remove(reserve_person+1) \n",
        "    \n",
        "    return n-len(lost_set)\n",
        "\n",
        "n = 3 # 학생수\n",
        "lost = [3] # 체육복 도난당한 학생 번호\n",
        "reserve = [1] # 체육복 여벌 학생 번호\n",
        "solution(n, lost, reserve)\n",
        "# = 5 # 수업 가능한 학생 수"
      ],
      "metadata": {
        "id": "jN4JH26iHowo"
      },
      "execution_count": null,
      "outputs": []
    },
    {
      "cell_type": "code",
      "source": [
        "# # lv 1\n",
        "# 2016년\n",
        "def solution(a, b):\n",
        "  day = [\"THU\",\"FRI\",\"SAT\",\"SUN\",\"MON\",\"TUE\",\"WED\"]\n",
        "  mon = [31, 29, 31, 30, 31, 30 , 31, 31, 30, 31, 30, 31]\n",
        "  return day[(sum(mon[:a-1]) + b) % 7]"
      ],
      "metadata": {
        "id": "oBdMNygeIcJg"
      },
      "execution_count": null,
      "outputs": []
    },
    {
      "cell_type": "code",
      "source": [
        "# # lv 1\n",
        "# 폰켓몬\n",
        "def solution(nums):\n",
        "    max_num = int(len(nums) / 2)\n",
        "    nums_set = len(set(nums))\n",
        "    answer = min(max_num, nums_set)\n",
        "    return answer"
      ],
      "metadata": {
        "id": "LD3CueY1qa7f"
      },
      "execution_count": null,
      "outputs": []
    },
    {
      "cell_type": "code",
      "source": [
        "# # lv 1\n",
        "# 같은 숫자는 싫어\n",
        "def solution(arr):\n",
        "    result = []\n",
        "    result.append(arr[0])\n",
        "    for i in range(1, len(arr)):\n",
        "      if arr[i] != arr[i-1]:\n",
        "        result.append(arr[i])\n",
        "    return result"
      ],
      "metadata": {
        "id": "0o9Fd-Q8ezn4"
      },
      "execution_count": null,
      "outputs": []
    },
    {
      "cell_type": "code",
      "source": [
        "# 시간초과\n",
        "def solution(arr):\n",
        "    for i in range(len(arr)-1, 0, -1):\n",
        "      if arr[i] == arr[i-1]:\n",
        "        del arr[i-1]\n",
        "    return arr"
      ],
      "metadata": {
        "id": "vp_lRc3kjyL8"
      },
      "execution_count": null,
      "outputs": []
    },
    {
      "cell_type": "code",
      "source": [
        "# # lv 1\n",
        "# 가운데 글자 가져오기\n",
        "def solution(s):\n",
        "  num = len(s) % 2\n",
        "  if num == 0:\n",
        "    num = len(s) // 2\n",
        "    return s[num-1:num+1]\n",
        "  else:\n",
        "    num = len(s) // 2\n",
        "    return s[num]"
      ],
      "metadata": {
        "id": "KhCpaKDylxUj"
      },
      "execution_count": null,
      "outputs": []
    },
    {
      "cell_type": "code",
      "source": [
        "# 다른사람 풀이\n",
        "def string_middle(str):\n",
        "\n",
        "    return str[(len(str)-1)//2:len(str)//2+1]\n",
        "\n",
        "string_middle(\"power\")"
      ],
      "metadata": {
        "id": "-OxEsTpIfHxO"
      },
      "execution_count": null,
      "outputs": []
    },
    {
      "cell_type": "code",
      "source": [
        "# # lv 1\n",
        "# 직사각형 별찍기\n",
        "a, b = map(int, input().strip().split(' '))\n",
        "for i in range(b):\n",
        "  print('*' * a)"
      ],
      "metadata": {
        "id": "WLy8PeO0gBWR"
      },
      "execution_count": null,
      "outputs": []
    },
    {
      "cell_type": "code",
      "source": [
        "# # lv 1\n",
        "# x만큼 간격이 있는 n개의 숫자\n",
        "def solution(x, n):\n",
        "    return [i*x+x for i in range(n)]"
      ],
      "metadata": {
        "id": "7SuCO2SogeeA"
      },
      "execution_count": null,
      "outputs": []
    },
    {
      "cell_type": "code",
      "source": [
        "# # lv 1\n",
        "# 행렬의 덧셈\n",
        "def solution(arr1, arr2):\n",
        "    for i in range(len(arr1)):\n",
        "      for j in range(len(arr1[0])):\n",
        "        arr1[i][j] = arr1[i][j] + arr2[i][j]\n",
        "    return arr1"
      ],
      "metadata": {
        "id": "5SJqsvjVieIo"
      },
      "execution_count": null,
      "outputs": []
    },
    {
      "cell_type": "code",
      "source": [
        "# 다른사람 풀이\n",
        "def sumMatrix(A,B):\n",
        "    answer = [[c + d for c, d in zip(a, b)] for a, b in zip(A,B)]\n",
        "    return answer\n",
        "\n",
        "print(sumMatrix([[1,2], [2,3]], [[3,4],[5,6]]))"
      ],
      "metadata": {
        "id": "xYu5A1BvZ65j"
      },
      "execution_count": null,
      "outputs": []
    },
    {
      "cell_type": "code",
      "source": [
        "# lv 1\n",
        "# 핸드폰 번호 가리기\n",
        "def solution(phone_number):\n",
        "    answer = phone_number.replace(phone_number[:-4], '*' * len(phone_number[:-4]))\n",
        "    return answer"
      ],
      "metadata": {
        "id": "EsFZr06AaL7r"
      },
      "execution_count": null,
      "outputs": []
    },
    {
      "cell_type": "code",
      "source": [
        "# 다른사람 풀이\n",
        "def hide_numbers(s):\n",
        "    return \"*\"*(len(s)-4) + s[-4:]\n",
        "\n",
        "print(\"결과 : \" + hide_numbers('01033334444'));"
      ],
      "metadata": {
        "id": "V_9qM-tLaP1C"
      },
      "execution_count": null,
      "outputs": []
    },
    {
      "cell_type": "code",
      "source": [
        "# lv 1\n",
        "# 하샤드 수\n",
        "def solution(x):\n",
        "  add = 0\n",
        "  for i in str(x):\n",
        "    add += int(i)\n",
        "  return x % add == 0"
      ],
      "metadata": {
        "id": "LM3NiE4ifvbr"
      },
      "execution_count": null,
      "outputs": []
    },
    {
      "cell_type": "code",
      "source": [
        "# 다른사람 풀이\n",
        "def Harshad(n):\n",
        "    return n % sum([int(c) for c in str(n)]) == 0\n",
        "\n",
        "print(Harshad(18))"
      ],
      "metadata": {
        "id": "ltglKiA9k89J"
      },
      "execution_count": null,
      "outputs": []
    },
    {
      "cell_type": "code",
      "source": [
        "# lv 1\n",
        "# 평균 구하기\n",
        "def solution(arr):\n",
        "    answer = sum(arr) / len(arr)\n",
        "    return answer"
      ],
      "metadata": {
        "id": "5m_c4BP3lJNW"
      },
      "execution_count": null,
      "outputs": []
    },
    {
      "cell_type": "code",
      "source": [
        "# lv 1\n",
        "# 콜라츠 추측\n",
        "def solution(num):\n",
        "  answer = 0\n",
        "  while True:\n",
        "    if num != 1:\n",
        "      if num % 2 == 0:\n",
        "        num //= 2\n",
        "        answer += 1\n",
        "      else:\n",
        "        num = (num*3 + 1)\n",
        "        answer += 1\n",
        "    elif answer >= 500:\n",
        "      answer = -1\n",
        "      break\n",
        "    else:\n",
        "      break\n",
        "  return answer"
      ],
      "metadata": {
        "id": "qsLfn43pQL1g"
      },
      "execution_count": null,
      "outputs": []
    },
    {
      "cell_type": "code",
      "source": [
        "# 다른 풀이\n",
        "def collatz(num):\n",
        "    for i in range(500):\n",
        "        num = num / 2 if num % 2 == 0 else num*3 + 1\n",
        "        if num == 1:\n",
        "            return i + 1\n",
        "    return -1"
      ],
      "metadata": {
        "id": "F0bTkj1XSnqs"
      },
      "execution_count": null,
      "outputs": []
    },
    {
      "cell_type": "code",
      "source": [
        "# lv 1\n",
        "# 짝수와 홀수\n",
        "def solution(num):\n",
        "    if num % 2 == 0:\n",
        "      return 'Even'\n",
        "    else:\n",
        "      return 'Odd'"
      ],
      "metadata": {
        "id": "VtNX-pkMU3ud"
      },
      "execution_count": null,
      "outputs": []
    },
    {
      "cell_type": "code",
      "source": [
        "# 다른사람 풀이\n",
        "def evenOrOdd(num):\n",
        "    return \"Even\" if num%2 == 0 else \"Odd\""
      ],
      "metadata": {
        "id": "UOhO66r2NX2O"
      },
      "execution_count": null,
      "outputs": []
    },
    {
      "cell_type": "code",
      "source": [
        "# lv 1\n",
        "# 최대공약수와 최소공배수 (유클리드 호제법)\n",
        "def solution(n, m):\n",
        "\n",
        "# 최대 공약수\n",
        "  def gdc(x, y):\n",
        "      while y > 0:\n",
        "          x, y = y, x % y\n",
        "      return x\n",
        "\n",
        "  # 최소 공배수\n",
        "  def lcm(x, y):\n",
        "      return x * y // gdc(x, y)\n",
        "\n",
        "  ans = []\n",
        "  ans.append(gdc(n, m))\n",
        "  ans.append(lcm(n, m))\n",
        "\n",
        "  return ans"
      ],
      "metadata": {
        "id": "5vtIgEDwNg7d"
      },
      "execution_count": null,
      "outputs": []
    },
    {
      "cell_type": "code",
      "source": [
        "# lv 1\n",
        "# 제일 작은 수 제거하기\n",
        "def solution(arr):\n",
        "  if len(arr) > 1:\n",
        "    arr.remove(min(arr))\n",
        "    return arr\n",
        "  else:\n",
        "    return [-1]"
      ],
      "metadata": {
        "id": "nw3RuCEYU2IA"
      },
      "execution_count": null,
      "outputs": []
    },
    {
      "cell_type": "code",
      "source": [
        "# 다른 사람 풀이\n",
        "def rm_small(mylist):\n",
        "    return [i for i in mylist if i > min(mylist)]\n",
        "\n",
        "# 아래는 테스트로 출력해 보기 위한 코드입니다.\n",
        "my_list = [4,3,2,1]\n",
        "print(\"결과 {} \".format(rm_small(my_list)))"
      ],
      "metadata": {
        "id": "SphhTKGCVN3l"
      },
      "execution_count": null,
      "outputs": []
    },
    {
      "cell_type": "code",
      "source": [
        "# lv 1\n",
        "# 정수 제곱근 판별\n",
        "def solution(n):\n",
        "  n_2 = n**(1/2)\n",
        "  if n_2 == int(n_2):\n",
        "    return int((n_2+1)**2)\n",
        "  else:\n",
        "    return -1"
      ],
      "metadata": {
        "id": "1OUSCXr_XyBz"
      },
      "execution_count": null,
      "outputs": []
    },
    {
      "cell_type": "code",
      "source": [
        "# lv 1\n",
        "# 정수 내림차순으로 배치하기\n",
        "def solution(n):\n",
        "\n",
        "  nn = [int(i) for i in str(n)]\n",
        "  nn.sort(reverse=True)\n",
        "\n",
        "  ans = ''\n",
        "  for i in nn:\n",
        "    ans += str(i)\n",
        "\n",
        "  return int(ans)"
      ],
      "metadata": {
        "id": "BQyGMJyc78j_"
      },
      "execution_count": null,
      "outputs": []
    },
    {
      "cell_type": "code",
      "source": [
        "### 다른사람 풀이\n",
        "def solution(n):\n",
        "    ls = list(str(n))\n",
        "    ls.sort(reverse = True)\n",
        "    return int(\"\".join(ls))"
      ],
      "metadata": {
        "id": "5bSWHRIOA0xe"
      },
      "execution_count": null,
      "outputs": []
    },
    {
      "cell_type": "code",
      "source": [
        "# lv 1\n",
        "# 자연수 뒤집어 배열로 만들기\n",
        "def solution(n):\n",
        "  nn = list(str(n))\n",
        "  nn.reverse()\n",
        "  for num, i in enumerate(nn):\n",
        "    nn[num] = int(i)\n",
        "  return nn"
      ],
      "metadata": {
        "id": "RlP0YEG0MPZe"
      },
      "execution_count": null,
      "outputs": []
    },
    {
      "cell_type": "code",
      "source": [
        "# 다른사람 풀이\n",
        "def digit_reverse(n):\n",
        "    return list(map(int, reversed(str(n))))"
      ],
      "metadata": {
        "id": "mGlGG0nZOBRJ"
      },
      "execution_count": null,
      "outputs": []
    },
    {
      "cell_type": "code",
      "source": [
        "# lv 1\n",
        "# 자릿수 더하기\n",
        "def solution(n):\n",
        "    return sum(list(map(int, str(n))))"
      ],
      "metadata": {
        "id": "QL3m6BsoOYva"
      },
      "execution_count": null,
      "outputs": []
    },
    {
      "cell_type": "code",
      "source": [
        "# lv 1\n",
        "# 이상한 문자 만들기\n",
        "def solution(s):\n",
        "\n",
        "    s_new = s.split(' ')\n",
        "    ans = ''\n",
        "    for num, i in enumerate(s_new):\n",
        "      for j in range(len(i)):\n",
        "        if j % 2 == 0:\n",
        "          ans += s_new[num][j].upper()\n",
        "        else:\n",
        "          ans += s_new[num][j].lower()\n",
        "      if num != len(s_new)-1:\n",
        "        ans += ' '\n",
        "    return ans"
      ],
      "metadata": {
        "id": "gjY6dDA9Pa60"
      },
      "execution_count": null,
      "outputs": []
    },
    {
      "cell_type": "code",
      "source": [
        "# 다른사람 풀이\n",
        "def toWeirdCase(s):\n",
        "    return \" \".join(map(lambda x: \"\".join([a.lower() if i % 2 else a.upper() for i, a in enumerate(x)]), s.split(\" \")))"
      ],
      "metadata": {
        "id": "kxrV_8fQDPO-"
      },
      "execution_count": null,
      "outputs": []
    },
    {
      "cell_type": "code",
      "source": [
        "# lv 1\n",
        "# 약수의 합\n",
        "def solution(n):\n",
        "    return  sum([i for i in range(1, n+1) if n % i == 0])"
      ],
      "metadata": {
        "id": "1xD-ICWYDm4d"
      },
      "execution_count": null,
      "outputs": []
    },
    {
      "cell_type": "code",
      "source": [
        "# lv 1\n",
        "# 시저 암호\n",
        "def solution(s, n):\n",
        "  \n",
        "  low = [chr(i) for i in range(97, 97+26)] * 2\n",
        "  up = [chr(i) for i in range(65, 65+26)] * 2\n",
        "\n",
        "  ans = ''\n",
        "  for i in s:\n",
        "    if i in low:\n",
        "      ans += low[low.index(i) + n]\n",
        "    elif i in up:\n",
        "      ans += up[up.index(i) + n]\n",
        "    else:\n",
        "      ans += i\n",
        "\n",
        "  return ans"
      ],
      "metadata": {
        "id": "vmBUmIU9VQsd"
      },
      "execution_count": null,
      "outputs": []
    },
    {
      "cell_type": "code",
      "source": [
        "# lv 1\n",
        "# 문자열을 정수로 바꾸기\n",
        "def solution(s):\n",
        "  if type(s) == str:\n",
        "    return int(s)\n",
        "  else:\n",
        "    return str(s)"
      ],
      "metadata": {
        "id": "dgzPxk5gbAgc"
      },
      "execution_count": null,
      "outputs": []
    },
    {
      "cell_type": "code",
      "source": [
        "# lv 1\n",
        "# 수박수박수박수박수박수?\n",
        "def solution(n):\n",
        "  su = '수'\n",
        "  bak = '박'\n",
        "\n",
        "  ans = ''\n",
        "\n",
        "  for i in range(1, n+1):\n",
        "    if i % 2 == 0:\n",
        "      ans += bak\n",
        "    else:\n",
        "      ans += su\n",
        "\n",
        "  return ans"
      ],
      "metadata": {
        "id": "1z7ls1V1boEn"
      },
      "execution_count": null,
      "outputs": []
    },
    {
      "cell_type": "code",
      "source": [
        "# 다른사람 풀이\n",
        "def water_melon(n):\n",
        "    s = \"수박\" * n\n",
        "    return s[:n]"
      ],
      "metadata": {
        "id": "9BrDJZMWkB9J"
      },
      "execution_count": null,
      "outputs": []
    },
    {
      "cell_type": "code",
      "source": [
        "# lv 1\n",
        "# 서울에서 김서방 찾기\n",
        "def solution(seoul):\n",
        "  for num, i in enumerate(seoul):\n",
        "    if i == 'Kim':\n",
        "      return f'김서방은 {num}에 있다'"
      ],
      "metadata": {
        "id": "a1xUZPHYlWiO"
      },
      "execution_count": null,
      "outputs": []
    },
    {
      "cell_type": "code",
      "source": [
        "# 다른사람 풀이\n",
        "def findKim(seoul):\n",
        "    return \"김서방은 {}에 있다\".format(seoul.index('Kim'))"
      ],
      "metadata": {
        "id": "rIujg5ejQshJ"
      },
      "execution_count": null,
      "outputs": []
    },
    {
      "cell_type": "code",
      "source": [
        "# lv 1\n",
        "# 소수 찾기 (다시풀기)\n",
        "def solution(n):\n",
        "    num=set(range(2,n+1)) \n",
        "    for i in range(2,n+1): \n",
        "        if i in num: \n",
        "            num-=set(range(2*i,n+1,i)) \n",
        "    return len(num) "
      ],
      "metadata": {
        "id": "C_mVYHC_SZAH"
      },
      "execution_count": null,
      "outputs": []
    },
    {
      "cell_type": "code",
      "source": [
        "# lv 1\n",
        "# 문자열 다루기 기본\n",
        "def solution(s):\n",
        "    try:\n",
        "      int(s)\n",
        "      if len(s) == 4 or len(s) == 6:\n",
        "        return True\n",
        "      else:\n",
        "        return False\n",
        "    except:\n",
        "      return False"
      ],
      "metadata": {
        "id": "uOS6UsM4X_E6"
      },
      "execution_count": null,
      "outputs": []
    },
    {
      "cell_type": "code",
      "source": [
        "# 다른사람 풀이\n",
        "def alpha_string46(s):\n",
        "    return s.isdigit() and len(s) in (4, 6)"
      ],
      "metadata": {
        "id": "pf8sAU5sZMMm"
      },
      "execution_count": null,
      "outputs": []
    },
    {
      "cell_type": "code",
      "source": [
        "# lv 1\n",
        "# 문자열 내림차순으로 배치하기\n",
        "def solution(s):\n",
        "    answer = ''\n",
        "    return answer"
      ],
      "metadata": {
        "id": "JV9-6ZTMZXnE"
      },
      "execution_count": null,
      "outputs": []
    },
    {
      "cell_type": "code",
      "source": [
        "# 다른사람 풀이\n",
        "def solution(s):\n",
        "    return ''.join(sorted(s, reverse=True))"
      ],
      "metadata": {
        "id": "jEDDYZqzse8U"
      },
      "execution_count": null,
      "outputs": []
    },
    {
      "cell_type": "code",
      "source": [
        "# lv 1\n",
        "# 문자열 내 p와 y의 개수\n",
        "def solution(s):\n",
        "  s = s.lower()\n",
        "  return s.count('p') == s.count('y')"
      ],
      "metadata": {
        "id": "RSRTMOxqsm9e"
      },
      "execution_count": null,
      "outputs": []
    },
    {
      "cell_type": "code",
      "source": [
        "# lv 1\n",
        "# 문자열 내 마음대로 정렬하기\n",
        "def solution(strings, n):\n",
        "    return sorted(strings, key = lambda x:x[n])"
      ],
      "metadata": {
        "id": "3TgMsuldspnU"
      },
      "execution_count": null,
      "outputs": []
    },
    {
      "cell_type": "code",
      "source": [
        "# lv 1\n",
        "# 두 정수 사이의 합\n",
        "def solution(a, b):\n",
        "  if a < b:\n",
        "    return sum([i for i in range(a, b+1)])\n",
        "  elif a == b:\n",
        "    return a\n",
        "  else:\n",
        "    return sum([i for i in range(b, a+1)])"
      ],
      "metadata": {
        "id": "_wbDJNe5QfbQ"
      },
      "execution_count": null,
      "outputs": []
    },
    {
      "cell_type": "code",
      "source": [
        "# 다른사람 풀이\n",
        "def adder(a, b):\n",
        "    if a > b: a, b = b, a\n",
        "    return sum(range(a,b+1))"
      ],
      "metadata": {
        "id": "nhmoYgIGSpKQ"
      },
      "execution_count": null,
      "outputs": []
    },
    {
      "cell_type": "code",
      "source": [
        "# lv 1\n",
        "# 나누어 떨어지는 숫자 배열\n",
        "def solution(arr, divisor):\n",
        "  arr = [i for i in arr if i % divisor == 0]\n",
        "  if len(arr) == 0:\n",
        "    return [-1]\n",
        "  else:\n",
        "    arr.sort()\n",
        "    return arr"
      ],
      "metadata": {
        "id": "q8cYOGMDStr8"
      },
      "execution_count": null,
      "outputs": []
    },
    {
      "cell_type": "code",
      "source": [
        "# 다름사람 풀이\n",
        "def solution(arr, divisor):\n",
        "    arr = [x for x in arr if x % divisor == 0];\n",
        "    arr.sort();\n",
        "    return arr if len(arr) != 0 else [-1];"
      ],
      "metadata": {
        "id": "TpFX7G8SrmHg"
      },
      "execution_count": null,
      "outputs": []
    },
    {
      "cell_type": "code",
      "source": [
        "# lv 1\n",
        "# 나머지가 1이 되는 수 찾기\n",
        "def solution(n):\n",
        "    for i in range(2, n):\n",
        "      if n % i == 1:\n",
        "        return i"
      ],
      "metadata": {
        "id": "-byrtiK_sLYW"
      },
      "execution_count": null,
      "outputs": []
    },
    {
      "cell_type": "code",
      "source": [
        "# lv 1\n",
        "# 최소직사각형\n",
        "def solution(sizes):\n",
        "    return max(max(x) for x in sizes) * max(min(x) for x in sizes)"
      ],
      "metadata": {
        "id": "nOWv723zuiW5"
      },
      "execution_count": null,
      "outputs": []
    },
    {
      "cell_type": "code",
      "source": [
        "# lv 1\n",
        "# 부족한 금액 계산하기\n",
        "def solution(price, money, count):\n",
        "    answer = -1\n",
        "    b=0\n",
        "    for i in range(1,count+1):\n",
        "        b+=price*i  \n",
        "    if b>money:\n",
        "        answer=b-money  \n",
        "    else:\n",
        "        answer=0   \n",
        "    return answer"
      ],
      "metadata": {
        "id": "ZsWuofkBe5z0"
      },
      "execution_count": null,
      "outputs": []
    },
    {
      "cell_type": "code",
      "source": [
        "# 다른사람 풀이\n",
        "def solution(price, money, count):\n",
        "    return max(0,price*(count+1)*count//2-money)"
      ],
      "metadata": {
        "id": "Sw3ZvZii1Aho"
      },
      "execution_count": null,
      "outputs": []
    },
    {
      "cell_type": "code",
      "source": [
        "# lv 1\n",
        "# 두 개 뽑아서 더하기\n",
        "def solution(numbers):\n",
        "    ans = []\n",
        "    for i in range(len(numbers)):\n",
        "      for j in range(i+1, len(numbers)):\n",
        "        if numbers[i] + numbers[j] not in ans:\n",
        "          ans.append(numbers[i] + numbers[j])\n",
        "    ans.sort()\n",
        "    return ans"
      ],
      "metadata": {
        "id": "EWGGThgC1FnE"
      },
      "execution_count": null,
      "outputs": []
    },
    {
      "cell_type": "code",
      "source": [
        "# lv 1\n",
        "# 예산"
      ],
      "metadata": {
        "id": "nGp98Px10VSt"
      },
      "execution_count": null,
      "outputs": []
    },
    {
      "cell_type": "markdown",
      "source": [
        "# SQL"
      ],
      "metadata": {
        "id": "EqwZyBLCV3a1"
      }
    },
    {
      "cell_type": "code",
      "source": [
        "# lv 1\n",
        "# 모든 레코드 조회하기\n",
        "SELECT *\n",
        "FROM ANIMAL_INS\n",
        "ORDER BY ANIMAL_ID"
      ],
      "metadata": {
        "id": "xprTryvBV6K8"
      },
      "execution_count": null,
      "outputs": []
    },
    {
      "cell_type": "code",
      "source": [
        "# lv 1\n",
        "# 최댓값 구하기\n",
        "SELECT MAX(DATETIME)\n",
        "FROM ANIMAL_INS"
      ],
      "metadata": {
        "id": "2pvuP1-IY9uC"
      },
      "execution_count": null,
      "outputs": []
    },
    {
      "cell_type": "code",
      "source": [
        "# lv 1\n",
        "# 이름이 없는 동물의 아이디\n",
        "SELECT ANIMAL_ID\n",
        "FROM ANIMAL_INS\n",
        "WHERE NAME IS NULL"
      ],
      "metadata": {
        "id": "2Bo_DC_2Chuc"
      },
      "execution_count": null,
      "outputs": []
    },
    {
      "cell_type": "code",
      "source": [
        "# lv 1\n",
        "# 역순 정렬하기\n",
        "SELECT NAME, DATETIME\n",
        "FROM ANIMAL_INS\n",
        "ORDER BY ANIMAL_ID DESC"
      ],
      "metadata": {
        "id": "LwkpHqRfEY9R"
      },
      "execution_count": null,
      "outputs": []
    },
    {
      "cell_type": "code",
      "source": [
        "# lv 1\n",
        "# 아픈동물찾기\n",
        "SELECT ANIMAL_ID, NAME\n",
        "FROM ANIMAL_INS\n",
        "WHERE INTAKE_CONDITION = 'Sick'\n",
        "ORDER BY ANIMAL_ID ASC"
      ],
      "metadata": {
        "id": "x6NT_rjWJDc2"
      },
      "execution_count": null,
      "outputs": []
    },
    {
      "cell_type": "code",
      "source": [
        "# lv 1\n",
        "# 어린 동물 찾기\n",
        "SELECT ANIMAL_ID, NAME\n",
        "FROM ANIMAL_INS\n",
        "WHERE INTAKE_CONDITION != 'Aged'"
      ],
      "metadata": {
        "id": "lZgr2U_4L0wt"
      },
      "execution_count": null,
      "outputs": []
    },
    {
      "cell_type": "code",
      "source": [
        "# lv 1\n",
        "# 동물의 아이디와 이름\n",
        "SELECT ANIMAL_ID, NAME\n",
        "FROM ANIMAL_INS\n",
        "ORDER BY ANIMAL_ID ASC"
      ],
      "metadata": {
        "id": "Ppp6XNrfO140"
      },
      "execution_count": null,
      "outputs": []
    },
    {
      "cell_type": "code",
      "source": [
        "# lv 1\n",
        "# 이름이 있는 동물의 아이디\n",
        "SELECT ANIMAL_ID\n",
        "FROM ANIMAL_INS\n",
        "WHERE NAME IS NOT NULL"
      ],
      "metadata": {
        "id": "G5nl7z1t5K4b"
      },
      "execution_count": null,
      "outputs": []
    },
    {
      "cell_type": "code",
      "source": [
        "# lv 1\n",
        "# 여러 기준으로 정렬하기\n",
        "SELECT ANIMAL_ID, NAME, DATETIME\n",
        "FROM ANIMAL_INS\n",
        "ORDER BY NAME ASC, DATETIME DESC"
      ],
      "metadata": {
        "id": "a13MvNKJ6GKH"
      },
      "execution_count": null,
      "outputs": []
    },
    {
      "cell_type": "code",
      "source": [
        "# lv 1\n",
        "# 상위 n개 레코드\n",
        "SELECT NAME\n",
        "FROM ANIMAL_INS\n",
        "ORDER BY DATETIME ASC LIMIT 1"
      ],
      "metadata": {
        "id": "DrW_SWo-4Vak"
      },
      "execution_count": null,
      "outputs": []
    }
  ]
}