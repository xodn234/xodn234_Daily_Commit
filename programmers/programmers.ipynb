{
  "nbformat": 4,
  "nbformat_minor": 0,
  "metadata": {
    "colab": {
      "name": "programmers.ipynb",
      "private_outputs": true,
      "provenance": [],
      "authorship_tag": "ABX9TyNuy4WY/Wd+IVf4T4AqgTj2",
      "include_colab_link": true
    },
    "kernelspec": {
      "name": "python3",
      "display_name": "Python 3"
    },
    "language_info": {
      "name": "python"
    }
  },
  "cells": [
    {
      "cell_type": "markdown",
      "metadata": {
        "id": "view-in-github",
        "colab_type": "text"
      },
      "source": [
        "<a href=\"https://colab.research.google.com/github/xodn234/xodn234_Daily_Commit/blob/main/programmers/programmers.ipynb\" target=\"_parent\"><img src=\"https://colab.research.google.com/assets/colab-badge.svg\" alt=\"Open In Colab\"/></a>"
      ]
    },
    {
      "cell_type": "markdown",
      "source": [
        "# https://programmers.co.kr/"
      ],
      "metadata": {
        "id": "8f563x9bKPeN"
      }
    },
    {
      "cell_type": "code",
      "execution_count": null,
      "metadata": {
        "id": "_FlqtGfEH2ol"
      },
      "outputs": [],
      "source": [
        "# lv 1\n",
        "# 로또의 최고 순위와 최저 순위\n",
        "\n",
        "def solution(lottos, win_nums):\n",
        "  answer = []\n",
        "  zero = lottos.count(0)\n",
        "  rank = 1\n",
        "  for i in lottos:\n",
        "    if i not in win_nums:\n",
        "      rank += 1\n",
        "\n",
        "  answer.append(rank - zero)\n",
        "  \n",
        "  if rank == 7:\n",
        "    answer.append(6)\n",
        "  else:\n",
        "    answer.append(rank)\n",
        "  return answer\n",
        "\n",
        "lottos = [1, 2, 3, 4, 5, 6]\n",
        "win_nums = [38, 19, 20, 40, 15, 25]\n",
        "solution(lottos, win_nums)\n",
        "\n",
        "# 정확성: 93.3 "
      ]
    },
    {
      "cell_type": "code",
      "source": [
        "# 다시 풀이\n",
        "def solution(lottos, win_nums):\n",
        "  answer = []\n",
        "  zero = lottos.count(0)\n",
        "  num_count = [i for i in lottos if i in win_nums]\n",
        "  rank = 7 - len(num_count)\n",
        "  if rank == 7 and zero == 0:\n",
        "    rank = 6\n",
        "  answer.append(rank - zero)\n",
        "  if rank == 7:\n",
        "    rank = 6 \n",
        "  answer.append(rank)\n",
        "  return answer\n",
        "\n",
        "lottos = [0, 0, 0, 0, 0, 0]\n",
        "win_nums = [38, 19, 20, 40, 15, 25]\n",
        "solution(lottos, win_nums)"
      ],
      "metadata": {
        "id": "F4r2CKdIb_2T"
      },
      "execution_count": null,
      "outputs": []
    },
    {
      "cell_type": "code",
      "source": [
        "# 다른사람 풀이\n",
        "\n",
        "def solution(lottos, win_nums):\n",
        "\n",
        "    rank=[6,6,5,4,3,2,1]\n",
        "\n",
        "    cnt_0 = lottos.count(0)\n",
        "    ans = 0\n",
        "    for x in win_nums:\n",
        "        if x in lottos:\n",
        "            ans += 1\n",
        "    return rank[cnt_0 + ans],rank[ans]"
      ],
      "metadata": {
        "id": "SWZZ7xctN3tc"
      },
      "execution_count": null,
      "outputs": []
    },
    {
      "cell_type": "code",
      "source": [
        "# lv 1\n",
        "# 숫자 문자열과 영단어\n",
        "\n",
        "def solution(s):\n",
        "  answer = s\n",
        "  num = {'0':'zero', '1':'one', '2':'two', '3':'three', '4':'four', '5':'five', '6':'six', '7':'seven', '8':'eight', '9':'nine'}\n",
        "  for i in range(10):\n",
        "    if num[str(i)] in answer:\n",
        "      answer = answer.replace(num[str(i)], str(i))\n",
        "  return int(answer)\n",
        "\n",
        "solution(\"23four5six7\")"
      ],
      "metadata": {
        "id": "woRys2WDI98w"
      },
      "execution_count": null,
      "outputs": []
    },
    {
      "cell_type": "code",
      "source": [
        "# 다른사람 풀이\n",
        "\n",
        "num_dic = {\"zero\":\"0\", \"one\":\"1\", \"two\":\"2\", \"three\":\"3\", \"four\":\"4\", \"five\":\"5\", \"six\":\"6\", \"seven\":\"7\", \"eight\":\"8\", \"nine\":\"9\"}\n",
        "\n",
        "def solution(s):\n",
        "    answer = s\n",
        "    for key, value in num_dic.items():\n",
        "        answer = answer.replace(key, value)\n",
        "    return int(answer)\n",
        "\n",
        "solution(\"23four5six7\")"
      ],
      "metadata": {
        "id": "4ThEG2ScOEmi"
      },
      "execution_count": null,
      "outputs": []
    },
    {
      "cell_type": "code",
      "source": [
        "# lv 1\n",
        "# 크레인 인형뽑기 게임\n",
        "def solution(board, moves):\n",
        "  answer = 0\n",
        "  pick = []\n",
        "\n",
        "  for i in moves:\n",
        "    for j in range(len(board)):\n",
        "      if board[j][i-1] != 0:\n",
        "        pick.append(board[j][i-1])\n",
        "        board[j][i-1] = 0\n",
        "        break\n",
        "\n",
        "    if len(pick) >= 2 and pick[-1] == pick[-2]:\n",
        "      answer += 2\n",
        "      pick = pick[:-2]\n",
        "\n",
        "  return answer\n",
        "\n",
        "\n",
        "\n",
        "board = [[0,0,0,0,0],[0,0,1,0,3],[0,2,5,0,1],[4,2,4,4,2],[3,5,1,3,1]]\n",
        "moves = [1,5,3,5,1,2,1,4]\n",
        "solution(board, moves)\n",
        "\n",
        "### 답은 맞는데 채점은 왜 틀릴까?"
      ],
      "metadata": {
        "id": "tMA5IPKr3n5s"
      },
      "execution_count": null,
      "outputs": []
    },
    {
      "cell_type": "code",
      "source": [
        "# 다른사람 풀이\n",
        "\n",
        "def solution(board, moves):\n",
        "  answer = 0\n",
        "  pick = []\n",
        "    \n",
        "  for i in moves:\n",
        "    for j in board:\n",
        "      if j[i-1] != 0:\n",
        "        pick.append(j[i-1])\n",
        "        j[i-1] = 0\n",
        "        break\n",
        "\n",
        "    if len(pick) >= 2 and pick[-1] == pick[-2]:\n",
        "      answer += 2\n",
        "      pick = pick[:-2]\n",
        "            \n",
        "  return answer\n",
        "\n",
        "board = [[0,0,0,0,0],[0,0,1,0,3],[0,2,5,0,1],[4,2,4,4,2],[3,5,1,3,1]]\n",
        "moves = [1,5,3,5,1,2,1,4]\n",
        "solution(board, moves)"
      ],
      "metadata": {
        "id": "5lylJWV9mvlk"
      },
      "execution_count": null,
      "outputs": []
    },
    {
      "cell_type": "code",
      "source": [
        "# lv 1\n",
        "# 음양 더하기\n",
        "\n",
        "def solution(absolutes, signs):\n",
        "    answer = 123456789\n",
        "    return answer\n",
        "\n",
        "absolutes = [4,7,12]\n",
        "signs = [true,false,true]"
      ],
      "metadata": {
        "id": "k8uEBwUgvsmL"
      },
      "execution_count": null,
      "outputs": []
    }
  ]
}