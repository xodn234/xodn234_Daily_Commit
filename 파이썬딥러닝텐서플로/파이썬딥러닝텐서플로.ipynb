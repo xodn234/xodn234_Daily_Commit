{
  "cells": [
    {
      "cell_type": "markdown",
      "metadata": {
        "id": "view-in-github",
        "colab_type": "text"
      },
      "source": [
        "<a href=\"https://colab.research.google.com/github/xodn234/Carrot-1day-1commit/blob/main/%ED%8C%8C%EC%9D%B4%EC%8D%AC%EB%94%A5%EB%9F%AC%EB%8B%9D%ED%85%90%EC%84%9C%ED%94%8C%EB%A1%9C/%ED%8C%8C%EC%9D%B4%EC%8D%AC%EB%94%A5%EB%9F%AC%EB%8B%9D%ED%85%90%EC%84%9C%ED%94%8C%EB%A1%9C.ipynb\" target=\"_parent\"><img src=\"https://colab.research.google.com/assets/colab-badge.svg\" alt=\"Open In Colab\"/></a>"
      ]
    },
    {
      "cell_type": "code",
      "execution_count": null,
      "metadata": {
        "id": "PKkxGrqyiS1j"
      },
      "outputs": [],
      "source": [
        "import tensorflow as tf\n",
        "import numpy as np"
      ]
    },
    {
      "cell_type": "code",
      "execution_count": null,
      "metadata": {
        "id": "Jcau_nkzyCoU"
      },
      "outputs": [],
      "source": [
        "# tensorflow"
      ]
    },
    {
      "cell_type": "code",
      "execution_count": null,
      "metadata": {
        "colab": {
          "base_uri": "https://localhost:8080/"
        },
        "id": "Y4iuSFTsD_fb",
        "outputId": "fe53cbec-d2dc-40cd-d250-4ed6e27ad77d"
      },
      "outputs": [
        {
          "output_type": "execute_result",
          "data": {
            "text/plain": [
              "True"
            ]
          },
          "metadata": {},
          "execution_count": 186
        }
      ],
      "source": [
        "# False이면 텐스플로1과 같이 그래프 실행모드\n",
        "tf.executing_eagerly()"
      ]
    },
    {
      "cell_type": "code",
      "execution_count": null,
      "metadata": {
        "colab": {
          "base_uri": "https://localhost:8080/"
        },
        "id": "bb06oXDjf1gd",
        "outputId": "4462df30-794e-4def-89fe-594eac703afa"
      },
      "outputs": [
        {
          "output_type": "execute_result",
          "data": {
            "text/plain": [
              "<tf.Tensor: shape=(), dtype=int32, numpy=3>"
            ]
          },
          "metadata": {},
          "execution_count": 187
        }
      ],
      "source": [
        "# 스칼라 정의\n",
        "a = 1\n",
        "b = 2\n",
        "c = tf.math.add(a, b)\n",
        "c"
      ]
    },
    {
      "cell_type": "code",
      "execution_count": null,
      "metadata": {
        "colab": {
          "base_uri": "https://localhost:8080/"
        },
        "id": "60597eLtf_kV",
        "outputId": "a34d5be4-eb85-49b6-b934-fb1842f97931"
      },
      "outputs": [
        {
          "output_type": "execute_result",
          "data": {
            "text/plain": [
              "3"
            ]
          },
          "metadata": {},
          "execution_count": 188
        }
      ],
      "source": [
        "# 값을 출력 하려면 numpy()를 붙여서 실행\n",
        "c.numpy()"
      ]
    },
    {
      "cell_type": "code",
      "execution_count": null,
      "metadata": {
        "colab": {
          "base_uri": "https://localhost:8080/"
        },
        "id": "TW7SK4wRghdn",
        "outputId": "cade1b98-38ce-4e14-cb97-fd49a4147b79"
      },
      "outputs": [
        {
          "output_type": "execute_result",
          "data": {
            "text/plain": [
              "<tf.Tensor: shape=(), dtype=int32, numpy=0>"
            ]
          },
          "metadata": {},
          "execution_count": 189
        }
      ],
      "source": [
        "# numpy 값이 rank\n",
        "tf.rank(a)"
      ]
    },
    {
      "cell_type": "code",
      "execution_count": null,
      "metadata": {
        "colab": {
          "base_uri": "https://localhost:8080/"
        },
        "id": "qWVjWLVwgzLk",
        "outputId": "ac563f7b-1a87-463f-8cc2-6423749c3025"
      },
      "outputs": [
        {
          "output_type": "execute_result",
          "data": {
            "text/plain": [
              "(tf.float32, tf.float32)"
            ]
          },
          "metadata": {},
          "execution_count": 190
        }
      ],
      "source": [
        "# 자료형 변환\n",
        "a = tf.cast(a, tf.float32)\n",
        "b = tf.cast(b, tf.float32)\n",
        "a.dtype, b.dtype"
      ]
    },
    {
      "cell_type": "code",
      "execution_count": null,
      "metadata": {
        "colab": {
          "base_uri": "https://localhost:8080/"
        },
        "id": "cIkQRiJghDy9",
        "outputId": "2d68230b-11a9-432f-e29d-77572b22e151"
      },
      "outputs": [
        {
          "output_type": "execute_result",
          "data": {
            "text/plain": [
              "(<tf.Tensor: shape=(), dtype=float32, numpy=3.0>,\n",
              " <tf.Tensor: shape=(), dtype=int32, numpy=0>)"
            ]
          },
          "metadata": {},
          "execution_count": 191
        }
      ],
      "source": [
        "# 덧셈\n",
        "c = tf.math.add(a, b)\n",
        "c, tf.rank(c)"
      ]
    },
    {
      "cell_type": "code",
      "execution_count": null,
      "metadata": {
        "colab": {
          "base_uri": "https://localhost:8080/"
        },
        "id": "Gjv5LKlXhTM9",
        "outputId": "edd72a04-68f9-4ee3-f3d9-690617c9a82b"
      },
      "outputs": [
        {
          "output_type": "execute_result",
          "data": {
            "text/plain": [
              "(<tf.Tensor: shape=(), dtype=float32, numpy=-1.0>,\n",
              " <tf.Tensor: shape=(), dtype=float32, numpy=2.0>,\n",
              " <tf.Tensor: shape=(), dtype=float32, numpy=0.5>,\n",
              " <tf.Tensor: shape=(), dtype=float32, numpy=1.0>,\n",
              " <tf.Tensor: shape=(), dtype=float32, numpy=0.0>)"
            ]
          },
          "metadata": {},
          "execution_count": 192
        }
      ],
      "source": [
        "# 뺄셈, 곱셈, 나눗셈, 나눗셈(나머지), 나눗셈(몫)\n",
        "tf.math.subtract(a, b), tf.math.multiply(a, b), tf.math.divide(a, b), tf.math.mod(a, b), tf.math.floordiv(a, b)"
      ]
    },
    {
      "cell_type": "code",
      "execution_count": null,
      "metadata": {
        "colab": {
          "base_uri": "https://localhost:8080/"
        },
        "id": "qceNBcWdiXqu",
        "outputId": "2c3805c6-7c11-4dc2-9f1a-62adb7d21ab1"
      },
      "outputs": [
        {
          "output_type": "execute_result",
          "data": {
            "text/plain": [
              "(<tf.Tensor: shape=(3,), dtype=float32, numpy=array([10., 20., 30.], dtype=float32)>,\n",
              " <tf.Tensor: shape=(3,), dtype=float32, numpy=array([10., 10., 10.], dtype=float32)>,\n",
              " <tf.Tensor: shape=(), dtype=int32, numpy=1>,\n",
              " <tf.Tensor: shape=(), dtype=int32, numpy=1>)"
            ]
          },
          "metadata": {},
          "execution_count": 193
        }
      ],
      "source": [
        "# 1차원 배열 정의\n",
        "py_list = [10., 20., 30.]\n",
        "num_arr = np.array([10., 10., 10.])\n",
        "\n",
        "# 텐서 변환\n",
        "vec1 = tf.constant(py_list, dtype=tf.float32)\n",
        "vec2 = tf.constant(num_arr, dtype=tf.float32)\n",
        "\n",
        "vec1, vec2,  tf.rank(vec1), tf.rank(vec2)"
      ]
    },
    {
      "cell_type": "code",
      "execution_count": null,
      "metadata": {
        "colab": {
          "base_uri": "https://localhost:8080/"
        },
        "id": "lOXQew2vjDbA",
        "outputId": "4bce0a56-5e6f-4a1e-a383-23740db4b4b1"
      },
      "outputs": [
        {
          "output_type": "execute_result",
          "data": {
            "text/plain": [
              "<tf.Tensor: shape=(3,), dtype=float32, numpy=array([20., 30., 40.], dtype=float32)>"
            ]
          },
          "metadata": {},
          "execution_count": 194
        }
      ],
      "source": [
        "# 덧셈 함수\n",
        "add1 = tf.math.add(vec1, vec2)\n",
        "add1"
      ]
    },
    {
      "cell_type": "code",
      "execution_count": null,
      "metadata": {
        "colab": {
          "base_uri": "https://localhost:8080/"
        },
        "id": "W2RueG4ejUsV",
        "outputId": "2937c2f3-807c-4c97-ecf2-95a956a18378"
      },
      "outputs": [
        {
          "output_type": "execute_result",
          "data": {
            "text/plain": [
              "(<tf.Tensor: shape=(3,), dtype=float32, numpy=array([20., 30., 40.], dtype=float32)>,\n",
              " <tf.Tensor: shape=(), dtype=int32, numpy=1>)"
            ]
          },
          "metadata": {},
          "execution_count": 195
        }
      ],
      "source": [
        "# 덧셈 연산자\n",
        "add2 = vec1 + vec2\n",
        "add2, tf.rank(add2)"
      ]
    },
    {
      "cell_type": "code",
      "execution_count": null,
      "metadata": {
        "colab": {
          "base_uri": "https://localhost:8080/"
        },
        "id": "I4hhwu7Kjoag",
        "outputId": "1d03aa79-b2e8-4a5d-dad7-88b1b6893aae"
      },
      "outputs": [
        {
          "output_type": "execute_result",
          "data": {
            "text/plain": [
              "(<tf.Tensor: shape=(3,), dtype=float32, numpy=array([ 0., 10., 20.], dtype=float32)>,\n",
              " <tf.Tensor: shape=(3,), dtype=float32, numpy=array([100., 200., 300.], dtype=float32)>,\n",
              " <tf.Tensor: shape=(3,), dtype=float32, numpy=array([1., 2., 3.], dtype=float32)>,\n",
              " <tf.Tensor: shape=(3,), dtype=float32, numpy=array([0., 0., 0.], dtype=float32)>,\n",
              " <tf.Tensor: shape=(3,), dtype=float32, numpy=array([1., 2., 3.], dtype=float32)>)"
            ]
          },
          "metadata": {},
          "execution_count": 196
        }
      ],
      "source": [
        "# 뺄셈, 곱셈, 나눗셈, 나눗셈(나머지), 나눗셈(몫)\n",
        "vec1 - vec2, vec1 * vec2, vec1 / vec2, vec1 % vec2, vec1 // vec2"
      ]
    },
    {
      "cell_type": "code",
      "execution_count": null,
      "metadata": {
        "colab": {
          "base_uri": "https://localhost:8080/"
        },
        "id": "-qNuk1J2j8nr",
        "outputId": "dd152fc1-dc66-4e66-f804-cc859d388a3f"
      },
      "outputs": [
        {
          "output_type": "execute_result",
          "data": {
            "text/plain": [
              "<tf.Tensor: shape=(), dtype=float32, numpy=60.0>"
            ]
          },
          "metadata": {},
          "execution_count": 197
        }
      ],
      "source": [
        "# 합계 구하기\n",
        "tf.reduce_sum(vec1)"
      ]
    },
    {
      "cell_type": "code",
      "execution_count": null,
      "metadata": {
        "colab": {
          "base_uri": "https://localhost:8080/"
        },
        "id": "GN6q53aslRTZ",
        "outputId": "da8ec8cb-6c6c-4cd7-dce7-1209fadfa5f9"
      },
      "outputs": [
        {
          "output_type": "execute_result",
          "data": {
            "text/plain": [
              "<tf.Tensor: shape=(3,), dtype=float32, numpy=array([100., 400., 900.], dtype=float32)>"
            ]
          },
          "metadata": {},
          "execution_count": 198
        }
      ],
      "source": [
        "# 거듭제곱\n",
        "tf.math.square(vec1)"
      ]
    },
    {
      "cell_type": "code",
      "execution_count": null,
      "metadata": {
        "colab": {
          "base_uri": "https://localhost:8080/"
        },
        "id": "FOU2S3CPlhqB",
        "outputId": "2f52a245-0624-4ac6-af15-269ef16aa808"
      },
      "outputs": [
        {
          "output_type": "execute_result",
          "data": {
            "text/plain": [
              "<tf.Tensor: shape=(3,), dtype=float32, numpy=array([3.1622777, 4.4721355, 5.4772253], dtype=float32)>"
            ]
          },
          "metadata": {},
          "execution_count": 199
        }
      ],
      "source": [
        "# 제곱근\n",
        "tf.math.sqrt(vec1)"
      ]
    },
    {
      "cell_type": "code",
      "execution_count": null,
      "metadata": {
        "colab": {
          "base_uri": "https://localhost:8080/"
        },
        "id": "H_ZnAsm-lupE",
        "outputId": "d65ff4d7-7802-4c90-f378-f1dc7034883d"
      },
      "outputs": [
        {
          "output_type": "execute_result",
          "data": {
            "text/plain": [
              "<tf.Tensor: shape=(3,), dtype=float32, numpy=array([11., 21., 31.], dtype=float32)>"
            ]
          },
          "metadata": {},
          "execution_count": 200
        }
      ],
      "source": [
        "# 브로드캐스팅 연산\n",
        "vec1 + 1"
      ]
    },
    {
      "cell_type": "code",
      "execution_count": null,
      "metadata": {
        "colab": {
          "base_uri": "https://localhost:8080/"
        },
        "id": "qtNd3gaJl7tN",
        "outputId": "fbdfb9c4-afba-4c4f-ea44-a75e7c6deb56"
      },
      "outputs": [
        {
          "output_type": "execute_result",
          "data": {
            "text/plain": [
              "(<tf.Tensor: shape=(2, 2), dtype=int32, numpy=\n",
              " array([[10, 20],\n",
              "        [30, 40]], dtype=int32)>, <tf.Tensor: shape=(), dtype=int32, numpy=2>)"
            ]
          },
          "metadata": {},
          "execution_count": 201
        }
      ],
      "source": [
        "# 2차원 배열 정의\n",
        "list_of_list = [[10, 20], [30, 40]]\n",
        "\n",
        "# 텐서 변환\n",
        "mat1 = tf.constant(list_of_list)\n",
        "\n",
        "mat1, tf.rank(mat1)"
      ]
    },
    {
      "cell_type": "code",
      "execution_count": null,
      "metadata": {
        "id": "7LwunJCHm8xr"
      },
      "outputs": [],
      "source": [
        "# 1차원 배열 정의\n",
        "vec1 = tf.constant([1, 0])\n",
        "vec2 = tf.constant([-1, 2])"
      ]
    },
    {
      "cell_type": "code",
      "execution_count": null,
      "metadata": {
        "colab": {
          "base_uri": "https://localhost:8080/"
        },
        "id": "mMrXHqb7ma-R",
        "outputId": "fee47103-13bc-4c75-d28d-c6286c30e958"
      },
      "outputs": [
        {
          "output_type": "execute_result",
          "data": {
            "text/plain": [
              "<tf.Tensor: shape=(2, 2), dtype=int32, numpy=\n",
              "array([[ 1,  0],\n",
              "       [-1,  2]], dtype=int32)>"
            ]
          },
          "metadata": {},
          "execution_count": 203
        }
      ],
      "source": [
        "# 1차원 배열을 2차원 배열로\n",
        "mat2 = tf.stack([vec1, vec2])\n",
        "mat2"
      ]
    },
    {
      "cell_type": "code",
      "execution_count": null,
      "metadata": {
        "colab": {
          "base_uri": "https://localhost:8080/"
        },
        "id": "fV5OVwOEm29Q",
        "outputId": "3abc8f87-bca5-43b0-c194-cdbde53bb0dd"
      },
      "outputs": [
        {
          "output_type": "execute_result",
          "data": {
            "text/plain": [
              "(<tf.Tensor: shape=(2, 2), dtype=int32, numpy=\n",
              " array([[ 10,   0],\n",
              "        [-30,  80]], dtype=int32)>,\n",
              " <tf.Tensor: shape=(), dtype=int32, numpy=2>)"
            ]
          },
          "metadata": {},
          "execution_count": 204
        }
      ],
      "source": [
        "# element-by-element 연산\n",
        "element_mul = tf.math.multiply(mat1, mat2)\n",
        "element_mul, tf.rank(element_mul)"
      ]
    },
    {
      "cell_type": "code",
      "execution_count": null,
      "metadata": {
        "colab": {
          "base_uri": "https://localhost:8080/"
        },
        "id": "4JvNF3tnnkta",
        "outputId": "ff6e72f1-1004-4558-b097-6d223cf3cb81"
      },
      "outputs": [
        {
          "output_type": "execute_result",
          "data": {
            "text/plain": [
              "<tf.Tensor: shape=(2, 2), dtype=int32, numpy=\n",
              "array([[ 30,  60],\n",
              "       [ 90, 120]], dtype=int32)>"
            ]
          },
          "metadata": {},
          "execution_count": 205
        }
      ],
      "source": [
        "# 브로드캐스팅 연산\n",
        "element_bc =  tf.math.multiply(mat1, 3)\n",
        "element_bc"
      ]
    },
    {
      "cell_type": "code",
      "execution_count": null,
      "metadata": {
        "colab": {
          "base_uri": "https://localhost:8080/"
        },
        "id": "yJEyVbx7ny3l",
        "outputId": "1fb24d3b-278f-4e67-8ee2-3e6f3af6f109"
      },
      "outputs": [
        {
          "output_type": "execute_result",
          "data": {
            "text/plain": [
              "<tf.Tensor: shape=(2, 2), dtype=int32, numpy=\n",
              "array([[-10,  40],\n",
              "       [-10,  80]], dtype=int32)>"
            ]
          },
          "metadata": {},
          "execution_count": 206
        }
      ],
      "source": [
        "# 행렬곱 연산\n",
        "mat_mul = tf.matmul(mat1, mat2)\n",
        "mat_mul"
      ]
    },
    {
      "cell_type": "code",
      "execution_count": null,
      "metadata": {
        "colab": {
          "base_uri": "https://localhost:8080/"
        },
        "id": "sI95qk40oFlL",
        "outputId": "1a8d23fd-1f16-4dcc-8c0a-1eca3d4c7ecf"
      },
      "outputs": [
        {
          "output_type": "execute_result",
          "data": {
            "text/plain": [
              "(numpy.ndarray, array([[-10,  40],\n",
              "        [-10,  80]], dtype=int32))"
            ]
          },
          "metadata": {},
          "execution_count": 207
        }
      ],
      "source": [
        "# 텐서를 넘파이로 변환\n",
        "np_arr = mat_mul.numpy()\n",
        "type(np_arr), np_arr"
      ]
    },
    {
      "cell_type": "code",
      "execution_count": null,
      "metadata": {
        "id": "Uo6ePStPo9Yy"
      },
      "outputs": [],
      "source": [
        "# 2차원 배열 정의\n",
        "mat1 = [[1, 2, 3, 4],[5, 6, 7, 8]]\n",
        "mat2 = [[9, 10, 11, 12],[13, 14, 15, 16]]\n",
        "mat3 = [[17, 18, 19, 20],[21, 22, 23, 24]]"
      ]
    },
    {
      "cell_type": "code",
      "execution_count": null,
      "metadata": {
        "colab": {
          "base_uri": "https://localhost:8080/"
        },
        "id": "CtgtRolzpTAx",
        "outputId": "a4b75019-70ce-4a43-a328-f8296d0c3a0a"
      },
      "outputs": [
        {
          "output_type": "execute_result",
          "data": {
            "text/plain": [
              "(<tf.Tensor: shape=(3, 2, 4), dtype=int32, numpy=\n",
              " array([[[ 1,  2,  3,  4],\n",
              "         [ 5,  6,  7,  8]],\n",
              " \n",
              "        [[ 9, 10, 11, 12],\n",
              "         [13, 14, 15, 16]],\n",
              " \n",
              "        [[17, 18, 19, 20],\n",
              "         [21, 22, 23, 24]]], dtype=int32)>,\n",
              " <tf.Tensor: shape=(), dtype=int32, numpy=3>)"
            ]
          },
          "metadata": {},
          "execution_count": 209
        }
      ],
      "source": [
        "# 2차원 배열을 텐서로 변환1\n",
        "tensor1 = tf.constant([mat1, mat2, mat3])\n",
        "tensor1, tf.rank(tensor1)"
      ]
    },
    {
      "cell_type": "code",
      "execution_count": null,
      "metadata": {
        "colab": {
          "base_uri": "https://localhost:8080/"
        },
        "id": "2wh0fuo9pr-5",
        "outputId": "2f8ee2f9-e040-44e9-b3bb-2f5978b1f3fe"
      },
      "outputs": [
        {
          "output_type": "execute_result",
          "data": {
            "text/plain": [
              "(<tf.Tensor: shape=(3, 2, 4), dtype=int32, numpy=\n",
              " array([[[ 1,  2,  3,  4],\n",
              "         [ 5,  6,  7,  8]],\n",
              " \n",
              "        [[ 9, 10, 11, 12],\n",
              "         [13, 14, 15, 16]],\n",
              " \n",
              "        [[17, 18, 19, 20],\n",
              "         [21, 22, 23, 24]]], dtype=int32)>,\n",
              " <tf.Tensor: shape=(), dtype=int32, numpy=3>)"
            ]
          },
          "metadata": {},
          "execution_count": 210
        }
      ],
      "source": [
        "# 2차원 배열을 텐서로 변환2\n",
        "tensor2 = tf.stack([mat1, mat2, mat3])\n",
        "tensor2, tf.rank(tensor2)"
      ]
    },
    {
      "cell_type": "code",
      "execution_count": null,
      "metadata": {
        "id": "ugy9Mo8cqHLT"
      },
      "outputs": [],
      "source": [
        "# 인덱싱 pandas 참조"
      ]
    },
    {
      "cell_type": "code",
      "execution_count": null,
      "metadata": {
        "colab": {
          "base_uri": "https://localhost:8080/"
        },
        "id": "suiaikCZql1i",
        "outputId": "2240d2da-4d22-47cd-e463-7e3881f859c9"
      },
      "outputs": [
        {
          "output_type": "execute_result",
          "data": {
            "text/plain": [
              "<tf.Tensor: shape=(24,), dtype=int32, numpy=\n",
              "array([ 0,  1,  2,  3,  4,  5,  6,  7,  8,  9, 10, 11, 12, 13, 14, 15, 16,\n",
              "       17, 18, 19, 20, 21, 22, 23], dtype=int32)>"
            ]
          },
          "metadata": {},
          "execution_count": 212
        }
      ],
      "source": [
        "# 형태변환\n",
        "# 랭크 1 텐서 정의\n",
        "tensor = tf.constant(range(0, 24))\n",
        "tensor"
      ]
    },
    {
      "cell_type": "code",
      "execution_count": null,
      "metadata": {
        "colab": {
          "base_uri": "https://localhost:8080/"
        },
        "id": "0nvAeVr1q7Ko",
        "outputId": "148ab676-ec88-4019-ff33-f1b0bfa8d540"
      },
      "outputs": [
        {
          "output_type": "execute_result",
          "data": {
            "text/plain": [
              "<tf.Tensor: shape=(3, 8), dtype=int32, numpy=\n",
              "array([[ 0,  1,  2,  3,  4,  5,  6,  7],\n",
              "       [ 8,  9, 10, 11, 12, 13, 14, 15],\n",
              "       [16, 17, 18, 19, 20, 21, 22, 23]], dtype=int32)>"
            ]
          },
          "metadata": {},
          "execution_count": 213
        }
      ],
      "source": [
        "# (24, ) -> (3, 8) 변환\n",
        "tensor1 = tf.reshape(tensor, [3 ,8])\n",
        "tensor1"
      ]
    },
    {
      "cell_type": "code",
      "execution_count": null,
      "metadata": {
        "colab": {
          "base_uri": "https://localhost:8080/"
        },
        "id": "HYGfPGI4rXq-",
        "outputId": "5ca4bbf0-c9bf-4fbf-fb5a-6e8a16a565da"
      },
      "outputs": [
        {
          "output_type": "execute_result",
          "data": {
            "text/plain": [
              "<tf.Tensor: shape=(6, 4), dtype=int32, numpy=\n",
              "array([[ 0,  1,  2,  3],\n",
              "       [ 4,  5,  6,  7],\n",
              "       [ 8,  9, 10, 11],\n",
              "       [12, 13, 14, 15],\n",
              "       [16, 17, 18, 19],\n",
              "       [20, 21, 22, 23]], dtype=int32)>"
            ]
          },
          "metadata": {},
          "execution_count": 214
        }
      ],
      "source": [
        "# (3, 8) -> (6, 4) 변환 -1은 어떠한 값이든 상관 없다는 뜻\n",
        "tensor2 = tf.reshape(tensor1, [-1 ,4])\n",
        "tensor2 "
      ]
    },
    {
      "cell_type": "code",
      "execution_count": null,
      "metadata": {
        "colab": {
          "base_uri": "https://localhost:8080/"
        },
        "id": "NqMx_EYxrrAl",
        "outputId": "07f8d1f7-8d3c-4778-c0dd-8e652dc68dfa"
      },
      "outputs": [
        {
          "output_type": "execute_result",
          "data": {
            "text/plain": [
              "<tf.Tensor: shape=(24,), dtype=int32, numpy=\n",
              "array([ 0,  1,  2,  3,  4,  5,  6,  7,  8,  9, 10, 11, 12, 13, 14, 15, 16,\n",
              "       17, 18, 19, 20, 21, 22, 23], dtype=int32)>"
            ]
          },
          "metadata": {},
          "execution_count": 215
        }
      ],
      "source": [
        "# (6, 4) -> (24, ) 변환 -1은 어떠한 값이든 상관 없다는 뜻\n",
        "tensor3 = tf.reshape(tensor2, [-1])\n",
        "tensor3"
      ]
    },
    {
      "cell_type": "code",
      "execution_count": null,
      "metadata": {
        "colab": {
          "base_uri": "https://localhost:8080/"
        },
        "id": "g74n8ZDlsWyB",
        "outputId": "187e02f5-251f-4250-c2b8-5c1f0e07bb50"
      },
      "outputs": [
        {
          "output_type": "execute_result",
          "data": {
            "text/plain": [
              "<tf.Tensor: shape=(2, 3), dtype=int32, numpy=\n",
              "array([[0, 1, 2],\n",
              "       [3, 4, 5]], dtype=int32)>"
            ]
          },
          "metadata": {},
          "execution_count": 216
        }
      ],
      "source": [
        "# 변수\n",
        "# 텐서 정의\n",
        "tensor1 = tf.constant([[0, 1, 2], [3, 4, 5]])\n",
        "tensor1"
      ]
    },
    {
      "cell_type": "code",
      "execution_count": null,
      "metadata": {
        "colab": {
          "base_uri": "https://localhost:8080/"
        },
        "id": "TJgErEYQsj3u",
        "outputId": "12e8838c-f339-4e1a-91e0-549ccf61db4d"
      },
      "outputs": [
        {
          "output_type": "execute_result",
          "data": {
            "text/plain": [
              "<tf.Variable 'Variable:0' shape=(2, 3) dtype=int32, numpy=\n",
              "array([[0, 1, 2],\n",
              "       [3, 4, 5]], dtype=int32)>"
            ]
          },
          "metadata": {},
          "execution_count": 217
        }
      ],
      "source": [
        "# 변수 변경\n",
        "tensor_var1 = tf.Variable(tensor1)\n",
        "tensor_var1"
      ]
    },
    {
      "cell_type": "code",
      "execution_count": null,
      "metadata": {
        "colab": {
          "base_uri": "https://localhost:8080/",
          "height": 39
        },
        "id": "0U5NHBsDs4XF",
        "outputId": "0af27bb7-7eee-409b-b620-44d701c401d8"
      },
      "outputs": [
        {
          "output_type": "execute_result",
          "data": {
            "application/vnd.google.colaboratory.intrinsic+json": {
              "type": "string"
            },
            "text/plain": [
              "'Variable:0'"
            ]
          },
          "metadata": {},
          "execution_count": 218
        }
      ],
      "source": [
        "tensor_var1.name"
      ]
    },
    {
      "cell_type": "code",
      "execution_count": null,
      "metadata": {
        "colab": {
          "base_uri": "https://localhost:8080/"
        },
        "id": "iZJEQ9TFtKhK",
        "outputId": "c62bb6f7-9667-4abe-d36d-7a4df5d18892"
      },
      "outputs": [
        {
          "output_type": "execute_result",
          "data": {
            "text/plain": [
              "TensorShape([2, 3])"
            ]
          },
          "metadata": {},
          "execution_count": 219
        }
      ],
      "source": [
        "tensor_var1.shape"
      ]
    },
    {
      "cell_type": "code",
      "execution_count": null,
      "metadata": {
        "colab": {
          "base_uri": "https://localhost:8080/"
        },
        "id": "FbS4TVTstLak",
        "outputId": "118f58b6-2467-4651-9c7c-8ec31a2f38ea"
      },
      "outputs": [
        {
          "output_type": "execute_result",
          "data": {
            "text/plain": [
              "tf.int32"
            ]
          },
          "metadata": {},
          "execution_count": 220
        }
      ],
      "source": [
        "tensor_var1.dtype"
      ]
    },
    {
      "cell_type": "code",
      "execution_count": null,
      "metadata": {
        "colab": {
          "base_uri": "https://localhost:8080/"
        },
        "id": "EDQJpp_5tMPV",
        "outputId": "203d315e-9aca-4383-d450-8532912fc183"
      },
      "outputs": [
        {
          "output_type": "execute_result",
          "data": {
            "text/plain": [
              "array([[0, 1, 2],\n",
              "       [3, 4, 5]], dtype=int32)"
            ]
          },
          "metadata": {},
          "execution_count": 221
        }
      ],
      "source": [
        "tensor_var1.numpy()"
      ]
    },
    {
      "cell_type": "code",
      "execution_count": null,
      "metadata": {
        "colab": {
          "base_uri": "https://localhost:8080/"
        },
        "id": "d_thn2esthaf",
        "outputId": "c4caaefd-826b-4dce-8bd1-a84e18bc21dc"
      },
      "outputs": [
        {
          "output_type": "execute_result",
          "data": {
            "text/plain": [
              "<tf.Variable 'Variable:0' shape=(2, 3) dtype=int32, numpy=\n",
              "array([[0, 1, 2],\n",
              "       [3, 4, 5]], dtype=int32)>"
            ]
          },
          "metadata": {},
          "execution_count": 222
        }
      ],
      "source": [
        "tensor_var1"
      ]
    },
    {
      "cell_type": "code",
      "execution_count": null,
      "metadata": {
        "colab": {
          "base_uri": "https://localhost:8080/"
        },
        "id": "JZ15SU7Ktiun",
        "outputId": "7ea682d0-ee46-4c3c-d585-6fa417568eb0"
      },
      "outputs": [
        {
          "output_type": "execute_result",
          "data": {
            "text/plain": [
              "<tf.Variable 'UnreadVariable' shape=(2, 3) dtype=int32, numpy=\n",
              "array([[1, 1, 1],\n",
              "       [2, 2, 2]], dtype=int32)>"
            ]
          },
          "metadata": {},
          "execution_count": 223
        }
      ],
      "source": [
        "# 새로운 변수 할당\n",
        "tensor_var1.assign([[1, 1, 1], [2, 2, 2]])"
      ]
    },
    {
      "cell_type": "code",
      "execution_count": null,
      "metadata": {
        "colab": {
          "base_uri": "https://localhost:8080/"
        },
        "id": "3KIu7J6-t0ZE",
        "outputId": "3b03539d-1a73-4027-8863-ae4ec55bce25"
      },
      "outputs": [
        {
          "output_type": "execute_result",
          "data": {
            "text/plain": [
              "<tf.Tensor: shape=(2, 3), dtype=int32, numpy=\n",
              "array([[1, 1, 1],\n",
              "       [2, 2, 2]], dtype=int32)>"
            ]
          },
          "metadata": {},
          "execution_count": 224
        }
      ],
      "source": [
        "# 변수를 텐서로 변환\n",
        "tensor2 = tf.convert_to_tensor(tensor_var1)\n",
        "tensor2"
      ]
    },
    {
      "cell_type": "code",
      "execution_count": null,
      "metadata": {
        "colab": {
          "base_uri": "https://localhost:8080/"
        },
        "id": "yjPf0AOLuMYs",
        "outputId": "97c527af-6359-4a26-c647-e0868452705b"
      },
      "outputs": [
        {
          "output_type": "execute_result",
          "data": {
            "text/plain": [
              "<tf.Variable 'New Name:0' shape=(2, 3) dtype=int32, numpy=\n",
              "array([[1, 1, 1],\n",
              "       [2, 2, 2]], dtype=int32)>"
            ]
          },
          "metadata": {},
          "execution_count": 225
        }
      ],
      "source": [
        "# 텐서플로 변수 name 지정\n",
        "tensor_var2 = tf.Variable(tensor2, name='New Name')\n",
        "tensor_var2"
      ]
    },
    {
      "cell_type": "code",
      "execution_count": null,
      "metadata": {
        "id": "iga8IZz9x2zY"
      },
      "outputs": [],
      "source": [
        "# ___________________________________________________________________________________________________________"
      ]
    },
    {
      "cell_type": "code",
      "execution_count": null,
      "metadata": {
        "id": "QRAnLhkcyluf"
      },
      "outputs": [],
      "source": [
        "# Keras"
      ]
    },
    {
      "cell_type": "code",
      "execution_count": null,
      "metadata": {
        "colab": {
          "base_uri": "https://localhost:8080/"
        },
        "id": "QJ666jEczVWd",
        "outputId": "82caab5f-6943-4ada-f81b-618cebfb5dbd"
      },
      "outputs": [
        {
          "output_type": "execute_result",
          "data": {
            "text/plain": [
              "<keras.losses.BinaryFocalCrossentropy at 0x7f26b8419890>"
            ]
          },
          "metadata": {},
          "execution_count": 228
        }
      ],
      "source": [
        "# 클래스와 함수\n",
        "\n",
        "# 클래스\n",
        "tf.keras.losses.BinaryFocalCrossentropy()"
      ]
    },
    {
      "cell_type": "code",
      "execution_count": null,
      "metadata": {
        "colab": {
          "base_uri": "https://localhost:8080/"
        },
        "id": "BgcVp9rYzqmW",
        "outputId": "71aaa827-583e-4e4d-ffca-cab241a58b67"
      },
      "outputs": [
        {
          "output_type": "execute_result",
          "data": {
            "text/plain": [
              "<function keras.losses.binary_crossentropy>"
            ]
          },
          "metadata": {},
          "execution_count": 229
        }
      ],
      "source": [
        " # 함수\n",
        "tf.keras.losses.binary_crossentropy"
      ]
    },
    {
      "cell_type": "code",
      "execution_count": null,
      "metadata": {
        "id": "-qk9RY84z6wr"
      },
      "outputs": [],
      "source": [
        "# 기본 구조\n",
        "model = tf.keras.Sequential([\n",
        "        tf.keras.layers.Dense(10),\n",
        "        tf.keras.layers.Dense(5),\n",
        "        tf.keras.layers.Dense(1)\n",
        "])"
      ]
    },
    {
      "cell_type": "code",
      "execution_count": null,
      "metadata": {
        "id": "3gkF7xfj1tfh"
      },
      "outputs": [],
      "source": [
        "# 입력 데이터의 형태\n",
        "model = tf.keras.Sequential([\n",
        "        # 입력 데이터가 shape=(150, 4)인 경우\n",
        "        tf.keras.layers.Dense(10, input_shape=[4]),\n",
        "        tf.keras.layers.Dense(5),\n",
        "        tf.keras.layers.Dense(1)\n",
        "])"
      ]
    },
    {
      "cell_type": "code",
      "execution_count": null,
      "metadata": {
        "colab": {
          "base_uri": "https://localhost:8080/"
        },
        "id": "sJTgF9By2Ej0",
        "outputId": "3b99b6e9-adb6-434f-dba7-2da0e940d8a8"
      },
      "outputs": [
        {
          "output_type": "execute_result",
          "data": {
            "text/plain": [
              "(array([1, 2, 3, 4, 5]), array([ 5,  8, 11, 14, 17]))"
            ]
          },
          "metadata": {},
          "execution_count": 232
        }
      ],
      "source": [
        "# 데이터셋 만들기\n",
        "x = np.arange(1, 6)\n",
        "y = 3 *  x + 2\n",
        "x, y"
      ]
    },
    {
      "cell_type": "code",
      "execution_count": null,
      "metadata": {
        "id": "POO4lhRW2Nc6"
      },
      "outputs": [],
      "source": [
        "# 단순 선형회귀 예시\n",
        "model = tf.keras.Sequential([\n",
        "        tf.keras.layers.Dense(1, input_shape=[1])\n",
        "])"
      ]
    },
    {
      "cell_type": "code",
      "execution_count": null,
      "metadata": {
        "colab": {
          "base_uri": "https://localhost:8080/"
        },
        "id": "plQnnAxT2aJN",
        "outputId": "e33ae1fb-ecf6-4a3c-a4b6-5b17d296fdb4"
      },
      "outputs": [
        {
          "output_type": "stream",
          "name": "stdout",
          "text": [
            "Model: \"sequential_17\"\n",
            "_________________________________________________________________\n",
            " Layer (type)                Output Shape              Param #   \n",
            "=================================================================\n",
            " dense_51 (Dense)            (None, 1)                 2         \n",
            "                                                                 \n",
            "=================================================================\n",
            "Total params: 2\n",
            "Trainable params: 2\n",
            "Non-trainable params: 0\n",
            "_________________________________________________________________\n"
          ]
        }
      ],
      "source": [
        "# 모델 요약\n",
        "model.summary()"
      ]
    },
    {
      "cell_type": "code",
      "execution_count": null,
      "metadata": {
        "id": "7OZsr64h2v4X"
      },
      "outputs": [],
      "source": [
        "# 컴파일\n",
        "model.compile(optimizer='sgd', loss='mse', metrics=['mae'])"
      ]
    },
    {
      "cell_type": "code",
      "execution_count": null,
      "metadata": {
        "colab": {
          "base_uri": "https://localhost:8080/"
        },
        "id": "aQ9OvYlf3B3d",
        "outputId": "6ce15577-8ee9-4df9-d2da-9de0b39f9e0b"
      },
      "outputs": [
        {
          "output_type": "stream",
          "name": "stdout",
          "text": [
            "Epoch 1/5\n",
            "1/1 [==============================] - 0s 225ms/step - loss: 126.5452 - mae: 10.5097\n",
            "Epoch 2/5\n",
            "1/1 [==============================] - 0s 5ms/step - loss: 73.8393 - mae: 8.0673\n",
            "Epoch 3/5\n",
            "1/1 [==============================] - 0s 4ms/step - loss: 43.1243 - mae: 6.2028\n",
            "Epoch 4/5\n",
            "1/1 [==============================] - 0s 5ms/step - loss: 25.2245 - mae: 4.7792\n",
            "Epoch 5/5\n",
            "1/1 [==============================] - 0s 6ms/step - loss: 14.7927 - mae: 3.6924\n"
          ]
        },
        {
          "output_type": "execute_result",
          "data": {
            "text/plain": [
              "<keras.callbacks.History at 0x7f26b8495b50>"
            ]
          },
          "metadata": {},
          "execution_count": 236
        }
      ],
      "source": [
        "# 훈련\n",
        "model.fit(x, y, epochs=5)"
      ]
    },
    {
      "cell_type": "code",
      "execution_count": null,
      "metadata": {
        "colab": {
          "base_uri": "https://localhost:8080/"
        },
        "id": "j9FzuLB53k9A",
        "outputId": "37088163-2b6c-483d-dd25-6e037b9ffd05"
      },
      "outputs": [
        {
          "output_type": "stream",
          "name": "stdout",
          "text": [
            "Epoch 1/1200\n",
            "1/1 [==============================] - 0s 214ms/step - loss: 246.1954 - mae: 14.5354\n",
            "Epoch 2/1200\n",
            "1/1 [==============================] - 0s 5ms/step - loss: 143.5163 - mae: 11.1269\n",
            "Epoch 3/1200\n",
            "1/1 [==============================] - 0s 4ms/step - loss: 83.6796 - mae: 8.5248\n",
            "Epoch 4/1200\n",
            "1/1 [==============================] - 0s 5ms/step - loss: 48.8095 - mae: 6.5383\n",
            "Epoch 5/1200\n",
            "1/1 [==============================] - 0s 5ms/step - loss: 28.4886 - mae: 5.0218\n",
            "Epoch 6/1200\n",
            "1/1 [==============================] - 0s 5ms/step - loss: 16.6463 - mae: 3.8640\n",
            "Epoch 7/1200\n",
            "1/1 [==============================] - 0s 6ms/step - loss: 9.7449 - mae: 2.9800\n",
            "Epoch 8/1200\n",
            "1/1 [==============================] - 0s 5ms/step - loss: 5.7228 - mae: 2.3051\n",
            "Epoch 9/1200\n",
            "1/1 [==============================] - 0s 5ms/step - loss: 3.3786 - mae: 1.7898\n",
            "Epoch 10/1200\n",
            "1/1 [==============================] - 0s 5ms/step - loss: 2.0122 - mae: 1.3963\n",
            "Epoch 11/1200\n",
            "1/1 [==============================] - 0s 7ms/step - loss: 1.2157 - mae: 1.0959\n",
            "Epoch 12/1200\n",
            "1/1 [==============================] - 0s 5ms/step - loss: 0.7512 - mae: 0.8664\n",
            "Epoch 13/1200\n",
            "1/1 [==============================] - 0s 5ms/step - loss: 0.4802 - mae: 0.6911\n",
            "Epoch 14/1200\n",
            "1/1 [==============================] - 0s 5ms/step - loss: 0.3220 - mae: 0.5572\n",
            "Epoch 15/1200\n",
            "1/1 [==============================] - 0s 6ms/step - loss: 0.2296 - mae: 0.4549\n",
            "Epoch 16/1200\n",
            "1/1 [==============================] - 0s 6ms/step - loss: 0.1754 - mae: 0.3767\n",
            "Epoch 17/1200\n",
            "1/1 [==============================] - 0s 6ms/step - loss: 0.1436 - mae: 0.3169\n",
            "Epoch 18/1200\n",
            "1/1 [==============================] - 0s 6ms/step - loss: 0.1247 - mae: 0.2907\n",
            "Epoch 19/1200\n",
            "1/1 [==============================] - 0s 6ms/step - loss: 0.1135 - mae: 0.2776\n",
            "Epoch 20/1200\n",
            "1/1 [==============================] - 0s 5ms/step - loss: 0.1066 - mae: 0.2674\n",
            "Epoch 21/1200\n",
            "1/1 [==============================] - 0s 5ms/step - loss: 0.1024 - mae: 0.2594\n",
            "Epoch 22/1200\n",
            "1/1 [==============================] - 0s 5ms/step - loss: 0.0996 - mae: 0.2587\n",
            "Epoch 23/1200\n",
            "1/1 [==============================] - 0s 5ms/step - loss: 0.0977 - mae: 0.2597\n",
            "Epoch 24/1200\n",
            "1/1 [==============================] - 0s 7ms/step - loss: 0.0964 - mae: 0.2603\n",
            "Epoch 25/1200\n",
            "1/1 [==============================] - 0s 6ms/step - loss: 0.0953 - mae: 0.2605\n",
            "Epoch 26/1200\n",
            "1/1 [==============================] - 0s 5ms/step - loss: 0.0944 - mae: 0.2605\n",
            "Epoch 27/1200\n",
            "1/1 [==============================] - 0s 6ms/step - loss: 0.0937 - mae: 0.2603\n",
            "Epoch 28/1200\n",
            "1/1 [==============================] - 0s 6ms/step - loss: 0.0930 - mae: 0.2599\n",
            "Epoch 29/1200\n",
            "1/1 [==============================] - 0s 5ms/step - loss: 0.0923 - mae: 0.2594\n",
            "Epoch 30/1200\n",
            "1/1 [==============================] - 0s 6ms/step - loss: 0.0916 - mae: 0.2588\n",
            "Epoch 31/1200\n",
            "1/1 [==============================] - 0s 6ms/step - loss: 0.0910 - mae: 0.2582\n",
            "Epoch 32/1200\n",
            "1/1 [==============================] - 0s 5ms/step - loss: 0.0904 - mae: 0.2575\n",
            "Epoch 33/1200\n",
            "1/1 [==============================] - 0s 5ms/step - loss: 0.0898 - mae: 0.2567\n",
            "Epoch 34/1200\n",
            "1/1 [==============================] - 0s 5ms/step - loss: 0.0892 - mae: 0.2560\n",
            "Epoch 35/1200\n",
            "1/1 [==============================] - 0s 6ms/step - loss: 0.0885 - mae: 0.2552\n",
            "Epoch 36/1200\n",
            "1/1 [==============================] - 0s 5ms/step - loss: 0.0880 - mae: 0.2544\n",
            "Epoch 37/1200\n",
            "1/1 [==============================] - 0s 5ms/step - loss: 0.0874 - mae: 0.2535\n",
            "Epoch 38/1200\n",
            "1/1 [==============================] - 0s 5ms/step - loss: 0.0868 - mae: 0.2527\n",
            "Epoch 39/1200\n",
            "1/1 [==============================] - 0s 6ms/step - loss: 0.0862 - mae: 0.2519\n",
            "Epoch 40/1200\n",
            "1/1 [==============================] - 0s 5ms/step - loss: 0.0856 - mae: 0.2511\n",
            "Epoch 41/1200\n",
            "1/1 [==============================] - 0s 6ms/step - loss: 0.0850 - mae: 0.2502\n",
            "Epoch 42/1200\n",
            "1/1 [==============================] - 0s 5ms/step - loss: 0.0844 - mae: 0.2494\n",
            "Epoch 43/1200\n",
            "1/1 [==============================] - 0s 6ms/step - loss: 0.0839 - mae: 0.2486\n",
            "Epoch 44/1200\n",
            "1/1 [==============================] - 0s 6ms/step - loss: 0.0833 - mae: 0.2477\n",
            "Epoch 45/1200\n",
            "1/1 [==============================] - 0s 6ms/step - loss: 0.0827 - mae: 0.2469\n",
            "Epoch 46/1200\n",
            "1/1 [==============================] - 0s 5ms/step - loss: 0.0822 - mae: 0.2461\n",
            "Epoch 47/1200\n",
            "1/1 [==============================] - 0s 6ms/step - loss: 0.0816 - mae: 0.2452\n",
            "Epoch 48/1200\n",
            "1/1 [==============================] - 0s 8ms/step - loss: 0.0811 - mae: 0.2444\n",
            "Epoch 49/1200\n",
            "1/1 [==============================] - 0s 6ms/step - loss: 0.0805 - mae: 0.2436\n",
            "Epoch 50/1200\n",
            "1/1 [==============================] - 0s 6ms/step - loss: 0.0800 - mae: 0.2428\n",
            "Epoch 51/1200\n",
            "1/1 [==============================] - 0s 6ms/step - loss: 0.0795 - mae: 0.2419\n",
            "Epoch 52/1200\n",
            "1/1 [==============================] - 0s 7ms/step - loss: 0.0789 - mae: 0.2411\n",
            "Epoch 53/1200\n",
            "1/1 [==============================] - 0s 6ms/step - loss: 0.0784 - mae: 0.2403\n",
            "Epoch 54/1200\n",
            "1/1 [==============================] - 0s 5ms/step - loss: 0.0779 - mae: 0.2395\n",
            "Epoch 55/1200\n",
            "1/1 [==============================] - 0s 6ms/step - loss: 0.0773 - mae: 0.2387\n",
            "Epoch 56/1200\n",
            "1/1 [==============================] - 0s 6ms/step - loss: 0.0768 - mae: 0.2379\n",
            "Epoch 57/1200\n",
            "1/1 [==============================] - 0s 6ms/step - loss: 0.0763 - mae: 0.2371\n",
            "Epoch 58/1200\n",
            "1/1 [==============================] - 0s 6ms/step - loss: 0.0758 - mae: 0.2363\n",
            "Epoch 59/1200\n",
            "1/1 [==============================] - 0s 6ms/step - loss: 0.0753 - mae: 0.2355\n",
            "Epoch 60/1200\n",
            "1/1 [==============================] - 0s 5ms/step - loss: 0.0748 - mae: 0.2347\n",
            "Epoch 61/1200\n",
            "1/1 [==============================] - 0s 4ms/step - loss: 0.0742 - mae: 0.2339\n",
            "Epoch 62/1200\n",
            "1/1 [==============================] - 0s 7ms/step - loss: 0.0737 - mae: 0.2331\n",
            "Epoch 63/1200\n",
            "1/1 [==============================] - 0s 4ms/step - loss: 0.0732 - mae: 0.2323\n",
            "Epoch 64/1200\n",
            "1/1 [==============================] - 0s 5ms/step - loss: 0.0728 - mae: 0.2315\n",
            "Epoch 65/1200\n",
            "1/1 [==============================] - 0s 5ms/step - loss: 0.0723 - mae: 0.2307\n",
            "Epoch 66/1200\n",
            "1/1 [==============================] - 0s 5ms/step - loss: 0.0718 - mae: 0.2300\n",
            "Epoch 67/1200\n",
            "1/1 [==============================] - 0s 5ms/step - loss: 0.0713 - mae: 0.2292\n",
            "Epoch 68/1200\n",
            "1/1 [==============================] - 0s 5ms/step - loss: 0.0708 - mae: 0.2284\n",
            "Epoch 69/1200\n",
            "1/1 [==============================] - 0s 5ms/step - loss: 0.0703 - mae: 0.2276\n",
            "Epoch 70/1200\n",
            "1/1 [==============================] - 0s 5ms/step - loss: 0.0699 - mae: 0.2269\n",
            "Epoch 71/1200\n",
            "1/1 [==============================] - 0s 7ms/step - loss: 0.0694 - mae: 0.2261\n",
            "Epoch 72/1200\n",
            "1/1 [==============================] - 0s 5ms/step - loss: 0.0689 - mae: 0.2253\n",
            "Epoch 73/1200\n",
            "1/1 [==============================] - 0s 6ms/step - loss: 0.0685 - mae: 0.2246\n",
            "Epoch 74/1200\n",
            "1/1 [==============================] - 0s 6ms/step - loss: 0.0680 - mae: 0.2238\n",
            "Epoch 75/1200\n",
            "1/1 [==============================] - 0s 7ms/step - loss: 0.0675 - mae: 0.2231\n",
            "Epoch 76/1200\n",
            "1/1 [==============================] - 0s 5ms/step - loss: 0.0671 - mae: 0.2223\n",
            "Epoch 77/1200\n",
            "1/1 [==============================] - 0s 5ms/step - loss: 0.0666 - mae: 0.2215\n",
            "Epoch 78/1200\n",
            "1/1 [==============================] - 0s 5ms/step - loss: 0.0662 - mae: 0.2208\n",
            "Epoch 79/1200\n",
            "1/1 [==============================] - 0s 7ms/step - loss: 0.0657 - mae: 0.2200\n",
            "Epoch 80/1200\n",
            "1/1 [==============================] - 0s 5ms/step - loss: 0.0653 - mae: 0.2193\n",
            "Epoch 81/1200\n",
            "1/1 [==============================] - 0s 5ms/step - loss: 0.0648 - mae: 0.2186\n",
            "Epoch 82/1200\n",
            "1/1 [==============================] - 0s 6ms/step - loss: 0.0644 - mae: 0.2178\n",
            "Epoch 83/1200\n",
            "1/1 [==============================] - 0s 5ms/step - loss: 0.0640 - mae: 0.2171\n",
            "Epoch 84/1200\n",
            "1/1 [==============================] - 0s 5ms/step - loss: 0.0635 - mae: 0.2164\n",
            "Epoch 85/1200\n",
            "1/1 [==============================] - 0s 6ms/step - loss: 0.0631 - mae: 0.2156\n",
            "Epoch 86/1200\n",
            "1/1 [==============================] - 0s 5ms/step - loss: 0.0627 - mae: 0.2149\n",
            "Epoch 87/1200\n",
            "1/1 [==============================] - 0s 6ms/step - loss: 0.0623 - mae: 0.2142\n",
            "Epoch 88/1200\n",
            "1/1 [==============================] - 0s 5ms/step - loss: 0.0618 - mae: 0.2134\n",
            "Epoch 89/1200\n",
            "1/1 [==============================] - 0s 5ms/step - loss: 0.0614 - mae: 0.2127\n",
            "Epoch 90/1200\n",
            "1/1 [==============================] - 0s 5ms/step - loss: 0.0610 - mae: 0.2120\n",
            "Epoch 91/1200\n",
            "1/1 [==============================] - 0s 6ms/step - loss: 0.0606 - mae: 0.2113\n",
            "Epoch 92/1200\n",
            "1/1 [==============================] - 0s 5ms/step - loss: 0.0602 - mae: 0.2106\n",
            "Epoch 93/1200\n",
            "1/1 [==============================] - 0s 6ms/step - loss: 0.0598 - mae: 0.2099\n",
            "Epoch 94/1200\n",
            "1/1 [==============================] - 0s 5ms/step - loss: 0.0594 - mae: 0.2091\n",
            "Epoch 95/1200\n",
            "1/1 [==============================] - 0s 5ms/step - loss: 0.0590 - mae: 0.2084\n",
            "Epoch 96/1200\n",
            "1/1 [==============================] - 0s 5ms/step - loss: 0.0586 - mae: 0.2077\n",
            "Epoch 97/1200\n",
            "1/1 [==============================] - 0s 6ms/step - loss: 0.0582 - mae: 0.2070\n",
            "Epoch 98/1200\n",
            "1/1 [==============================] - 0s 6ms/step - loss: 0.0578 - mae: 0.2063\n",
            "Epoch 99/1200\n",
            "1/1 [==============================] - 0s 7ms/step - loss: 0.0574 - mae: 0.2056\n",
            "Epoch 100/1200\n",
            "1/1 [==============================] - 0s 6ms/step - loss: 0.0570 - mae: 0.2049\n",
            "Epoch 101/1200\n",
            "1/1 [==============================] - 0s 5ms/step - loss: 0.0566 - mae: 0.2042\n",
            "Epoch 102/1200\n",
            "1/1 [==============================] - 0s 5ms/step - loss: 0.0562 - mae: 0.2036\n",
            "Epoch 103/1200\n",
            "1/1 [==============================] - 0s 5ms/step - loss: 0.0559 - mae: 0.2029\n",
            "Epoch 104/1200\n",
            "1/1 [==============================] - 0s 5ms/step - loss: 0.0555 - mae: 0.2022\n",
            "Epoch 105/1200\n",
            "1/1 [==============================] - 0s 6ms/step - loss: 0.0551 - mae: 0.2015\n",
            "Epoch 106/1200\n",
            "1/1 [==============================] - 0s 5ms/step - loss: 0.0547 - mae: 0.2008\n",
            "Epoch 107/1200\n",
            "1/1 [==============================] - 0s 6ms/step - loss: 0.0544 - mae: 0.2001\n",
            "Epoch 108/1200\n",
            "1/1 [==============================] - 0s 5ms/step - loss: 0.0540 - mae: 0.1995\n",
            "Epoch 109/1200\n",
            "1/1 [==============================] - 0s 6ms/step - loss: 0.0536 - mae: 0.1988\n",
            "Epoch 110/1200\n",
            "1/1 [==============================] - 0s 6ms/step - loss: 0.0533 - mae: 0.1981\n",
            "Epoch 111/1200\n",
            "1/1 [==============================] - 0s 5ms/step - loss: 0.0529 - mae: 0.1974\n",
            "Epoch 112/1200\n",
            "1/1 [==============================] - 0s 5ms/step - loss: 0.0526 - mae: 0.1968\n",
            "Epoch 113/1200\n",
            "1/1 [==============================] - 0s 7ms/step - loss: 0.0522 - mae: 0.1961\n",
            "Epoch 114/1200\n",
            "1/1 [==============================] - 0s 5ms/step - loss: 0.0519 - mae: 0.1955\n",
            "Epoch 115/1200\n",
            "1/1 [==============================] - 0s 7ms/step - loss: 0.0515 - mae: 0.1948\n",
            "Epoch 116/1200\n",
            "1/1 [==============================] - 0s 5ms/step - loss: 0.0512 - mae: 0.1941\n",
            "Epoch 117/1200\n",
            "1/1 [==============================] - 0s 6ms/step - loss: 0.0508 - mae: 0.1935\n",
            "Epoch 118/1200\n",
            "1/1 [==============================] - 0s 5ms/step - loss: 0.0505 - mae: 0.1928\n",
            "Epoch 119/1200\n",
            "1/1 [==============================] - 0s 6ms/step - loss: 0.0501 - mae: 0.1922\n",
            "Epoch 120/1200\n",
            "1/1 [==============================] - 0s 5ms/step - loss: 0.0498 - mae: 0.1915\n",
            "Epoch 121/1200\n",
            "1/1 [==============================] - 0s 5ms/step - loss: 0.0495 - mae: 0.1909\n",
            "Epoch 122/1200\n",
            "1/1 [==============================] - 0s 7ms/step - loss: 0.0491 - mae: 0.1902\n",
            "Epoch 123/1200\n",
            "1/1 [==============================] - 0s 6ms/step - loss: 0.0488 - mae: 0.1896\n",
            "Epoch 124/1200\n",
            "1/1 [==============================] - 0s 6ms/step - loss: 0.0485 - mae: 0.1889\n",
            "Epoch 125/1200\n",
            "1/1 [==============================] - 0s 4ms/step - loss: 0.0481 - mae: 0.1883\n",
            "Epoch 126/1200\n",
            "1/1 [==============================] - 0s 5ms/step - loss: 0.0478 - mae: 0.1877\n",
            "Epoch 127/1200\n",
            "1/1 [==============================] - 0s 6ms/step - loss: 0.0475 - mae: 0.1870\n",
            "Epoch 128/1200\n",
            "1/1 [==============================] - 0s 5ms/step - loss: 0.0472 - mae: 0.1864\n",
            "Epoch 129/1200\n",
            "1/1 [==============================] - 0s 6ms/step - loss: 0.0468 - mae: 0.1858\n",
            "Epoch 130/1200\n",
            "1/1 [==============================] - 0s 6ms/step - loss: 0.0465 - mae: 0.1851\n",
            "Epoch 131/1200\n",
            "1/1 [==============================] - 0s 7ms/step - loss: 0.0462 - mae: 0.1845\n",
            "Epoch 132/1200\n",
            "1/1 [==============================] - 0s 6ms/step - loss: 0.0459 - mae: 0.1839\n",
            "Epoch 133/1200\n",
            "1/1 [==============================] - 0s 6ms/step - loss: 0.0456 - mae: 0.1833\n",
            "Epoch 134/1200\n",
            "1/1 [==============================] - 0s 5ms/step - loss: 0.0453 - mae: 0.1827\n",
            "Epoch 135/1200\n",
            "1/1 [==============================] - 0s 5ms/step - loss: 0.0450 - mae: 0.1820\n",
            "Epoch 136/1200\n",
            "1/1 [==============================] - 0s 5ms/step - loss: 0.0447 - mae: 0.1814\n",
            "Epoch 137/1200\n",
            "1/1 [==============================] - 0s 7ms/step - loss: 0.0444 - mae: 0.1808\n",
            "Epoch 138/1200\n",
            "1/1 [==============================] - 0s 5ms/step - loss: 0.0441 - mae: 0.1802\n",
            "Epoch 139/1200\n",
            "1/1 [==============================] - 0s 7ms/step - loss: 0.0438 - mae: 0.1796\n",
            "Epoch 140/1200\n",
            "1/1 [==============================] - 0s 5ms/step - loss: 0.0435 - mae: 0.1790\n",
            "Epoch 141/1200\n",
            "1/1 [==============================] - 0s 6ms/step - loss: 0.0432 - mae: 0.1784\n",
            "Epoch 142/1200\n",
            "1/1 [==============================] - 0s 5ms/step - loss: 0.0429 - mae: 0.1778\n",
            "Epoch 143/1200\n",
            "1/1 [==============================] - 0s 7ms/step - loss: 0.0426 - mae: 0.1772\n",
            "Epoch 144/1200\n",
            "1/1 [==============================] - 0s 7ms/step - loss: 0.0423 - mae: 0.1766\n",
            "Epoch 145/1200\n",
            "1/1 [==============================] - 0s 6ms/step - loss: 0.0420 - mae: 0.1760\n",
            "Epoch 146/1200\n",
            "1/1 [==============================] - 0s 6ms/step - loss: 0.0417 - mae: 0.1754\n",
            "Epoch 147/1200\n",
            "1/1 [==============================] - 0s 7ms/step - loss: 0.0415 - mae: 0.1748\n",
            "Epoch 148/1200\n",
            "1/1 [==============================] - 0s 7ms/step - loss: 0.0412 - mae: 0.1742\n",
            "Epoch 149/1200\n",
            "1/1 [==============================] - 0s 5ms/step - loss: 0.0409 - mae: 0.1736\n",
            "Epoch 150/1200\n",
            "1/1 [==============================] - 0s 7ms/step - loss: 0.0406 - mae: 0.1730\n",
            "Epoch 151/1200\n",
            "1/1 [==============================] - 0s 5ms/step - loss: 0.0404 - mae: 0.1724\n",
            "Epoch 152/1200\n",
            "1/1 [==============================] - 0s 7ms/step - loss: 0.0401 - mae: 0.1719\n",
            "Epoch 153/1200\n",
            "1/1 [==============================] - 0s 5ms/step - loss: 0.0398 - mae: 0.1713\n",
            "Epoch 154/1200\n",
            "1/1 [==============================] - 0s 5ms/step - loss: 0.0395 - mae: 0.1707\n",
            "Epoch 155/1200\n",
            "1/1 [==============================] - 0s 7ms/step - loss: 0.0393 - mae: 0.1701\n",
            "Epoch 156/1200\n",
            "1/1 [==============================] - 0s 5ms/step - loss: 0.0390 - mae: 0.1695\n",
            "Epoch 157/1200\n",
            "1/1 [==============================] - 0s 6ms/step - loss: 0.0388 - mae: 0.1690\n",
            "Epoch 158/1200\n",
            "1/1 [==============================] - 0s 5ms/step - loss: 0.0385 - mae: 0.1684\n",
            "Epoch 159/1200\n",
            "1/1 [==============================] - 0s 7ms/step - loss: 0.0382 - mae: 0.1678\n",
            "Epoch 160/1200\n",
            "1/1 [==============================] - 0s 5ms/step - loss: 0.0380 - mae: 0.1673\n",
            "Epoch 161/1200\n",
            "1/1 [==============================] - 0s 5ms/step - loss: 0.0377 - mae: 0.1667\n",
            "Epoch 162/1200\n",
            "1/1 [==============================] - 0s 5ms/step - loss: 0.0375 - mae: 0.1661\n",
            "Epoch 163/1200\n",
            "1/1 [==============================] - 0s 5ms/step - loss: 0.0372 - mae: 0.1656\n",
            "Epoch 164/1200\n",
            "1/1 [==============================] - 0s 5ms/step - loss: 0.0370 - mae: 0.1650\n",
            "Epoch 165/1200\n",
            "1/1 [==============================] - 0s 5ms/step - loss: 0.0367 - mae: 0.1644\n",
            "Epoch 166/1200\n",
            "1/1 [==============================] - 0s 6ms/step - loss: 0.0365 - mae: 0.1639\n",
            "Epoch 167/1200\n",
            "1/1 [==============================] - 0s 6ms/step - loss: 0.0362 - mae: 0.1633\n",
            "Epoch 168/1200\n",
            "1/1 [==============================] - 0s 7ms/step - loss: 0.0360 - mae: 0.1628\n",
            "Epoch 169/1200\n",
            "1/1 [==============================] - 0s 5ms/step - loss: 0.0357 - mae: 0.1622\n",
            "Epoch 170/1200\n",
            "1/1 [==============================] - 0s 5ms/step - loss: 0.0355 - mae: 0.1617\n",
            "Epoch 171/1200\n",
            "1/1 [==============================] - 0s 7ms/step - loss: 0.0352 - mae: 0.1611\n",
            "Epoch 172/1200\n",
            "1/1 [==============================] - 0s 5ms/step - loss: 0.0350 - mae: 0.1606\n",
            "Epoch 173/1200\n",
            "1/1 [==============================] - 0s 5ms/step - loss: 0.0348 - mae: 0.1601\n",
            "Epoch 174/1200\n",
            "1/1 [==============================] - 0s 6ms/step - loss: 0.0345 - mae: 0.1595\n",
            "Epoch 175/1200\n",
            "1/1 [==============================] - 0s 9ms/step - loss: 0.0343 - mae: 0.1590\n",
            "Epoch 176/1200\n",
            "1/1 [==============================] - 0s 7ms/step - loss: 0.0341 - mae: 0.1584\n",
            "Epoch 177/1200\n",
            "1/1 [==============================] - 0s 6ms/step - loss: 0.0338 - mae: 0.1579\n",
            "Epoch 178/1200\n",
            "1/1 [==============================] - 0s 5ms/step - loss: 0.0336 - mae: 0.1574\n",
            "Epoch 179/1200\n",
            "1/1 [==============================] - 0s 5ms/step - loss: 0.0334 - mae: 0.1568\n",
            "Epoch 180/1200\n",
            "1/1 [==============================] - 0s 7ms/step - loss: 0.0332 - mae: 0.1563\n",
            "Epoch 181/1200\n",
            "1/1 [==============================] - 0s 5ms/step - loss: 0.0329 - mae: 0.1558\n",
            "Epoch 182/1200\n",
            "1/1 [==============================] - 0s 8ms/step - loss: 0.0327 - mae: 0.1552\n",
            "Epoch 183/1200\n",
            "1/1 [==============================] - 0s 4ms/step - loss: 0.0325 - mae: 0.1547\n",
            "Epoch 184/1200\n",
            "1/1 [==============================] - 0s 8ms/step - loss: 0.0323 - mae: 0.1542\n",
            "Epoch 185/1200\n",
            "1/1 [==============================] - 0s 6ms/step - loss: 0.0321 - mae: 0.1537\n",
            "Epoch 186/1200\n",
            "1/1 [==============================] - 0s 5ms/step - loss: 0.0318 - mae: 0.1532\n",
            "Epoch 187/1200\n",
            "1/1 [==============================] - 0s 5ms/step - loss: 0.0316 - mae: 0.1526\n",
            "Epoch 188/1200\n",
            "1/1 [==============================] - 0s 5ms/step - loss: 0.0314 - mae: 0.1521\n",
            "Epoch 189/1200\n",
            "1/1 [==============================] - 0s 8ms/step - loss: 0.0312 - mae: 0.1516\n",
            "Epoch 190/1200\n",
            "1/1 [==============================] - 0s 6ms/step - loss: 0.0310 - mae: 0.1511\n",
            "Epoch 191/1200\n",
            "1/1 [==============================] - 0s 5ms/step - loss: 0.0308 - mae: 0.1506\n",
            "Epoch 192/1200\n",
            "1/1 [==============================] - 0s 5ms/step - loss: 0.0306 - mae: 0.1501\n",
            "Epoch 193/1200\n",
            "1/1 [==============================] - 0s 6ms/step - loss: 0.0304 - mae: 0.1496\n",
            "Epoch 194/1200\n",
            "1/1 [==============================] - 0s 7ms/step - loss: 0.0302 - mae: 0.1491\n",
            "Epoch 195/1200\n",
            "1/1 [==============================] - 0s 7ms/step - loss: 0.0300 - mae: 0.1486\n",
            "Epoch 196/1200\n",
            "1/1 [==============================] - 0s 7ms/step - loss: 0.0298 - mae: 0.1481\n",
            "Epoch 197/1200\n",
            "1/1 [==============================] - 0s 8ms/step - loss: 0.0296 - mae: 0.1476\n",
            "Epoch 198/1200\n",
            "1/1 [==============================] - 0s 7ms/step - loss: 0.0294 - mae: 0.1471\n",
            "Epoch 199/1200\n",
            "1/1 [==============================] - 0s 7ms/step - loss: 0.0292 - mae: 0.1466\n",
            "Epoch 200/1200\n",
            "1/1 [==============================] - 0s 5ms/step - loss: 0.0290 - mae: 0.1461\n",
            "Epoch 201/1200\n",
            "1/1 [==============================] - 0s 8ms/step - loss: 0.0288 - mae: 0.1456\n",
            "Epoch 202/1200\n",
            "1/1 [==============================] - 0s 8ms/step - loss: 0.0286 - mae: 0.1451\n",
            "Epoch 203/1200\n",
            "1/1 [==============================] - 0s 5ms/step - loss: 0.0284 - mae: 0.1446\n",
            "Epoch 204/1200\n",
            "1/1 [==============================] - 0s 5ms/step - loss: 0.0282 - mae: 0.1441\n",
            "Epoch 205/1200\n",
            "1/1 [==============================] - 0s 6ms/step - loss: 0.0280 - mae: 0.1436\n",
            "Epoch 206/1200\n",
            "1/1 [==============================] - 0s 7ms/step - loss: 0.0278 - mae: 0.1431\n",
            "Epoch 207/1200\n",
            "1/1 [==============================] - 0s 7ms/step - loss: 0.0276 - mae: 0.1426\n",
            "Epoch 208/1200\n",
            "1/1 [==============================] - 0s 6ms/step - loss: 0.0274 - mae: 0.1422\n",
            "Epoch 209/1200\n",
            "1/1 [==============================] - 0s 6ms/step - loss: 0.0272 - mae: 0.1417\n",
            "Epoch 210/1200\n",
            "1/1 [==============================] - 0s 7ms/step - loss: 0.0271 - mae: 0.1412\n",
            "Epoch 211/1200\n",
            "1/1 [==============================] - 0s 6ms/step - loss: 0.0269 - mae: 0.1407\n",
            "Epoch 212/1200\n",
            "1/1 [==============================] - 0s 6ms/step - loss: 0.0267 - mae: 0.1402\n",
            "Epoch 213/1200\n",
            "1/1 [==============================] - 0s 6ms/step - loss: 0.0265 - mae: 0.1398\n",
            "Epoch 214/1200\n",
            "1/1 [==============================] - 0s 6ms/step - loss: 0.0263 - mae: 0.1393\n",
            "Epoch 215/1200\n",
            "1/1 [==============================] - 0s 5ms/step - loss: 0.0262 - mae: 0.1388\n",
            "Epoch 216/1200\n",
            "1/1 [==============================] - 0s 5ms/step - loss: 0.0260 - mae: 0.1384\n",
            "Epoch 217/1200\n",
            "1/1 [==============================] - 0s 6ms/step - loss: 0.0258 - mae: 0.1379\n",
            "Epoch 218/1200\n",
            "1/1 [==============================] - 0s 4ms/step - loss: 0.0256 - mae: 0.1374\n",
            "Epoch 219/1200\n",
            "1/1 [==============================] - 0s 6ms/step - loss: 0.0255 - mae: 0.1370\n",
            "Epoch 220/1200\n",
            "1/1 [==============================] - 0s 8ms/step - loss: 0.0253 - mae: 0.1365\n",
            "Epoch 221/1200\n",
            "1/1 [==============================] - 0s 7ms/step - loss: 0.0251 - mae: 0.1360\n",
            "Epoch 222/1200\n",
            "1/1 [==============================] - 0s 6ms/step - loss: 0.0250 - mae: 0.1356\n",
            "Epoch 223/1200\n",
            "1/1 [==============================] - 0s 8ms/step - loss: 0.0248 - mae: 0.1351\n",
            "Epoch 224/1200\n",
            "1/1 [==============================] - 0s 6ms/step - loss: 0.0246 - mae: 0.1347\n",
            "Epoch 225/1200\n",
            "1/1 [==============================] - 0s 6ms/step - loss: 0.0244 - mae: 0.1342\n",
            "Epoch 226/1200\n",
            "1/1 [==============================] - 0s 6ms/step - loss: 0.0243 - mae: 0.1338\n",
            "Epoch 227/1200\n",
            "1/1 [==============================] - 0s 6ms/step - loss: 0.0241 - mae: 0.1333\n",
            "Epoch 228/1200\n",
            "1/1 [==============================] - 0s 6ms/step - loss: 0.0240 - mae: 0.1329\n",
            "Epoch 229/1200\n",
            "1/1 [==============================] - 0s 6ms/step - loss: 0.0238 - mae: 0.1324\n",
            "Epoch 230/1200\n",
            "1/1 [==============================] - 0s 11ms/step - loss: 0.0236 - mae: 0.1320\n",
            "Epoch 231/1200\n",
            "1/1 [==============================] - 0s 6ms/step - loss: 0.0235 - mae: 0.1315\n",
            "Epoch 232/1200\n",
            "1/1 [==============================] - 0s 5ms/step - loss: 0.0233 - mae: 0.1311\n",
            "Epoch 233/1200\n",
            "1/1 [==============================] - 0s 6ms/step - loss: 0.0232 - mae: 0.1306\n",
            "Epoch 234/1200\n",
            "1/1 [==============================] - 0s 9ms/step - loss: 0.0230 - mae: 0.1302\n",
            "Epoch 235/1200\n",
            "1/1 [==============================] - 0s 6ms/step - loss: 0.0228 - mae: 0.1297\n",
            "Epoch 236/1200\n",
            "1/1 [==============================] - 0s 8ms/step - loss: 0.0227 - mae: 0.1293\n",
            "Epoch 237/1200\n",
            "1/1 [==============================] - 0s 5ms/step - loss: 0.0225 - mae: 0.1289\n",
            "Epoch 238/1200\n",
            "1/1 [==============================] - 0s 6ms/step - loss: 0.0224 - mae: 0.1284\n",
            "Epoch 239/1200\n",
            "1/1 [==============================] - 0s 7ms/step - loss: 0.0222 - mae: 0.1280\n",
            "Epoch 240/1200\n",
            "1/1 [==============================] - 0s 5ms/step - loss: 0.0221 - mae: 0.1276\n",
            "Epoch 241/1200\n",
            "1/1 [==============================] - 0s 5ms/step - loss: 0.0219 - mae: 0.1271\n",
            "Epoch 242/1200\n",
            "1/1 [==============================] - 0s 8ms/step - loss: 0.0218 - mae: 0.1267\n",
            "Epoch 243/1200\n",
            "1/1 [==============================] - 0s 9ms/step - loss: 0.0216 - mae: 0.1263\n",
            "Epoch 244/1200\n",
            "1/1 [==============================] - 0s 7ms/step - loss: 0.0215 - mae: 0.1258\n",
            "Epoch 245/1200\n",
            "1/1 [==============================] - 0s 6ms/step - loss: 0.0214 - mae: 0.1254\n",
            "Epoch 246/1200\n",
            "1/1 [==============================] - 0s 5ms/step - loss: 0.0212 - mae: 0.1250\n",
            "Epoch 247/1200\n",
            "1/1 [==============================] - 0s 5ms/step - loss: 0.0211 - mae: 0.1246\n",
            "Epoch 248/1200\n",
            "1/1 [==============================] - 0s 7ms/step - loss: 0.0209 - mae: 0.1242\n",
            "Epoch 249/1200\n",
            "1/1 [==============================] - 0s 6ms/step - loss: 0.0208 - mae: 0.1237\n",
            "Epoch 250/1200\n",
            "1/1 [==============================] - 0s 6ms/step - loss: 0.0206 - mae: 0.1233\n",
            "Epoch 251/1200\n",
            "1/1 [==============================] - 0s 8ms/step - loss: 0.0205 - mae: 0.1229\n",
            "Epoch 252/1200\n",
            "1/1 [==============================] - 0s 6ms/step - loss: 0.0204 - mae: 0.1225\n",
            "Epoch 253/1200\n",
            "1/1 [==============================] - 0s 7ms/step - loss: 0.0202 - mae: 0.1221\n",
            "Epoch 254/1200\n",
            "1/1 [==============================] - 0s 6ms/step - loss: 0.0201 - mae: 0.1217\n",
            "Epoch 255/1200\n",
            "1/1 [==============================] - 0s 6ms/step - loss: 0.0200 - mae: 0.1212\n",
            "Epoch 256/1200\n",
            "1/1 [==============================] - 0s 6ms/step - loss: 0.0198 - mae: 0.1208\n",
            "Epoch 257/1200\n",
            "1/1 [==============================] - 0s 7ms/step - loss: 0.0197 - mae: 0.1204\n",
            "Epoch 258/1200\n",
            "1/1 [==============================] - 0s 7ms/step - loss: 0.0196 - mae: 0.1200\n",
            "Epoch 259/1200\n",
            "1/1 [==============================] - 0s 6ms/step - loss: 0.0194 - mae: 0.1196\n",
            "Epoch 260/1200\n",
            "1/1 [==============================] - 0s 5ms/step - loss: 0.0193 - mae: 0.1192\n",
            "Epoch 261/1200\n",
            "1/1 [==============================] - 0s 5ms/step - loss: 0.0192 - mae: 0.1188\n",
            "Epoch 262/1200\n",
            "1/1 [==============================] - 0s 6ms/step - loss: 0.0190 - mae: 0.1184\n",
            "Epoch 263/1200\n",
            "1/1 [==============================] - 0s 6ms/step - loss: 0.0189 - mae: 0.1180\n",
            "Epoch 264/1200\n",
            "1/1 [==============================] - 0s 5ms/step - loss: 0.0188 - mae: 0.1176\n",
            "Epoch 265/1200\n",
            "1/1 [==============================] - 0s 6ms/step - loss: 0.0186 - mae: 0.1172\n",
            "Epoch 266/1200\n",
            "1/1 [==============================] - 0s 5ms/step - loss: 0.0185 - mae: 0.1168\n",
            "Epoch 267/1200\n",
            "1/1 [==============================] - 0s 8ms/step - loss: 0.0184 - mae: 0.1164\n",
            "Epoch 268/1200\n",
            "1/1 [==============================] - 0s 6ms/step - loss: 0.0183 - mae: 0.1160\n",
            "Epoch 269/1200\n",
            "1/1 [==============================] - 0s 7ms/step - loss: 0.0181 - mae: 0.1156\n",
            "Epoch 270/1200\n",
            "1/1 [==============================] - 0s 7ms/step - loss: 0.0180 - mae: 0.1152\n",
            "Epoch 271/1200\n",
            "1/1 [==============================] - 0s 7ms/step - loss: 0.0179 - mae: 0.1148\n",
            "Epoch 272/1200\n",
            "1/1 [==============================] - 0s 6ms/step - loss: 0.0178 - mae: 0.1145\n",
            "Epoch 273/1200\n",
            "1/1 [==============================] - 0s 5ms/step - loss: 0.0177 - mae: 0.1141\n",
            "Epoch 274/1200\n",
            "1/1 [==============================] - 0s 6ms/step - loss: 0.0175 - mae: 0.1137\n",
            "Epoch 275/1200\n",
            "1/1 [==============================] - 0s 6ms/step - loss: 0.0174 - mae: 0.1133\n",
            "Epoch 276/1200\n",
            "1/1 [==============================] - 0s 5ms/step - loss: 0.0173 - mae: 0.1129\n",
            "Epoch 277/1200\n",
            "1/1 [==============================] - 0s 5ms/step - loss: 0.0172 - mae: 0.1125\n",
            "Epoch 278/1200\n",
            "1/1 [==============================] - 0s 5ms/step - loss: 0.0171 - mae: 0.1122\n",
            "Epoch 279/1200\n",
            "1/1 [==============================] - 0s 6ms/step - loss: 0.0170 - mae: 0.1118\n",
            "Epoch 280/1200\n",
            "1/1 [==============================] - 0s 5ms/step - loss: 0.0168 - mae: 0.1114\n",
            "Epoch 281/1200\n",
            "1/1 [==============================] - 0s 8ms/step - loss: 0.0167 - mae: 0.1110\n",
            "Epoch 282/1200\n",
            "1/1 [==============================] - 0s 6ms/step - loss: 0.0166 - mae: 0.1106\n",
            "Epoch 283/1200\n",
            "1/1 [==============================] - 0s 6ms/step - loss: 0.0165 - mae: 0.1103\n",
            "Epoch 284/1200\n",
            "1/1 [==============================] - 0s 5ms/step - loss: 0.0164 - mae: 0.1099\n",
            "Epoch 285/1200\n",
            "1/1 [==============================] - 0s 6ms/step - loss: 0.0163 - mae: 0.1095\n",
            "Epoch 286/1200\n",
            "1/1 [==============================] - 0s 5ms/step - loss: 0.0162 - mae: 0.1092\n",
            "Epoch 287/1200\n",
            "1/1 [==============================] - 0s 7ms/step - loss: 0.0161 - mae: 0.1088\n",
            "Epoch 288/1200\n",
            "1/1 [==============================] - 0s 5ms/step - loss: 0.0160 - mae: 0.1084\n",
            "Epoch 289/1200\n",
            "1/1 [==============================] - 0s 6ms/step - loss: 0.0158 - mae: 0.1081\n",
            "Epoch 290/1200\n",
            "1/1 [==============================] - 0s 5ms/step - loss: 0.0157 - mae: 0.1077\n",
            "Epoch 291/1200\n",
            "1/1 [==============================] - 0s 5ms/step - loss: 0.0156 - mae: 0.1073\n",
            "Epoch 292/1200\n",
            "1/1 [==============================] - 0s 7ms/step - loss: 0.0155 - mae: 0.1070\n",
            "Epoch 293/1200\n",
            "1/1 [==============================] - 0s 6ms/step - loss: 0.0154 - mae: 0.1066\n",
            "Epoch 294/1200\n",
            "1/1 [==============================] - 0s 6ms/step - loss: 0.0153 - mae: 0.1062\n",
            "Epoch 295/1200\n",
            "1/1 [==============================] - 0s 5ms/step - loss: 0.0152 - mae: 0.1059\n",
            "Epoch 296/1200\n",
            "1/1 [==============================] - 0s 9ms/step - loss: 0.0151 - mae: 0.1055\n",
            "Epoch 297/1200\n",
            "1/1 [==============================] - 0s 7ms/step - loss: 0.0150 - mae: 0.1052\n",
            "Epoch 298/1200\n",
            "1/1 [==============================] - 0s 6ms/step - loss: 0.0149 - mae: 0.1048\n",
            "Epoch 299/1200\n",
            "1/1 [==============================] - 0s 5ms/step - loss: 0.0148 - mae: 0.1045\n",
            "Epoch 300/1200\n",
            "1/1 [==============================] - 0s 5ms/step - loss: 0.0147 - mae: 0.1041\n",
            "Epoch 301/1200\n",
            "1/1 [==============================] - 0s 7ms/step - loss: 0.0146 - mae: 0.1038\n",
            "Epoch 302/1200\n",
            "1/1 [==============================] - 0s 6ms/step - loss: 0.0145 - mae: 0.1034\n",
            "Epoch 303/1200\n",
            "1/1 [==============================] - 0s 8ms/step - loss: 0.0144 - mae: 0.1031\n",
            "Epoch 304/1200\n",
            "1/1 [==============================] - 0s 8ms/step - loss: 0.0143 - mae: 0.1027\n",
            "Epoch 305/1200\n",
            "1/1 [==============================] - 0s 5ms/step - loss: 0.0142 - mae: 0.1024\n",
            "Epoch 306/1200\n",
            "1/1 [==============================] - 0s 6ms/step - loss: 0.0141 - mae: 0.1020\n",
            "Epoch 307/1200\n",
            "1/1 [==============================] - 0s 6ms/step - loss: 0.0140 - mae: 0.1017\n",
            "Epoch 308/1200\n",
            "1/1 [==============================] - 0s 5ms/step - loss: 0.0139 - mae: 0.1013\n",
            "Epoch 309/1200\n",
            "1/1 [==============================] - 0s 6ms/step - loss: 0.0138 - mae: 0.1010\n",
            "Epoch 310/1200\n",
            "1/1 [==============================] - 0s 6ms/step - loss: 0.0137 - mae: 0.1006\n",
            "Epoch 311/1200\n",
            "1/1 [==============================] - 0s 7ms/step - loss: 0.0137 - mae: 0.1003\n",
            "Epoch 312/1200\n",
            "1/1 [==============================] - 0s 7ms/step - loss: 0.0136 - mae: 0.1000\n",
            "Epoch 313/1200\n",
            "1/1 [==============================] - 0s 8ms/step - loss: 0.0135 - mae: 0.0996\n",
            "Epoch 314/1200\n",
            "1/1 [==============================] - 0s 6ms/step - loss: 0.0134 - mae: 0.0993\n",
            "Epoch 315/1200\n",
            "1/1 [==============================] - 0s 5ms/step - loss: 0.0133 - mae: 0.0989\n",
            "Epoch 316/1200\n",
            "1/1 [==============================] - 0s 9ms/step - loss: 0.0132 - mae: 0.0986\n",
            "Epoch 317/1200\n",
            "1/1 [==============================] - 0s 5ms/step - loss: 0.0131 - mae: 0.0983\n",
            "Epoch 318/1200\n",
            "1/1 [==============================] - 0s 7ms/step - loss: 0.0130 - mae: 0.0979\n",
            "Epoch 319/1200\n",
            "1/1 [==============================] - 0s 6ms/step - loss: 0.0129 - mae: 0.0976\n",
            "Epoch 320/1200\n",
            "1/1 [==============================] - 0s 7ms/step - loss: 0.0128 - mae: 0.0973\n",
            "Epoch 321/1200\n",
            "1/1 [==============================] - 0s 7ms/step - loss: 0.0128 - mae: 0.0970\n",
            "Epoch 322/1200\n",
            "1/1 [==============================] - 0s 7ms/step - loss: 0.0127 - mae: 0.0966\n",
            "Epoch 323/1200\n",
            "1/1 [==============================] - 0s 5ms/step - loss: 0.0126 - mae: 0.0963\n",
            "Epoch 324/1200\n",
            "1/1 [==============================] - 0s 7ms/step - loss: 0.0125 - mae: 0.0960\n",
            "Epoch 325/1200\n",
            "1/1 [==============================] - 0s 6ms/step - loss: 0.0124 - mae: 0.0957\n",
            "Epoch 326/1200\n",
            "1/1 [==============================] - 0s 6ms/step - loss: 0.0123 - mae: 0.0953\n",
            "Epoch 327/1200\n",
            "1/1 [==============================] - 0s 5ms/step - loss: 0.0123 - mae: 0.0950\n",
            "Epoch 328/1200\n",
            "1/1 [==============================] - 0s 7ms/step - loss: 0.0122 - mae: 0.0947\n",
            "Epoch 329/1200\n",
            "1/1 [==============================] - 0s 7ms/step - loss: 0.0121 - mae: 0.0944\n",
            "Epoch 330/1200\n",
            "1/1 [==============================] - 0s 8ms/step - loss: 0.0120 - mae: 0.0940\n",
            "Epoch 331/1200\n",
            "1/1 [==============================] - 0s 5ms/step - loss: 0.0119 - mae: 0.0937\n",
            "Epoch 332/1200\n",
            "1/1 [==============================] - 0s 7ms/step - loss: 0.0118 - mae: 0.0934\n",
            "Epoch 333/1200\n",
            "1/1 [==============================] - 0s 5ms/step - loss: 0.0118 - mae: 0.0931\n",
            "Epoch 334/1200\n",
            "1/1 [==============================] - 0s 6ms/step - loss: 0.0117 - mae: 0.0928\n",
            "Epoch 335/1200\n",
            "1/1 [==============================] - 0s 7ms/step - loss: 0.0116 - mae: 0.0925\n",
            "Epoch 336/1200\n",
            "1/1 [==============================] - 0s 5ms/step - loss: 0.0115 - mae: 0.0922\n",
            "Epoch 337/1200\n",
            "1/1 [==============================] - 0s 6ms/step - loss: 0.0114 - mae: 0.0918\n",
            "Epoch 338/1200\n",
            "1/1 [==============================] - 0s 8ms/step - loss: 0.0114 - mae: 0.0915\n",
            "Epoch 339/1200\n",
            "1/1 [==============================] - 0s 6ms/step - loss: 0.0113 - mae: 0.0912\n",
            "Epoch 340/1200\n",
            "1/1 [==============================] - 0s 6ms/step - loss: 0.0112 - mae: 0.0909\n",
            "Epoch 341/1200\n",
            "1/1 [==============================] - 0s 6ms/step - loss: 0.0111 - mae: 0.0906\n",
            "Epoch 342/1200\n",
            "1/1 [==============================] - 0s 5ms/step - loss: 0.0111 - mae: 0.0903\n",
            "Epoch 343/1200\n",
            "1/1 [==============================] - 0s 6ms/step - loss: 0.0110 - mae: 0.0900\n",
            "Epoch 344/1200\n",
            "1/1 [==============================] - 0s 9ms/step - loss: 0.0109 - mae: 0.0897\n",
            "Epoch 345/1200\n",
            "1/1 [==============================] - 0s 5ms/step - loss: 0.0108 - mae: 0.0894\n",
            "Epoch 346/1200\n",
            "1/1 [==============================] - 0s 6ms/step - loss: 0.0108 - mae: 0.0891\n",
            "Epoch 347/1200\n",
            "1/1 [==============================] - 0s 7ms/step - loss: 0.0107 - mae: 0.0888\n",
            "Epoch 348/1200\n",
            "1/1 [==============================] - 0s 6ms/step - loss: 0.0106 - mae: 0.0885\n",
            "Epoch 349/1200\n",
            "1/1 [==============================] - 0s 6ms/step - loss: 0.0106 - mae: 0.0882\n",
            "Epoch 350/1200\n",
            "1/1 [==============================] - 0s 5ms/step - loss: 0.0105 - mae: 0.0879\n",
            "Epoch 351/1200\n",
            "1/1 [==============================] - 0s 6ms/step - loss: 0.0104 - mae: 0.0876\n",
            "Epoch 352/1200\n",
            "1/1 [==============================] - 0s 9ms/step - loss: 0.0103 - mae: 0.0873\n",
            "Epoch 353/1200\n",
            "1/1 [==============================] - 0s 6ms/step - loss: 0.0103 - mae: 0.0870\n",
            "Epoch 354/1200\n",
            "1/1 [==============================] - 0s 7ms/step - loss: 0.0102 - mae: 0.0867\n",
            "Epoch 355/1200\n",
            "1/1 [==============================] - 0s 7ms/step - loss: 0.0101 - mae: 0.0864\n",
            "Epoch 356/1200\n",
            "1/1 [==============================] - 0s 5ms/step - loss: 0.0101 - mae: 0.0861\n",
            "Epoch 357/1200\n",
            "1/1 [==============================] - 0s 7ms/step - loss: 0.0100 - mae: 0.0858\n",
            "Epoch 358/1200\n",
            "1/1 [==============================] - 0s 9ms/step - loss: 0.0099 - mae: 0.0855\n",
            "Epoch 359/1200\n",
            "1/1 [==============================] - 0s 7ms/step - loss: 0.0099 - mae: 0.0852\n",
            "Epoch 360/1200\n",
            "1/1 [==============================] - 0s 8ms/step - loss: 0.0098 - mae: 0.0850\n",
            "Epoch 361/1200\n",
            "1/1 [==============================] - 0s 7ms/step - loss: 0.0097 - mae: 0.0847\n",
            "Epoch 362/1200\n",
            "1/1 [==============================] - 0s 5ms/step - loss: 0.0097 - mae: 0.0844\n",
            "Epoch 363/1200\n",
            "1/1 [==============================] - 0s 7ms/step - loss: 0.0096 - mae: 0.0841\n",
            "Epoch 364/1200\n",
            "1/1 [==============================] - 0s 5ms/step - loss: 0.0095 - mae: 0.0838\n",
            "Epoch 365/1200\n",
            "1/1 [==============================] - 0s 6ms/step - loss: 0.0095 - mae: 0.0835\n",
            "Epoch 366/1200\n",
            "1/1 [==============================] - 0s 8ms/step - loss: 0.0094 - mae: 0.0833\n",
            "Epoch 367/1200\n",
            "1/1 [==============================] - 0s 6ms/step - loss: 0.0093 - mae: 0.0830\n",
            "Epoch 368/1200\n",
            "1/1 [==============================] - 0s 6ms/step - loss: 0.0093 - mae: 0.0827\n",
            "Epoch 369/1200\n",
            "1/1 [==============================] - 0s 8ms/step - loss: 0.0092 - mae: 0.0824\n",
            "Epoch 370/1200\n",
            "1/1 [==============================] - 0s 6ms/step - loss: 0.0092 - mae: 0.0821\n",
            "Epoch 371/1200\n",
            "1/1 [==============================] - 0s 5ms/step - loss: 0.0091 - mae: 0.0819\n",
            "Epoch 372/1200\n",
            "1/1 [==============================] - 0s 7ms/step - loss: 0.0090 - mae: 0.0816\n",
            "Epoch 373/1200\n",
            "1/1 [==============================] - 0s 7ms/step - loss: 0.0090 - mae: 0.0813\n",
            "Epoch 374/1200\n",
            "1/1 [==============================] - 0s 6ms/step - loss: 0.0089 - mae: 0.0810\n",
            "Epoch 375/1200\n",
            "1/1 [==============================] - 0s 6ms/step - loss: 0.0089 - mae: 0.0808\n",
            "Epoch 376/1200\n",
            "1/1 [==============================] - 0s 6ms/step - loss: 0.0088 - mae: 0.0805\n",
            "Epoch 377/1200\n",
            "1/1 [==============================] - 0s 6ms/step - loss: 0.0087 - mae: 0.0802\n",
            "Epoch 378/1200\n",
            "1/1 [==============================] - 0s 7ms/step - loss: 0.0087 - mae: 0.0799\n",
            "Epoch 379/1200\n",
            "1/1 [==============================] - 0s 6ms/step - loss: 0.0086 - mae: 0.0797\n",
            "Epoch 380/1200\n",
            "1/1 [==============================] - 0s 5ms/step - loss: 0.0086 - mae: 0.0794\n",
            "Epoch 381/1200\n",
            "1/1 [==============================] - 0s 8ms/step - loss: 0.0085 - mae: 0.0791\n",
            "Epoch 382/1200\n",
            "1/1 [==============================] - 0s 6ms/step - loss: 0.0084 - mae: 0.0789\n",
            "Epoch 383/1200\n",
            "1/1 [==============================] - 0s 6ms/step - loss: 0.0084 - mae: 0.0786\n",
            "Epoch 384/1200\n",
            "1/1 [==============================] - 0s 5ms/step - loss: 0.0083 - mae: 0.0783\n",
            "Epoch 385/1200\n",
            "1/1 [==============================] - 0s 6ms/step - loss: 0.0083 - mae: 0.0781\n",
            "Epoch 386/1200\n",
            "1/1 [==============================] - 0s 5ms/step - loss: 0.0082 - mae: 0.0778\n",
            "Epoch 387/1200\n",
            "1/1 [==============================] - 0s 7ms/step - loss: 0.0082 - mae: 0.0775\n",
            "Epoch 388/1200\n",
            "1/1 [==============================] - 0s 6ms/step - loss: 0.0081 - mae: 0.0773\n",
            "Epoch 389/1200\n",
            "1/1 [==============================] - 0s 6ms/step - loss: 0.0081 - mae: 0.0770\n",
            "Epoch 390/1200\n",
            "1/1 [==============================] - 0s 8ms/step - loss: 0.0080 - mae: 0.0768\n",
            "Epoch 391/1200\n",
            "1/1 [==============================] - 0s 6ms/step - loss: 0.0079 - mae: 0.0765\n",
            "Epoch 392/1200\n",
            "1/1 [==============================] - 0s 6ms/step - loss: 0.0079 - mae: 0.0762\n",
            "Epoch 393/1200\n",
            "1/1 [==============================] - 0s 6ms/step - loss: 0.0078 - mae: 0.0760\n",
            "Epoch 394/1200\n",
            "1/1 [==============================] - 0s 6ms/step - loss: 0.0078 - mae: 0.0757\n",
            "Epoch 395/1200\n",
            "1/1 [==============================] - 0s 5ms/step - loss: 0.0077 - mae: 0.0755\n",
            "Epoch 396/1200\n",
            "1/1 [==============================] - 0s 6ms/step - loss: 0.0077 - mae: 0.0752\n",
            "Epoch 397/1200\n",
            "1/1 [==============================] - 0s 7ms/step - loss: 0.0076 - mae: 0.0750\n",
            "Epoch 398/1200\n",
            "1/1 [==============================] - 0s 6ms/step - loss: 0.0076 - mae: 0.0747\n",
            "Epoch 399/1200\n",
            "1/1 [==============================] - 0s 7ms/step - loss: 0.0075 - mae: 0.0744\n",
            "Epoch 400/1200\n",
            "1/1 [==============================] - 0s 7ms/step - loss: 0.0075 - mae: 0.0742\n",
            "Epoch 401/1200\n",
            "1/1 [==============================] - 0s 6ms/step - loss: 0.0074 - mae: 0.0739\n",
            "Epoch 402/1200\n",
            "1/1 [==============================] - 0s 5ms/step - loss: 0.0074 - mae: 0.0737\n",
            "Epoch 403/1200\n",
            "1/1 [==============================] - 0s 6ms/step - loss: 0.0073 - mae: 0.0734\n",
            "Epoch 404/1200\n",
            "1/1 [==============================] - 0s 5ms/step - loss: 0.0073 - mae: 0.0732\n",
            "Epoch 405/1200\n",
            "1/1 [==============================] - 0s 5ms/step - loss: 0.0072 - mae: 0.0730\n",
            "Epoch 406/1200\n",
            "1/1 [==============================] - 0s 8ms/step - loss: 0.0072 - mae: 0.0727\n",
            "Epoch 407/1200\n",
            "1/1 [==============================] - 0s 4ms/step - loss: 0.0071 - mae: 0.0725\n",
            "Epoch 408/1200\n",
            "1/1 [==============================] - 0s 6ms/step - loss: 0.0071 - mae: 0.0722\n",
            "Epoch 409/1200\n",
            "1/1 [==============================] - 0s 5ms/step - loss: 0.0070 - mae: 0.0720\n",
            "Epoch 410/1200\n",
            "1/1 [==============================] - 0s 6ms/step - loss: 0.0070 - mae: 0.0717\n",
            "Epoch 411/1200\n",
            "1/1 [==============================] - 0s 5ms/step - loss: 0.0069 - mae: 0.0715\n",
            "Epoch 412/1200\n",
            "1/1 [==============================] - 0s 6ms/step - loss: 0.0069 - mae: 0.0712\n",
            "Epoch 413/1200\n",
            "1/1 [==============================] - 0s 6ms/step - loss: 0.0068 - mae: 0.0710\n",
            "Epoch 414/1200\n",
            "1/1 [==============================] - 0s 5ms/step - loss: 0.0068 - mae: 0.0708\n",
            "Epoch 415/1200\n",
            "1/1 [==============================] - 0s 8ms/step - loss: 0.0068 - mae: 0.0705\n",
            "Epoch 416/1200\n",
            "1/1 [==============================] - 0s 5ms/step - loss: 0.0067 - mae: 0.0703\n",
            "Epoch 417/1200\n",
            "1/1 [==============================] - 0s 7ms/step - loss: 0.0067 - mae: 0.0700\n",
            "Epoch 418/1200\n",
            "1/1 [==============================] - 0s 5ms/step - loss: 0.0066 - mae: 0.0698\n",
            "Epoch 419/1200\n",
            "1/1 [==============================] - 0s 4ms/step - loss: 0.0066 - mae: 0.0696\n",
            "Epoch 420/1200\n",
            "1/1 [==============================] - 0s 7ms/step - loss: 0.0065 - mae: 0.0693\n",
            "Epoch 421/1200\n",
            "1/1 [==============================] - 0s 6ms/step - loss: 0.0065 - mae: 0.0691\n",
            "Epoch 422/1200\n",
            "1/1 [==============================] - 0s 5ms/step - loss: 0.0064 - mae: 0.0689\n",
            "Epoch 423/1200\n",
            "1/1 [==============================] - 0s 7ms/step - loss: 0.0064 - mae: 0.0686\n",
            "Epoch 424/1200\n",
            "1/1 [==============================] - 0s 6ms/step - loss: 0.0064 - mae: 0.0684\n",
            "Epoch 425/1200\n",
            "1/1 [==============================] - 0s 7ms/step - loss: 0.0063 - mae: 0.0682\n",
            "Epoch 426/1200\n",
            "1/1 [==============================] - 0s 10ms/step - loss: 0.0063 - mae: 0.0679\n",
            "Epoch 427/1200\n",
            "1/1 [==============================] - 0s 7ms/step - loss: 0.0062 - mae: 0.0677\n",
            "Epoch 428/1200\n",
            "1/1 [==============================] - 0s 7ms/step - loss: 0.0062 - mae: 0.0675\n",
            "Epoch 429/1200\n",
            "1/1 [==============================] - 0s 8ms/step - loss: 0.0061 - mae: 0.0673\n",
            "Epoch 430/1200\n",
            "1/1 [==============================] - 0s 6ms/step - loss: 0.0061 - mae: 0.0670\n",
            "Epoch 431/1200\n",
            "1/1 [==============================] - 0s 6ms/step - loss: 0.0061 - mae: 0.0668\n",
            "Epoch 432/1200\n",
            "1/1 [==============================] - 0s 5ms/step - loss: 0.0060 - mae: 0.0666\n",
            "Epoch 433/1200\n",
            "1/1 [==============================] - 0s 6ms/step - loss: 0.0060 - mae: 0.0664\n",
            "Epoch 434/1200\n",
            "1/1 [==============================] - 0s 6ms/step - loss: 0.0059 - mae: 0.0661\n",
            "Epoch 435/1200\n",
            "1/1 [==============================] - 0s 6ms/step - loss: 0.0059 - mae: 0.0659\n",
            "Epoch 436/1200\n",
            "1/1 [==============================] - 0s 5ms/step - loss: 0.0059 - mae: 0.0657\n",
            "Epoch 437/1200\n",
            "1/1 [==============================] - 0s 5ms/step - loss: 0.0058 - mae: 0.0655\n",
            "Epoch 438/1200\n",
            "1/1 [==============================] - 0s 6ms/step - loss: 0.0058 - mae: 0.0652\n",
            "Epoch 439/1200\n",
            "1/1 [==============================] - 0s 6ms/step - loss: 0.0057 - mae: 0.0650\n",
            "Epoch 440/1200\n",
            "1/1 [==============================] - 0s 5ms/step - loss: 0.0057 - mae: 0.0648\n",
            "Epoch 441/1200\n",
            "1/1 [==============================] - 0s 6ms/step - loss: 0.0057 - mae: 0.0646\n",
            "Epoch 442/1200\n",
            "1/1 [==============================] - 0s 7ms/step - loss: 0.0056 - mae: 0.0644\n",
            "Epoch 443/1200\n",
            "1/1 [==============================] - 0s 5ms/step - loss: 0.0056 - mae: 0.0641\n",
            "Epoch 444/1200\n",
            "1/1 [==============================] - 0s 7ms/step - loss: 0.0055 - mae: 0.0639\n",
            "Epoch 445/1200\n",
            "1/1 [==============================] - 0s 5ms/step - loss: 0.0055 - mae: 0.0637\n",
            "Epoch 446/1200\n",
            "1/1 [==============================] - 0s 5ms/step - loss: 0.0055 - mae: 0.0635\n",
            "Epoch 447/1200\n",
            "1/1 [==============================] - 0s 5ms/step - loss: 0.0054 - mae: 0.0633\n",
            "Epoch 448/1200\n",
            "1/1 [==============================] - 0s 6ms/step - loss: 0.0054 - mae: 0.0631\n",
            "Epoch 449/1200\n",
            "1/1 [==============================] - 0s 6ms/step - loss: 0.0054 - mae: 0.0629\n",
            "Epoch 450/1200\n",
            "1/1 [==============================] - 0s 6ms/step - loss: 0.0053 - mae: 0.0626\n",
            "Epoch 451/1200\n",
            "1/1 [==============================] - 0s 6ms/step - loss: 0.0053 - mae: 0.0624\n",
            "Epoch 452/1200\n",
            "1/1 [==============================] - 0s 6ms/step - loss: 0.0053 - mae: 0.0622\n",
            "Epoch 453/1200\n",
            "1/1 [==============================] - 0s 5ms/step - loss: 0.0052 - mae: 0.0620\n",
            "Epoch 454/1200\n",
            "1/1 [==============================] - 0s 6ms/step - loss: 0.0052 - mae: 0.0618\n",
            "Epoch 455/1200\n",
            "1/1 [==============================] - 0s 6ms/step - loss: 0.0051 - mae: 0.0616\n",
            "Epoch 456/1200\n",
            "1/1 [==============================] - 0s 6ms/step - loss: 0.0051 - mae: 0.0614\n",
            "Epoch 457/1200\n",
            "1/1 [==============================] - 0s 5ms/step - loss: 0.0051 - mae: 0.0612\n",
            "Epoch 458/1200\n",
            "1/1 [==============================] - 0s 7ms/step - loss: 0.0050 - mae: 0.0610\n",
            "Epoch 459/1200\n",
            "1/1 [==============================] - 0s 5ms/step - loss: 0.0050 - mae: 0.0608\n",
            "Epoch 460/1200\n",
            "1/1 [==============================] - 0s 5ms/step - loss: 0.0050 - mae: 0.0606\n",
            "Epoch 461/1200\n",
            "1/1 [==============================] - 0s 5ms/step - loss: 0.0049 - mae: 0.0603\n",
            "Epoch 462/1200\n",
            "1/1 [==============================] - 0s 6ms/step - loss: 0.0049 - mae: 0.0601\n",
            "Epoch 463/1200\n",
            "1/1 [==============================] - 0s 6ms/step - loss: 0.0049 - mae: 0.0599\n",
            "Epoch 464/1200\n",
            "1/1 [==============================] - 0s 5ms/step - loss: 0.0048 - mae: 0.0597\n",
            "Epoch 465/1200\n",
            "1/1 [==============================] - 0s 6ms/step - loss: 0.0048 - mae: 0.0595\n",
            "Epoch 466/1200\n",
            "1/1 [==============================] - 0s 5ms/step - loss: 0.0048 - mae: 0.0593\n",
            "Epoch 467/1200\n",
            "1/1 [==============================] - 0s 5ms/step - loss: 0.0047 - mae: 0.0591\n",
            "Epoch 468/1200\n",
            "1/1 [==============================] - 0s 8ms/step - loss: 0.0047 - mae: 0.0589\n",
            "Epoch 469/1200\n",
            "1/1 [==============================] - 0s 5ms/step - loss: 0.0047 - mae: 0.0587\n",
            "Epoch 470/1200\n",
            "1/1 [==============================] - 0s 6ms/step - loss: 0.0047 - mae: 0.0585\n",
            "Epoch 471/1200\n",
            "1/1 [==============================] - 0s 7ms/step - loss: 0.0046 - mae: 0.0583\n",
            "Epoch 472/1200\n",
            "1/1 [==============================] - 0s 6ms/step - loss: 0.0046 - mae: 0.0581\n",
            "Epoch 473/1200\n",
            "1/1 [==============================] - 0s 7ms/step - loss: 0.0046 - mae: 0.0579\n",
            "Epoch 474/1200\n",
            "1/1 [==============================] - 0s 7ms/step - loss: 0.0045 - mae: 0.0577\n",
            "Epoch 475/1200\n",
            "1/1 [==============================] - 0s 9ms/step - loss: 0.0045 - mae: 0.0576\n",
            "Epoch 476/1200\n",
            "1/1 [==============================] - 0s 6ms/step - loss: 0.0045 - mae: 0.0574\n",
            "Epoch 477/1200\n",
            "1/1 [==============================] - 0s 6ms/step - loss: 0.0044 - mae: 0.0572\n",
            "Epoch 478/1200\n",
            "1/1 [==============================] - 0s 7ms/step - loss: 0.0044 - mae: 0.0570\n",
            "Epoch 479/1200\n",
            "1/1 [==============================] - 0s 6ms/step - loss: 0.0044 - mae: 0.0568\n",
            "Epoch 480/1200\n",
            "1/1 [==============================] - 0s 5ms/step - loss: 0.0043 - mae: 0.0566\n",
            "Epoch 481/1200\n",
            "1/1 [==============================] - 0s 5ms/step - loss: 0.0043 - mae: 0.0564\n",
            "Epoch 482/1200\n",
            "1/1 [==============================] - 0s 6ms/step - loss: 0.0043 - mae: 0.0562\n",
            "Epoch 483/1200\n",
            "1/1 [==============================] - 0s 5ms/step - loss: 0.0043 - mae: 0.0560\n",
            "Epoch 484/1200\n",
            "1/1 [==============================] - 0s 5ms/step - loss: 0.0042 - mae: 0.0558\n",
            "Epoch 485/1200\n",
            "1/1 [==============================] - 0s 5ms/step - loss: 0.0042 - mae: 0.0556\n",
            "Epoch 486/1200\n",
            "1/1 [==============================] - 0s 6ms/step - loss: 0.0042 - mae: 0.0554\n",
            "Epoch 487/1200\n",
            "1/1 [==============================] - 0s 5ms/step - loss: 0.0041 - mae: 0.0553\n",
            "Epoch 488/1200\n",
            "1/1 [==============================] - 0s 6ms/step - loss: 0.0041 - mae: 0.0551\n",
            "Epoch 489/1200\n",
            "1/1 [==============================] - 0s 6ms/step - loss: 0.0041 - mae: 0.0549\n",
            "Epoch 490/1200\n",
            "1/1 [==============================] - 0s 5ms/step - loss: 0.0041 - mae: 0.0547\n",
            "Epoch 491/1200\n",
            "1/1 [==============================] - 0s 5ms/step - loss: 0.0040 - mae: 0.0545\n",
            "Epoch 492/1200\n",
            "1/1 [==============================] - 0s 6ms/step - loss: 0.0040 - mae: 0.0543\n",
            "Epoch 493/1200\n",
            "1/1 [==============================] - 0s 7ms/step - loss: 0.0040 - mae: 0.0542\n",
            "Epoch 494/1200\n",
            "1/1 [==============================] - 0s 6ms/step - loss: 0.0040 - mae: 0.0540\n",
            "Epoch 495/1200\n",
            "1/1 [==============================] - 0s 6ms/step - loss: 0.0039 - mae: 0.0538\n",
            "Epoch 496/1200\n",
            "1/1 [==============================] - 0s 6ms/step - loss: 0.0039 - mae: 0.0536\n",
            "Epoch 497/1200\n",
            "1/1 [==============================] - 0s 8ms/step - loss: 0.0039 - mae: 0.0534\n",
            "Epoch 498/1200\n",
            "1/1 [==============================] - 0s 5ms/step - loss: 0.0038 - mae: 0.0532\n",
            "Epoch 499/1200\n",
            "1/1 [==============================] - 0s 7ms/step - loss: 0.0038 - mae: 0.0531\n",
            "Epoch 500/1200\n",
            "1/1 [==============================] - 0s 8ms/step - loss: 0.0038 - mae: 0.0529\n",
            "Epoch 501/1200\n",
            "1/1 [==============================] - 0s 6ms/step - loss: 0.0038 - mae: 0.0527\n",
            "Epoch 502/1200\n",
            "1/1 [==============================] - 0s 8ms/step - loss: 0.0037 - mae: 0.0525\n",
            "Epoch 503/1200\n",
            "1/1 [==============================] - 0s 7ms/step - loss: 0.0037 - mae: 0.0523\n",
            "Epoch 504/1200\n",
            "1/1 [==============================] - 0s 7ms/step - loss: 0.0037 - mae: 0.0522\n",
            "Epoch 505/1200\n",
            "1/1 [==============================] - 0s 8ms/step - loss: 0.0037 - mae: 0.0520\n",
            "Epoch 506/1200\n",
            "1/1 [==============================] - 0s 6ms/step - loss: 0.0036 - mae: 0.0518\n",
            "Epoch 507/1200\n",
            "1/1 [==============================] - 0s 6ms/step - loss: 0.0036 - mae: 0.0516\n",
            "Epoch 508/1200\n",
            "1/1 [==============================] - 0s 7ms/step - loss: 0.0036 - mae: 0.0515\n",
            "Epoch 509/1200\n",
            "1/1 [==============================] - 0s 6ms/step - loss: 0.0036 - mae: 0.0513\n",
            "Epoch 510/1200\n",
            "1/1 [==============================] - 0s 6ms/step - loss: 0.0035 - mae: 0.0511\n",
            "Epoch 511/1200\n",
            "1/1 [==============================] - 0s 7ms/step - loss: 0.0035 - mae: 0.0509\n",
            "Epoch 512/1200\n",
            "1/1 [==============================] - 0s 7ms/step - loss: 0.0035 - mae: 0.0508\n",
            "Epoch 513/1200\n",
            "1/1 [==============================] - 0s 8ms/step - loss: 0.0035 - mae: 0.0506\n",
            "Epoch 514/1200\n",
            "1/1 [==============================] - 0s 6ms/step - loss: 0.0035 - mae: 0.0504\n",
            "Epoch 515/1200\n",
            "1/1 [==============================] - 0s 7ms/step - loss: 0.0034 - mae: 0.0503\n",
            "Epoch 516/1200\n",
            "1/1 [==============================] - 0s 5ms/step - loss: 0.0034 - mae: 0.0501\n",
            "Epoch 517/1200\n",
            "1/1 [==============================] - 0s 8ms/step - loss: 0.0034 - mae: 0.0499\n",
            "Epoch 518/1200\n",
            "1/1 [==============================] - 0s 7ms/step - loss: 0.0034 - mae: 0.0498\n",
            "Epoch 519/1200\n",
            "1/1 [==============================] - 0s 5ms/step - loss: 0.0033 - mae: 0.0496\n",
            "Epoch 520/1200\n",
            "1/1 [==============================] - 0s 6ms/step - loss: 0.0033 - mae: 0.0494\n",
            "Epoch 521/1200\n",
            "1/1 [==============================] - 0s 8ms/step - loss: 0.0033 - mae: 0.0493\n",
            "Epoch 522/1200\n",
            "1/1 [==============================] - 0s 5ms/step - loss: 0.0033 - mae: 0.0491\n",
            "Epoch 523/1200\n",
            "1/1 [==============================] - 0s 5ms/step - loss: 0.0032 - mae: 0.0489\n",
            "Epoch 524/1200\n",
            "1/1 [==============================] - 0s 6ms/step - loss: 0.0032 - mae: 0.0488\n",
            "Epoch 525/1200\n",
            "1/1 [==============================] - 0s 5ms/step - loss: 0.0032 - mae: 0.0486\n",
            "Epoch 526/1200\n",
            "1/1 [==============================] - 0s 5ms/step - loss: 0.0032 - mae: 0.0484\n",
            "Epoch 527/1200\n",
            "1/1 [==============================] - 0s 6ms/step - loss: 0.0032 - mae: 0.0483\n",
            "Epoch 528/1200\n",
            "1/1 [==============================] - 0s 5ms/step - loss: 0.0031 - mae: 0.0481\n",
            "Epoch 529/1200\n",
            "1/1 [==============================] - 0s 5ms/step - loss: 0.0031 - mae: 0.0479\n",
            "Epoch 530/1200\n",
            "1/1 [==============================] - 0s 7ms/step - loss: 0.0031 - mae: 0.0478\n",
            "Epoch 531/1200\n",
            "1/1 [==============================] - 0s 5ms/step - loss: 0.0031 - mae: 0.0476\n",
            "Epoch 532/1200\n",
            "1/1 [==============================] - 0s 6ms/step - loss: 0.0031 - mae: 0.0474\n",
            "Epoch 533/1200\n",
            "1/1 [==============================] - 0s 5ms/step - loss: 0.0030 - mae: 0.0473\n",
            "Epoch 534/1200\n",
            "1/1 [==============================] - 0s 6ms/step - loss: 0.0030 - mae: 0.0471\n",
            "Epoch 535/1200\n",
            "1/1 [==============================] - 0s 6ms/step - loss: 0.0030 - mae: 0.0470\n",
            "Epoch 536/1200\n",
            "1/1 [==============================] - 0s 5ms/step - loss: 0.0030 - mae: 0.0468\n",
            "Epoch 537/1200\n",
            "1/1 [==============================] - 0s 6ms/step - loss: 0.0030 - mae: 0.0467\n",
            "Epoch 538/1200\n",
            "1/1 [==============================] - 0s 6ms/step - loss: 0.0029 - mae: 0.0465\n",
            "Epoch 539/1200\n",
            "1/1 [==============================] - 0s 5ms/step - loss: 0.0029 - mae: 0.0463\n",
            "Epoch 540/1200\n",
            "1/1 [==============================] - 0s 5ms/step - loss: 0.0029 - mae: 0.0462\n",
            "Epoch 541/1200\n",
            "1/1 [==============================] - 0s 5ms/step - loss: 0.0029 - mae: 0.0460\n",
            "Epoch 542/1200\n",
            "1/1 [==============================] - 0s 6ms/step - loss: 0.0029 - mae: 0.0459\n",
            "Epoch 543/1200\n",
            "1/1 [==============================] - 0s 5ms/step - loss: 0.0028 - mae: 0.0457\n",
            "Epoch 544/1200\n",
            "1/1 [==============================] - 0s 5ms/step - loss: 0.0028 - mae: 0.0456\n",
            "Epoch 545/1200\n",
            "1/1 [==============================] - 0s 5ms/step - loss: 0.0028 - mae: 0.0454\n",
            "Epoch 546/1200\n",
            "1/1 [==============================] - 0s 7ms/step - loss: 0.0028 - mae: 0.0453\n",
            "Epoch 547/1200\n",
            "1/1 [==============================] - 0s 5ms/step - loss: 0.0028 - mae: 0.0451\n",
            "Epoch 548/1200\n",
            "1/1 [==============================] - 0s 5ms/step - loss: 0.0027 - mae: 0.0449\n",
            "Epoch 549/1200\n",
            "1/1 [==============================] - 0s 7ms/step - loss: 0.0027 - mae: 0.0448\n",
            "Epoch 550/1200\n",
            "1/1 [==============================] - 0s 6ms/step - loss: 0.0027 - mae: 0.0446\n",
            "Epoch 551/1200\n",
            "1/1 [==============================] - 0s 6ms/step - loss: 0.0027 - mae: 0.0445\n",
            "Epoch 552/1200\n",
            "1/1 [==============================] - 0s 7ms/step - loss: 0.0027 - mae: 0.0443\n",
            "Epoch 553/1200\n",
            "1/1 [==============================] - 0s 5ms/step - loss: 0.0027 - mae: 0.0442\n",
            "Epoch 554/1200\n",
            "1/1 [==============================] - 0s 5ms/step - loss: 0.0026 - mae: 0.0440\n",
            "Epoch 555/1200\n",
            "1/1 [==============================] - 0s 6ms/step - loss: 0.0026 - mae: 0.0439\n",
            "Epoch 556/1200\n",
            "1/1 [==============================] - 0s 7ms/step - loss: 0.0026 - mae: 0.0437\n",
            "Epoch 557/1200\n",
            "1/1 [==============================] - 0s 5ms/step - loss: 0.0026 - mae: 0.0436\n",
            "Epoch 558/1200\n",
            "1/1 [==============================] - 0s 6ms/step - loss: 0.0026 - mae: 0.0435\n",
            "Epoch 559/1200\n",
            "1/1 [==============================] - 0s 6ms/step - loss: 0.0025 - mae: 0.0433\n",
            "Epoch 560/1200\n",
            "1/1 [==============================] - 0s 6ms/step - loss: 0.0025 - mae: 0.0432\n",
            "Epoch 561/1200\n",
            "1/1 [==============================] - 0s 6ms/step - loss: 0.0025 - mae: 0.0430\n",
            "Epoch 562/1200\n",
            "1/1 [==============================] - 0s 5ms/step - loss: 0.0025 - mae: 0.0429\n",
            "Epoch 563/1200\n",
            "1/1 [==============================] - 0s 6ms/step - loss: 0.0025 - mae: 0.0427\n",
            "Epoch 564/1200\n",
            "1/1 [==============================] - 0s 6ms/step - loss: 0.0025 - mae: 0.0426\n",
            "Epoch 565/1200\n",
            "1/1 [==============================] - 0s 6ms/step - loss: 0.0024 - mae: 0.0424\n",
            "Epoch 566/1200\n",
            "1/1 [==============================] - 0s 6ms/step - loss: 0.0024 - mae: 0.0423\n",
            "Epoch 567/1200\n",
            "1/1 [==============================] - 0s 7ms/step - loss: 0.0024 - mae: 0.0421\n",
            "Epoch 568/1200\n",
            "1/1 [==============================] - 0s 7ms/step - loss: 0.0024 - mae: 0.0420\n",
            "Epoch 569/1200\n",
            "1/1 [==============================] - 0s 6ms/step - loss: 0.0024 - mae: 0.0419\n",
            "Epoch 570/1200\n",
            "1/1 [==============================] - 0s 13ms/step - loss: 0.0024 - mae: 0.0417\n",
            "Epoch 571/1200\n",
            "1/1 [==============================] - 0s 7ms/step - loss: 0.0023 - mae: 0.0416\n",
            "Epoch 572/1200\n",
            "1/1 [==============================] - 0s 7ms/step - loss: 0.0023 - mae: 0.0414\n",
            "Epoch 573/1200\n",
            "1/1 [==============================] - 0s 6ms/step - loss: 0.0023 - mae: 0.0413\n",
            "Epoch 574/1200\n",
            "1/1 [==============================] - 0s 7ms/step - loss: 0.0023 - mae: 0.0412\n",
            "Epoch 575/1200\n",
            "1/1 [==============================] - 0s 5ms/step - loss: 0.0023 - mae: 0.0410\n",
            "Epoch 576/1200\n",
            "1/1 [==============================] - 0s 5ms/step - loss: 0.0023 - mae: 0.0409\n",
            "Epoch 577/1200\n",
            "1/1 [==============================] - 0s 5ms/step - loss: 0.0023 - mae: 0.0407\n",
            "Epoch 578/1200\n",
            "1/1 [==============================] - 0s 6ms/step - loss: 0.0022 - mae: 0.0406\n",
            "Epoch 579/1200\n",
            "1/1 [==============================] - 0s 6ms/step - loss: 0.0022 - mae: 0.0405\n",
            "Epoch 580/1200\n",
            "1/1 [==============================] - 0s 7ms/step - loss: 0.0022 - mae: 0.0403\n",
            "Epoch 581/1200\n",
            "1/1 [==============================] - 0s 5ms/step - loss: 0.0022 - mae: 0.0402\n",
            "Epoch 582/1200\n",
            "1/1 [==============================] - 0s 5ms/step - loss: 0.0022 - mae: 0.0401\n",
            "Epoch 583/1200\n",
            "1/1 [==============================] - 0s 6ms/step - loss: 0.0022 - mae: 0.0399\n",
            "Epoch 584/1200\n",
            "1/1 [==============================] - 0s 7ms/step - loss: 0.0021 - mae: 0.0398\n",
            "Epoch 585/1200\n",
            "1/1 [==============================] - 0s 5ms/step - loss: 0.0021 - mae: 0.0397\n",
            "Epoch 586/1200\n",
            "1/1 [==============================] - 0s 6ms/step - loss: 0.0021 - mae: 0.0395\n",
            "Epoch 587/1200\n",
            "1/1 [==============================] - 0s 7ms/step - loss: 0.0021 - mae: 0.0394\n",
            "Epoch 588/1200\n",
            "1/1 [==============================] - 0s 7ms/step - loss: 0.0021 - mae: 0.0393\n",
            "Epoch 589/1200\n",
            "1/1 [==============================] - 0s 6ms/step - loss: 0.0021 - mae: 0.0391\n",
            "Epoch 590/1200\n",
            "1/1 [==============================] - 0s 6ms/step - loss: 0.0021 - mae: 0.0390\n",
            "Epoch 591/1200\n",
            "1/1 [==============================] - 0s 5ms/step - loss: 0.0020 - mae: 0.0389\n",
            "Epoch 592/1200\n",
            "1/1 [==============================] - 0s 5ms/step - loss: 0.0020 - mae: 0.0387\n",
            "Epoch 593/1200\n",
            "1/1 [==============================] - 0s 8ms/step - loss: 0.0020 - mae: 0.0386\n",
            "Epoch 594/1200\n",
            "1/1 [==============================] - 0s 7ms/step - loss: 0.0020 - mae: 0.0385\n",
            "Epoch 595/1200\n",
            "1/1 [==============================] - 0s 5ms/step - loss: 0.0020 - mae: 0.0383\n",
            "Epoch 596/1200\n",
            "1/1 [==============================] - 0s 8ms/step - loss: 0.0020 - mae: 0.0382\n",
            "Epoch 597/1200\n",
            "1/1 [==============================] - 0s 6ms/step - loss: 0.0020 - mae: 0.0381\n",
            "Epoch 598/1200\n",
            "1/1 [==============================] - 0s 5ms/step - loss: 0.0020 - mae: 0.0379\n",
            "Epoch 599/1200\n",
            "1/1 [==============================] - 0s 6ms/step - loss: 0.0019 - mae: 0.0378\n",
            "Epoch 600/1200\n",
            "1/1 [==============================] - 0s 5ms/step - loss: 0.0019 - mae: 0.0377\n",
            "Epoch 601/1200\n",
            "1/1 [==============================] - 0s 6ms/step - loss: 0.0019 - mae: 0.0376\n",
            "Epoch 602/1200\n",
            "1/1 [==============================] - 0s 6ms/step - loss: 0.0019 - mae: 0.0374\n",
            "Epoch 603/1200\n",
            "1/1 [==============================] - 0s 7ms/step - loss: 0.0019 - mae: 0.0373\n",
            "Epoch 604/1200\n",
            "1/1 [==============================] - 0s 6ms/step - loss: 0.0019 - mae: 0.0372\n",
            "Epoch 605/1200\n",
            "1/1 [==============================] - 0s 5ms/step - loss: 0.0019 - mae: 0.0371\n",
            "Epoch 606/1200\n",
            "1/1 [==============================] - 0s 6ms/step - loss: 0.0019 - mae: 0.0369\n",
            "Epoch 607/1200\n",
            "1/1 [==============================] - 0s 7ms/step - loss: 0.0018 - mae: 0.0368\n",
            "Epoch 608/1200\n",
            "1/1 [==============================] - 0s 7ms/step - loss: 0.0018 - mae: 0.0367\n",
            "Epoch 609/1200\n",
            "1/1 [==============================] - 0s 6ms/step - loss: 0.0018 - mae: 0.0366\n",
            "Epoch 610/1200\n",
            "1/1 [==============================] - 0s 5ms/step - loss: 0.0018 - mae: 0.0364\n",
            "Epoch 611/1200\n",
            "1/1 [==============================] - 0s 6ms/step - loss: 0.0018 - mae: 0.0363\n",
            "Epoch 612/1200\n",
            "1/1 [==============================] - 0s 6ms/step - loss: 0.0018 - mae: 0.0362\n",
            "Epoch 613/1200\n",
            "1/1 [==============================] - 0s 6ms/step - loss: 0.0018 - mae: 0.0361\n",
            "Epoch 614/1200\n",
            "1/1 [==============================] - 0s 6ms/step - loss: 0.0018 - mae: 0.0359\n",
            "Epoch 615/1200\n",
            "1/1 [==============================] - 0s 9ms/step - loss: 0.0017 - mae: 0.0358\n",
            "Epoch 616/1200\n",
            "1/1 [==============================] - 0s 6ms/step - loss: 0.0017 - mae: 0.0357\n",
            "Epoch 617/1200\n",
            "1/1 [==============================] - 0s 5ms/step - loss: 0.0017 - mae: 0.0356\n",
            "Epoch 618/1200\n",
            "1/1 [==============================] - 0s 6ms/step - loss: 0.0017 - mae: 0.0355\n",
            "Epoch 619/1200\n",
            "1/1 [==============================] - 0s 6ms/step - loss: 0.0017 - mae: 0.0353\n",
            "Epoch 620/1200\n",
            "1/1 [==============================] - 0s 8ms/step - loss: 0.0017 - mae: 0.0352\n",
            "Epoch 621/1200\n",
            "1/1 [==============================] - 0s 5ms/step - loss: 0.0017 - mae: 0.0351\n",
            "Epoch 622/1200\n",
            "1/1 [==============================] - 0s 5ms/step - loss: 0.0017 - mae: 0.0350\n",
            "Epoch 623/1200\n",
            "1/1 [==============================] - 0s 5ms/step - loss: 0.0016 - mae: 0.0349\n",
            "Epoch 624/1200\n",
            "1/1 [==============================] - 0s 8ms/step - loss: 0.0016 - mae: 0.0347\n",
            "Epoch 625/1200\n",
            "1/1 [==============================] - 0s 6ms/step - loss: 0.0016 - mae: 0.0346\n",
            "Epoch 626/1200\n",
            "1/1 [==============================] - 0s 10ms/step - loss: 0.0016 - mae: 0.0345\n",
            "Epoch 627/1200\n",
            "1/1 [==============================] - 0s 6ms/step - loss: 0.0016 - mae: 0.0344\n",
            "Epoch 628/1200\n",
            "1/1 [==============================] - 0s 5ms/step - loss: 0.0016 - mae: 0.0343\n",
            "Epoch 629/1200\n",
            "1/1 [==============================] - 0s 10ms/step - loss: 0.0016 - mae: 0.0342\n",
            "Epoch 630/1200\n",
            "1/1 [==============================] - 0s 7ms/step - loss: 0.0016 - mae: 0.0340\n",
            "Epoch 631/1200\n",
            "1/1 [==============================] - 0s 5ms/step - loss: 0.0016 - mae: 0.0339\n",
            "Epoch 632/1200\n",
            "1/1 [==============================] - 0s 6ms/step - loss: 0.0016 - mae: 0.0338\n",
            "Epoch 633/1200\n",
            "1/1 [==============================] - 0s 5ms/step - loss: 0.0015 - mae: 0.0337\n",
            "Epoch 634/1200\n",
            "1/1 [==============================] - 0s 6ms/step - loss: 0.0015 - mae: 0.0336\n",
            "Epoch 635/1200\n",
            "1/1 [==============================] - 0s 5ms/step - loss: 0.0015 - mae: 0.0335\n",
            "Epoch 636/1200\n",
            "1/1 [==============================] - 0s 7ms/step - loss: 0.0015 - mae: 0.0334\n",
            "Epoch 637/1200\n",
            "1/1 [==============================] - 0s 5ms/step - loss: 0.0015 - mae: 0.0333\n",
            "Epoch 638/1200\n",
            "1/1 [==============================] - 0s 7ms/step - loss: 0.0015 - mae: 0.0331\n",
            "Epoch 639/1200\n",
            "1/1 [==============================] - 0s 6ms/step - loss: 0.0015 - mae: 0.0330\n",
            "Epoch 640/1200\n",
            "1/1 [==============================] - 0s 5ms/step - loss: 0.0015 - mae: 0.0329\n",
            "Epoch 641/1200\n",
            "1/1 [==============================] - 0s 8ms/step - loss: 0.0015 - mae: 0.0328\n",
            "Epoch 642/1200\n",
            "1/1 [==============================] - 0s 7ms/step - loss: 0.0015 - mae: 0.0327\n",
            "Epoch 643/1200\n",
            "1/1 [==============================] - 0s 6ms/step - loss: 0.0014 - mae: 0.0326\n",
            "Epoch 644/1200\n",
            "1/1 [==============================] - 0s 5ms/step - loss: 0.0014 - mae: 0.0325\n",
            "Epoch 645/1200\n",
            "1/1 [==============================] - 0s 5ms/step - loss: 0.0014 - mae: 0.0324\n",
            "Epoch 646/1200\n",
            "1/1 [==============================] - 0s 9ms/step - loss: 0.0014 - mae: 0.0323\n",
            "Epoch 647/1200\n",
            "1/1 [==============================] - 0s 5ms/step - loss: 0.0014 - mae: 0.0321\n",
            "Epoch 648/1200\n",
            "1/1 [==============================] - 0s 5ms/step - loss: 0.0014 - mae: 0.0320\n",
            "Epoch 649/1200\n",
            "1/1 [==============================] - 0s 6ms/step - loss: 0.0014 - mae: 0.0319\n",
            "Epoch 650/1200\n",
            "1/1 [==============================] - 0s 8ms/step - loss: 0.0014 - mae: 0.0318\n",
            "Epoch 651/1200\n",
            "1/1 [==============================] - 0s 5ms/step - loss: 0.0014 - mae: 0.0317\n",
            "Epoch 652/1200\n",
            "1/1 [==============================] - 0s 6ms/step - loss: 0.0014 - mae: 0.0316\n",
            "Epoch 653/1200\n",
            "1/1 [==============================] - 0s 7ms/step - loss: 0.0013 - mae: 0.0315\n",
            "Epoch 654/1200\n",
            "1/1 [==============================] - 0s 7ms/step - loss: 0.0013 - mae: 0.0314\n",
            "Epoch 655/1200\n",
            "1/1 [==============================] - 0s 6ms/step - loss: 0.0013 - mae: 0.0313\n",
            "Epoch 656/1200\n",
            "1/1 [==============================] - 0s 7ms/step - loss: 0.0013 - mae: 0.0312\n",
            "Epoch 657/1200\n",
            "1/1 [==============================] - 0s 5ms/step - loss: 0.0013 - mae: 0.0311\n",
            "Epoch 658/1200\n",
            "1/1 [==============================] - 0s 6ms/step - loss: 0.0013 - mae: 0.0310\n",
            "Epoch 659/1200\n",
            "1/1 [==============================] - 0s 5ms/step - loss: 0.0013 - mae: 0.0309\n",
            "Epoch 660/1200\n",
            "1/1 [==============================] - 0s 7ms/step - loss: 0.0013 - mae: 0.0308\n",
            "Epoch 661/1200\n",
            "1/1 [==============================] - 0s 6ms/step - loss: 0.0013 - mae: 0.0307\n",
            "Epoch 662/1200\n",
            "1/1 [==============================] - 0s 6ms/step - loss: 0.0013 - mae: 0.0306\n",
            "Epoch 663/1200\n",
            "1/1 [==============================] - 0s 7ms/step - loss: 0.0013 - mae: 0.0304\n",
            "Epoch 664/1200\n",
            "1/1 [==============================] - 0s 6ms/step - loss: 0.0012 - mae: 0.0303\n",
            "Epoch 665/1200\n",
            "1/1 [==============================] - 0s 5ms/step - loss: 0.0012 - mae: 0.0302\n",
            "Epoch 666/1200\n",
            "1/1 [==============================] - 0s 5ms/step - loss: 0.0012 - mae: 0.0301\n",
            "Epoch 667/1200\n",
            "1/1 [==============================] - 0s 8ms/step - loss: 0.0012 - mae: 0.0300\n",
            "Epoch 668/1200\n",
            "1/1 [==============================] - 0s 5ms/step - loss: 0.0012 - mae: 0.0299\n",
            "Epoch 669/1200\n",
            "1/1 [==============================] - 0s 5ms/step - loss: 0.0012 - mae: 0.0298\n",
            "Epoch 670/1200\n",
            "1/1 [==============================] - 0s 6ms/step - loss: 0.0012 - mae: 0.0297\n",
            "Epoch 671/1200\n",
            "1/1 [==============================] - 0s 4ms/step - loss: 0.0012 - mae: 0.0296\n",
            "Epoch 672/1200\n",
            "1/1 [==============================] - 0s 5ms/step - loss: 0.0012 - mae: 0.0295\n",
            "Epoch 673/1200\n",
            "1/1 [==============================] - 0s 6ms/step - loss: 0.0012 - mae: 0.0294\n",
            "Epoch 674/1200\n",
            "1/1 [==============================] - 0s 6ms/step - loss: 0.0012 - mae: 0.0293\n",
            "Epoch 675/1200\n",
            "1/1 [==============================] - 0s 8ms/step - loss: 0.0012 - mae: 0.0292\n",
            "Epoch 676/1200\n",
            "1/1 [==============================] - 0s 5ms/step - loss: 0.0012 - mae: 0.0291\n",
            "Epoch 677/1200\n",
            "1/1 [==============================] - 0s 5ms/step - loss: 0.0011 - mae: 0.0290\n",
            "Epoch 678/1200\n",
            "1/1 [==============================] - 0s 5ms/step - loss: 0.0011 - mae: 0.0289\n",
            "Epoch 679/1200\n",
            "1/1 [==============================] - 0s 8ms/step - loss: 0.0011 - mae: 0.0288\n",
            "Epoch 680/1200\n",
            "1/1 [==============================] - 0s 5ms/step - loss: 0.0011 - mae: 0.0287\n",
            "Epoch 681/1200\n",
            "1/1 [==============================] - 0s 7ms/step - loss: 0.0011 - mae: 0.0286\n",
            "Epoch 682/1200\n",
            "1/1 [==============================] - 0s 9ms/step - loss: 0.0011 - mae: 0.0286\n",
            "Epoch 683/1200\n",
            "1/1 [==============================] - 0s 6ms/step - loss: 0.0011 - mae: 0.0285\n",
            "Epoch 684/1200\n",
            "1/1 [==============================] - 0s 5ms/step - loss: 0.0011 - mae: 0.0284\n",
            "Epoch 685/1200\n",
            "1/1 [==============================] - 0s 5ms/step - loss: 0.0011 - mae: 0.0283\n",
            "Epoch 686/1200\n",
            "1/1 [==============================] - 0s 7ms/step - loss: 0.0011 - mae: 0.0282\n",
            "Epoch 687/1200\n",
            "1/1 [==============================] - 0s 6ms/step - loss: 0.0011 - mae: 0.0281\n",
            "Epoch 688/1200\n",
            "1/1 [==============================] - 0s 8ms/step - loss: 0.0011 - mae: 0.0280\n",
            "Epoch 689/1200\n",
            "1/1 [==============================] - 0s 8ms/step - loss: 0.0011 - mae: 0.0279\n",
            "Epoch 690/1200\n",
            "1/1 [==============================] - 0s 9ms/step - loss: 0.0010 - mae: 0.0278\n",
            "Epoch 691/1200\n",
            "1/1 [==============================] - 0s 6ms/step - loss: 0.0010 - mae: 0.0277\n",
            "Epoch 692/1200\n",
            "1/1 [==============================] - 0s 5ms/step - loss: 0.0010 - mae: 0.0276\n",
            "Epoch 693/1200\n",
            "1/1 [==============================] - 0s 6ms/step - loss: 0.0010 - mae: 0.0275\n",
            "Epoch 694/1200\n",
            "1/1 [==============================] - 0s 5ms/step - loss: 0.0010 - mae: 0.0274\n",
            "Epoch 695/1200\n",
            "1/1 [==============================] - 0s 6ms/step - loss: 0.0010 - mae: 0.0273\n",
            "Epoch 696/1200\n",
            "1/1 [==============================] - 0s 5ms/step - loss: 0.0010 - mae: 0.0272\n",
            "Epoch 697/1200\n",
            "1/1 [==============================] - 0s 5ms/step - loss: 9.9955e-04 - mae: 0.0271\n",
            "Epoch 698/1200\n",
            "1/1 [==============================] - 0s 6ms/step - loss: 9.9279e-04 - mae: 0.0270\n",
            "Epoch 699/1200\n",
            "1/1 [==============================] - 0s 8ms/step - loss: 9.8611e-04 - mae: 0.0270\n",
            "Epoch 700/1200\n",
            "1/1 [==============================] - 0s 6ms/step - loss: 9.7945e-04 - mae: 0.0269\n",
            "Epoch 701/1200\n",
            "1/1 [==============================] - 0s 7ms/step - loss: 9.7283e-04 - mae: 0.0268\n",
            "Epoch 702/1200\n",
            "1/1 [==============================] - 0s 5ms/step - loss: 9.6628e-04 - mae: 0.0267\n",
            "Epoch 703/1200\n",
            "1/1 [==============================] - 0s 10ms/step - loss: 9.5975e-04 - mae: 0.0266\n",
            "Epoch 704/1200\n",
            "1/1 [==============================] - 0s 6ms/step - loss: 9.5326e-04 - mae: 0.0265\n",
            "Epoch 705/1200\n",
            "1/1 [==============================] - 0s 6ms/step - loss: 9.4685e-04 - mae: 0.0264\n",
            "Epoch 706/1200\n",
            "1/1 [==============================] - 0s 7ms/step - loss: 9.4044e-04 - mae: 0.0263\n",
            "Epoch 707/1200\n",
            "1/1 [==============================] - 0s 7ms/step - loss: 9.3409e-04 - mae: 0.0262\n",
            "Epoch 708/1200\n",
            "1/1 [==============================] - 0s 5ms/step - loss: 9.2778e-04 - mae: 0.0261\n",
            "Epoch 709/1200\n",
            "1/1 [==============================] - 0s 5ms/step - loss: 9.2153e-04 - mae: 0.0261\n",
            "Epoch 710/1200\n",
            "1/1 [==============================] - 0s 8ms/step - loss: 9.1531e-04 - mae: 0.0260\n",
            "Epoch 711/1200\n",
            "1/1 [==============================] - 0s 5ms/step - loss: 9.0912e-04 - mae: 0.0259\n",
            "Epoch 712/1200\n",
            "1/1 [==============================] - 0s 5ms/step - loss: 9.0298e-04 - mae: 0.0258\n",
            "Epoch 713/1200\n",
            "1/1 [==============================] - 0s 6ms/step - loss: 8.9690e-04 - mae: 0.0257\n",
            "Epoch 714/1200\n",
            "1/1 [==============================] - 0s 6ms/step - loss: 8.9084e-04 - mae: 0.0256\n",
            "Epoch 715/1200\n",
            "1/1 [==============================] - 0s 5ms/step - loss: 8.8483e-04 - mae: 0.0255\n",
            "Epoch 716/1200\n",
            "1/1 [==============================] - 0s 5ms/step - loss: 8.7886e-04 - mae: 0.0254\n",
            "Epoch 717/1200\n",
            "1/1 [==============================] - 0s 5ms/step - loss: 8.7291e-04 - mae: 0.0254\n",
            "Epoch 718/1200\n",
            "1/1 [==============================] - 0s 5ms/step - loss: 8.6703e-04 - mae: 0.0253\n",
            "Epoch 719/1200\n",
            "1/1 [==============================] - 0s 7ms/step - loss: 8.6118e-04 - mae: 0.0252\n",
            "Epoch 720/1200\n",
            "1/1 [==============================] - 0s 6ms/step - loss: 8.5535e-04 - mae: 0.0251\n",
            "Epoch 721/1200\n",
            "1/1 [==============================] - 0s 6ms/step - loss: 8.4960e-04 - mae: 0.0250\n",
            "Epoch 722/1200\n",
            "1/1 [==============================] - 0s 9ms/step - loss: 8.4385e-04 - mae: 0.0249\n",
            "Epoch 723/1200\n",
            "1/1 [==============================] - 0s 6ms/step - loss: 8.3814e-04 - mae: 0.0248\n",
            "Epoch 724/1200\n",
            "1/1 [==============================] - 0s 5ms/step - loss: 8.3248e-04 - mae: 0.0248\n",
            "Epoch 725/1200\n",
            "1/1 [==============================] - 0s 6ms/step - loss: 8.2688e-04 - mae: 0.0247\n",
            "Epoch 726/1200\n",
            "1/1 [==============================] - 0s 5ms/step - loss: 8.2129e-04 - mae: 0.0246\n",
            "Epoch 727/1200\n",
            "1/1 [==============================] - 0s 6ms/step - loss: 8.1575e-04 - mae: 0.0245\n",
            "Epoch 728/1200\n",
            "1/1 [==============================] - 0s 6ms/step - loss: 8.1024e-04 - mae: 0.0244\n",
            "Epoch 729/1200\n",
            "1/1 [==============================] - 0s 6ms/step - loss: 8.0478e-04 - mae: 0.0243\n",
            "Epoch 730/1200\n",
            "1/1 [==============================] - 0s 6ms/step - loss: 7.9935e-04 - mae: 0.0243\n",
            "Epoch 731/1200\n",
            "1/1 [==============================] - 0s 8ms/step - loss: 7.9394e-04 - mae: 0.0242\n",
            "Epoch 732/1200\n",
            "1/1 [==============================] - 0s 6ms/step - loss: 7.8859e-04 - mae: 0.0241\n",
            "Epoch 733/1200\n",
            "1/1 [==============================] - 0s 5ms/step - loss: 7.8325e-04 - mae: 0.0240\n",
            "Epoch 734/1200\n",
            "1/1 [==============================] - 0s 5ms/step - loss: 7.7799e-04 - mae: 0.0239\n",
            "Epoch 735/1200\n",
            "1/1 [==============================] - 0s 5ms/step - loss: 7.7273e-04 - mae: 0.0239\n",
            "Epoch 736/1200\n",
            "1/1 [==============================] - 0s 5ms/step - loss: 7.6750e-04 - mae: 0.0238\n",
            "Epoch 737/1200\n",
            "1/1 [==============================] - 0s 5ms/step - loss: 7.6233e-04 - mae: 0.0237\n",
            "Epoch 738/1200\n",
            "1/1 [==============================] - 0s 6ms/step - loss: 7.5718e-04 - mae: 0.0236\n",
            "Epoch 739/1200\n",
            "1/1 [==============================] - 0s 9ms/step - loss: 7.5206e-04 - mae: 0.0235\n",
            "Epoch 740/1200\n",
            "1/1 [==============================] - 0s 6ms/step - loss: 7.4699e-04 - mae: 0.0235\n",
            "Epoch 741/1200\n",
            "1/1 [==============================] - 0s 6ms/step - loss: 7.4195e-04 - mae: 0.0234\n",
            "Epoch 742/1200\n",
            "1/1 [==============================] - 0s 5ms/step - loss: 7.3694e-04 - mae: 0.0233\n",
            "Epoch 743/1200\n",
            "1/1 [==============================] - 0s 5ms/step - loss: 7.3198e-04 - mae: 0.0232\n",
            "Epoch 744/1200\n",
            "1/1 [==============================] - 0s 9ms/step - loss: 7.2703e-04 - mae: 0.0231\n",
            "Epoch 745/1200\n",
            "1/1 [==============================] - 0s 7ms/step - loss: 7.2212e-04 - mae: 0.0231\n",
            "Epoch 746/1200\n",
            "1/1 [==============================] - 0s 5ms/step - loss: 7.1724e-04 - mae: 0.0230\n",
            "Epoch 747/1200\n",
            "1/1 [==============================] - 0s 8ms/step - loss: 7.1239e-04 - mae: 0.0229\n",
            "Epoch 748/1200\n",
            "1/1 [==============================] - 0s 9ms/step - loss: 7.0760e-04 - mae: 0.0228\n",
            "Epoch 749/1200\n",
            "1/1 [==============================] - 0s 5ms/step - loss: 7.0282e-04 - mae: 0.0228\n",
            "Epoch 750/1200\n",
            "1/1 [==============================] - 0s 5ms/step - loss: 6.9805e-04 - mae: 0.0227\n",
            "Epoch 751/1200\n",
            "1/1 [==============================] - 0s 6ms/step - loss: 6.9337e-04 - mae: 0.0226\n",
            "Epoch 752/1200\n",
            "1/1 [==============================] - 0s 6ms/step - loss: 6.8868e-04 - mae: 0.0225\n",
            "Epoch 753/1200\n",
            "1/1 [==============================] - 0s 6ms/step - loss: 6.8404e-04 - mae: 0.0224\n",
            "Epoch 754/1200\n",
            "1/1 [==============================] - 0s 6ms/step - loss: 6.7940e-04 - mae: 0.0224\n",
            "Epoch 755/1200\n",
            "1/1 [==============================] - 0s 6ms/step - loss: 6.7483e-04 - mae: 0.0223\n",
            "Epoch 756/1200\n",
            "1/1 [==============================] - 0s 6ms/step - loss: 6.7026e-04 - mae: 0.0222\n",
            "Epoch 757/1200\n",
            "1/1 [==============================] - 0s 5ms/step - loss: 6.6574e-04 - mae: 0.0221\n",
            "Epoch 758/1200\n",
            "1/1 [==============================] - 0s 5ms/step - loss: 6.6126e-04 - mae: 0.0221\n",
            "Epoch 759/1200\n",
            "1/1 [==============================] - 0s 5ms/step - loss: 6.5679e-04 - mae: 0.0220\n",
            "Epoch 760/1200\n",
            "1/1 [==============================] - 0s 7ms/step - loss: 6.5237e-04 - mae: 0.0219\n",
            "Epoch 761/1200\n",
            "1/1 [==============================] - 0s 7ms/step - loss: 6.4796e-04 - mae: 0.0218\n",
            "Epoch 762/1200\n",
            "1/1 [==============================] - 0s 6ms/step - loss: 6.4358e-04 - mae: 0.0218\n",
            "Epoch 763/1200\n",
            "1/1 [==============================] - 0s 4ms/step - loss: 6.3923e-04 - mae: 0.0217\n",
            "Epoch 764/1200\n",
            "1/1 [==============================] - 0s 5ms/step - loss: 6.3493e-04 - mae: 0.0216\n",
            "Epoch 765/1200\n",
            "1/1 [==============================] - 0s 7ms/step - loss: 6.3065e-04 - mae: 0.0216\n",
            "Epoch 766/1200\n",
            "1/1 [==============================] - 0s 5ms/step - loss: 6.2638e-04 - mae: 0.0215\n",
            "Epoch 767/1200\n",
            "1/1 [==============================] - 0s 5ms/step - loss: 6.2214e-04 - mae: 0.0214\n",
            "Epoch 768/1200\n",
            "1/1 [==============================] - 0s 5ms/step - loss: 6.1794e-04 - mae: 0.0213\n",
            "Epoch 769/1200\n",
            "1/1 [==============================] - 0s 4ms/step - loss: 6.1379e-04 - mae: 0.0213\n",
            "Epoch 770/1200\n",
            "1/1 [==============================] - 0s 5ms/step - loss: 6.0963e-04 - mae: 0.0212\n",
            "Epoch 771/1200\n",
            "1/1 [==============================] - 0s 6ms/step - loss: 6.0552e-04 - mae: 0.0211\n",
            "Epoch 772/1200\n",
            "1/1 [==============================] - 0s 6ms/step - loss: 6.0143e-04 - mae: 0.0210\n",
            "Epoch 773/1200\n",
            "1/1 [==============================] - 0s 9ms/step - loss: 5.9735e-04 - mae: 0.0210\n",
            "Epoch 774/1200\n",
            "1/1 [==============================] - 0s 8ms/step - loss: 5.9335e-04 - mae: 0.0209\n",
            "Epoch 775/1200\n",
            "1/1 [==============================] - 0s 6ms/step - loss: 5.8934e-04 - mae: 0.0208\n",
            "Epoch 776/1200\n",
            "1/1 [==============================] - 0s 7ms/step - loss: 5.8535e-04 - mae: 0.0208\n",
            "Epoch 777/1200\n",
            "1/1 [==============================] - 0s 6ms/step - loss: 5.8141e-04 - mae: 0.0207\n",
            "Epoch 778/1200\n",
            "1/1 [==============================] - 0s 8ms/step - loss: 5.7747e-04 - mae: 0.0206\n",
            "Epoch 779/1200\n",
            "1/1 [==============================] - 0s 6ms/step - loss: 5.7359e-04 - mae: 0.0206\n",
            "Epoch 780/1200\n",
            "1/1 [==============================] - 0s 5ms/step - loss: 5.6972e-04 - mae: 0.0205\n",
            "Epoch 781/1200\n",
            "1/1 [==============================] - 0s 6ms/step - loss: 5.6586e-04 - mae: 0.0204\n",
            "Epoch 782/1200\n",
            "1/1 [==============================] - 0s 6ms/step - loss: 5.6204e-04 - mae: 0.0203\n",
            "Epoch 783/1200\n",
            "1/1 [==============================] - 0s 5ms/step - loss: 5.5826e-04 - mae: 0.0203\n",
            "Epoch 784/1200\n",
            "1/1 [==============================] - 0s 8ms/step - loss: 5.5447e-04 - mae: 0.0202\n",
            "Epoch 785/1200\n",
            "1/1 [==============================] - 0s 5ms/step - loss: 5.5075e-04 - mae: 0.0201\n",
            "Epoch 786/1200\n",
            "1/1 [==============================] - 0s 7ms/step - loss: 5.4702e-04 - mae: 0.0201\n",
            "Epoch 787/1200\n",
            "1/1 [==============================] - 0s 5ms/step - loss: 5.4333e-04 - mae: 0.0200\n",
            "Epoch 788/1200\n",
            "1/1 [==============================] - 0s 5ms/step - loss: 5.3965e-04 - mae: 0.0199\n",
            "Epoch 789/1200\n",
            "1/1 [==============================] - 0s 6ms/step - loss: 5.3601e-04 - mae: 0.0199\n",
            "Epoch 790/1200\n",
            "1/1 [==============================] - 0s 5ms/step - loss: 5.3240e-04 - mae: 0.0198\n",
            "Epoch 791/1200\n",
            "1/1 [==============================] - 0s 6ms/step - loss: 5.2881e-04 - mae: 0.0197\n",
            "Epoch 792/1200\n",
            "1/1 [==============================] - 0s 8ms/step - loss: 5.2524e-04 - mae: 0.0197\n",
            "Epoch 793/1200\n",
            "1/1 [==============================] - 0s 7ms/step - loss: 5.2169e-04 - mae: 0.0196\n",
            "Epoch 794/1200\n",
            "1/1 [==============================] - 0s 6ms/step - loss: 5.1815e-04 - mae: 0.0195\n",
            "Epoch 795/1200\n",
            "1/1 [==============================] - 0s 7ms/step - loss: 5.1467e-04 - mae: 0.0195\n",
            "Epoch 796/1200\n",
            "1/1 [==============================] - 0s 6ms/step - loss: 5.1120e-04 - mae: 0.0194\n",
            "Epoch 797/1200\n",
            "1/1 [==============================] - 0s 7ms/step - loss: 5.0775e-04 - mae: 0.0193\n",
            "Epoch 798/1200\n",
            "1/1 [==============================] - 0s 7ms/step - loss: 5.0432e-04 - mae: 0.0193\n",
            "Epoch 799/1200\n",
            "1/1 [==============================] - 0s 6ms/step - loss: 5.0091e-04 - mae: 0.0192\n",
            "Epoch 800/1200\n",
            "1/1 [==============================] - 0s 7ms/step - loss: 4.9753e-04 - mae: 0.0191\n",
            "Epoch 801/1200\n",
            "1/1 [==============================] - 0s 8ms/step - loss: 4.9418e-04 - mae: 0.0191\n",
            "Epoch 802/1200\n",
            "1/1 [==============================] - 0s 5ms/step - loss: 4.9084e-04 - mae: 0.0190\n",
            "Epoch 803/1200\n",
            "1/1 [==============================] - 0s 8ms/step - loss: 4.8751e-04 - mae: 0.0190\n",
            "Epoch 804/1200\n",
            "1/1 [==============================] - 0s 7ms/step - loss: 4.8422e-04 - mae: 0.0189\n",
            "Epoch 805/1200\n",
            "1/1 [==============================] - 0s 6ms/step - loss: 4.8096e-04 - mae: 0.0188\n",
            "Epoch 806/1200\n",
            "1/1 [==============================] - 0s 9ms/step - loss: 4.7772e-04 - mae: 0.0188\n",
            "Epoch 807/1200\n",
            "1/1 [==============================] - 0s 5ms/step - loss: 4.7448e-04 - mae: 0.0187\n",
            "Epoch 808/1200\n",
            "1/1 [==============================] - 0s 5ms/step - loss: 4.7129e-04 - mae: 0.0186\n",
            "Epoch 809/1200\n",
            "1/1 [==============================] - 0s 6ms/step - loss: 4.6810e-04 - mae: 0.0186\n",
            "Epoch 810/1200\n",
            "1/1 [==============================] - 0s 7ms/step - loss: 4.6494e-04 - mae: 0.0185\n",
            "Epoch 811/1200\n",
            "1/1 [==============================] - 0s 5ms/step - loss: 4.6182e-04 - mae: 0.0184\n",
            "Epoch 812/1200\n",
            "1/1 [==============================] - 0s 5ms/step - loss: 4.5869e-04 - mae: 0.0184\n",
            "Epoch 813/1200\n",
            "1/1 [==============================] - 0s 5ms/step - loss: 4.5560e-04 - mae: 0.0183\n",
            "Epoch 814/1200\n",
            "1/1 [==============================] - 0s 6ms/step - loss: 4.5251e-04 - mae: 0.0183\n",
            "Epoch 815/1200\n",
            "1/1 [==============================] - 0s 5ms/step - loss: 4.4946e-04 - mae: 0.0182\n",
            "Epoch 816/1200\n",
            "1/1 [==============================] - 0s 7ms/step - loss: 4.4643e-04 - mae: 0.0181\n",
            "Epoch 817/1200\n",
            "1/1 [==============================] - 0s 8ms/step - loss: 4.4341e-04 - mae: 0.0181\n",
            "Epoch 818/1200\n",
            "1/1 [==============================] - 0s 5ms/step - loss: 4.4043e-04 - mae: 0.0180\n",
            "Epoch 819/1200\n",
            "1/1 [==============================] - 0s 7ms/step - loss: 4.3743e-04 - mae: 0.0180\n",
            "Epoch 820/1200\n",
            "1/1 [==============================] - 0s 6ms/step - loss: 4.3449e-04 - mae: 0.0179\n",
            "Epoch 821/1200\n",
            "1/1 [==============================] - 0s 6ms/step - loss: 4.3155e-04 - mae: 0.0178\n",
            "Epoch 822/1200\n",
            "1/1 [==============================] - 0s 5ms/step - loss: 4.2864e-04 - mae: 0.0178\n",
            "Epoch 823/1200\n",
            "1/1 [==============================] - 0s 5ms/step - loss: 4.2576e-04 - mae: 0.0177\n",
            "Epoch 824/1200\n",
            "1/1 [==============================] - 0s 5ms/step - loss: 4.2288e-04 - mae: 0.0177\n",
            "Epoch 825/1200\n",
            "1/1 [==============================] - 0s 6ms/step - loss: 4.2002e-04 - mae: 0.0176\n",
            "Epoch 826/1200\n",
            "1/1 [==============================] - 0s 5ms/step - loss: 4.1720e-04 - mae: 0.0175\n",
            "Epoch 827/1200\n",
            "1/1 [==============================] - 0s 5ms/step - loss: 4.1438e-04 - mae: 0.0175\n",
            "Epoch 828/1200\n",
            "1/1 [==============================] - 0s 6ms/step - loss: 4.1157e-04 - mae: 0.0174\n",
            "Epoch 829/1200\n",
            "1/1 [==============================] - 0s 6ms/step - loss: 4.0880e-04 - mae: 0.0174\n",
            "Epoch 830/1200\n",
            "1/1 [==============================] - 0s 7ms/step - loss: 4.0604e-04 - mae: 0.0173\n",
            "Epoch 831/1200\n",
            "1/1 [==============================] - 0s 6ms/step - loss: 4.0329e-04 - mae: 0.0172\n",
            "Epoch 832/1200\n",
            "1/1 [==============================] - 0s 7ms/step - loss: 4.0058e-04 - mae: 0.0172\n",
            "Epoch 833/1200\n",
            "1/1 [==============================] - 0s 5ms/step - loss: 3.9787e-04 - mae: 0.0171\n",
            "Epoch 834/1200\n",
            "1/1 [==============================] - 0s 5ms/step - loss: 3.9519e-04 - mae: 0.0171\n",
            "Epoch 835/1200\n",
            "1/1 [==============================] - 0s 6ms/step - loss: 3.9251e-04 - mae: 0.0170\n",
            "Epoch 836/1200\n",
            "1/1 [==============================] - 0s 7ms/step - loss: 3.8987e-04 - mae: 0.0169\n",
            "Epoch 837/1200\n",
            "1/1 [==============================] - 0s 8ms/step - loss: 3.8723e-04 - mae: 0.0169\n",
            "Epoch 838/1200\n",
            "1/1 [==============================] - 0s 7ms/step - loss: 3.8462e-04 - mae: 0.0168\n",
            "Epoch 839/1200\n",
            "1/1 [==============================] - 0s 5ms/step - loss: 3.8202e-04 - mae: 0.0168\n",
            "Epoch 840/1200\n",
            "1/1 [==============================] - 0s 6ms/step - loss: 3.7944e-04 - mae: 0.0167\n",
            "Epoch 841/1200\n",
            "1/1 [==============================] - 0s 5ms/step - loss: 3.7688e-04 - mae: 0.0167\n",
            "Epoch 842/1200\n",
            "1/1 [==============================] - 0s 8ms/step - loss: 3.7434e-04 - mae: 0.0166\n",
            "Epoch 843/1200\n",
            "1/1 [==============================] - 0s 5ms/step - loss: 3.7181e-04 - mae: 0.0166\n",
            "Epoch 844/1200\n",
            "1/1 [==============================] - 0s 5ms/step - loss: 3.6929e-04 - mae: 0.0165\n",
            "Epoch 845/1200\n",
            "1/1 [==============================] - 0s 6ms/step - loss: 3.6682e-04 - mae: 0.0164\n",
            "Epoch 846/1200\n",
            "1/1 [==============================] - 0s 8ms/step - loss: 3.6433e-04 - mae: 0.0164\n",
            "Epoch 847/1200\n",
            "1/1 [==============================] - 0s 6ms/step - loss: 3.6187e-04 - mae: 0.0163\n",
            "Epoch 848/1200\n",
            "1/1 [==============================] - 0s 5ms/step - loss: 3.5942e-04 - mae: 0.0163\n",
            "Epoch 849/1200\n",
            "1/1 [==============================] - 0s 6ms/step - loss: 3.5701e-04 - mae: 0.0162\n",
            "Epoch 850/1200\n",
            "1/1 [==============================] - 0s 6ms/step - loss: 3.5459e-04 - mae: 0.0162\n",
            "Epoch 851/1200\n",
            "1/1 [==============================] - 0s 8ms/step - loss: 3.5219e-04 - mae: 0.0161\n",
            "Epoch 852/1200\n",
            "1/1 [==============================] - 0s 6ms/step - loss: 3.4982e-04 - mae: 0.0161\n",
            "Epoch 853/1200\n",
            "1/1 [==============================] - 0s 7ms/step - loss: 3.4747e-04 - mae: 0.0160\n",
            "Epoch 854/1200\n",
            "1/1 [==============================] - 0s 6ms/step - loss: 3.4512e-04 - mae: 0.0159\n",
            "Epoch 855/1200\n",
            "1/1 [==============================] - 0s 6ms/step - loss: 3.4279e-04 - mae: 0.0159\n",
            "Epoch 856/1200\n",
            "1/1 [==============================] - 0s 5ms/step - loss: 3.4047e-04 - mae: 0.0158\n",
            "Epoch 857/1200\n",
            "1/1 [==============================] - 0s 7ms/step - loss: 3.3817e-04 - mae: 0.0158\n",
            "Epoch 858/1200\n",
            "1/1 [==============================] - 0s 6ms/step - loss: 3.3589e-04 - mae: 0.0157\n",
            "Epoch 859/1200\n",
            "1/1 [==============================] - 0s 8ms/step - loss: 3.3361e-04 - mae: 0.0157\n",
            "Epoch 860/1200\n",
            "1/1 [==============================] - 0s 5ms/step - loss: 3.3136e-04 - mae: 0.0156\n",
            "Epoch 861/1200\n",
            "1/1 [==============================] - 0s 5ms/step - loss: 3.2912e-04 - mae: 0.0156\n",
            "Epoch 862/1200\n",
            "1/1 [==============================] - 0s 7ms/step - loss: 3.2691e-04 - mae: 0.0155\n",
            "Epoch 863/1200\n",
            "1/1 [==============================] - 0s 6ms/step - loss: 3.2470e-04 - mae: 0.0155\n",
            "Epoch 864/1200\n",
            "1/1 [==============================] - 0s 7ms/step - loss: 3.2252e-04 - mae: 0.0154\n",
            "Epoch 865/1200\n",
            "1/1 [==============================] - 0s 6ms/step - loss: 3.2033e-04 - mae: 0.0154\n",
            "Epoch 866/1200\n",
            "1/1 [==============================] - 0s 9ms/step - loss: 3.1817e-04 - mae: 0.0153\n",
            "Epoch 867/1200\n",
            "1/1 [==============================] - 0s 5ms/step - loss: 3.1602e-04 - mae: 0.0153\n",
            "Epoch 868/1200\n",
            "1/1 [==============================] - 0s 5ms/step - loss: 3.1389e-04 - mae: 0.0152\n",
            "Epoch 869/1200\n",
            "1/1 [==============================] - 0s 8ms/step - loss: 3.1177e-04 - mae: 0.0152\n",
            "Epoch 870/1200\n",
            "1/1 [==============================] - 0s 8ms/step - loss: 3.0967e-04 - mae: 0.0151\n",
            "Epoch 871/1200\n",
            "1/1 [==============================] - 0s 6ms/step - loss: 3.0757e-04 - mae: 0.0151\n",
            "Epoch 872/1200\n",
            "1/1 [==============================] - 0s 5ms/step - loss: 3.0550e-04 - mae: 0.0150\n",
            "Epoch 873/1200\n",
            "1/1 [==============================] - 0s 5ms/step - loss: 3.0342e-04 - mae: 0.0150\n",
            "Epoch 874/1200\n",
            "1/1 [==============================] - 0s 10ms/step - loss: 3.0139e-04 - mae: 0.0149\n",
            "Epoch 875/1200\n",
            "1/1 [==============================] - 0s 5ms/step - loss: 2.9935e-04 - mae: 0.0149\n",
            "Epoch 876/1200\n",
            "1/1 [==============================] - 0s 5ms/step - loss: 2.9734e-04 - mae: 0.0148\n",
            "Epoch 877/1200\n",
            "1/1 [==============================] - 0s 6ms/step - loss: 2.9532e-04 - mae: 0.0148\n",
            "Epoch 878/1200\n",
            "1/1 [==============================] - 0s 9ms/step - loss: 2.9334e-04 - mae: 0.0147\n",
            "Epoch 879/1200\n",
            "1/1 [==============================] - 0s 5ms/step - loss: 2.9135e-04 - mae: 0.0147\n",
            "Epoch 880/1200\n",
            "1/1 [==============================] - 0s 5ms/step - loss: 2.8939e-04 - mae: 0.0146\n",
            "Epoch 881/1200\n",
            "1/1 [==============================] - 0s 7ms/step - loss: 2.8744e-04 - mae: 0.0146\n",
            "Epoch 882/1200\n",
            "1/1 [==============================] - 0s 6ms/step - loss: 2.8549e-04 - mae: 0.0145\n",
            "Epoch 883/1200\n",
            "1/1 [==============================] - 0s 10ms/step - loss: 2.8357e-04 - mae: 0.0145\n",
            "Epoch 884/1200\n",
            "1/1 [==============================] - 0s 6ms/step - loss: 2.8165e-04 - mae: 0.0144\n",
            "Epoch 885/1200\n",
            "1/1 [==============================] - 0s 5ms/step - loss: 2.7974e-04 - mae: 0.0144\n",
            "Epoch 886/1200\n",
            "1/1 [==============================] - 0s 5ms/step - loss: 2.7786e-04 - mae: 0.0143\n",
            "Epoch 887/1200\n",
            "1/1 [==============================] - 0s 7ms/step - loss: 2.7599e-04 - mae: 0.0143\n",
            "Epoch 888/1200\n",
            "1/1 [==============================] - 0s 5ms/step - loss: 2.7413e-04 - mae: 0.0142\n",
            "Epoch 889/1200\n",
            "1/1 [==============================] - 0s 6ms/step - loss: 2.7228e-04 - mae: 0.0142\n",
            "Epoch 890/1200\n",
            "1/1 [==============================] - 0s 5ms/step - loss: 2.7043e-04 - mae: 0.0141\n",
            "Epoch 891/1200\n",
            "1/1 [==============================] - 0s 6ms/step - loss: 2.6861e-04 - mae: 0.0141\n",
            "Epoch 892/1200\n",
            "1/1 [==============================] - 0s 7ms/step - loss: 2.6680e-04 - mae: 0.0140\n",
            "Epoch 893/1200\n",
            "1/1 [==============================] - 0s 8ms/step - loss: 2.6499e-04 - mae: 0.0140\n",
            "Epoch 894/1200\n",
            "1/1 [==============================] - 0s 8ms/step - loss: 2.6320e-04 - mae: 0.0139\n",
            "Epoch 895/1200\n",
            "1/1 [==============================] - 0s 7ms/step - loss: 2.6142e-04 - mae: 0.0139\n",
            "Epoch 896/1200\n",
            "1/1 [==============================] - 0s 7ms/step - loss: 2.5966e-04 - mae: 0.0138\n",
            "Epoch 897/1200\n",
            "1/1 [==============================] - 0s 7ms/step - loss: 2.5791e-04 - mae: 0.0138\n",
            "Epoch 898/1200\n",
            "1/1 [==============================] - 0s 6ms/step - loss: 2.5617e-04 - mae: 0.0137\n",
            "Epoch 899/1200\n",
            "1/1 [==============================] - 0s 7ms/step - loss: 2.5444e-04 - mae: 0.0137\n",
            "Epoch 900/1200\n",
            "1/1 [==============================] - 0s 6ms/step - loss: 2.5272e-04 - mae: 0.0136\n",
            "Epoch 901/1200\n",
            "1/1 [==============================] - 0s 8ms/step - loss: 2.5101e-04 - mae: 0.0136\n",
            "Epoch 902/1200\n",
            "1/1 [==============================] - 0s 7ms/step - loss: 2.4932e-04 - mae: 0.0136\n",
            "Epoch 903/1200\n",
            "1/1 [==============================] - 0s 7ms/step - loss: 2.4764e-04 - mae: 0.0135\n",
            "Epoch 904/1200\n",
            "1/1 [==============================] - 0s 7ms/step - loss: 2.4597e-04 - mae: 0.0135\n",
            "Epoch 905/1200\n",
            "1/1 [==============================] - 0s 6ms/step - loss: 2.4431e-04 - mae: 0.0134\n",
            "Epoch 906/1200\n",
            "1/1 [==============================] - 0s 5ms/step - loss: 2.4266e-04 - mae: 0.0134\n",
            "Epoch 907/1200\n",
            "1/1 [==============================] - 0s 7ms/step - loss: 2.4103e-04 - mae: 0.0133\n",
            "Epoch 908/1200\n",
            "1/1 [==============================] - 0s 7ms/step - loss: 2.3940e-04 - mae: 0.0133\n",
            "Epoch 909/1200\n",
            "1/1 [==============================] - 0s 9ms/step - loss: 2.3778e-04 - mae: 0.0132\n",
            "Epoch 910/1200\n",
            "1/1 [==============================] - 0s 8ms/step - loss: 2.3618e-04 - mae: 0.0132\n",
            "Epoch 911/1200\n",
            "1/1 [==============================] - 0s 7ms/step - loss: 2.3457e-04 - mae: 0.0131\n",
            "Epoch 912/1200\n",
            "1/1 [==============================] - 0s 6ms/step - loss: 2.3300e-04 - mae: 0.0131\n",
            "Epoch 913/1200\n",
            "1/1 [==============================] - 0s 7ms/step - loss: 2.3142e-04 - mae: 0.0131\n",
            "Epoch 914/1200\n",
            "1/1 [==============================] - 0s 5ms/step - loss: 2.2986e-04 - mae: 0.0130\n",
            "Epoch 915/1200\n",
            "1/1 [==============================] - 0s 7ms/step - loss: 2.2830e-04 - mae: 0.0130\n",
            "Epoch 916/1200\n",
            "1/1 [==============================] - 0s 7ms/step - loss: 2.2677e-04 - mae: 0.0129\n",
            "Epoch 917/1200\n",
            "1/1 [==============================] - 0s 6ms/step - loss: 2.2524e-04 - mae: 0.0129\n",
            "Epoch 918/1200\n",
            "1/1 [==============================] - 0s 7ms/step - loss: 2.2372e-04 - mae: 0.0128\n",
            "Epoch 919/1200\n",
            "1/1 [==============================] - 0s 5ms/step - loss: 2.2221e-04 - mae: 0.0128\n",
            "Epoch 920/1200\n",
            "1/1 [==============================] - 0s 5ms/step - loss: 2.2071e-04 - mae: 0.0128\n",
            "Epoch 921/1200\n",
            "1/1 [==============================] - 0s 6ms/step - loss: 2.1921e-04 - mae: 0.0127\n",
            "Epoch 922/1200\n",
            "1/1 [==============================] - 0s 7ms/step - loss: 2.1774e-04 - mae: 0.0127\n",
            "Epoch 923/1200\n",
            "1/1 [==============================] - 0s 7ms/step - loss: 2.1627e-04 - mae: 0.0126\n",
            "Epoch 924/1200\n",
            "1/1 [==============================] - 0s 7ms/step - loss: 2.1481e-04 - mae: 0.0126\n",
            "Epoch 925/1200\n",
            "1/1 [==============================] - 0s 6ms/step - loss: 2.1335e-04 - mae: 0.0125\n",
            "Epoch 926/1200\n",
            "1/1 [==============================] - 0s 6ms/step - loss: 2.1191e-04 - mae: 0.0125\n",
            "Epoch 927/1200\n",
            "1/1 [==============================] - 0s 7ms/step - loss: 2.1048e-04 - mae: 0.0125\n",
            "Epoch 928/1200\n",
            "1/1 [==============================] - 0s 6ms/step - loss: 2.0906e-04 - mae: 0.0124\n",
            "Epoch 929/1200\n",
            "1/1 [==============================] - 0s 8ms/step - loss: 2.0765e-04 - mae: 0.0124\n",
            "Epoch 930/1200\n",
            "1/1 [==============================] - 0s 6ms/step - loss: 2.0625e-04 - mae: 0.0123\n",
            "Epoch 931/1200\n",
            "1/1 [==============================] - 0s 6ms/step - loss: 2.0485e-04 - mae: 0.0123\n",
            "Epoch 932/1200\n",
            "1/1 [==============================] - 0s 6ms/step - loss: 2.0348e-04 - mae: 0.0122\n",
            "Epoch 933/1200\n",
            "1/1 [==============================] - 0s 7ms/step - loss: 2.0210e-04 - mae: 0.0122\n",
            "Epoch 934/1200\n",
            "1/1 [==============================] - 0s 8ms/step - loss: 2.0074e-04 - mae: 0.0122\n",
            "Epoch 935/1200\n",
            "1/1 [==============================] - 0s 6ms/step - loss: 1.9938e-04 - mae: 0.0121\n",
            "Epoch 936/1200\n",
            "1/1 [==============================] - 0s 8ms/step - loss: 1.9803e-04 - mae: 0.0121\n",
            "Epoch 937/1200\n",
            "1/1 [==============================] - 0s 6ms/step - loss: 1.9670e-04 - mae: 0.0120\n",
            "Epoch 938/1200\n",
            "1/1 [==============================] - 0s 5ms/step - loss: 1.9537e-04 - mae: 0.0120\n",
            "Epoch 939/1200\n",
            "1/1 [==============================] - 0s 7ms/step - loss: 1.9405e-04 - mae: 0.0120\n",
            "Epoch 940/1200\n",
            "1/1 [==============================] - 0s 5ms/step - loss: 1.9274e-04 - mae: 0.0119\n",
            "Epoch 941/1200\n",
            "1/1 [==============================] - 0s 6ms/step - loss: 1.9144e-04 - mae: 0.0119\n",
            "Epoch 942/1200\n",
            "1/1 [==============================] - 0s 10ms/step - loss: 1.9015e-04 - mae: 0.0118\n",
            "Epoch 943/1200\n",
            "1/1 [==============================] - 0s 8ms/step - loss: 1.8887e-04 - mae: 0.0118\n",
            "Epoch 944/1200\n",
            "1/1 [==============================] - 0s 5ms/step - loss: 1.8759e-04 - mae: 0.0118\n",
            "Epoch 945/1200\n",
            "1/1 [==============================] - 0s 5ms/step - loss: 1.8633e-04 - mae: 0.0117\n",
            "Epoch 946/1200\n",
            "1/1 [==============================] - 0s 6ms/step - loss: 1.8507e-04 - mae: 0.0117\n",
            "Epoch 947/1200\n",
            "1/1 [==============================] - 0s 5ms/step - loss: 1.8382e-04 - mae: 0.0116\n",
            "Epoch 948/1200\n",
            "1/1 [==============================] - 0s 10ms/step - loss: 1.8258e-04 - mae: 0.0116\n",
            "Epoch 949/1200\n",
            "1/1 [==============================] - 0s 7ms/step - loss: 1.8135e-04 - mae: 0.0116\n",
            "Epoch 950/1200\n",
            "1/1 [==============================] - 0s 6ms/step - loss: 1.8012e-04 - mae: 0.0115\n",
            "Epoch 951/1200\n",
            "1/1 [==============================] - 0s 7ms/step - loss: 1.7891e-04 - mae: 0.0115\n",
            "Epoch 952/1200\n",
            "1/1 [==============================] - 0s 5ms/step - loss: 1.7770e-04 - mae: 0.0114\n",
            "Epoch 953/1200\n",
            "1/1 [==============================] - 0s 7ms/step - loss: 1.7649e-04 - mae: 0.0114\n",
            "Epoch 954/1200\n",
            "1/1 [==============================] - 0s 5ms/step - loss: 1.7531e-04 - mae: 0.0114\n",
            "Epoch 955/1200\n",
            "1/1 [==============================] - 0s 8ms/step - loss: 1.7413e-04 - mae: 0.0113\n",
            "Epoch 956/1200\n",
            "1/1 [==============================] - 0s 6ms/step - loss: 1.7295e-04 - mae: 0.0113\n",
            "Epoch 957/1200\n",
            "1/1 [==============================] - 0s 7ms/step - loss: 1.7177e-04 - mae: 0.0112\n",
            "Epoch 958/1200\n",
            "1/1 [==============================] - 0s 5ms/step - loss: 1.7062e-04 - mae: 0.0112\n",
            "Epoch 959/1200\n",
            "1/1 [==============================] - 0s 6ms/step - loss: 1.6947e-04 - mae: 0.0112\n",
            "Epoch 960/1200\n",
            "1/1 [==============================] - 0s 8ms/step - loss: 1.6833e-04 - mae: 0.0111\n",
            "Epoch 961/1200\n",
            "1/1 [==============================] - 0s 8ms/step - loss: 1.6719e-04 - mae: 0.0111\n",
            "Epoch 962/1200\n",
            "1/1 [==============================] - 0s 6ms/step - loss: 1.6607e-04 - mae: 0.0111\n",
            "Epoch 963/1200\n",
            "1/1 [==============================] - 0s 7ms/step - loss: 1.6494e-04 - mae: 0.0110\n",
            "Epoch 964/1200\n",
            "1/1 [==============================] - 0s 5ms/step - loss: 1.6383e-04 - mae: 0.0110\n",
            "Epoch 965/1200\n",
            "1/1 [==============================] - 0s 8ms/step - loss: 1.6272e-04 - mae: 0.0109\n",
            "Epoch 966/1200\n",
            "1/1 [==============================] - 0s 5ms/step - loss: 1.6162e-04 - mae: 0.0109\n",
            "Epoch 967/1200\n",
            "1/1 [==============================] - 0s 8ms/step - loss: 1.6054e-04 - mae: 0.0109\n",
            "Epoch 968/1200\n",
            "1/1 [==============================] - 0s 5ms/step - loss: 1.5945e-04 - mae: 0.0108\n",
            "Epoch 969/1200\n",
            "1/1 [==============================] - 0s 7ms/step - loss: 1.5837e-04 - mae: 0.0108\n",
            "Epoch 970/1200\n",
            "1/1 [==============================] - 0s 5ms/step - loss: 1.5730e-04 - mae: 0.0108\n",
            "Epoch 971/1200\n",
            "1/1 [==============================] - 0s 5ms/step - loss: 1.5624e-04 - mae: 0.0107\n",
            "Epoch 972/1200\n",
            "1/1 [==============================] - 0s 4ms/step - loss: 1.5518e-04 - mae: 0.0107\n",
            "Epoch 973/1200\n",
            "1/1 [==============================] - 0s 10ms/step - loss: 1.5413e-04 - mae: 0.0107\n",
            "Epoch 974/1200\n",
            "1/1 [==============================] - 0s 5ms/step - loss: 1.5310e-04 - mae: 0.0106\n",
            "Epoch 975/1200\n",
            "1/1 [==============================] - 0s 10ms/step - loss: 1.5206e-04 - mae: 0.0106\n",
            "Epoch 976/1200\n",
            "1/1 [==============================] - 0s 6ms/step - loss: 1.5103e-04 - mae: 0.0105\n",
            "Epoch 977/1200\n",
            "1/1 [==============================] - 0s 6ms/step - loss: 1.5002e-04 - mae: 0.0105\n",
            "Epoch 978/1200\n",
            "1/1 [==============================] - 0s 9ms/step - loss: 1.4900e-04 - mae: 0.0105\n",
            "Epoch 979/1200\n",
            "1/1 [==============================] - 0s 6ms/step - loss: 1.4800e-04 - mae: 0.0104\n",
            "Epoch 980/1200\n",
            "1/1 [==============================] - 0s 5ms/step - loss: 1.4700e-04 - mae: 0.0104\n",
            "Epoch 981/1200\n",
            "1/1 [==============================] - 0s 5ms/step - loss: 1.4601e-04 - mae: 0.0104\n",
            "Epoch 982/1200\n",
            "1/1 [==============================] - 0s 9ms/step - loss: 1.4502e-04 - mae: 0.0103\n",
            "Epoch 983/1200\n",
            "1/1 [==============================] - 0s 6ms/step - loss: 1.4404e-04 - mae: 0.0103\n",
            "Epoch 984/1200\n",
            "1/1 [==============================] - 0s 5ms/step - loss: 1.4307e-04 - mae: 0.0103\n",
            "Epoch 985/1200\n",
            "1/1 [==============================] - 0s 6ms/step - loss: 1.4211e-04 - mae: 0.0102\n",
            "Epoch 986/1200\n",
            "1/1 [==============================] - 0s 6ms/step - loss: 1.4115e-04 - mae: 0.0102\n",
            "Epoch 987/1200\n",
            "1/1 [==============================] - 0s 6ms/step - loss: 1.4019e-04 - mae: 0.0102\n",
            "Epoch 988/1200\n",
            "1/1 [==============================] - 0s 7ms/step - loss: 1.3925e-04 - mae: 0.0101\n",
            "Epoch 989/1200\n",
            "1/1 [==============================] - 0s 6ms/step - loss: 1.3831e-04 - mae: 0.0101\n",
            "Epoch 990/1200\n",
            "1/1 [==============================] - 0s 7ms/step - loss: 1.3738e-04 - mae: 0.0101\n",
            "Epoch 991/1200\n",
            "1/1 [==============================] - 0s 5ms/step - loss: 1.3645e-04 - mae: 0.0100\n",
            "Epoch 992/1200\n",
            "1/1 [==============================] - 0s 6ms/step - loss: 1.3553e-04 - mae: 0.0100\n",
            "Epoch 993/1200\n",
            "1/1 [==============================] - 0s 5ms/step - loss: 1.3461e-04 - mae: 0.0100\n",
            "Epoch 994/1200\n",
            "1/1 [==============================] - 0s 6ms/step - loss: 1.3371e-04 - mae: 0.0099\n",
            "Epoch 995/1200\n",
            "1/1 [==============================] - 0s 6ms/step - loss: 1.3280e-04 - mae: 0.0099\n",
            "Epoch 996/1200\n",
            "1/1 [==============================] - 0s 7ms/step - loss: 1.3190e-04 - mae: 0.0099\n",
            "Epoch 997/1200\n",
            "1/1 [==============================] - 0s 8ms/step - loss: 1.3101e-04 - mae: 0.0098\n",
            "Epoch 998/1200\n",
            "1/1 [==============================] - 0s 8ms/step - loss: 1.3013e-04 - mae: 0.0098\n",
            "Epoch 999/1200\n",
            "1/1 [==============================] - 0s 6ms/step - loss: 1.2925e-04 - mae: 0.0098\n",
            "Epoch 1000/1200\n",
            "1/1 [==============================] - 0s 5ms/step - loss: 1.2837e-04 - mae: 0.0097\n",
            "Epoch 1001/1200\n",
            "1/1 [==============================] - 0s 6ms/step - loss: 1.2751e-04 - mae: 0.0097\n",
            "Epoch 1002/1200\n",
            "1/1 [==============================] - 0s 7ms/step - loss: 1.2665e-04 - mae: 0.0097\n",
            "Epoch 1003/1200\n",
            "1/1 [==============================] - 0s 5ms/step - loss: 1.2579e-04 - mae: 0.0096\n",
            "Epoch 1004/1200\n",
            "1/1 [==============================] - 0s 5ms/step - loss: 1.2495e-04 - mae: 0.0096\n",
            "Epoch 1005/1200\n",
            "1/1 [==============================] - 0s 6ms/step - loss: 1.2411e-04 - mae: 0.0096\n",
            "Epoch 1006/1200\n",
            "1/1 [==============================] - 0s 5ms/step - loss: 1.2326e-04 - mae: 0.0095\n",
            "Epoch 1007/1200\n",
            "1/1 [==============================] - 0s 7ms/step - loss: 1.2243e-04 - mae: 0.0095\n",
            "Epoch 1008/1200\n",
            "1/1 [==============================] - 0s 7ms/step - loss: 1.2160e-04 - mae: 0.0095\n",
            "Epoch 1009/1200\n",
            "1/1 [==============================] - 0s 5ms/step - loss: 1.2079e-04 - mae: 0.0094\n",
            "Epoch 1010/1200\n",
            "1/1 [==============================] - 0s 5ms/step - loss: 1.1996e-04 - mae: 0.0094\n",
            "Epoch 1011/1200\n",
            "1/1 [==============================] - 0s 6ms/step - loss: 1.1916e-04 - mae: 0.0094\n",
            "Epoch 1012/1200\n",
            "1/1 [==============================] - 0s 6ms/step - loss: 1.1835e-04 - mae: 0.0093\n",
            "Epoch 1013/1200\n",
            "1/1 [==============================] - 0s 8ms/step - loss: 1.1756e-04 - mae: 0.0093\n",
            "Epoch 1014/1200\n",
            "1/1 [==============================] - 0s 5ms/step - loss: 1.1676e-04 - mae: 0.0093\n",
            "Epoch 1015/1200\n",
            "1/1 [==============================] - 0s 5ms/step - loss: 1.1597e-04 - mae: 0.0092\n",
            "Epoch 1016/1200\n",
            "1/1 [==============================] - 0s 6ms/step - loss: 1.1519e-04 - mae: 0.0092\n",
            "Epoch 1017/1200\n",
            "1/1 [==============================] - 0s 6ms/step - loss: 1.1441e-04 - mae: 0.0092\n",
            "Epoch 1018/1200\n",
            "1/1 [==============================] - 0s 5ms/step - loss: 1.1364e-04 - mae: 0.0091\n",
            "Epoch 1019/1200\n",
            "1/1 [==============================] - 0s 5ms/step - loss: 1.1287e-04 - mae: 0.0091\n",
            "Epoch 1020/1200\n",
            "1/1 [==============================] - 0s 8ms/step - loss: 1.1211e-04 - mae: 0.0091\n",
            "Epoch 1021/1200\n",
            "1/1 [==============================] - 0s 5ms/step - loss: 1.1136e-04 - mae: 0.0091\n",
            "Epoch 1022/1200\n",
            "1/1 [==============================] - 0s 5ms/step - loss: 1.1061e-04 - mae: 0.0090\n",
            "Epoch 1023/1200\n",
            "1/1 [==============================] - 0s 5ms/step - loss: 1.0985e-04 - mae: 0.0090\n",
            "Epoch 1024/1200\n",
            "1/1 [==============================] - 0s 6ms/step - loss: 1.0912e-04 - mae: 0.0090\n",
            "Epoch 1025/1200\n",
            "1/1 [==============================] - 0s 7ms/step - loss: 1.0837e-04 - mae: 0.0089\n",
            "Epoch 1026/1200\n",
            "1/1 [==============================] - 0s 6ms/step - loss: 1.0764e-04 - mae: 0.0089\n",
            "Epoch 1027/1200\n",
            "1/1 [==============================] - 0s 6ms/step - loss: 1.0692e-04 - mae: 0.0089\n",
            "Epoch 1028/1200\n",
            "1/1 [==============================] - 0s 6ms/step - loss: 1.0620e-04 - mae: 0.0088\n",
            "Epoch 1029/1200\n",
            "1/1 [==============================] - 0s 5ms/step - loss: 1.0548e-04 - mae: 0.0088\n",
            "Epoch 1030/1200\n",
            "1/1 [==============================] - 0s 6ms/step - loss: 1.0477e-04 - mae: 0.0088\n",
            "Epoch 1031/1200\n",
            "1/1 [==============================] - 0s 6ms/step - loss: 1.0406e-04 - mae: 0.0088\n",
            "Epoch 1032/1200\n",
            "1/1 [==============================] - 0s 6ms/step - loss: 1.0336e-04 - mae: 0.0087\n",
            "Epoch 1033/1200\n",
            "1/1 [==============================] - 0s 5ms/step - loss: 1.0267e-04 - mae: 0.0087\n",
            "Epoch 1034/1200\n",
            "1/1 [==============================] - 0s 5ms/step - loss: 1.0196e-04 - mae: 0.0087\n",
            "Epoch 1035/1200\n",
            "1/1 [==============================] - 0s 6ms/step - loss: 1.0128e-04 - mae: 0.0086\n",
            "Epoch 1036/1200\n",
            "1/1 [==============================] - 0s 5ms/step - loss: 1.0060e-04 - mae: 0.0086\n",
            "Epoch 1037/1200\n",
            "1/1 [==============================] - 0s 6ms/step - loss: 9.9917e-05 - mae: 0.0086\n",
            "Epoch 1038/1200\n",
            "1/1 [==============================] - 0s 7ms/step - loss: 9.9243e-05 - mae: 0.0086\n",
            "Epoch 1039/1200\n",
            "1/1 [==============================] - 0s 6ms/step - loss: 9.8572e-05 - mae: 0.0085\n",
            "Epoch 1040/1200\n",
            "1/1 [==============================] - 0s 9ms/step - loss: 9.7902e-05 - mae: 0.0085\n",
            "Epoch 1041/1200\n",
            "1/1 [==============================] - 0s 7ms/step - loss: 9.7243e-05 - mae: 0.0085\n",
            "Epoch 1042/1200\n",
            "1/1 [==============================] - 0s 6ms/step - loss: 9.6583e-05 - mae: 0.0084\n",
            "Epoch 1043/1200\n",
            "1/1 [==============================] - 0s 6ms/step - loss: 9.5936e-05 - mae: 0.0084\n",
            "Epoch 1044/1200\n",
            "1/1 [==============================] - 0s 8ms/step - loss: 9.5292e-05 - mae: 0.0084\n",
            "Epoch 1045/1200\n",
            "1/1 [==============================] - 0s 6ms/step - loss: 9.4647e-05 - mae: 0.0084\n",
            "Epoch 1046/1200\n",
            "1/1 [==============================] - 0s 7ms/step - loss: 9.4005e-05 - mae: 0.0083\n",
            "Epoch 1047/1200\n",
            "1/1 [==============================] - 0s 5ms/step - loss: 9.3372e-05 - mae: 0.0083\n",
            "Epoch 1048/1200\n",
            "1/1 [==============================] - 0s 5ms/step - loss: 9.2738e-05 - mae: 0.0083\n",
            "Epoch 1049/1200\n",
            "1/1 [==============================] - 0s 5ms/step - loss: 9.2118e-05 - mae: 0.0082\n",
            "Epoch 1050/1200\n",
            "1/1 [==============================] - 0s 5ms/step - loss: 9.1497e-05 - mae: 0.0082\n",
            "Epoch 1051/1200\n",
            "1/1 [==============================] - 0s 7ms/step - loss: 9.0881e-05 - mae: 0.0082\n",
            "Epoch 1052/1200\n",
            "1/1 [==============================] - 0s 6ms/step - loss: 9.0264e-05 - mae: 0.0082\n",
            "Epoch 1053/1200\n",
            "1/1 [==============================] - 0s 6ms/step - loss: 8.9651e-05 - mae: 0.0081\n",
            "Epoch 1054/1200\n",
            "1/1 [==============================] - 0s 5ms/step - loss: 8.9049e-05 - mae: 0.0081\n",
            "Epoch 1055/1200\n",
            "1/1 [==============================] - 0s 5ms/step - loss: 8.8447e-05 - mae: 0.0081\n",
            "Epoch 1056/1200\n",
            "1/1 [==============================] - 0s 5ms/step - loss: 8.7854e-05 - mae: 0.0080\n",
            "Epoch 1057/1200\n",
            "1/1 [==============================] - 0s 5ms/step - loss: 8.7259e-05 - mae: 0.0080\n",
            "Epoch 1058/1200\n",
            "1/1 [==============================] - 0s 5ms/step - loss: 8.6669e-05 - mae: 0.0080\n",
            "Epoch 1059/1200\n",
            "1/1 [==============================] - 0s 6ms/step - loss: 8.6085e-05 - mae: 0.0080\n",
            "Epoch 1060/1200\n",
            "1/1 [==============================] - 0s 8ms/step - loss: 8.5502e-05 - mae: 0.0079\n",
            "Epoch 1061/1200\n",
            "1/1 [==============================] - 0s 6ms/step - loss: 8.4929e-05 - mae: 0.0079\n",
            "Epoch 1062/1200\n",
            "1/1 [==============================] - 0s 8ms/step - loss: 8.4346e-05 - mae: 0.0079\n",
            "Epoch 1063/1200\n",
            "1/1 [==============================] - 0s 6ms/step - loss: 8.3783e-05 - mae: 0.0079\n",
            "Epoch 1064/1200\n",
            "1/1 [==============================] - 0s 7ms/step - loss: 8.3215e-05 - mae: 0.0078\n",
            "Epoch 1065/1200\n",
            "1/1 [==============================] - 0s 7ms/step - loss: 8.2657e-05 - mae: 0.0078\n",
            "Epoch 1066/1200\n",
            "1/1 [==============================] - 0s 7ms/step - loss: 8.2097e-05 - mae: 0.0078\n",
            "Epoch 1067/1200\n",
            "1/1 [==============================] - 0s 8ms/step - loss: 8.1545e-05 - mae: 0.0078\n",
            "Epoch 1068/1200\n",
            "1/1 [==============================] - 0s 7ms/step - loss: 8.0992e-05 - mae: 0.0077\n",
            "Epoch 1069/1200\n",
            "1/1 [==============================] - 0s 7ms/step - loss: 8.0449e-05 - mae: 0.0077\n",
            "Epoch 1070/1200\n",
            "1/1 [==============================] - 0s 6ms/step - loss: 7.9902e-05 - mae: 0.0077\n",
            "Epoch 1071/1200\n",
            "1/1 [==============================] - 0s 7ms/step - loss: 7.9365e-05 - mae: 0.0076\n",
            "Epoch 1072/1200\n",
            "1/1 [==============================] - 0s 6ms/step - loss: 7.8831e-05 - mae: 0.0076\n",
            "Epoch 1073/1200\n",
            "1/1 [==============================] - 0s 5ms/step - loss: 7.8301e-05 - mae: 0.0076\n",
            "Epoch 1074/1200\n",
            "1/1 [==============================] - 0s 7ms/step - loss: 7.7773e-05 - mae: 0.0076\n",
            "Epoch 1075/1200\n",
            "1/1 [==============================] - 0s 9ms/step - loss: 7.7241e-05 - mae: 0.0075\n",
            "Epoch 1076/1200\n",
            "1/1 [==============================] - 0s 6ms/step - loss: 7.6719e-05 - mae: 0.0075\n",
            "Epoch 1077/1200\n",
            "1/1 [==============================] - 0s 6ms/step - loss: 7.6204e-05 - mae: 0.0075\n",
            "Epoch 1078/1200\n",
            "1/1 [==============================] - 0s 6ms/step - loss: 7.5695e-05 - mae: 0.0075\n",
            "Epoch 1079/1200\n",
            "1/1 [==============================] - 0s 6ms/step - loss: 7.5184e-05 - mae: 0.0074\n",
            "Epoch 1080/1200\n",
            "1/1 [==============================] - 0s 5ms/step - loss: 7.4677e-05 - mae: 0.0074\n",
            "Epoch 1081/1200\n",
            "1/1 [==============================] - 0s 6ms/step - loss: 7.4173e-05 - mae: 0.0074\n",
            "Epoch 1082/1200\n",
            "1/1 [==============================] - 0s 6ms/step - loss: 7.3667e-05 - mae: 0.0074\n",
            "Epoch 1083/1200\n",
            "1/1 [==============================] - 0s 7ms/step - loss: 7.3169e-05 - mae: 0.0073\n",
            "Epoch 1084/1200\n",
            "1/1 [==============================] - 0s 7ms/step - loss: 7.2680e-05 - mae: 0.0073\n",
            "Epoch 1085/1200\n",
            "1/1 [==============================] - 0s 5ms/step - loss: 7.2187e-05 - mae: 0.0073\n",
            "Epoch 1086/1200\n",
            "1/1 [==============================] - 0s 6ms/step - loss: 7.1695e-05 - mae: 0.0073\n",
            "Epoch 1087/1200\n",
            "1/1 [==============================] - 0s 7ms/step - loss: 7.1215e-05 - mae: 0.0072\n",
            "Epoch 1088/1200\n",
            "1/1 [==============================] - 0s 8ms/step - loss: 7.0738e-05 - mae: 0.0072\n",
            "Epoch 1089/1200\n",
            "1/1 [==============================] - 0s 6ms/step - loss: 7.0260e-05 - mae: 0.0072\n",
            "Epoch 1090/1200\n",
            "1/1 [==============================] - 0s 6ms/step - loss: 6.9782e-05 - mae: 0.0072\n",
            "Epoch 1091/1200\n",
            "1/1 [==============================] - 0s 5ms/step - loss: 6.9314e-05 - mae: 0.0071\n",
            "Epoch 1092/1200\n",
            "1/1 [==============================] - 0s 6ms/step - loss: 6.8841e-05 - mae: 0.0071\n",
            "Epoch 1093/1200\n",
            "1/1 [==============================] - 0s 5ms/step - loss: 6.8376e-05 - mae: 0.0071\n",
            "Epoch 1094/1200\n",
            "1/1 [==============================] - 0s 6ms/step - loss: 6.7914e-05 - mae: 0.0071\n",
            "Epoch 1095/1200\n",
            "1/1 [==============================] - 0s 11ms/step - loss: 6.7457e-05 - mae: 0.0070\n",
            "Epoch 1096/1200\n",
            "1/1 [==============================] - 0s 7ms/step - loss: 6.6999e-05 - mae: 0.0070\n",
            "Epoch 1097/1200\n",
            "1/1 [==============================] - 0s 5ms/step - loss: 6.6551e-05 - mae: 0.0070\n",
            "Epoch 1098/1200\n",
            "1/1 [==============================] - 0s 5ms/step - loss: 6.6102e-05 - mae: 0.0070\n",
            "Epoch 1099/1200\n",
            "1/1 [==============================] - 0s 5ms/step - loss: 6.5658e-05 - mae: 0.0070\n",
            "Epoch 1100/1200\n",
            "1/1 [==============================] - 0s 5ms/step - loss: 6.5209e-05 - mae: 0.0069\n",
            "Epoch 1101/1200\n",
            "1/1 [==============================] - 0s 6ms/step - loss: 6.4773e-05 - mae: 0.0069\n",
            "Epoch 1102/1200\n",
            "1/1 [==============================] - 0s 4ms/step - loss: 6.4333e-05 - mae: 0.0069\n",
            "Epoch 1103/1200\n",
            "1/1 [==============================] - 0s 5ms/step - loss: 6.3900e-05 - mae: 0.0069\n",
            "Epoch 1104/1200\n",
            "1/1 [==============================] - 0s 7ms/step - loss: 6.3472e-05 - mae: 0.0068\n",
            "Epoch 1105/1200\n",
            "1/1 [==============================] - 0s 5ms/step - loss: 6.3041e-05 - mae: 0.0068\n",
            "Epoch 1106/1200\n",
            "1/1 [==============================] - 0s 5ms/step - loss: 6.2610e-05 - mae: 0.0068\n",
            "Epoch 1107/1200\n",
            "1/1 [==============================] - 0s 5ms/step - loss: 6.2195e-05 - mae: 0.0068\n",
            "Epoch 1108/1200\n",
            "1/1 [==============================] - 0s 6ms/step - loss: 6.1773e-05 - mae: 0.0067\n",
            "Epoch 1109/1200\n",
            "1/1 [==============================] - 0s 8ms/step - loss: 6.1353e-05 - mae: 0.0067\n",
            "Epoch 1110/1200\n",
            "1/1 [==============================] - 0s 6ms/step - loss: 6.0940e-05 - mae: 0.0067\n",
            "Epoch 1111/1200\n",
            "1/1 [==============================] - 0s 7ms/step - loss: 6.0527e-05 - mae: 0.0067\n",
            "Epoch 1112/1200\n",
            "1/1 [==============================] - 0s 6ms/step - loss: 6.0116e-05 - mae: 0.0067\n",
            "Epoch 1113/1200\n",
            "1/1 [==============================] - 0s 6ms/step - loss: 5.9718e-05 - mae: 0.0066\n",
            "Epoch 1114/1200\n",
            "1/1 [==============================] - 0s 7ms/step - loss: 5.9312e-05 - mae: 0.0066\n",
            "Epoch 1115/1200\n",
            "1/1 [==============================] - 0s 7ms/step - loss: 5.8910e-05 - mae: 0.0066\n",
            "Epoch 1116/1200\n",
            "1/1 [==============================] - 0s 5ms/step - loss: 5.8518e-05 - mae: 0.0066\n",
            "Epoch 1117/1200\n",
            "1/1 [==============================] - 0s 5ms/step - loss: 5.8116e-05 - mae: 0.0065\n",
            "Epoch 1118/1200\n",
            "1/1 [==============================] - 0s 5ms/step - loss: 5.7724e-05 - mae: 0.0065\n",
            "Epoch 1119/1200\n",
            "1/1 [==============================] - 0s 5ms/step - loss: 5.7335e-05 - mae: 0.0065\n",
            "Epoch 1120/1200\n",
            "1/1 [==============================] - 0s 5ms/step - loss: 5.6951e-05 - mae: 0.0065\n",
            "Epoch 1121/1200\n",
            "1/1 [==============================] - 0s 6ms/step - loss: 5.6568e-05 - mae: 0.0065\n",
            "Epoch 1122/1200\n",
            "1/1 [==============================] - 0s 7ms/step - loss: 5.6186e-05 - mae: 0.0064\n",
            "Epoch 1123/1200\n",
            "1/1 [==============================] - 0s 5ms/step - loss: 5.5808e-05 - mae: 0.0064\n",
            "Epoch 1124/1200\n",
            "1/1 [==============================] - 0s 6ms/step - loss: 5.5425e-05 - mae: 0.0064\n",
            "Epoch 1125/1200\n",
            "1/1 [==============================] - 0s 6ms/step - loss: 5.5054e-05 - mae: 0.0064\n",
            "Epoch 1126/1200\n",
            "1/1 [==============================] - 0s 6ms/step - loss: 5.4681e-05 - mae: 0.0063\n",
            "Epoch 1127/1200\n",
            "1/1 [==============================] - 0s 5ms/step - loss: 5.4310e-05 - mae: 0.0063\n",
            "Epoch 1128/1200\n",
            "1/1 [==============================] - 0s 7ms/step - loss: 5.3947e-05 - mae: 0.0063\n",
            "Epoch 1129/1200\n",
            "1/1 [==============================] - 0s 6ms/step - loss: 5.3583e-05 - mae: 0.0063\n",
            "Epoch 1130/1200\n",
            "1/1 [==============================] - 0s 5ms/step - loss: 5.3218e-05 - mae: 0.0063\n",
            "Epoch 1131/1200\n",
            "1/1 [==============================] - 0s 7ms/step - loss: 5.2862e-05 - mae: 0.0062\n",
            "Epoch 1132/1200\n",
            "1/1 [==============================] - 0s 5ms/step - loss: 5.2504e-05 - mae: 0.0062\n",
            "Epoch 1133/1200\n",
            "1/1 [==============================] - 0s 9ms/step - loss: 5.2147e-05 - mae: 0.0062\n",
            "Epoch 1134/1200\n",
            "1/1 [==============================] - 0s 6ms/step - loss: 5.1801e-05 - mae: 0.0062\n",
            "Epoch 1135/1200\n",
            "1/1 [==============================] - 0s 6ms/step - loss: 5.1448e-05 - mae: 0.0062\n",
            "Epoch 1136/1200\n",
            "1/1 [==============================] - 0s 7ms/step - loss: 5.1098e-05 - mae: 0.0061\n",
            "Epoch 1137/1200\n",
            "1/1 [==============================] - 0s 5ms/step - loss: 5.0756e-05 - mae: 0.0061\n",
            "Epoch 1138/1200\n",
            "1/1 [==============================] - 0s 7ms/step - loss: 5.0416e-05 - mae: 0.0061\n",
            "Epoch 1139/1200\n",
            "1/1 [==============================] - 0s 6ms/step - loss: 5.0070e-05 - mae: 0.0061\n",
            "Epoch 1140/1200\n",
            "1/1 [==============================] - 0s 6ms/step - loss: 4.9735e-05 - mae: 0.0061\n",
            "Epoch 1141/1200\n",
            "1/1 [==============================] - 0s 5ms/step - loss: 4.9400e-05 - mae: 0.0060\n",
            "Epoch 1142/1200\n",
            "1/1 [==============================] - 0s 6ms/step - loss: 4.9064e-05 - mae: 0.0060\n",
            "Epoch 1143/1200\n",
            "1/1 [==============================] - 0s 5ms/step - loss: 4.8732e-05 - mae: 0.0060\n",
            "Epoch 1144/1200\n",
            "1/1 [==============================] - 0s 6ms/step - loss: 4.8403e-05 - mae: 0.0060\n",
            "Epoch 1145/1200\n",
            "1/1 [==============================] - 0s 7ms/step - loss: 4.8077e-05 - mae: 0.0060\n",
            "Epoch 1146/1200\n",
            "1/1 [==============================] - 0s 6ms/step - loss: 4.7754e-05 - mae: 0.0059\n",
            "Epoch 1147/1200\n",
            "1/1 [==============================] - 0s 6ms/step - loss: 4.7433e-05 - mae: 0.0059\n",
            "Epoch 1148/1200\n",
            "1/1 [==============================] - 0s 6ms/step - loss: 4.7112e-05 - mae: 0.0059\n",
            "Epoch 1149/1200\n",
            "1/1 [==============================] - 0s 5ms/step - loss: 4.6796e-05 - mae: 0.0059\n",
            "Epoch 1150/1200\n",
            "1/1 [==============================] - 0s 6ms/step - loss: 4.6477e-05 - mae: 0.0059\n",
            "Epoch 1151/1200\n",
            "1/1 [==============================] - 0s 7ms/step - loss: 4.6165e-05 - mae: 0.0058\n",
            "Epoch 1152/1200\n",
            "1/1 [==============================] - 0s 8ms/step - loss: 4.5852e-05 - mae: 0.0058\n",
            "Epoch 1153/1200\n",
            "1/1 [==============================] - 0s 5ms/step - loss: 4.5540e-05 - mae: 0.0058\n",
            "Epoch 1154/1200\n",
            "1/1 [==============================] - 0s 8ms/step - loss: 4.5237e-05 - mae: 0.0058\n",
            "Epoch 1155/1200\n",
            "1/1 [==============================] - 0s 9ms/step - loss: 4.4929e-05 - mae: 0.0058\n",
            "Epoch 1156/1200\n",
            "1/1 [==============================] - 0s 5ms/step - loss: 4.4626e-05 - mae: 0.0057\n",
            "Epoch 1157/1200\n",
            "1/1 [==============================] - 0s 5ms/step - loss: 4.4323e-05 - mae: 0.0057\n",
            "Epoch 1158/1200\n",
            "1/1 [==============================] - 0s 6ms/step - loss: 4.4025e-05 - mae: 0.0057\n",
            "Epoch 1159/1200\n",
            "1/1 [==============================] - 0s 5ms/step - loss: 4.3733e-05 - mae: 0.0057\n",
            "Epoch 1160/1200\n",
            "1/1 [==============================] - 0s 6ms/step - loss: 4.3435e-05 - mae: 0.0057\n",
            "Epoch 1161/1200\n",
            "1/1 [==============================] - 0s 7ms/step - loss: 4.3140e-05 - mae: 0.0056\n",
            "Epoch 1162/1200\n",
            "1/1 [==============================] - 0s 6ms/step - loss: 4.2847e-05 - mae: 0.0056\n",
            "Epoch 1163/1200\n",
            "1/1 [==============================] - 0s 5ms/step - loss: 4.2560e-05 - mae: 0.0056\n",
            "Epoch 1164/1200\n",
            "1/1 [==============================] - 0s 5ms/step - loss: 4.2274e-05 - mae: 0.0056\n",
            "Epoch 1165/1200\n",
            "1/1 [==============================] - 0s 6ms/step - loss: 4.1986e-05 - mae: 0.0056\n",
            "Epoch 1166/1200\n",
            "1/1 [==============================] - 0s 6ms/step - loss: 4.1702e-05 - mae: 0.0055\n",
            "Epoch 1167/1200\n",
            "1/1 [==============================] - 0s 7ms/step - loss: 4.1426e-05 - mae: 0.0055\n",
            "Epoch 1168/1200\n",
            "1/1 [==============================] - 0s 8ms/step - loss: 4.1146e-05 - mae: 0.0055\n",
            "Epoch 1169/1200\n",
            "1/1 [==============================] - 0s 6ms/step - loss: 4.0864e-05 - mae: 0.0055\n",
            "Epoch 1170/1200\n",
            "1/1 [==============================] - 0s 5ms/step - loss: 4.0588e-05 - mae: 0.0055\n",
            "Epoch 1171/1200\n",
            "1/1 [==============================] - 0s 5ms/step - loss: 4.0313e-05 - mae: 0.0054\n",
            "Epoch 1172/1200\n",
            "1/1 [==============================] - 0s 6ms/step - loss: 4.0047e-05 - mae: 0.0054\n",
            "Epoch 1173/1200\n",
            "1/1 [==============================] - 0s 5ms/step - loss: 3.9776e-05 - mae: 0.0054\n",
            "Epoch 1174/1200\n",
            "1/1 [==============================] - 0s 9ms/step - loss: 3.9508e-05 - mae: 0.0054\n",
            "Epoch 1175/1200\n",
            "1/1 [==============================] - 0s 5ms/step - loss: 3.9235e-05 - mae: 0.0054\n",
            "Epoch 1176/1200\n",
            "1/1 [==============================] - 0s 5ms/step - loss: 3.8972e-05 - mae: 0.0054\n",
            "Epoch 1177/1200\n",
            "1/1 [==============================] - 0s 6ms/step - loss: 3.8712e-05 - mae: 0.0053\n",
            "Epoch 1178/1200\n",
            "1/1 [==============================] - 0s 6ms/step - loss: 3.8451e-05 - mae: 0.0053\n",
            "Epoch 1179/1200\n",
            "1/1 [==============================] - 0s 6ms/step - loss: 3.8188e-05 - mae: 0.0053\n",
            "Epoch 1180/1200\n",
            "1/1 [==============================] - 0s 6ms/step - loss: 3.7931e-05 - mae: 0.0053\n",
            "Epoch 1181/1200\n",
            "1/1 [==============================] - 0s 8ms/step - loss: 3.7676e-05 - mae: 0.0053\n",
            "Epoch 1182/1200\n",
            "1/1 [==============================] - 0s 5ms/step - loss: 3.7422e-05 - mae: 0.0053\n",
            "Epoch 1183/1200\n",
            "1/1 [==============================] - 0s 5ms/step - loss: 3.7167e-05 - mae: 0.0052\n",
            "Epoch 1184/1200\n",
            "1/1 [==============================] - 0s 6ms/step - loss: 3.6916e-05 - mae: 0.0052\n",
            "Epoch 1185/1200\n",
            "1/1 [==============================] - 0s 5ms/step - loss: 3.6665e-05 - mae: 0.0052\n",
            "Epoch 1186/1200\n",
            "1/1 [==============================] - 0s 9ms/step - loss: 3.6420e-05 - mae: 0.0052\n",
            "Epoch 1187/1200\n",
            "1/1 [==============================] - 0s 5ms/step - loss: 3.6174e-05 - mae: 0.0052\n",
            "Epoch 1188/1200\n",
            "1/1 [==============================] - 0s 6ms/step - loss: 3.5933e-05 - mae: 0.0051\n",
            "Epoch 1189/1200\n",
            "1/1 [==============================] - 0s 6ms/step - loss: 3.5690e-05 - mae: 0.0051\n",
            "Epoch 1190/1200\n",
            "1/1 [==============================] - 0s 6ms/step - loss: 3.5445e-05 - mae: 0.0051\n",
            "Epoch 1191/1200\n",
            "1/1 [==============================] - 0s 6ms/step - loss: 3.5208e-05 - mae: 0.0051\n",
            "Epoch 1192/1200\n",
            "1/1 [==============================] - 0s 7ms/step - loss: 3.4970e-05 - mae: 0.0051\n",
            "Epoch 1193/1200\n",
            "1/1 [==============================] - 0s 6ms/step - loss: 3.4735e-05 - mae: 0.0051\n",
            "Epoch 1194/1200\n",
            "1/1 [==============================] - 0s 7ms/step - loss: 3.4502e-05 - mae: 0.0050\n",
            "Epoch 1195/1200\n",
            "1/1 [==============================] - 0s 5ms/step - loss: 3.4266e-05 - mae: 0.0050\n",
            "Epoch 1196/1200\n",
            "1/1 [==============================] - 0s 6ms/step - loss: 3.4037e-05 - mae: 0.0050\n",
            "Epoch 1197/1200\n",
            "1/1 [==============================] - 0s 9ms/step - loss: 3.3804e-05 - mae: 0.0050\n",
            "Epoch 1198/1200\n",
            "1/1 [==============================] - 0s 5ms/step - loss: 3.3580e-05 - mae: 0.0050\n",
            "Epoch 1199/1200\n",
            "1/1 [==============================] - 0s 5ms/step - loss: 3.3353e-05 - mae: 0.0050\n",
            "Epoch 1200/1200\n",
            "1/1 [==============================] - 0s 6ms/step - loss: 3.3125e-05 - mae: 0.0049\n"
          ]
        }
      ],
      "source": [
        "# 단순 선형회구 모델 생성\n",
        "model = tf.keras.Sequential([\n",
        "        tf.keras.layers.Dense(1, input_shape=[1])\n",
        "])\n",
        "\n",
        "model.compile(optimizer='sgd', loss='mse', metrics=['mae'])\n",
        "\n",
        "history = model.fit(x, y, epochs=1200)"
      ]
    },
    {
      "cell_type": "code",
      "execution_count": null,
      "metadata": {
        "colab": {
          "base_uri": "https://localhost:8080/"
        },
        "id": "PdSOPILh3_ng",
        "outputId": "a953400c-b279-4c7b-f2f6-a7692fe2b59c"
      },
      "outputs": [
        {
          "output_type": "execute_result",
          "data": {
            "text/plain": [
              "dict_keys(['loss', 'mae'])"
            ]
          },
          "metadata": {},
          "execution_count": 238
        }
      ],
      "source": [
        "history.history.keys()"
      ]
    },
    {
      "cell_type": "code",
      "execution_count": null,
      "metadata": {
        "colab": {
          "base_uri": "https://localhost:8080/",
          "height": 281
        },
        "id": "uvAeHdiq3x0w",
        "outputId": "7dc1da89-7b53-4696-d978-0c6df9d35296"
      },
      "outputs": [
        {
          "output_type": "display_data",
          "data": {
            "image/png": "[encoded data removed]",
            "text/plain": [
              "<Figure size 432x288 with 1 Axes>"
            ]
          },
          "metadata": {
            "needs_background": "light"
          }
        }
      ],
      "source": [
        "import matplotlib.pyplot as plt\n",
        "\n",
        "plt.plot(history.history['loss'], label='loss')\n",
        "plt.plot(history.history['mae'], label='mae')\n",
        "plt.xlim(-1, 20)\n",
        "plt.title('Loss')\n",
        "plt.legend()\n",
        "plt.show()"
      ]
    },
    {
      "cell_type": "code",
      "execution_count": null,
      "metadata": {
        "colab": {
          "base_uri": "https://localhost:8080/"
        },
        "id": "esBfEPMR4kOe",
        "outputId": "124b4ddf-7daf-4ece-b682-d60d187df4e2"
      },
      "outputs": [
        {
          "output_type": "stream",
          "name": "stdout",
          "text": [
            "1/1 [==============================] - 0s 78ms/step - loss: 3.2901e-05 - mae: 0.0049\n"
          ]
        },
        {
          "output_type": "execute_result",
          "data": {
            "text/plain": [
              "[3.290057793492451e-05, 0.0049232481978833675]"
            ]
          },
          "metadata": {},
          "execution_count": 240
        }
      ],
      "source": [
        "# 검증\n",
        "model.evaluate(x, y)"
      ]
    },
    {
      "cell_type": "code",
      "execution_count": null,
      "metadata": {
        "colab": {
          "base_uri": "https://localhost:8080/"
        },
        "id": "Ds8he1KQ4pQa",
        "outputId": "fbe96cba-6409-4ec3-9093-ee0544767389"
      },
      "outputs": [
        {
          "output_type": "execute_result",
          "data": {
            "text/plain": [
              "array([[32.023796]], dtype=float32)"
            ]
          },
          "metadata": {},
          "execution_count": 241
        }
      ],
      "source": [
        "# 예측\n",
        "model.predict([10])"
      ]
    },
    {
      "cell_type": "code",
      "execution_count": null,
      "metadata": {
        "colab": {
          "base_uri": "https://localhost:8080/"
        },
        "id": "8pmTfz_b5gcK",
        "outputId": "fa8beff6-8717-460f-d9fa-d946e4a1575c"
      },
      "outputs": [
        {
          "output_type": "execute_result",
          "data": {
            "text/plain": [
              "['abstract_reasoning',\n",
              " 'accentdb',\n",
              " 'aeslc',\n",
              " 'aflw2k3d',\n",
              " 'ag_news_subset',\n",
              " 'ai2_arc',\n",
              " 'ai2_arc_with_ir',\n",
              " 'amazon_us_reviews',\n",
              " 'anli',\n",
              " 'arc',\n",
              " 'bair_robot_pushing_small',\n",
              " 'bccd',\n",
              " 'beans',\n",
              " 'big_patent',\n",
              " 'bigearthnet',\n",
              " 'billsum',\n",
              " 'binarized_mnist',\n",
              " 'binary_alpha_digits',\n",
              " 'blimp',\n",
              " 'bool_q',\n",
              " 'c4',\n",
              " 'caltech101',\n",
              " 'caltech_birds2010',\n",
              " 'caltech_birds2011',\n",
              " 'cars196',\n",
              " 'cassava',\n",
              " 'cats_vs_dogs',\n",
              " 'celeb_a',\n",
              " 'celeb_a_hq',\n",
              " 'cfq',\n",
              " 'chexpert',\n",
              " 'cifar10',\n",
              " 'cifar100',\n",
              " 'cifar10_1',\n",
              " 'cifar10_corrupted',\n",
              " 'citrus_leaves',\n",
              " 'cityscapes',\n",
              " 'civil_comments',\n",
              " 'clevr',\n",
              " 'clic',\n",
              " 'clinc_oos',\n",
              " 'cmaterdb',\n",
              " 'cnn_dailymail',\n",
              " 'coco',\n",
              " 'coco_captions',\n",
              " 'coil100',\n",
              " 'colorectal_histology',\n",
              " 'colorectal_histology_large',\n",
              " 'common_voice',\n",
              " 'coqa',\n",
              " 'cos_e',\n",
              " 'cosmos_qa',\n",
              " 'covid19sum',\n",
              " 'crema_d',\n",
              " 'curated_breast_imaging_ddsm',\n",
              " 'cycle_gan',\n",
              " 'deep_weeds',\n",
              " 'definite_pronoun_resolution',\n",
              " 'dementiabank',\n",
              " 'diabetic_retinopathy_detection',\n",
              " 'div2k',\n",
              " 'dmlab',\n",
              " 'downsampled_imagenet',\n",
              " 'dsprites',\n",
              " 'dtd',\n",
              " 'duke_ultrasound',\n",
              " 'emnist',\n",
              " 'eraser_multi_rc',\n",
              " 'esnli',\n",
              " 'eurosat',\n",
              " 'fashion_mnist',\n",
              " 'flic',\n",
              " 'flores',\n",
              " 'food101',\n",
              " 'forest_fires',\n",
              " 'fuss',\n",
              " 'gap',\n",
              " 'geirhos_conflict_stimuli',\n",
              " 'genomics_ood',\n",
              " 'german_credit_numeric',\n",
              " 'gigaword',\n",
              " 'glue',\n",
              " 'goemotions',\n",
              " 'gpt3',\n",
              " 'groove',\n",
              " 'gtzan',\n",
              " 'gtzan_music_speech',\n",
              " 'hellaswag',\n",
              " 'higgs',\n",
              " 'horses_or_humans',\n",
              " 'i_naturalist2017',\n",
              " 'imagenet2012',\n",
              " 'imagenet2012_corrupted',\n",
              " 'imagenet2012_real',\n",
              " 'imagenet2012_subset',\n",
              " 'imagenet_a',\n",
              " 'imagenet_r',\n",
              " 'imagenet_resized',\n",
              " 'imagenet_v2',\n",
              " 'imagenette',\n",
              " 'imagewang',\n",
              " 'imdb_reviews',\n",
              " 'irc_disentanglement',\n",
              " 'iris',\n",
              " 'kitti',\n",
              " 'kmnist',\n",
              " 'lfw',\n",
              " 'librispeech',\n",
              " 'librispeech_lm',\n",
              " 'libritts',\n",
              " 'ljspeech',\n",
              " 'lm1b',\n",
              " 'lost_and_found',\n",
              " 'lsun',\n",
              " 'malaria',\n",
              " 'math_dataset',\n",
              " 'mctaco',\n",
              " 'mnist',\n",
              " 'mnist_corrupted',\n",
              " 'movie_lens',\n",
              " 'movie_rationales',\n",
              " 'movielens',\n",
              " 'moving_mnist',\n",
              " 'multi_news',\n",
              " 'multi_nli',\n",
              " 'multi_nli_mismatch',\n",
              " 'natural_questions',\n",
              " 'natural_questions_open',\n",
              " 'newsroom',\n",
              " 'nsynth',\n",
              " 'nyu_depth_v2',\n",
              " 'omniglot',\n",
              " 'open_images_challenge2019_detection',\n",
              " 'open_images_v4',\n",
              " 'openbookqa',\n",
              " 'opinion_abstracts',\n",
              " 'opinosis',\n",
              " 'opus',\n",
              " 'oxford_flowers102',\n",
              " 'oxford_iiit_pet',\n",
              " 'para_crawl',\n",
              " 'patch_camelyon',\n",
              " 'paws_wiki',\n",
              " 'paws_x_wiki',\n",
              " 'pet_finder',\n",
              " 'pg19',\n",
              " 'places365_small',\n",
              " 'plant_leaves',\n",
              " 'plant_village',\n",
              " 'plantae_k',\n",
              " 'qa4mre',\n",
              " 'qasc',\n",
              " 'quickdraw_bitmap',\n",
              " 'radon',\n",
              " 'reddit',\n",
              " 'reddit_disentanglement',\n",
              " 'reddit_tifu',\n",
              " 'resisc45',\n",
              " 'robonet',\n",
              " 'rock_paper_scissors',\n",
              " 'rock_you',\n",
              " 'salient_span_wikipedia',\n",
              " 'samsum',\n",
              " 'savee',\n",
              " 'scan',\n",
              " 'scene_parse150',\n",
              " 'scicite',\n",
              " 'scientific_papers',\n",
              " 'sentiment140',\n",
              " 'shapes3d',\n",
              " 'smallnorb',\n",
              " 'snli',\n",
              " 'so2sat',\n",
              " 'speech_commands',\n",
              " 'spoken_digit',\n",
              " 'squad',\n",
              " 'stanford_dogs',\n",
              " 'stanford_online_products',\n",
              " 'starcraft_video',\n",
              " 'stl10',\n",
              " 'sun397',\n",
              " 'super_glue',\n",
              " 'svhn_cropped',\n",
              " 'ted_hrlr_translate',\n",
              " 'ted_multi_translate',\n",
              " 'tedlium',\n",
              " 'tf_flowers',\n",
              " 'the300w_lp',\n",
              " 'tiny_shakespeare',\n",
              " 'titanic',\n",
              " 'trec',\n",
              " 'trivia_qa',\n",
              " 'tydi_qa',\n",
              " 'uc_merced',\n",
              " 'ucf101',\n",
              " 'vctk',\n",
              " 'vgg_face2',\n",
              " 'visual_domain_decathlon',\n",
              " 'voc',\n",
              " 'voxceleb',\n",
              " 'voxforge',\n",
              " 'waymo_open_dataset',\n",
              " 'web_questions',\n",
              " 'wider_face',\n",
              " 'wiki40b',\n",
              " 'wikihow',\n",
              " 'wikipedia',\n",
              " 'wikipedia_toxicity_subtypes',\n",
              " 'wine_quality',\n",
              " 'winogrande',\n",
              " 'wmt14_translate',\n",
              " 'wmt15_translate',\n",
              " 'wmt16_translate',\n",
              " 'wmt17_translate',\n",
              " 'wmt18_translate',\n",
              " 'wmt19_translate',\n",
              " 'wmt_t2t_translate',\n",
              " 'wmt_translate',\n",
              " 'wordnet',\n",
              " 'xnli',\n",
              " 'xquad',\n",
              " 'xsum',\n",
              " 'yelp_polarity_reviews',\n",
              " 'yes_no']"
            ]
          },
          "metadata": {},
          "execution_count": 242
        }
      ],
      "source": [
        "# 텐서플로우 데이터셋 조회\n",
        "import tensorflow_datasets as tfds\n",
        "tfds.list_builders()"
      ]
    },
    {
      "cell_type": "code",
      "execution_count": null,
      "metadata": {
        "id": "J6PnRRw054Of"
      },
      "outputs": [],
      "source": [
        "# mnist 데이터셋 \n",
        "mnist = tf.keras.datasets.mnist"
      ]
    },
    {
      "cell_type": "code",
      "execution_count": null,
      "metadata": {
        "id": "49z1o4lJ5_8h"
      },
      "outputs": [],
      "source": [
        "(x_train, y_train), (x_test, y_test) = mnist.load_data()"
      ]
    },
    {
      "cell_type": "code",
      "execution_count": null,
      "metadata": {
        "colab": {
          "base_uri": "https://localhost:8080/"
        },
        "id": "rZVPp9_x6Tok",
        "outputId": "bb2c1394-0419-4a1c-860e-ffa8b51c81b8"
      },
      "outputs": [
        {
          "output_type": "execute_result",
          "data": {
            "text/plain": [
              "((60000, 28, 28), (60000,), (10000, 28, 28), (10000,))"
            ]
          },
          "metadata": {},
          "execution_count": 245
        }
      ],
      "source": [
        "x_train.shape, y_train.shape, x_test.shape, y_test.shape"
      ]
    },
    {
      "cell_type": "code",
      "execution_count": null,
      "metadata": {
        "id": "M1z4ZFGOM1gy"
      },
      "outputs": [],
      "source": [
        "import matplotlib.pyplot as plt"
      ]
    },
    {
      "cell_type": "code",
      "execution_count": null,
      "metadata": {
        "colab": {
          "base_uri": "https://localhost:8080/",
          "height": 281
        },
        "id": "HlMdkp-y6ib6",
        "outputId": "1476e160-2769-4b76-bba9-2d9d799ef4ae"
      },
      "outputs": [
        {
          "output_type": "display_data",
          "data": {
            "image/png": "[encoded data removed]",
            "text/plain": [
              "<Figure size 432x288 with 1 Axes>"
            ]
          },
          "metadata": {
            "needs_background": "light"
          }
        }
      ],
      "source": [
        "plt.imshow(x_train[0], cmap='gray')\n",
        "plt.title(str(y_train[0]))\n",
        "plt.show()"
      ]
    },
    {
      "cell_type": "code",
      "execution_count": null,
      "metadata": {
        "colab": {
          "base_uri": "https://localhost:8080/",
          "height": 264
        },
        "id": "-XLEfZCJM3Hv",
        "outputId": "8fb5c9a6-58b9-4d89-d030-9642e5fb665f"
      },
      "outputs": [
        {
          "output_type": "display_data",
          "data": {
            "image/png": "[encoded data removed]",
            "text/plain": [
              "<Figure size 432x288 with 9 Axes>"
            ]
          },
          "metadata": {
            "needs_background": "light"
          }
        }
      ],
      "source": [
        "# # 여러개 확인 할떄2\n",
        "for i in range(9):\n",
        "    plt.subplot(3, 3, i+1)   \n",
        "    plt.imshow(x_train[i], cmap='gray')\n",
        "    plt.title(str(y_train[i]))\n",
        "    plt.axis('off')    \n",
        "plt.show()"
      ]
    },
    {
      "cell_type": "code",
      "execution_count": null,
      "metadata": {
        "colab": {
          "base_uri": "https://localhost:8080/",
          "height": 143
        },
        "id": "B0SZVwTp8FdJ",
        "outputId": "42b570db-54ff-43fb-eec2-13b8a75a66d8"
      },
      "outputs": [
        {
          "output_type": "display_data",
          "data": {
            "image/png": "[encoded data removed]",
            "text/plain": [
              "<Figure size 720x720 with 5 Axes>"
            ]
          },
          "metadata": {
            "needs_background": "light"
          }
        }
      ],
      "source": [
        "fig, axes = plt.subplots(1, 5)\n",
        "fig.set_size_inches(10, 10)\n",
        "\n",
        "for i in range(5):\n",
        "  ax = axes[i]\n",
        "  ax.imshow(x_train[i], cmap='gray')\n",
        "  ax.set_title(str(y_train[i]))\n",
        "  ax.axis('off')\n",
        "plt.show()"
      ]
    },
    {
      "cell_type": "code",
      "execution_count": null,
      "metadata": {
        "colab": {
          "base_uri": "https://localhost:8080/",
          "height": 346
        },
        "id": "_Lq7EA-A9Nm4",
        "outputId": "c551c630-b8b0-4c85-fdb9-308b7eb31e8e"
      },
      "outputs": [
        {
          "output_type": "display_data",
          "data": {
            "image/png": "[encoded data removed]",
            "text/plain": [
              "<Figure size 720x360 with 10 Axes>"
            ]
          },
          "metadata": {
            "needs_background": "light"
          }
        }
      ],
      "source": [
        "fig, axes = plt.subplots(2, 5)\n",
        "fig.set_size_inches(10, 5)\n",
        "\n",
        "for i in range(10):\n",
        "  ax = axes[i//5, i%5]\n",
        "  ax.imshow(x_train[i], cmap='gray')\n",
        "  ax.set_title(str(y_train[i]))\n",
        "  ax.axis('off')\n",
        "plt.tight_layout()\n",
        "plt.show()"
      ]
    },
    {
      "cell_type": "code",
      "execution_count": null,
      "metadata": {
        "colab": {
          "base_uri": "https://localhost:8080/"
        },
        "id": "G-eWwv_p900s",
        "outputId": "cd3906a5-03fe-479e-f521-351bbe476285"
      },
      "outputs": [
        {
          "output_type": "execute_result",
          "data": {
            "text/plain": [
              "(0, 255, 0, 255)"
            ]
          },
          "metadata": {},
          "execution_count": 251
        }
      ],
      "source": [
        "# 픽셀 값의 최소/최대 값 확인\n",
        "x_train.min(), x_train.max(), x_test.min(), x_test.max()"
      ]
    },
    {
      "cell_type": "code",
      "execution_count": null,
      "metadata": {
        "colab": {
          "base_uri": "https://localhost:8080/"
        },
        "id": "jJLTBSBE-Xt5",
        "outputId": "8bdc6d6e-c578-4487-ee72-0646a9ed28e9"
      },
      "outputs": [
        {
          "output_type": "execute_result",
          "data": {
            "text/plain": [
              "(0.0, 1.0, 0.0, 1.0)"
            ]
          },
          "metadata": {},
          "execution_count": 252
        }
      ],
      "source": [
        "# 정규화\n",
        "x_train = x_train / x_train.max()\n",
        "x_test = x_test / x_test.max()\n",
        "\n",
        "x_train.min(), x_train.max(), x_test.min(), x_test.max()"
      ]
    },
    {
      "cell_type": "code",
      "execution_count": null,
      "metadata": {
        "colab": {
          "base_uri": "https://localhost:8080/"
        },
        "id": "eTzWb9mS-4OM",
        "outputId": "3722b7d2-13e3-4825-d508-f45d6265465e"
      },
      "outputs": [
        {
          "output_type": "execute_result",
          "data": {
            "text/plain": [
              "((60000, 28, 28), TensorShape([60000, 784]))"
            ]
          },
          "metadata": {},
          "execution_count": 253
        }
      ],
      "source": [
        "# Flatten -> 1차원으로 펼쳐줌\n",
        "x_train.shape, tf.keras.layers.Flatten()(x_train).shape"
      ]
    },
    {
      "cell_type": "code",
      "execution_count": null,
      "metadata": {
        "colab": {
          "base_uri": "https://localhost:8080/"
        },
        "id": "KmJuAfMW_gOr",
        "outputId": "d64e339e-3f86-4302-d5e4-cfd020b5e12e"
      },
      "outputs": [
        {
          "output_type": "execute_result",
          "data": {
            "text/plain": [
              "<keras.layers.core.dense.Dense at 0x7f26b1f8a890>"
            ]
          },
          "metadata": {},
          "execution_count": 254
        }
      ],
      "source": [
        "# Dense 레이어데 활성화 함수 적용 예시\n",
        "tf.keras.layers.Dense(128, activation='relu')"
      ]
    },
    {
      "cell_type": "code",
      "execution_count": null,
      "metadata": {
        "colab": {
          "base_uri": "https://localhost:8080/"
        },
        "id": "ofQrYU5-Ae-q",
        "outputId": "8e7037e1-6fd9-41ad-b8e6-91d913f8fec2"
      },
      "outputs": [
        {
          "output_type": "execute_result",
          "data": {
            "text/plain": [
              "(array([0, 1, 2, 3, 4, 5, 6, 7, 8, 9], dtype=uint8), 10)"
            ]
          },
          "metadata": {},
          "execution_count": 255
        }
      ],
      "source": [
        "import numpy as np\n",
        "np.unique(y_train), len(np.unique(y_train))"
      ]
    },
    {
      "cell_type": "code",
      "execution_count": null,
      "metadata": {
        "id": "SYyg4OrT_znH"
      },
      "outputs": [],
      "source": [
        "# mnist 모델 구성 예시\n",
        "model = tf.keras.Sequential([\n",
        "        tf.keras.layers.Flatten(input_shape=(28, 28)),\n",
        "        tf.keras.layers.Dense(256, activation='relu'),\n",
        "        tf.keras.layers.Dense(256, activation='relu'),\n",
        "        tf.keras.layers.Dense(256, activation='relu'),\n",
        "        # len(np.unique(y_train)) = 10\n",
        "        tf.keras.layers.Dense(10, activation='softmax')\n",
        "])"
      ]
    },
    {
      "cell_type": "code",
      "execution_count": null,
      "metadata": {
        "colab": {
          "base_uri": "https://localhost:8080/"
        },
        "id": "-Fr2EvPyIHlF",
        "outputId": "0a598bc6-d152-4950-9264-6d1ff349a5ae"
      },
      "outputs": [
        {
          "output_type": "execute_result",
          "data": {
            "text/plain": [
              "<keras.layers.core.dense.Dense at 0x7f26b40f8490>"
            ]
          },
          "metadata": {},
          "execution_count": 257
        }
      ],
      "source": [
        "# 출력층 노드 = 1 인경우\n",
        "tf.keras.layers.Dense(1, activation='sigmoid')\n",
        "\n",
        "# 출력층 노드 = 2 이상인경우\n",
        "tf.keras.layers.Dense(2, activation='softmax')"
      ]
    },
    {
      "cell_type": "code",
      "execution_count": null,
      "metadata": {
        "id": "4xlIpWj1IYKV"
      },
      "outputs": [],
      "source": [
        "# 이진 분류(출력 노드 갯수 = 1, sigmoid인 경우)\n",
        "model.compile(loss='binary_crossentropy')\n",
        "\n",
        "# y가 원핫벡터인 경우\n",
        "model.compile(loss='categorical_crossentropy')\n",
        "\n",
        "# y가 원핫벡터가 아닌 경우\n",
        "model.compile(loss='sparse_categorical_crossentropy')"
      ]
    },
    {
      "cell_type": "code",
      "execution_count": null,
      "metadata": {
        "id": "Hx4-pIphI-_8"
      },
      "outputs": [],
      "source": [
        "# 옵티마이저, 평가지표\n",
        "model.compile(optimizer='adam', loss='sparse_categorical_crossentropy', metrics=['accuracy'])"
      ]
    },
    {
      "cell_type": "code",
      "execution_count": null,
      "metadata": {
        "colab": {
          "base_uri": "https://localhost:8080/"
        },
        "id": "BSPxqANzKH5-",
        "outputId": "70109be2-1f64-42ed-8450-e76c6ddc30f2"
      },
      "outputs": [
        {
          "output_type": "stream",
          "name": "stdout",
          "text": [
            "Epoch 1/10\n",
            "1875/1875 [==============================] - 9s 4ms/step - loss: 0.2050 - accuracy: 0.9373 - val_loss: 0.1120 - val_accuracy: 0.9647\n",
            "Epoch 2/10\n",
            "1875/1875 [==============================] - 4s 2ms/step - loss: 0.0899 - accuracy: 0.9729 - val_loss: 0.0989 - val_accuracy: 0.9707\n",
            "Epoch 3/10\n",
            "1875/1875 [==============================] - 4s 2ms/step - loss: 0.0661 - accuracy: 0.9799 - val_loss: 0.0796 - val_accuracy: 0.9768\n",
            "Epoch 4/10\n",
            "1875/1875 [==============================] - 5s 2ms/step - loss: 0.0497 - accuracy: 0.9850 - val_loss: 0.0770 - val_accuracy: 0.9782\n",
            "Epoch 5/10\n",
            "1875/1875 [==============================] - 5s 2ms/step - loss: 0.0429 - accuracy: 0.9865 - val_loss: 0.0965 - val_accuracy: 0.9756\n",
            "Epoch 6/10\n",
            "1875/1875 [==============================] - 5s 2ms/step - loss: 0.0364 - accuracy: 0.9886 - val_loss: 0.0806 - val_accuracy: 0.9793\n",
            "Epoch 7/10\n",
            "1875/1875 [==============================] - 5s 2ms/step - loss: 0.0322 - accuracy: 0.9896 - val_loss: 0.0808 - val_accuracy: 0.9800\n",
            "Epoch 8/10\n",
            "1875/1875 [==============================] - 5s 2ms/step - loss: 0.0256 - accuracy: 0.9918 - val_loss: 0.1037 - val_accuracy: 0.9755\n",
            "Epoch 9/10\n",
            "1875/1875 [==============================] - 5s 2ms/step - loss: 0.0252 - accuracy: 0.9923 - val_loss: 0.1010 - val_accuracy: 0.9773\n",
            "Epoch 10/10\n",
            "1875/1875 [==============================] - 5s 2ms/step - loss: 0.0215 - accuracy: 0.9931 - val_loss: 0.0994 - val_accuracy: 0.9794\n"
          ]
        },
        {
          "output_type": "execute_result",
          "data": {
            "text/plain": [
              "<keras.callbacks.History at 0x7f26b83f7c50>"
            ]
          },
          "metadata": {},
          "execution_count": 260
        }
      ],
      "source": [
        "# 훈련\n",
        "model.fit(x_train, y_train, validation_data=(x_test, y_test), epochs=10)"
      ]
    },
    {
      "cell_type": "code",
      "execution_count": null,
      "metadata": {
        "colab": {
          "base_uri": "https://localhost:8080/"
        },
        "id": "hromF1J-KtOt",
        "outputId": "f4863647-1c59-488b-ebb0-7c5d1c6f5e96"
      },
      "outputs": [
        {
          "output_type": "stream",
          "name": "stdout",
          "text": [
            "313/313 [==============================] - 1s 2ms/step - loss: 0.0994 - accuracy: 0.9794\n"
          ]
        }
      ],
      "source": [
        "# 평가\n",
        "test_loss, test_acc = model.evaluate(x_test, y_test)"
      ]
    },
    {
      "cell_type": "code",
      "execution_count": null,
      "metadata": {
        "colab": {
          "base_uri": "https://localhost:8080/"
        },
        "id": "NDd6feODLBvD",
        "outputId": "9999acfd-ead6-45c7-d1a2-dcb4e7fa7e19"
      },
      "outputs": [
        {
          "output_type": "execute_result",
          "data": {
            "text/plain": [
              "array([9.5551377e-13, 5.5484078e-10, 6.0585538e-12, 1.0723692e-10,\n",
              "       4.2013312e-08, 2.7192015e-13, 1.4600178e-18, 9.9999785e-01,\n",
              "       1.4506041e-12, 2.2032145e-06], dtype=float32)"
            ]
          },
          "metadata": {},
          "execution_count": 262
        }
      ],
      "source": [
        "# 예측\n",
        "predictions = model.predict(x_test)\n",
        "predictions[0]"
      ]
    },
    {
      "cell_type": "code",
      "execution_count": null,
      "metadata": {
        "colab": {
          "base_uri": "https://localhost:8080/"
        },
        "id": "e6CMSYC_L_dO",
        "outputId": "3907e446-d257-4b24-d8ee-9fbde6ef5bc7"
      },
      "outputs": [
        {
          "output_type": "execute_result",
          "data": {
            "text/plain": [
              "array([7, 2, 1, 0, 4, 1, 4, 9, 5, 9])"
            ]
          },
          "metadata": {},
          "execution_count": 263
        }
      ],
      "source": [
        "np.argmax(predictions[:10], axis=1)"
      ]
    },
    {
      "cell_type": "code",
      "execution_count": null,
      "metadata": {
        "colab": {
          "base_uri": "https://localhost:8080/",
          "height": 297
        },
        "id": "lsw9Z0k6NXEa",
        "outputId": "4c7abf06-85e1-4b19-804b-c5b424673fea"
      },
      "outputs": [
        {
          "output_type": "display_data",
          "data": {
            "image/png": "[encoded data removed]",
            "text/plain": [
              "<Figure size 432x288 with 9 Axes>"
            ]
          },
          "metadata": {}
        }
      ],
      "source": [
        "# # 여러개 확인 할떄2\n",
        "for i in range(9):\n",
        "    plt.subplot(3, 3, i+1)   \n",
        "    plt.imshow(x_test[i], cmap='gray')\n",
        "    plt.title('True_value : {}'.format(y_test[i]))\n",
        "    plt.xlabel('Prediction_value : {}''\\n''Confidence : {}'.format(np.argmax(predictions[i]), round(np.max(predictions[i])*100, 2)))\n",
        "    plt.xticks([])\n",
        "    plt.yticks([])\n",
        "    # plt.axis('off')    \n",
        "plt.tight_layout()\n",
        "plt.show()"
      ]
    },
    {
      "cell_type": "code",
      "execution_count": null,
      "metadata": {
        "colab": {
          "base_uri": "https://localhost:8080/",
          "height": 722
        },
        "id": "8E3ZSq15MoZm",
        "outputId": "d8bac813-602d-4efe-faf5-2a8a90788a4a"
      },
      "outputs": [
        {
          "output_type": "error",
          "ename": "KeyboardInterrupt",
          "evalue": "ignored",
          "traceback": [
            "\u001b[0;31m---------------------------------------------------------------------------\u001b[0m",
            "\u001b[0;31mKeyboardInterrupt\u001b[0m                         Traceback (most recent call last)",
            "\u001b[0;32m<ipython-input-265-eed45cb7bdb0>\u001b[0m in \u001b[0;36m<module>\u001b[0;34m()\u001b[0m\n\u001b[1;32m      6\u001b[0m \u001b[0;32mfor\u001b[0m \u001b[0mi\u001b[0m \u001b[0;32min\u001b[0m \u001b[0mrange\u001b[0m\u001b[0;34m(\u001b[0m\u001b[0;36m10\u001b[0m\u001b[0;34m)\u001b[0m\u001b[0;34m:\u001b[0m\u001b[0;34m\u001b[0m\u001b[0;34m\u001b[0m\u001b[0m\n\u001b[1;32m      7\u001b[0m   \u001b[0max\u001b[0m \u001b[0;34m=\u001b[0m \u001b[0maxes\u001b[0m\u001b[0;34m[\u001b[0m\u001b[0mi\u001b[0m\u001b[0;34m//\u001b[0m\u001b[0;36m5\u001b[0m\u001b[0;34m,\u001b[0m \u001b[0mi\u001b[0m\u001b[0;34m%\u001b[0m\u001b[0;36m5\u001b[0m\u001b[0;34m]\u001b[0m\u001b[0;34m\u001b[0m\u001b[0;34m\u001b[0m\u001b[0m\n\u001b[0;32m----> 8\u001b[0;31m   \u001b[0max\u001b[0m\u001b[0;34m.\u001b[0m\u001b[0mimshow\u001b[0m\u001b[0;34m(\u001b[0m\u001b[0mx_test\u001b[0m\u001b[0;34m[\u001b[0m\u001b[0mi\u001b[0m\u001b[0;34m]\u001b[0m\u001b[0;34m,\u001b[0m \u001b[0mcmap\u001b[0m\u001b[0;34m=\u001b[0m\u001b[0;34m'gray'\u001b[0m\u001b[0;34m)\u001b[0m\u001b[0;34m\u001b[0m\u001b[0;34m\u001b[0m\u001b[0m\n\u001b[0m\u001b[1;32m      9\u001b[0m   \u001b[0max\u001b[0m\u001b[0;34m.\u001b[0m\u001b[0mset_title\u001b[0m\u001b[0;34m(\u001b[0m\u001b[0;34m'True_value : {}'\u001b[0m\u001b[0;34m.\u001b[0m\u001b[0mformat\u001b[0m\u001b[0;34m(\u001b[0m\u001b[0my_test\u001b[0m\u001b[0;34m[\u001b[0m\u001b[0mi\u001b[0m\u001b[0;34m]\u001b[0m\u001b[0;34m)\u001b[0m\u001b[0;34m)\u001b[0m\u001b[0;34m\u001b[0m\u001b[0;34m\u001b[0m\u001b[0m\n\u001b[1;32m     10\u001b[0m   \u001b[0max\u001b[0m\u001b[0;34m.\u001b[0m\u001b[0mset_xlabel\u001b[0m\u001b[0;34m(\u001b[0m\u001b[0;34m'Prediction_value : {}'\u001b[0m\u001b[0;34m'\\n'\u001b[0m\u001b[0;34m'Confidence : {}'\u001b[0m\u001b[0;34m.\u001b[0m\u001b[0mformat\u001b[0m\u001b[0;34m(\u001b[0m\u001b[0mnp\u001b[0m\u001b[0;34m.\u001b[0m\u001b[0margmax\u001b[0m\u001b[0;34m(\u001b[0m\u001b[0mpredictions\u001b[0m\u001b[0;34m[\u001b[0m\u001b[0mi\u001b[0m\u001b[0;34m]\u001b[0m\u001b[0;34m)\u001b[0m\u001b[0;34m,\u001b[0m \u001b[0mround\u001b[0m\u001b[0;34m(\u001b[0m\u001b[0mnp\u001b[0m\u001b[0;34m.\u001b[0m\u001b[0mmax\u001b[0m\u001b[0;34m(\u001b[0m\u001b[0mpredictions\u001b[0m\u001b[0;34m[\u001b[0m\u001b[0mi\u001b[0m\u001b[0;34m]\u001b[0m\u001b[0;34m)\u001b[0m\u001b[0;34m*\u001b[0m\u001b[0;36m100\u001b[0m\u001b[0;34m,\u001b[0m \u001b[0;36m2\u001b[0m\u001b[0;34m)\u001b[0m\u001b[0;34m)\u001b[0m\u001b[0;34m)\u001b[0m\u001b[0;34m\u001b[0m\u001b[0;34m\u001b[0m\u001b[0m\n",
            "\u001b[0;32m/usr/local/lib/python3.7/dist-packages/matplotlib/__init__.py\u001b[0m in \u001b[0;36minner\u001b[0;34m(ax, data, *args, **kwargs)\u001b[0m\n\u001b[1;32m   1563\u001b[0m     \u001b[0;32mdef\u001b[0m \u001b[0minner\u001b[0m\u001b[0;34m(\u001b[0m\u001b[0max\u001b[0m\u001b[0;34m,\u001b[0m \u001b[0;34m*\u001b[0m\u001b[0margs\u001b[0m\u001b[0;34m,\u001b[0m \u001b[0mdata\u001b[0m\u001b[0;34m=\u001b[0m\u001b[0;32mNone\u001b[0m\u001b[0;34m,\u001b[0m \u001b[0;34m**\u001b[0m\u001b[0mkwargs\u001b[0m\u001b[0;34m)\u001b[0m\u001b[0;34m:\u001b[0m\u001b[0;34m\u001b[0m\u001b[0;34m\u001b[0m\u001b[0m\n\u001b[1;32m   1564\u001b[0m         \u001b[0;32mif\u001b[0m \u001b[0mdata\u001b[0m \u001b[0;32mis\u001b[0m \u001b[0;32mNone\u001b[0m\u001b[0;34m:\u001b[0m\u001b[0;34m\u001b[0m\u001b[0;34m\u001b[0m\u001b[0m\n\u001b[0;32m-> 1565\u001b[0;31m             \u001b[0;32mreturn\u001b[0m \u001b[0mfunc\u001b[0m\u001b[0;34m(\u001b[0m\u001b[0max\u001b[0m\u001b[0;34m,\u001b[0m \u001b[0;34m*\u001b[0m\u001b[0mmap\u001b[0m\u001b[0;34m(\u001b[0m\u001b[0msanitize_sequence\u001b[0m\u001b[0;34m,\u001b[0m \u001b[0margs\u001b[0m\u001b[0;34m)\u001b[0m\u001b[0;34m,\u001b[0m \u001b[0;34m**\u001b[0m\u001b[0mkwargs\u001b[0m\u001b[0;34m)\u001b[0m\u001b[0;34m\u001b[0m\u001b[0;34m\u001b[0m\u001b[0m\n\u001b[0m\u001b[1;32m   1566\u001b[0m \u001b[0;34m\u001b[0m\u001b[0m\n\u001b[1;32m   1567\u001b[0m         \u001b[0mbound\u001b[0m \u001b[0;34m=\u001b[0m \u001b[0mnew_sig\u001b[0m\u001b[0;34m.\u001b[0m\u001b[0mbind\u001b[0m\u001b[0;34m(\u001b[0m\u001b[0max\u001b[0m\u001b[0;34m,\u001b[0m \u001b[0;34m*\u001b[0m\u001b[0margs\u001b[0m\u001b[0;34m,\u001b[0m \u001b[0;34m**\u001b[0m\u001b[0mkwargs\u001b[0m\u001b[0;34m)\u001b[0m\u001b[0;34m\u001b[0m\u001b[0;34m\u001b[0m\u001b[0m\n",
            "\u001b[0;32m/usr/local/lib/python3.7/dist-packages/matplotlib/cbook/deprecation.py\u001b[0m in \u001b[0;36mwrapper\u001b[0;34m(*args, **kwargs)\u001b[0m\n\u001b[1;32m    356\u001b[0m                 \u001b[0;34mf\"%(removal)s.  If any parameter follows {name!r}, they \"\u001b[0m\u001b[0;34m\u001b[0m\u001b[0;34m\u001b[0m\u001b[0m\n\u001b[1;32m    357\u001b[0m                 f\"should be pass as keyword, not positionally.\")\n\u001b[0;32m--> 358\u001b[0;31m         \u001b[0;32mreturn\u001b[0m \u001b[0mfunc\u001b[0m\u001b[0;34m(\u001b[0m\u001b[0;34m*\u001b[0m\u001b[0margs\u001b[0m\u001b[0;34m,\u001b[0m \u001b[0;34m**\u001b[0m\u001b[0mkwargs\u001b[0m\u001b[0;34m)\u001b[0m\u001b[0;34m\u001b[0m\u001b[0;34m\u001b[0m\u001b[0m\n\u001b[0m\u001b[1;32m    359\u001b[0m \u001b[0;34m\u001b[0m\u001b[0m\n\u001b[1;32m    360\u001b[0m     \u001b[0;32mreturn\u001b[0m \u001b[0mwrapper\u001b[0m\u001b[0;34m\u001b[0m\u001b[0;34m\u001b[0m\u001b[0m\n",
            "\u001b[0;32m/usr/local/lib/python3.7/dist-packages/matplotlib/cbook/deprecation.py\u001b[0m in \u001b[0;36mwrapper\u001b[0;34m(*args, **kwargs)\u001b[0m\n\u001b[1;32m    356\u001b[0m                 \u001b[0;34mf\"%(removal)s.  If any parameter follows {name!r}, they \"\u001b[0m\u001b[0;34m\u001b[0m\u001b[0;34m\u001b[0m\u001b[0m\n\u001b[1;32m    357\u001b[0m                 f\"should be pass as keyword, not positionally.\")\n\u001b[0;32m--> 358\u001b[0;31m         \u001b[0;32mreturn\u001b[0m \u001b[0mfunc\u001b[0m\u001b[0;34m(\u001b[0m\u001b[0;34m*\u001b[0m\u001b[0margs\u001b[0m\u001b[0;34m,\u001b[0m \u001b[0;34m**\u001b[0m\u001b[0mkwargs\u001b[0m\u001b[0;34m)\u001b[0m\u001b[0;34m\u001b[0m\u001b[0;34m\u001b[0m\u001b[0m\n\u001b[0m\u001b[1;32m    359\u001b[0m \u001b[0;34m\u001b[0m\u001b[0m\n\u001b[1;32m    360\u001b[0m     \u001b[0;32mreturn\u001b[0m \u001b[0mwrapper\u001b[0m\u001b[0;34m\u001b[0m\u001b[0;34m\u001b[0m\u001b[0m\n",
            "\u001b[0;32m/usr/local/lib/python3.7/dist-packages/matplotlib/axes/_axes.py\u001b[0m in \u001b[0;36mimshow\u001b[0;34m(self, X, cmap, norm, aspect, interpolation, alpha, vmin, vmax, origin, extent, shape, filternorm, filterrad, imlim, resample, url, **kwargs)\u001b[0m\n\u001b[1;32m   5624\u001b[0m                               resample=resample, **kwargs)\n\u001b[1;32m   5625\u001b[0m \u001b[0;34m\u001b[0m\u001b[0m\n\u001b[0;32m-> 5626\u001b[0;31m         \u001b[0mim\u001b[0m\u001b[0;34m.\u001b[0m\u001b[0mset_data\u001b[0m\u001b[0;34m(\u001b[0m\u001b[0mX\u001b[0m\u001b[0;34m)\u001b[0m\u001b[0;34m\u001b[0m\u001b[0;34m\u001b[0m\u001b[0m\n\u001b[0m\u001b[1;32m   5627\u001b[0m         \u001b[0mim\u001b[0m\u001b[0;34m.\u001b[0m\u001b[0mset_alpha\u001b[0m\u001b[0;34m(\u001b[0m\u001b[0malpha\u001b[0m\u001b[0;34m)\u001b[0m\u001b[0;34m\u001b[0m\u001b[0;34m\u001b[0m\u001b[0m\n\u001b[1;32m   5628\u001b[0m         \u001b[0;32mif\u001b[0m \u001b[0mim\u001b[0m\u001b[0;34m.\u001b[0m\u001b[0mget_clip_path\u001b[0m\u001b[0;34m(\u001b[0m\u001b[0;34m)\u001b[0m \u001b[0;32mis\u001b[0m \u001b[0;32mNone\u001b[0m\u001b[0;34m:\u001b[0m\u001b[0;34m\u001b[0m\u001b[0;34m\u001b[0m\u001b[0m\n",
            "\u001b[0;32m/usr/local/lib/python3.7/dist-packages/matplotlib/image.py\u001b[0m in \u001b[0;36mset_data\u001b[0;34m(self, A)\u001b[0m\n\u001b[1;32m    687\u001b[0m             \u001b[0;32mif\u001b[0m \u001b[0misinstance\u001b[0m\u001b[0;34m(\u001b[0m\u001b[0mA\u001b[0m\u001b[0;34m,\u001b[0m \u001b[0mImage\u001b[0m\u001b[0;34m.\u001b[0m\u001b[0mImage\u001b[0m\u001b[0;34m)\u001b[0m\u001b[0;34m:\u001b[0m\u001b[0;34m\u001b[0m\u001b[0;34m\u001b[0m\u001b[0m\n\u001b[1;32m    688\u001b[0m                 \u001b[0mA\u001b[0m \u001b[0;34m=\u001b[0m \u001b[0mpil_to_array\u001b[0m\u001b[0;34m(\u001b[0m\u001b[0mA\u001b[0m\u001b[0;34m)\u001b[0m  \u001b[0;31m# Needed e.g. to apply png palette.\u001b[0m\u001b[0;34m\u001b[0m\u001b[0;34m\u001b[0m\u001b[0m\n\u001b[0;32m--> 689\u001b[0;31m         \u001b[0mself\u001b[0m\u001b[0;34m.\u001b[0m\u001b[0m_A\u001b[0m \u001b[0;34m=\u001b[0m \u001b[0mcbook\u001b[0m\u001b[0;34m.\u001b[0m\u001b[0msafe_masked_invalid\u001b[0m\u001b[0;34m(\u001b[0m\u001b[0mA\u001b[0m\u001b[0;34m,\u001b[0m \u001b[0mcopy\u001b[0m\u001b[0;34m=\u001b[0m\u001b[0;32mTrue\u001b[0m\u001b[0;34m)\u001b[0m\u001b[0;34m\u001b[0m\u001b[0;34m\u001b[0m\u001b[0m\n\u001b[0m\u001b[1;32m    690\u001b[0m \u001b[0;34m\u001b[0m\u001b[0m\n\u001b[1;32m    691\u001b[0m         if (self._A.dtype != np.uint8 and\n",
            "\u001b[0;32m/usr/local/lib/python3.7/dist-packages/matplotlib/cbook/__init__.py\u001b[0m in \u001b[0;36msafe_masked_invalid\u001b[0;34m(x, copy)\u001b[0m\n\u001b[1;32m    704\u001b[0m \u001b[0;34m\u001b[0m\u001b[0m\n\u001b[1;32m    705\u001b[0m \u001b[0;32mdef\u001b[0m \u001b[0msafe_masked_invalid\u001b[0m\u001b[0;34m(\u001b[0m\u001b[0mx\u001b[0m\u001b[0;34m,\u001b[0m \u001b[0mcopy\u001b[0m\u001b[0;34m=\u001b[0m\u001b[0;32mFalse\u001b[0m\u001b[0;34m)\u001b[0m\u001b[0;34m:\u001b[0m\u001b[0;34m\u001b[0m\u001b[0;34m\u001b[0m\u001b[0m\n\u001b[0;32m--> 706\u001b[0;31m     \u001b[0mx\u001b[0m \u001b[0;34m=\u001b[0m \u001b[0mnp\u001b[0m\u001b[0;34m.\u001b[0m\u001b[0marray\u001b[0m\u001b[0;34m(\u001b[0m\u001b[0mx\u001b[0m\u001b[0;34m,\u001b[0m \u001b[0msubok\u001b[0m\u001b[0;34m=\u001b[0m\u001b[0;32mTrue\u001b[0m\u001b[0;34m,\u001b[0m \u001b[0mcopy\u001b[0m\u001b[0;34m=\u001b[0m\u001b[0mcopy\u001b[0m\u001b[0;34m)\u001b[0m\u001b[0;34m\u001b[0m\u001b[0;34m\u001b[0m\u001b[0m\n\u001b[0m\u001b[1;32m    707\u001b[0m     \u001b[0;32mif\u001b[0m \u001b[0;32mnot\u001b[0m \u001b[0mx\u001b[0m\u001b[0;34m.\u001b[0m\u001b[0mdtype\u001b[0m\u001b[0;34m.\u001b[0m\u001b[0misnative\u001b[0m\u001b[0;34m:\u001b[0m\u001b[0;34m\u001b[0m\u001b[0;34m\u001b[0m\u001b[0m\n\u001b[1;32m    708\u001b[0m         \u001b[0;31m# Note that the argument to `byteswap` is 'inplace',\u001b[0m\u001b[0;34m\u001b[0m\u001b[0;34m\u001b[0m\u001b[0;34m\u001b[0m\u001b[0m\n",
            "\u001b[0;31mKeyboardInterrupt\u001b[0m: "
          ]
        },
        {
          "output_type": "display_data",
          "data": {
            "image/png": "[encoded data removed]",
            "text/plain": [
              "<Figure size 864x360 with 10 Axes>"
            ]
          },
          "metadata": {
            "needs_background": "light"
          }
        }
      ],
      "source": [
        "# 결과 여러개 확인 할떄\n",
        "\n",
        "fig, axes = plt.subplots(2, 5) # 2줄 5개씩\n",
        "fig.set_size_inches(12, 5)# image size\n",
        "\n",
        "for i in range(10):\n",
        "  ax = axes[i//5, i%5]\n",
        "  ax.imshow(x_test[i], cmap='gray')\n",
        "  ax.set_title('True_value : {}'.format(y_test[i]))\n",
        "  ax.set_xlabel('Prediction_value : {}''\\n''Confidence : {}'.format(np.argmax(predictions[i]), round(np.max(predictions[i])*100, 2)))\n",
        "  # ax.axis('off')\n",
        "  ax.set_xticks([])\n",
        "  ax.set_yticks([])\n",
        "plt.tight_layout()\n",
        "plt.show()"
      ]
    },
    {
      "cell_type": "code",
      "execution_count": null,
      "metadata": {
        "id": "eOmnWLNiT2pf"
      },
      "outputs": [],
      "source": [
        "# 내장 데이터셋 로드\n",
        "mnist = tf.keras.datasets.mnist\n",
        "# 데이터셋 로드\n",
        "(x_train, y_train), (x_test, y_test) = mnist.load_data()"
      ]
    },
    {
      "cell_type": "code",
      "execution_count": null,
      "metadata": {
        "id": "sfl-Wjc9VrSi"
      },
      "outputs": [],
      "source": [
        "x_train.shape, x_test.shape, y_train.shape, y_test.shape"
      ]
    },
    {
      "cell_type": "code",
      "execution_count": null,
      "metadata": {
        "id": "yP7u_0MPWHtv"
      },
      "outputs": [],
      "source": [
        "# Data 정규화 0~1 값으로 변경\n",
        "x_train = x_train / x_train.max()  # 255.\n",
        "x_test = x_test / x_test.max()     # 255."
      ]
    },
    {
      "cell_type": "code",
      "execution_count": null,
      "metadata": {
        "id": "VYgXGp2rXGkS"
      },
      "outputs": [],
      "source": [
        "# 초기값 설정\n",
        "dense = tf.keras.layers.Dense(256, kernel_initializer='he_normal', activation='relu')\n",
        "# 규제 설정\n",
        "dense = tf.keras.layers.Dense(256, kernel_regularizer='l1', activation='relu')\n",
        "# 드롭아웃\n",
        "tf.keras.layers.Dropout(0.25)\n",
        "dense.get_config()"
      ]
    },
    {
      "cell_type": "code",
      "execution_count": null,
      "metadata": {
        "id": "ZAPMxF6eY2o_"
      },
      "outputs": [],
      "source": [
        "# 기본 모델\n",
        "model_a = tf.keras.Sequential([\n",
        "          tf.keras.layers.Flatten(input_shape=(28, 28)),\n",
        "          tf.keras.layers.Dense(64, activation='relu'),\n",
        "          tf.keras.layers.Dense(32, activation='relu'),\n",
        "          tf.keras.layers.Dense(10, activation='softmax')\n",
        "])\n",
        "\n",
        "# 배치정규화 모델\n",
        "model_b = tf.keras.Sequential([\n",
        "          tf.keras.layers.Flatten(input_shape=(28, 28)),\n",
        "          tf.keras.layers.Dense(64),\n",
        "          tf.keras.layers.BatchNormalization(),\n",
        "          tf.keras.layers.Activation('relu'),\n",
        "          tf.keras.layers.Dense(32),\n",
        "          tf.keras.layers.BatchNormalization(),\n",
        "          tf.keras.layers.Activation('relu'),\n",
        "          tf.keras.layers.Dense(10, activation='softmax')\n",
        "])"
      ]
    },
    {
      "cell_type": "code",
      "execution_count": null,
      "metadata": {
        "id": "WskQuApsZ9rS"
      },
      "outputs": [],
      "source": [
        "model_a.summary()"
      ]
    },
    {
      "cell_type": "code",
      "execution_count": null,
      "metadata": {
        "id": "NQwHWrqrbon6"
      },
      "outputs": [],
      "source": [
        "model_b.summary()"
      ]
    },
    {
      "cell_type": "code",
      "execution_count": null,
      "metadata": {
        "id": "SQDvnj-sc8iT"
      },
      "outputs": [],
      "source": [
        "# 내장 데이터셋 로드\n",
        "mnist = tf.keras.datasets.mnist\n",
        "# 데이터셋 로드\n",
        "(x_train, y_train), (x_test, y_test) = mnist.load_data()\n",
        "# Data 정규화 0~1 값으로 변경\n",
        "x_train = x_train / x_train.max()  # 255.\n",
        "x_test = x_test / x_test.max()     # 255.\n",
        "\n",
        "model = tf.keras.Sequential([\n",
        "          tf.keras.layers.Flatten(input_shape=(28, 28)),\n",
        "          tf.keras.layers.Dense(256, activation='relu'),\n",
        "          tf.keras.layers.Dense(64, activation='relu'),\n",
        "          tf.keras.layers.Dense(32, activation='relu'),\n",
        "          tf.keras.layers.Dense(10, activation='softmax')\n",
        "])\n",
        "# 모델컴파일\n",
        "model.compile(optimizer='Adam', loss='sparse_categorical_crossentropy', metrics=['accuracy'])"
      ]
    },
    {
      "cell_type": "code",
      "execution_count": null,
      "metadata": {
        "id": "SWcIUy-_emlZ"
      },
      "outputs": [],
      "source": [
        "# 체크포인트 설정\n",
        "checkpoint = tf.keras.callbacks.ModelCheckpoint(filepath='tmp_checkpoint.ckpt',\n",
        "                                                sace_weights_only=True,\n",
        "                                                save_best_only=True,\n",
        "                                                monitor='val_loss',\n",
        "                                                verbose=1)"
      ]
    },
    {
      "cell_type": "code",
      "execution_count": null,
      "metadata": {
        "id": "zy0YZMJDfK-T"
      },
      "outputs": [],
      "source": [
        "# 훈련\n",
        "model.fit(x_train, y_train, validation_data=(x_test, y_test), epochs=10, callbacks=[checkpoint])"
      ]
    },
    {
      "cell_type": "code",
      "execution_count": null,
      "metadata": {
        "id": "soKFW2n2gN9C"
      },
      "outputs": [],
      "source": [
        "model.evaluate(x_test, y_test)"
      ]
    },
    {
      "cell_type": "code",
      "execution_count": null,
      "metadata": {
        "id": "6fT5MxIKgTh1"
      },
      "outputs": [],
      "source": [
        "# 체크포인트 파일을 모델에 로드\n",
        "model.load_weights('tmp_checkpoint.ckpt')\n",
        "model.evaluate(x_test, y_test)"
      ]
    },
    {
      "cell_type": "code",
      "execution_count": null,
      "metadata": {
        "id": "MpZn1aO8hWKk"
      },
      "outputs": [],
      "source": [
        "# 내장 데이터셋 로드\n",
        "mnist = tf.keras.datasets.mnist\n",
        "# 데이터셋 로드\n",
        "(x_train, y_train), (x_test, y_test) = mnist.load_data()\n",
        "# Data 정규화 0~1 값으로 변경\n",
        "x_train = x_train / x_train.max()  # 255.\n",
        "x_test = x_test / x_test.max()     # 255.\n",
        "\n",
        "model = tf.keras.Sequential([\n",
        "          tf.keras.layers.Flatten(input_shape=(28, 28)),\n",
        "          tf.keras.layers.Dense(256, activation='relu'),\n",
        "          tf.keras.layers.Dense(64, activation='relu'),\n",
        "          tf.keras.layers.Dense(32, activation='relu'),\n",
        "          tf.keras.layers.Dense(10, activation='softmax')\n",
        "])\n",
        "# 모델컴파일\n",
        "model.compile(optimizer='Adam', loss='sparse_categorical_crossentropy', metrics=['accuracy'])"
      ]
    },
    {
      "cell_type": "code",
      "execution_count": null,
      "metadata": {
        "id": "utv11VdwhZ7v"
      },
      "outputs": [],
      "source": [
        "# 조기종료 설정\n",
        "earlystopping = tf.keras.callbacks.EarlyStopping(monitor='val_loss', patience=3)"
      ]
    },
    {
      "cell_type": "code",
      "execution_count": null,
      "metadata": {
        "id": "Yz9FMblzjowQ"
      },
      "outputs": [],
      "source": [
        "# 훈련\n",
        "model.fit(x_train, y_train, validation_data=(x_test, y_test), epochs=10, callbacks=[earlystopping])"
      ]
    },
    {
      "cell_type": "code",
      "execution_count": null,
      "metadata": {
        "id": "fFF62SP_j79G"
      },
      "outputs": [],
      "source": [
        "# 내장 데이터셋 로드\n",
        "mnist = tf.keras.datasets.mnist\n",
        "# 데이터셋 로드\n",
        "(x_train, y_train), (x_test, y_test) = mnist.load_data()\n",
        "# Data 정규화 0~1 값으로 변경\n",
        "x_train = x_train / x_train.max()  # 255.\n",
        "x_test = x_test / x_test.max()     # 255.\n",
        "\n",
        "model = tf.keras.Sequential([\n",
        "          tf.keras.layers.Flatten(input_shape=(28, 28)),\n",
        "          tf.keras.layers.Dense(256, activation='relu'),\n",
        "          tf.keras.layers.Dense(64, activation='relu'),\n",
        "          tf.keras.layers.Dense(32, activation='relu'),\n",
        "          tf.keras.layers.Dense(10, activation='softmax')\n",
        "])\n",
        "# 모델컴파일\n",
        "model.compile(optimizer='Adam', loss='sparse_categorical_crossentropy', metrics=['accuracy'])"
      ]
    },
    {
      "cell_type": "code",
      "execution_count": null,
      "metadata": {
        "id": "nrhWGJ16j9H5"
      },
      "outputs": [],
      "source": [
        "# 텐서보드 저장 경로 지정\n",
        "log_dir = 'tensorboard'"
      ]
    },
    {
      "cell_type": "code",
      "execution_count": null,
      "metadata": {
        "id": "nKaBKDJhkEmA"
      },
      "outputs": [],
      "source": [
        "# 텐서보드 콜백 정의\n",
        "tensorboard = tf.keras.callbacks.TensorBoard(log_dir=log_dir, histogram_freq=1)"
      ]
    },
    {
      "cell_type": "code",
      "execution_count": null,
      "metadata": {
        "id": "ybvPD8sUkcLJ"
      },
      "outputs": [],
      "source": [
        "# 훈련\n",
        "model.fit(x_train, y_train, validation_data=(x_test, y_test), epochs=10, callbacks=[tensorboard])"
      ]
    },
    {
      "cell_type": "code",
      "execution_count": null,
      "metadata": {
        "id": "AX05sLzck07o"
      },
      "outputs": [],
      "source": [
        "# 텐서보드 로드\n",
        "%load_ext tensorboard\n",
        "# 텐서보드 출력\n",
        "%tensorboard --logdir {log_dir}"
      ]
    },
    {
      "cell_type": "code",
      "execution_count": null,
      "metadata": {
        "id": "YM2D8MC0mBbf"
      },
      "outputs": [],
      "source": [
        "model.summary()"
      ]
    },
    {
      "cell_type": "code",
      "execution_count": null,
      "metadata": {
        "id": "K8-hA4FsmF6Y"
      },
      "outputs": [],
      "source": [
        "# 모델 저장\n",
        "model.save('h5-model.h5')\n",
        "model.save('saved-model')"
      ]
    },
    {
      "cell_type": "code",
      "execution_count": null,
      "metadata": {
        "id": "jhrMtzNAmMel"
      },
      "outputs": [],
      "source": [
        "# 모델 복원\n",
        "h5_model = tf.keras.models.load_model('h5-model.h5')\n",
        "saved_model = tf.keras.models.load_model('saved-model')"
      ]
    },
    {
      "cell_type": "code",
      "execution_count": null,
      "metadata": {
        "id": "o-n8Q2K4nehq"
      },
      "outputs": [],
      "source": [
        "from tensorflow.keras.utils import plot_model\n",
        "#구조도 시각화\n",
        "plot_model(model, show_shapes=True, show_layer_names=True, to_file='model.png')"
      ]
    },
    {
      "cell_type": "code",
      "execution_count": null,
      "metadata": {
        "id": "f-3L4u20A4dA"
      },
      "outputs": [],
      "source": [
        "!ls"
      ]
    },
    {
      "cell_type": "markdown",
      "source": [
        "# NLP"
      ],
      "metadata": {
        "id": "_KxdiZDOfG-R"
      }
    },
    {
      "cell_type": "code",
      "execution_count": null,
      "metadata": {
        "id": "moNrrS0T5Hxe"
      },
      "outputs": [],
      "source": [
        "from tensorflow.keras.preprocessing.text import Tokenizer"
      ]
    },
    {
      "cell_type": "code",
      "execution_count": null,
      "metadata": {
        "colab": {
          "base_uri": "https://localhost:8080/"
        },
        "id": "uG0lk_IO5aEX",
        "outputId": "8c9d89d1-e786-4593-8acf-daff31c8ed38"
      },
      "outputs": [
        {
          "output_type": "execute_result",
          "data": {
            "text/plain": [
              "{'나를': 4, '영실이는': 1, '영화를': 5, '정말': 2, '좋아해': 3}"
            ]
          },
          "metadata": {},
          "execution_count": 12
        }
      ],
      "source": [
        "sentences = [\n",
        "             '영실이는 나를 정말 정말 좋아해',\n",
        "             '영실이는 영화를 좋아해'\n",
        "]\n",
        "\n",
        "tokenizer = Tokenizer()\n",
        "tokenizer.fit_on_texts(sentences)\n",
        "tokenizer.word_index"
      ]
    },
    {
      "cell_type": "code",
      "execution_count": null,
      "metadata": {
        "colab": {
          "base_uri": "https://localhost:8080/"
        },
        "id": "gFikMk1j6Qmg",
        "outputId": "4fe51ef6-63a7-4503-dba0-ca2253e965af"
      },
      "outputs": [
        {
          "output_type": "execute_result",
          "data": {
            "text/plain": [
              "[[1, 4, 2, 2, 3], [1, 5, 3]]"
            ]
          },
          "metadata": {},
          "execution_count": 13
        }
      ],
      "source": [
        "# 인코딩된 결과\n",
        "word_encoding = tokenizer.texts_to_sequences(sentences)\n",
        "word_encoding"
      ]
    },
    {
      "cell_type": "code",
      "execution_count": null,
      "metadata": {
        "colab": {
          "base_uri": "https://localhost:8080/"
        },
        "id": "N6Lg6lgV6oer",
        "outputId": "53847bcb-59bc-43a6-ea68-0d7af309ba29"
      },
      "outputs": [
        {
          "output_type": "execute_result",
          "data": {
            "text/plain": [
              "[[1, 4, 3]]"
            ]
          },
          "metadata": {},
          "execution_count": 14
        }
      ],
      "source": [
        "# 사전에 없는 단어가 있을 때 인코딩 결과\n",
        "new_sentences = ['영실이는 경록이와 나를 좋아해']\n",
        "new_word_encoding = tokenizer.texts_to_sequences(new_sentences)\n",
        "new_word_encoding"
      ]
    },
    {
      "cell_type": "code",
      "execution_count": null,
      "metadata": {
        "colab": {
          "base_uri": "https://localhost:8080/"
        },
        "id": "gNnEq0nG7Cg9",
        "outputId": "52f71a53-f48a-4e9f-b3b3-9b27e6379b9d"
      },
      "outputs": [
        {
          "output_type": "execute_result",
          "data": {
            "text/plain": [
              "({'<OOV>': 1, '나를': 5, '영실이는': 2, '영화를': 6, '정말': 3, '좋아해': 4}, [[2, 1, 5, 4]])"
            ]
          },
          "metadata": {},
          "execution_count": 15
        }
      ],
      "source": [
        "# 사전에 없는 단어 처리\n",
        "tokenizer = Tokenizer(num_words=6, oov_token=\"<OOV>\")\n",
        "tokenizer.fit_on_texts(sentences)\n",
        "word_index = tokenizer.word_index\n",
        "\n",
        "new_word_encoding = tokenizer.texts_to_sequences(new_sentences)\n",
        "word_index, new_word_encoding"
      ]
    },
    {
      "cell_type": "code",
      "execution_count": null,
      "metadata": {
        "colab": {
          "base_uri": "https://localhost:8080/"
        },
        "id": "xRJc9CBn_vzf",
        "outputId": "37e27858-a9a9-4cca-90ae-c0bd87e93ef5"
      },
      "outputs": [
        {
          "output_type": "execute_result",
          "data": {
            "text/plain": [
              "array([[4, 2, 2, 3],\n",
              "       [1, 5, 3, 0]], dtype=int32)"
            ]
          },
          "metadata": {},
          "execution_count": 16
        }
      ],
      "source": [
        "# 문장의 길이 맞추기\n",
        "from tensorflow.keras.preprocessing.sequence import pad_sequences\n",
        "padded = pad_sequences(word_encoding, padding='post', maxlen=4)\n",
        "padded"
      ]
    },
    {
      "cell_type": "code",
      "execution_count": null,
      "metadata": {
        "id": "Q5rJXYjXFobv"
      },
      "outputs": [],
      "source": [
        "# 한국어 감정 분석\n",
        "import pandas as pd\n",
        "import numpy as np\n",
        "import seaborn as sns\n",
        "import matplotlib.pyplot as plt\n",
        "import tensorflow as tf\n",
        "import warnings\n",
        "warnings.filterwarnings(action='ignore')"
      ]
    },
    {
      "cell_type": "code",
      "execution_count": null,
      "metadata": {
        "id": "5YEpsOA2F_lS"
      },
      "outputs": [],
      "source": [
        "# Naver sentiment movie corqus v1.0 데이터\n",
        "train_file = tf.keras.utils.get_file('rating_train.txt', origin='https://raw.githubusercontent.com/e9t/nsmc/master/ratings_train.txt', extract=True)\n",
        "train = pd.read_csv(train_file, sep='\\t')"
      ]
    },
    {
      "cell_type": "code",
      "execution_count": null,
      "metadata": {
        "colab": {
          "base_uri": "https://localhost:8080/"
        },
        "id": "8EWJqVcjHAUY",
        "outputId": "3a3fc2e7-c24d-45c2-a687-1954f5667074"
      },
      "outputs": [
        {
          "output_type": "execute_result",
          "data": {
            "text/plain": [
              "(150000, 3)"
            ]
          },
          "metadata": {},
          "execution_count": 19
        }
      ],
      "source": [
        "train.shape"
      ]
    },
    {
      "cell_type": "code",
      "execution_count": null,
      "metadata": {
        "colab": {
          "base_uri": "https://localhost:8080/",
          "height": 206
        },
        "id": "2RfNDPwgJJkn",
        "outputId": "1c3cabf4-d206-4ca7-bffe-293177f5340b"
      },
      "outputs": [
        {
          "output_type": "execute_result",
          "data": {
            "text/html": [
              "\n",
              "  <div id=\"df-7a6cd149-12bc-40b4-bafa-780571b33630\">\n",
              "    <div class=\"colab-df-container\">\n",
              "      <div>\n",
              "<style scoped>\n",
              "    .dataframe tbody tr th:only-of-type {\n",
              "        vertical-align: middle;\n",
              "    }\n",
              "\n",
              "    .dataframe tbody tr th {\n",
              "        vertical-align: top;\n",
              "    }\n",
              "\n",
              "    .dataframe thead th {\n",
              "        text-align: right;\n",
              "    }\n",
              "</style>\n",
              "<table border=\"1\" class=\"dataframe\">\n",
              "  <thead>\n",
              "    <tr style=\"text-align: right;\">\n",
              "      <th></th>\n",
              "      <th>id</th>\n",
              "      <th>document</th>\n",
              "      <th>label</th>\n",
              "    </tr>\n",
              "  </thead>\n",
              "  <tbody>\n",
              "    <tr>\n",
              "      <th>0</th>\n",
              "      <td>9976970</td>\n",
              "      <td>아 더빙.. 진짜 짜증나네요 목소리</td>\n",
              "      <td>0</td>\n",
              "    </tr>\n",
              "    <tr>\n",
              "      <th>1</th>\n",
              "      <td>3819312</td>\n",
              "      <td>흠...포스터보고 초딩영화줄....오버연기조차 가볍지 않구나</td>\n",
              "      <td>1</td>\n",
              "    </tr>\n",
              "    <tr>\n",
              "      <th>2</th>\n",
              "      <td>10265843</td>\n",
              "      <td>너무재밓었다그래서보는것을추천한다</td>\n",
              "      <td>0</td>\n",
              "    </tr>\n",
              "    <tr>\n",
              "      <th>3</th>\n",
              "      <td>9045019</td>\n",
              "      <td>교도소 이야기구먼 ..솔직히 재미는 없다..평점 조정</td>\n",
              "      <td>0</td>\n",
              "    </tr>\n",
              "    <tr>\n",
              "      <th>4</th>\n",
              "      <td>6483659</td>\n",
              "      <td>사이몬페그의 익살스런 연기가 돋보였던 영화!스파이더맨에서 늙어보이기만 했던 커스틴 ...</td>\n",
              "      <td>1</td>\n",
              "    </tr>\n",
              "  </tbody>\n",
              "</table>\n",
              "</div>\n",
              "      <button class=\"colab-df-convert\" onclick=\"convertToInteractive('df-7a6cd149-12bc-40b4-bafa-780571b33630')\"\n",
              "              title=\"Convert this dataframe to an interactive table.\"\n",
              "              style=\"display:none;\">\n",
              "        \n",
              "  <svg xmlns=\"http://www.w3.org/2000/svg\" height=\"24px\"viewBox=\"0 0 24 24\"\n",
              "       width=\"24px\">\n",
              "    <path d=\"M0 0h24v24H0V0z\" fill=\"none\"/>\n",
              "    <path d=\"M18.56 5.44l.94 2.06.94-2.06 2.06-.94-2.06-.94-.94-2.06-.94 2.06-2.06.94zm-11 1L8.5 8.5l.94-2.06 2.06-.94-2.06-.94L8.5 2.5l-.94 2.06-2.06.94zm10 10l.94 2.06.94-2.06 2.06-.94-2.06-.94-.94-2.06-.94 2.06-2.06.94z\"/><path d=\"M17.41 7.96l-1.37-1.37c-.4-.4-.92-.59-1.43-.59-.52 0-1.04.2-1.43.59L10.3 9.45l-7.72 7.72c-.78.78-.78 2.05 0 2.83L4 21.41c.39.39.9.59 1.41.59.51 0 1.02-.2 1.41-.59l7.78-7.78 2.81-2.81c.8-.78.8-2.07 0-2.86zM5.41 20L4 18.59l7.72-7.72 1.47 1.35L5.41 20z\"/>\n",
              "  </svg>\n",
              "      </button>\n",
              "      \n",
              "  <style>\n",
              "    .colab-df-container {\n",
              "      display:flex;\n",
              "      flex-wrap:wrap;\n",
              "      gap: 12px;\n",
              "    }\n",
              "\n",
              "    .colab-df-convert {\n",
              "      background-color: #E8F0FE;\n",
              "      border: none;\n",
              "      border-radius: 50%;\n",
              "      cursor: pointer;\n",
              "      display: none;\n",
              "      fill: #1967D2;\n",
              "      height: 32px;\n",
              "      padding: 0 0 0 0;\n",
              "      width: 32px;\n",
              "    }\n",
              "\n",
              "    .colab-df-convert:hover {\n",
              "      background-color: #E2EBFA;\n",
              "      box-shadow: 0px 1px 2px rgba(60, 64, 67, 0.3), 0px 1px 3px 1px rgba(60, 64, 67, 0.15);\n",
              "      fill: #174EA6;\n",
              "    }\n",
              "\n",
              "    [theme=dark] .colab-df-convert {\n",
              "      background-color: #3B4455;\n",
              "      fill: #D2E3FC;\n",
              "    }\n",
              "\n",
              "    [theme=dark] .colab-df-convert:hover {\n",
              "      background-color: #434B5C;\n",
              "      box-shadow: 0px 1px 3px 1px rgba(0, 0, 0, 0.15);\n",
              "      filter: drop-shadow(0px 1px 2px rgba(0, 0, 0, 0.3));\n",
              "      fill: #FFFFFF;\n",
              "    }\n",
              "  </style>\n",
              "\n",
              "      <script>\n",
              "        const buttonEl =\n",
              "          document.querySelector('#df-7a6cd149-12bc-40b4-bafa-780571b33630 button.colab-df-convert');\n",
              "        buttonEl.style.display =\n",
              "          google.colab.kernel.accessAllowed ? 'block' : 'none';\n",
              "\n",
              "        async function convertToInteractive(key) {\n",
              "          const element = document.querySelector('#df-7a6cd149-12bc-40b4-bafa-780571b33630');\n",
              "          const dataTable =\n",
              "            await google.colab.kernel.invokeFunction('convertToInteractive',\n",
              "                                                     [key], {});\n",
              "          if (!dataTable) return;\n",
              "\n",
              "          const docLinkHtml = 'Like what you see? Visit the ' +\n",
              "            '<a target=\"_blank\" href=https://colab.research.google.com/notebooks/data_table.ipynb>data table notebook</a>'\n",
              "            + ' to learn more about interactive tables.';\n",
              "          element.innerHTML = '';\n",
              "          dataTable['output_type'] = 'display_data';\n",
              "          await google.colab.output.renderOutput(dataTable, element);\n",
              "          const docLink = document.createElement('div');\n",
              "          docLink.innerHTML = docLinkHtml;\n",
              "          element.appendChild(docLink);\n",
              "        }\n",
              "      </script>\n",
              "    </div>\n",
              "  </div>\n",
              "  "
            ],
            "text/plain": [
              "         id                                           document  label\n",
              "0   9976970                                아 더빙.. 진짜 짜증나네요 목소리      0\n",
              "1   3819312                  흠...포스터보고 초딩영화줄....오버연기조차 가볍지 않구나      1\n",
              "2  10265843                                  너무재밓었다그래서보는것을추천한다      0\n",
              "3   9045019                      교도소 이야기구먼 ..솔직히 재미는 없다..평점 조정      0\n",
              "4   6483659  사이몬페그의 익살스런 연기가 돋보였던 영화!스파이더맨에서 늙어보이기만 했던 커스틴 ...      1"
            ]
          },
          "metadata": {},
          "execution_count": 20
        }
      ],
      "source": [
        "train.head()"
      ]
    },
    {
      "cell_type": "code",
      "execution_count": null,
      "metadata": {
        "colab": {
          "base_uri": "https://localhost:8080/"
        },
        "id": "rkdayiNoJLr7",
        "outputId": "82037bf8-0b33-454b-afe2-51f90cc3c22d"
      },
      "outputs": [
        {
          "output_type": "execute_result",
          "data": {
            "text/plain": [
              "0    75173\n",
              "1    74827\n",
              "Name: label, dtype: int64"
            ]
          },
          "metadata": {},
          "execution_count": 21
        }
      ],
      "source": [
        "train['label'].value_counts()"
      ]
    },
    {
      "cell_type": "code",
      "execution_count": null,
      "metadata": {
        "colab": {
          "base_uri": "https://localhost:8080/"
        },
        "id": "6jFxnA5GJUHR",
        "outputId": "8b222549-df0a-4c9f-bede-dca3b00103b4"
      },
      "outputs": [
        {
          "output_type": "execute_result",
          "data": {
            "text/plain": [
              "id          0\n",
              "document    5\n",
              "label       0\n",
              "dtype: int64"
            ]
          },
          "metadata": {},
          "execution_count": 22
        }
      ],
      "source": [
        "train.isnull().sum()"
      ]
    },
    {
      "cell_type": "code",
      "execution_count": null,
      "metadata": {
        "colab": {
          "base_uri": "https://localhost:8080/",
          "height": 206
        },
        "id": "odGHPxrcJdPG",
        "outputId": "5b4aef21-e117-4aed-db5a-36828c9bfa69"
      },
      "outputs": [
        {
          "output_type": "execute_result",
          "data": {
            "text/html": [
              "\n",
              "  <div id=\"df-d3d7db71-20a8-4caf-b272-af877d3cd13b\">\n",
              "    <div class=\"colab-df-container\">\n",
              "      <div>\n",
              "<style scoped>\n",
              "    .dataframe tbody tr th:only-of-type {\n",
              "        vertical-align: middle;\n",
              "    }\n",
              "\n",
              "    .dataframe tbody tr th {\n",
              "        vertical-align: top;\n",
              "    }\n",
              "\n",
              "    .dataframe thead th {\n",
              "        text-align: right;\n",
              "    }\n",
              "</style>\n",
              "<table border=\"1\" class=\"dataframe\">\n",
              "  <thead>\n",
              "    <tr style=\"text-align: right;\">\n",
              "      <th></th>\n",
              "      <th>id</th>\n",
              "      <th>document</th>\n",
              "      <th>label</th>\n",
              "    </tr>\n",
              "  </thead>\n",
              "  <tbody>\n",
              "    <tr>\n",
              "      <th>25857</th>\n",
              "      <td>2172111</td>\n",
              "      <td>NaN</td>\n",
              "      <td>1</td>\n",
              "    </tr>\n",
              "    <tr>\n",
              "      <th>55737</th>\n",
              "      <td>6369843</td>\n",
              "      <td>NaN</td>\n",
              "      <td>1</td>\n",
              "    </tr>\n",
              "    <tr>\n",
              "      <th>110014</th>\n",
              "      <td>1034280</td>\n",
              "      <td>NaN</td>\n",
              "      <td>0</td>\n",
              "    </tr>\n",
              "    <tr>\n",
              "      <th>126782</th>\n",
              "      <td>5942978</td>\n",
              "      <td>NaN</td>\n",
              "      <td>0</td>\n",
              "    </tr>\n",
              "    <tr>\n",
              "      <th>140721</th>\n",
              "      <td>1034283</td>\n",
              "      <td>NaN</td>\n",
              "      <td>0</td>\n",
              "    </tr>\n",
              "  </tbody>\n",
              "</table>\n",
              "</div>\n",
              "      <button class=\"colab-df-convert\" onclick=\"convertToInteractive('df-d3d7db71-20a8-4caf-b272-af877d3cd13b')\"\n",
              "              title=\"Convert this dataframe to an interactive table.\"\n",
              "              style=\"display:none;\">\n",
              "        \n",
              "  <svg xmlns=\"http://www.w3.org/2000/svg\" height=\"24px\"viewBox=\"0 0 24 24\"\n",
              "       width=\"24px\">\n",
              "    <path d=\"M0 0h24v24H0V0z\" fill=\"none\"/>\n",
              "    <path d=\"M18.56 5.44l.94 2.06.94-2.06 2.06-.94-2.06-.94-.94-2.06-.94 2.06-2.06.94zm-11 1L8.5 8.5l.94-2.06 2.06-.94-2.06-.94L8.5 2.5l-.94 2.06-2.06.94zm10 10l.94 2.06.94-2.06 2.06-.94-2.06-.94-.94-2.06-.94 2.06-2.06.94z\"/><path d=\"M17.41 7.96l-1.37-1.37c-.4-.4-.92-.59-1.43-.59-.52 0-1.04.2-1.43.59L10.3 9.45l-7.72 7.72c-.78.78-.78 2.05 0 2.83L4 21.41c.39.39.9.59 1.41.59.51 0 1.02-.2 1.41-.59l7.78-7.78 2.81-2.81c.8-.78.8-2.07 0-2.86zM5.41 20L4 18.59l7.72-7.72 1.47 1.35L5.41 20z\"/>\n",
              "  </svg>\n",
              "      </button>\n",
              "      \n",
              "  <style>\n",
              "    .colab-df-container {\n",
              "      display:flex;\n",
              "      flex-wrap:wrap;\n",
              "      gap: 12px;\n",
              "    }\n",
              "\n",
              "    .colab-df-convert {\n",
              "      background-color: #E8F0FE;\n",
              "      border: none;\n",
              "      border-radius: 50%;\n",
              "      cursor: pointer;\n",
              "      display: none;\n",
              "      fill: #1967D2;\n",
              "      height: 32px;\n",
              "      padding: 0 0 0 0;\n",
              "      width: 32px;\n",
              "    }\n",
              "\n",
              "    .colab-df-convert:hover {\n",
              "      background-color: #E2EBFA;\n",
              "      box-shadow: 0px 1px 2px rgba(60, 64, 67, 0.3), 0px 1px 3px 1px rgba(60, 64, 67, 0.15);\n",
              "      fill: #174EA6;\n",
              "    }\n",
              "\n",
              "    [theme=dark] .colab-df-convert {\n",
              "      background-color: #3B4455;\n",
              "      fill: #D2E3FC;\n",
              "    }\n",
              "\n",
              "    [theme=dark] .colab-df-convert:hover {\n",
              "      background-color: #434B5C;\n",
              "      box-shadow: 0px 1px 3px 1px rgba(0, 0, 0, 0.15);\n",
              "      filter: drop-shadow(0px 1px 2px rgba(0, 0, 0, 0.3));\n",
              "      fill: #FFFFFF;\n",
              "    }\n",
              "  </style>\n",
              "\n",
              "      <script>\n",
              "        const buttonEl =\n",
              "          document.querySelector('#df-d3d7db71-20a8-4caf-b272-af877d3cd13b button.colab-df-convert');\n",
              "        buttonEl.style.display =\n",
              "          google.colab.kernel.accessAllowed ? 'block' : 'none';\n",
              "\n",
              "        async function convertToInteractive(key) {\n",
              "          const element = document.querySelector('#df-d3d7db71-20a8-4caf-b272-af877d3cd13b');\n",
              "          const dataTable =\n",
              "            await google.colab.kernel.invokeFunction('convertToInteractive',\n",
              "                                                     [key], {});\n",
              "          if (!dataTable) return;\n",
              "\n",
              "          const docLinkHtml = 'Like what you see? Visit the ' +\n",
              "            '<a target=\"_blank\" href=https://colab.research.google.com/notebooks/data_table.ipynb>data table notebook</a>'\n",
              "            + ' to learn more about interactive tables.';\n",
              "          element.innerHTML = '';\n",
              "          dataTable['output_type'] = 'display_data';\n",
              "          await google.colab.output.renderOutput(dataTable, element);\n",
              "          const docLink = document.createElement('div');\n",
              "          docLink.innerHTML = docLinkHtml;\n",
              "          element.appendChild(docLink);\n",
              "        }\n",
              "      </script>\n",
              "    </div>\n",
              "  </div>\n",
              "  "
            ],
            "text/plain": [
              "             id document  label\n",
              "25857   2172111      NaN      1\n",
              "55737   6369843      NaN      1\n",
              "110014  1034280      NaN      0\n",
              "126782  5942978      NaN      0\n",
              "140721  1034283      NaN      0"
            ]
          },
          "metadata": {},
          "execution_count": 23
        }
      ],
      "source": [
        "train[train['document'].isnull()]"
      ]
    },
    {
      "cell_type": "code",
      "execution_count": null,
      "metadata": {
        "colab": {
          "base_uri": "https://localhost:8080/",
          "height": 374
        },
        "id": "a68b0F8yKBKJ",
        "outputId": "536302a6-a7a3-406a-8088-99665a300234"
      },
      "outputs": [
        {
          "output_type": "execute_result",
          "data": {
            "text/plain": [
              "Text(0.5, 0.98, 'Number of characters')"
            ]
          },
          "metadata": {},
          "execution_count": 24
        },
        {
          "output_type": "display_data",
          "data": {
            "image/png": "[encoded data removed]",
            "text/plain": [
              "<Figure size 720x360 with 2 Axes>"
            ]
          },
          "metadata": {
            "needs_background": "light"
          }
        }
      ],
      "source": [
        "fig,(ax1, ax2) = plt.subplots(1, 2, figsize=(10,5))\n",
        "\n",
        "data_len=train[train['label']==1]['document'].str.len()\n",
        "ax1.hist(data_len)\n",
        "ax1.set_title('positive')\n",
        "\n",
        "data_len=train[train['label']==0]['document'].str.len()\n",
        "ax2.hist(data_len)\n",
        "ax2.set_title('negative')\n",
        "\n",
        "fig.suptitle('Number of characters')"
      ]
    },
    {
      "cell_type": "code",
      "execution_count": null,
      "metadata": {
        "id": "eZJQswkoSvir",
        "colab": {
          "base_uri": "https://localhost:8080/"
        },
        "outputId": "97a97a86-4b9e-44ab-dfa5-92023abdf5f7"
      },
      "outputs": [
        {
          "output_type": "stream",
          "name": "stdout",
          "text": [
            "--2022-03-07 16:12:26--  https://www.dropbox.com/s/9xls0tgtf3edgns/mecab-0.996-ko-0.9.2.tar.gz?dl=1\n",
            "Resolving www.dropbox.com (www.dropbox.com)... 162.125.85.18, 2620:100:6035:18::a27d:5512\n",
            "Connecting to www.dropbox.com (www.dropbox.com)|162.125.85.18|:443... connected.\n",
            "HTTP request sent, awaiting response... 301 Moved Permanently\n",
            "Location: /s/dl/9xls0tgtf3edgns/mecab-0.996-ko-0.9.2.tar.gz [following]\n",
            "--2022-03-07 16:12:26--  https://www.dropbox.com/s/dl/9xls0tgtf3edgns/mecab-0.996-ko-0.9.2.tar.gz\n",
            "Reusing existing connection to www.dropbox.com:443.\n",
            "HTTP request sent, awaiting response... 302 Found\n",
            "Location: https://ucb64c270263303cf910765e50f1.dl.dropboxusercontent.com/cd/0/get/BhAYWwz7EuYU6em0mVdgtBB8btYrRwNXgxVMZgx-W7hiOFB_Xwwsv1pssKe1_V7JWXBEB48q4w6d57EjVoKdh8Vl8UWIe-Tc6Rb2Q_bVM9OSHHtvFb92DoCsdGy8xlpEMe1Z0gsSiAZcRNQhC8vErrlS/file?dl=1# [following]\n",
            "--2022-03-07 16:12:27--  https://ucb64c270263303cf910765e50f1.dl.dropboxusercontent.com/cd/0/get/BhAYWwz7EuYU6em0mVdgtBB8btYrRwNXgxVMZgx-W7hiOFB_Xwwsv1pssKe1_V7JWXBEB48q4w6d57EjVoKdh8Vl8UWIe-Tc6Rb2Q_bVM9OSHHtvFb92DoCsdGy8xlpEMe1Z0gsSiAZcRNQhC8vErrlS/file?dl=1\n",
            "Resolving ucb64c270263303cf910765e50f1.dl.dropboxusercontent.com (ucb64c270263303cf910765e50f1.dl.dropboxusercontent.com)... 162.125.85.15, 2620:100:6035:15::a27d:550f\n",
            "Connecting to ucb64c270263303cf910765e50f1.dl.dropboxusercontent.com (ucb64c270263303cf910765e50f1.dl.dropboxusercontent.com)|162.125.85.15|:443... connected.\n",
            "HTTP request sent, awaiting response... 200 OK\n",
            "Length: 1414979 (1.3M) [application/binary]\n",
            "Saving to: ‘mecab-0.996-ko-0.9.2.tar.gz?dl=1.1’\n",
            "\n",
            "mecab-0.996-ko-0.9. 100%[===================>]   1.35M  4.53MB/s    in 0.3s    \n",
            "\n",
            "2022-03-07 16:12:27 (4.53 MB/s) - ‘mecab-0.996-ko-0.9.2.tar.gz?dl=1.1’ saved [1414979/1414979]\n",
            "\n",
            "mecab-0.996-ko-0.9.2/\n",
            "mecab-0.996-ko-0.9.2/example/\n",
            "mecab-0.996-ko-0.9.2/example/example.cpp\n",
            "mecab-0.996-ko-0.9.2/example/example_lattice.cpp\n",
            "mecab-0.996-ko-0.9.2/example/example_lattice.c\n",
            "mecab-0.996-ko-0.9.2/example/example.c\n",
            "mecab-0.996-ko-0.9.2/example/thread_test.cpp\n",
            "mecab-0.996-ko-0.9.2/mecab-config.in\n",
            "mecab-0.996-ko-0.9.2/man/\n",
            "mecab-0.996-ko-0.9.2/man/Makefile.am\n",
            "mecab-0.996-ko-0.9.2/man/mecab.1\n",
            "mecab-0.996-ko-0.9.2/man/Makefile.in\n",
            "mecab-0.996-ko-0.9.2/mecab.iss.in\n",
            "mecab-0.996-ko-0.9.2/config.guess\n",
            "mecab-0.996-ko-0.9.2/README\n",
            "mecab-0.996-ko-0.9.2/COPYING\n",
            "mecab-0.996-ko-0.9.2/CHANGES.md\n",
            "mecab-0.996-ko-0.9.2/README.md\n",
            "mecab-0.996-ko-0.9.2/INSTALL\n",
            "mecab-0.996-ko-0.9.2/config.sub\n",
            "mecab-0.996-ko-0.9.2/configure.in\n",
            "mecab-0.996-ko-0.9.2/swig/\n",
            "mecab-0.996-ko-0.9.2/swig/Makefile\n",
            "mecab-0.996-ko-0.9.2/swig/version.h.in\n",
            "mecab-0.996-ko-0.9.2/swig/version.h\n",
            "mecab-0.996-ko-0.9.2/swig/MeCab.i\n",
            "mecab-0.996-ko-0.9.2/aclocal.m4\n",
            "mecab-0.996-ko-0.9.2/LGPL\n",
            "mecab-0.996-ko-0.9.2/Makefile.am\n",
            "mecab-0.996-ko-0.9.2/configure\n",
            "mecab-0.996-ko-0.9.2/tests/\n",
            "mecab-0.996-ko-0.9.2/tests/autolink/\n",
            "mecab-0.996-ko-0.9.2/tests/autolink/unk.def\n",
            "mecab-0.996-ko-0.9.2/tests/autolink/dicrc\n",
            "mecab-0.996-ko-0.9.2/tests/autolink/dic.csv\n",
            "mecab-0.996-ko-0.9.2/tests/autolink/test\n",
            "mecab-0.996-ko-0.9.2/tests/autolink/char.def\n",
            "mecab-0.996-ko-0.9.2/tests/autolink/matrix.def\n",
            "mecab-0.996-ko-0.9.2/tests/autolink/test.gld\n",
            "mecab-0.996-ko-0.9.2/tests/t9/\n",
            "mecab-0.996-ko-0.9.2/tests/t9/unk.def\n",
            "mecab-0.996-ko-0.9.2/tests/t9/ipadic.pl\n",
            "mecab-0.996-ko-0.9.2/tests/t9/dicrc\n",
            "mecab-0.996-ko-0.9.2/tests/t9/dic.csv\n",
            "mecab-0.996-ko-0.9.2/tests/t9/test\n",
            "mecab-0.996-ko-0.9.2/tests/t9/char.def\n",
            "mecab-0.996-ko-0.9.2/tests/t9/matrix.def\n",
            "mecab-0.996-ko-0.9.2/tests/t9/mkdic.pl\n",
            "mecab-0.996-ko-0.9.2/tests/t9/test.gld\n",
            "mecab-0.996-ko-0.9.2/tests/cost-train/\n",
            "mecab-0.996-ko-0.9.2/tests/cost-train/ipa.train\n",
            "mecab-0.996-ko-0.9.2/tests/cost-train/ipa.test\n",
            "mecab-0.996-ko-0.9.2/tests/cost-train/seed/\n",
            "mecab-0.996-ko-0.9.2/tests/cost-train/seed/rewrite.def\n",
            "mecab-0.996-ko-0.9.2/tests/cost-train/seed/feature.def\n",
            "mecab-0.996-ko-0.9.2/tests/cost-train/seed/unk.def\n",
            "mecab-0.996-ko-0.9.2/tests/cost-train/seed/dicrc\n",
            "mecab-0.996-ko-0.9.2/tests/cost-train/seed/dic.csv\n",
            "mecab-0.996-ko-0.9.2/tests/cost-train/seed/char.def\n",
            "mecab-0.996-ko-0.9.2/tests/cost-train/seed/matrix.def\n",
            "mecab-0.996-ko-0.9.2/tests/run-eval.sh\n",
            "mecab-0.996-ko-0.9.2/tests/run-cost-train.sh\n",
            "mecab-0.996-ko-0.9.2/tests/Makefile.am\n",
            "mecab-0.996-ko-0.9.2/tests/katakana/\n",
            "mecab-0.996-ko-0.9.2/tests/katakana/unk.def\n",
            "mecab-0.996-ko-0.9.2/tests/katakana/dicrc\n",
            "mecab-0.996-ko-0.9.2/tests/katakana/dic.csv\n",
            "mecab-0.996-ko-0.9.2/tests/katakana/test\n",
            "mecab-0.996-ko-0.9.2/tests/katakana/char.def\n",
            "mecab-0.996-ko-0.9.2/tests/katakana/matrix.def\n",
            "mecab-0.996-ko-0.9.2/tests/katakana/test.gld\n",
            "mecab-0.996-ko-0.9.2/tests/eval/\n",
            "mecab-0.996-ko-0.9.2/tests/eval/answer\n",
            "mecab-0.996-ko-0.9.2/tests/eval/system\n",
            "mecab-0.996-ko-0.9.2/tests/eval/test.gld\n",
            "mecab-0.996-ko-0.9.2/tests/shiin/\n",
            "mecab-0.996-ko-0.9.2/tests/shiin/unk.def\n",
            "mecab-0.996-ko-0.9.2/tests/shiin/dicrc\n",
            "mecab-0.996-ko-0.9.2/tests/shiin/dic.csv\n",
            "mecab-0.996-ko-0.9.2/tests/shiin/test\n",
            "mecab-0.996-ko-0.9.2/tests/shiin/char.def\n",
            "mecab-0.996-ko-0.9.2/tests/shiin/matrix.def\n",
            "mecab-0.996-ko-0.9.2/tests/shiin/mkdic.pl\n",
            "mecab-0.996-ko-0.9.2/tests/shiin/test.gld\n",
            "mecab-0.996-ko-0.9.2/tests/latin/\n",
            "mecab-0.996-ko-0.9.2/tests/latin/unk.def\n",
            "mecab-0.996-ko-0.9.2/tests/latin/dicrc\n",
            "mecab-0.996-ko-0.9.2/tests/latin/dic.csv\n",
            "mecab-0.996-ko-0.9.2/tests/latin/test\n",
            "mecab-0.996-ko-0.9.2/tests/latin/char.def\n",
            "mecab-0.996-ko-0.9.2/tests/latin/matrix.def\n",
            "mecab-0.996-ko-0.9.2/tests/latin/test.gld\n",
            "mecab-0.996-ko-0.9.2/tests/chartype/\n",
            "mecab-0.996-ko-0.9.2/tests/chartype/unk.def\n",
            "mecab-0.996-ko-0.9.2/tests/chartype/dicrc\n",
            "mecab-0.996-ko-0.9.2/tests/chartype/dic.csv\n",
            "mecab-0.996-ko-0.9.2/tests/chartype/test\n",
            "mecab-0.996-ko-0.9.2/tests/chartype/char.def\n",
            "mecab-0.996-ko-0.9.2/tests/chartype/matrix.def\n",
            "mecab-0.996-ko-0.9.2/tests/chartype/test.gld\n",
            "mecab-0.996-ko-0.9.2/tests/run-dics.sh\n",
            "mecab-0.996-ko-0.9.2/tests/ngram/\n",
            "mecab-0.996-ko-0.9.2/tests/ngram/unk.def\n",
            "mecab-0.996-ko-0.9.2/tests/ngram/dicrc\n",
            "mecab-0.996-ko-0.9.2/tests/ngram/dic.csv\n",
            "mecab-0.996-ko-0.9.2/tests/ngram/test\n",
            "mecab-0.996-ko-0.9.2/tests/ngram/char.def\n",
            "mecab-0.996-ko-0.9.2/tests/ngram/matrix.def\n",
            "mecab-0.996-ko-0.9.2/tests/ngram/test.gld\n",
            "mecab-0.996-ko-0.9.2/tests/Makefile.in\n",
            "mecab-0.996-ko-0.9.2/ltmain.sh\n",
            "mecab-0.996-ko-0.9.2/config.rpath\n",
            "mecab-0.996-ko-0.9.2/config.h.in\n",
            "mecab-0.996-ko-0.9.2/mecabrc.in\n",
            "mecab-0.996-ko-0.9.2/GPL\n",
            "mecab-0.996-ko-0.9.2/Makefile.train\n",
            "mecab-0.996-ko-0.9.2/ChangeLog\n",
            "mecab-0.996-ko-0.9.2/install-sh\n",
            "mecab-0.996-ko-0.9.2/AUTHORS\n",
            "mecab-0.996-ko-0.9.2/doc/\n",
            "mecab-0.996-ko-0.9.2/doc/bindings.html\n",
            "mecab-0.996-ko-0.9.2/doc/posid.html\n",
            "mecab-0.996-ko-0.9.2/doc/unk.html\n",
            "mecab-0.996-ko-0.9.2/doc/learn.html\n",
            "mecab-0.996-ko-0.9.2/doc/format.html\n",
            "mecab-0.996-ko-0.9.2/doc/libmecab.html\n",
            "mecab-0.996-ko-0.9.2/doc/mecab.css\n",
            "mecab-0.996-ko-0.9.2/doc/feature.html\n",
            "mecab-0.996-ko-0.9.2/doc/Makefile.am\n",
            "mecab-0.996-ko-0.9.2/doc/soft.html\n",
            "mecab-0.996-ko-0.9.2/doc/en/\n",
            "mecab-0.996-ko-0.9.2/doc/en/bindings.html\n",
            "mecab-0.996-ko-0.9.2/doc/dic-detail.html\n",
            "mecab-0.996-ko-0.9.2/doc/flow.png\n",
            "mecab-0.996-ko-0.9.2/doc/mecab.html\n",
            "mecab-0.996-ko-0.9.2/doc/index.html\n",
            "mecab-0.996-ko-0.9.2/doc/result.png\n",
            "mecab-0.996-ko-0.9.2/doc/doxygen/\n",
            "mecab-0.996-ko-0.9.2/doc/doxygen/tab_a.png\n",
            "mecab-0.996-ko-0.9.2/doc/doxygen/globals_eval.html\n",
            "mecab-0.996-ko-0.9.2/doc/doxygen/classMeCab_1_1Tagger-members.html\n",
            "mecab-0.996-ko-0.9.2/doc/doxygen/functions_vars.html\n",
            "mecab-0.996-ko-0.9.2/doc/doxygen/doxygen.css\n",
            "mecab-0.996-ko-0.9.2/doc/doxygen/tab_r.gif\n",
            "mecab-0.996-ko-0.9.2/doc/doxygen/classMeCab_1_1Lattice.html\n",
            "mecab-0.996-ko-0.9.2/doc/doxygen/functions.html\n",
            "mecab-0.996-ko-0.9.2/doc/doxygen/classMeCab_1_1Tagger.html\n",
            "mecab-0.996-ko-0.9.2/doc/doxygen/mecab_8h_source.html\n",
            "mecab-0.996-ko-0.9.2/doc/doxygen/tabs.css\n",
            "mecab-0.996-ko-0.9.2/doc/doxygen/nav_f.png\n",
            "mecab-0.996-ko-0.9.2/doc/doxygen/tab_b.png\n",
            "mecab-0.996-ko-0.9.2/doc/doxygen/globals.html\n",
            "mecab-0.996-ko-0.9.2/doc/doxygen/nav_h.png\n",
            "mecab-0.996-ko-0.9.2/doc/doxygen/tab_h.png\n",
            "mecab-0.996-ko-0.9.2/doc/doxygen/classMeCab_1_1Model.html\n",
            "mecab-0.996-ko-0.9.2/doc/doxygen/globals_func.html\n",
            "mecab-0.996-ko-0.9.2/doc/doxygen/closed.png\n",
            "mecab-0.996-ko-0.9.2/doc/doxygen/tab_l.gif\n",
            "mecab-0.996-ko-0.9.2/doc/doxygen/structmecab__path__t-members.html\n",
            "mecab-0.996-ko-0.9.2/doc/doxygen/functions_func.html\n",
            "mecab-0.996-ko-0.9.2/doc/doxygen/globals_type.html\n",
            "mecab-0.996-ko-0.9.2/doc/doxygen/classMeCab_1_1Lattice-members.html\n",
            "mecab-0.996-ko-0.9.2/doc/doxygen/structmecab__node__t.html\n",
            "mecab-0.996-ko-0.9.2/doc/doxygen/namespacemembers_func.html\n",
            "mecab-0.996-ko-0.9.2/doc/doxygen/tab_s.png\n",
            "mecab-0.996-ko-0.9.2/doc/doxygen/structmecab__dictionary__info__t-members.html\n",
            "mecab-0.996-ko-0.9.2/doc/doxygen/namespacemembers_type.html\n",
            "mecab-0.996-ko-0.9.2/doc/doxygen/classMeCab_1_1Model-members.html\n",
            "mecab-0.996-ko-0.9.2/doc/doxygen/structmecab__dictionary__info__t.html\n",
            "mecab-0.996-ko-0.9.2/doc/doxygen/namespaces.html\n",
            "mecab-0.996-ko-0.9.2/doc/doxygen/namespacemembers.html\n",
            "mecab-0.996-ko-0.9.2/doc/doxygen/namespaceMeCab.html\n",
            "mecab-0.996-ko-0.9.2/doc/doxygen/structmecab__path__t.html\n",
            "mecab-0.996-ko-0.9.2/doc/doxygen/files.html\n",
            "mecab-0.996-ko-0.9.2/doc/doxygen/structmecab__node__t-members.html\n",
            "mecab-0.996-ko-0.9.2/doc/doxygen/index.html\n",
            "mecab-0.996-ko-0.9.2/doc/doxygen/annotated.html\n",
            "mecab-0.996-ko-0.9.2/doc/doxygen/globals_defs.html\n",
            "mecab-0.996-ko-0.9.2/doc/doxygen/classes.html\n",
            "mecab-0.996-ko-0.9.2/doc/doxygen/mecab_8h-source.html\n",
            "mecab-0.996-ko-0.9.2/doc/doxygen/doxygen.png\n",
            "mecab-0.996-ko-0.9.2/doc/doxygen/tab_b.gif\n",
            "mecab-0.996-ko-0.9.2/doc/doxygen/bc_s.png\n",
            "mecab-0.996-ko-0.9.2/doc/doxygen/open.png\n",
            "mecab-0.996-ko-0.9.2/doc/doxygen/mecab_8h.html\n",
            "mecab-0.996-ko-0.9.2/doc/dic.html\n",
            "mecab-0.996-ko-0.9.2/doc/partial.html\n",
            "mecab-0.996-ko-0.9.2/doc/feature.png\n",
            "mecab-0.996-ko-0.9.2/doc/Makefile.in\n",
            "mecab-0.996-ko-0.9.2/missing\n",
            "mecab-0.996-ko-0.9.2/BSD\n",
            "mecab-0.996-ko-0.9.2/NEWS\n",
            "mecab-0.996-ko-0.9.2/mkinstalldirs\n",
            "mecab-0.996-ko-0.9.2/src/\n",
            "mecab-0.996-ko-0.9.2/src/dictionary.h\n",
            "mecab-0.996-ko-0.9.2/src/writer.h\n",
            "mecab-0.996-ko-0.9.2/src/utils.h\n",
            "mecab-0.996-ko-0.9.2/src/string_buffer.cpp\n",
            "mecab-0.996-ko-0.9.2/src/tokenizer.cpp\n",
            "mecab-0.996-ko-0.9.2/src/make.bat\n",
            "mecab-0.996-ko-0.9.2/src/mecab.h\n",
            "mecab-0.996-ko-0.9.2/src/freelist.h\n",
            "mecab-0.996-ko-0.9.2/src/string_buffer.h\n",
            "mecab-0.996-ko-0.9.2/src/learner_tagger.h\n",
            "mecab-0.996-ko-0.9.2/src/dictionary_compiler.cpp\n",
            "mecab-0.996-ko-0.9.2/src/eval.cpp\n",
            "mecab-0.996-ko-0.9.2/src/mecab-system-eval.cpp\n",
            "mecab-0.996-ko-0.9.2/src/darts.h\n",
            "mecab-0.996-ko-0.9.2/src/param.h\n",
            "mecab-0.996-ko-0.9.2/src/char_property.h\n",
            "mecab-0.996-ko-0.9.2/src/learner_node.h\n",
            "mecab-0.996-ko-0.9.2/src/mecab-dict-gen.cpp\n",
            "mecab-0.996-ko-0.9.2/src/mecab-dict-index.cpp\n",
            "mecab-0.996-ko-0.9.2/src/winmain.h\n",
            "mecab-0.996-ko-0.9.2/src/thread.h\n",
            "mecab-0.996-ko-0.9.2/src/context_id.cpp\n",
            "mecab-0.996-ko-0.9.2/src/Makefile.am\n",
            "mecab-0.996-ko-0.9.2/src/connector.h\n",
            "mecab-0.996-ko-0.9.2/src/common.h\n",
            "mecab-0.996-ko-0.9.2/src/dictionary_rewriter.cpp\n",
            "mecab-0.996-ko-0.9.2/src/Makefile.msvc.in\n",
            "mecab-0.996-ko-0.9.2/src/dictionary_rewriter.h\n",
            "mecab-0.996-ko-0.9.2/src/feature_index.h\n",
            "mecab-0.996-ko-0.9.2/src/iconv_utils.cpp\n",
            "mecab-0.996-ko-0.9.2/src/char_property.cpp\n",
            "mecab-0.996-ko-0.9.2/src/mecab-test-gen.cpp\n",
            "mecab-0.996-ko-0.9.2/src/tagger.cpp\n",
            "mecab-0.996-ko-0.9.2/src/mecab-cost-train.cpp\n",
            "mecab-0.996-ko-0.9.2/src/learner.cpp\n",
            "mecab-0.996-ko-0.9.2/src/dictionary.cpp\n",
            "mecab-0.996-ko-0.9.2/src/lbfgs.cpp\n",
            "mecab-0.996-ko-0.9.2/src/ucs.h\n",
            "mecab-0.996-ko-0.9.2/src/writer.cpp\n",
            "mecab-0.996-ko-0.9.2/src/learner_tagger.cpp\n",
            "mecab-0.996-ko-0.9.2/src/lbfgs.h\n",
            "mecab-0.996-ko-0.9.2/src/libmecab.cpp\n",
            "mecab-0.996-ko-0.9.2/src/tokenizer.h\n",
            "mecab-0.996-ko-0.9.2/src/mecab.cpp\n",
            "mecab-0.996-ko-0.9.2/src/utils.cpp\n",
            "mecab-0.996-ko-0.9.2/src/dictionary_generator.cpp\n",
            "mecab-0.996-ko-0.9.2/src/param.cpp\n",
            "mecab-0.996-ko-0.9.2/src/context_id.h\n",
            "mecab-0.996-ko-0.9.2/src/mmap.h\n",
            "mecab-0.996-ko-0.9.2/src/viterbi.h\n",
            "mecab-0.996-ko-0.9.2/src/viterbi.cpp\n",
            "mecab-0.996-ko-0.9.2/src/stream_wrapper.h\n",
            "mecab-0.996-ko-0.9.2/src/feature_index.cpp\n",
            "mecab-0.996-ko-0.9.2/src/nbest_generator.h\n",
            "mecab-0.996-ko-0.9.2/src/ucstable.h\n",
            "mecab-0.996-ko-0.9.2/src/nbest_generator.cpp\n",
            "mecab-0.996-ko-0.9.2/src/iconv_utils.h\n",
            "mecab-0.996-ko-0.9.2/src/connector.cpp\n",
            "mecab-0.996-ko-0.9.2/src/Makefile.in\n",
            "mecab-0.996-ko-0.9.2/src/scoped_ptr.h\n",
            "mecab-0.996-ko-0.9.2/Makefile.in\n",
            "checking for a BSD-compatible install... /usr/bin/install -c\n",
            "checking whether build environment is sane... yes\n",
            "checking for a thread-safe mkdir -p... /bin/mkdir -p\n",
            "checking for gawk... no\n",
            "checking for mawk... mawk\n",
            "checking whether make sets $(MAKE)... yes\n",
            "checking for gcc... gcc\n",
            "checking whether the C compiler works... yes\n",
            "checking for C compiler default output file name... a.out\n",
            "checking for suffix of executables... \n",
            "checking whether we are cross compiling... no\n",
            "checking for suffix of object files... o\n",
            "checking whether we are using the GNU C compiler... yes\n",
            "checking whether gcc accepts -g... yes\n",
            "checking for gcc option to accept ISO C89... none needed\n",
            "checking for style of include used by make... GNU\n",
            "checking dependency style of gcc... none\n",
            "checking for g++... g++\n",
            "checking whether we are using the GNU C++ compiler... yes\n",
            "checking whether g++ accepts -g... yes\n",
            "checking dependency style of g++... none\n",
            "checking how to run the C preprocessor... gcc -E\n",
            "checking for grep that handles long lines and -e... /bin/grep\n",
            "checking for egrep... /bin/grep -E\n",
            "checking whether gcc needs -traditional... no\n",
            "checking whether make sets $(MAKE)... (cached) yes\n",
            "checking build system type... x86_64-unknown-linux-gnu\n",
            "checking host system type... x86_64-unknown-linux-gnu\n",
            "checking how to print strings... printf\n",
            "checking for a sed that does not truncate output... /bin/sed\n",
            "checking for fgrep... /bin/grep -F\n",
            "checking for ld used by gcc... /usr/bin/ld\n",
            "checking if the linker (/usr/bin/ld) is GNU ld... yes\n",
            "checking for BSD- or MS-compatible name lister (nm)... /usr/bin/nm -B\n",
            "checking the name lister (/usr/bin/nm -B) interface... BSD nm\n",
            "checking whether ln -s works... yes\n",
            "checking the maximum length of command line arguments... 1572864\n",
            "checking whether the shell understands some XSI constructs... yes\n",
            "checking whether the shell understands \"+=\"... yes\n",
            "checking how to convert x86_64-unknown-linux-gnu file names to x86_64-unknown-linux-gnu format... func_convert_file_noop\n",
            "checking how to convert x86_64-unknown-linux-gnu file names to toolchain format... func_convert_file_noop\n",
            "checking for /usr/bin/ld option to reload object files... -r\n",
            "checking for objdump... objdump\n",
            "checking how to recognize dependent libraries... pass_all\n",
            "checking for dlltool... dlltool\n",
            "checking how to associate runtime and link libraries... printf %s\\n\n",
            "checking for ar... ar\n",
            "checking for archiver @FILE support... @\n",
            "checking for strip... strip\n",
            "checking for ranlib... ranlib\n",
            "checking command to parse /usr/bin/nm -B output from gcc object... ok\n",
            "checking for sysroot... no\n",
            "./configure: line 7378: /usr/bin/file: No such file or directory\n",
            "checking for mt... no\n",
            "checking if : is a manifest tool... no\n",
            "checking for ANSI C header files... yes\n",
            "checking for sys/types.h... yes\n",
            "checking for sys/stat.h... yes\n",
            "checking for stdlib.h... yes\n",
            "checking for string.h... yes\n",
            "checking for memory.h... yes\n",
            "checking for strings.h... yes\n",
            "checking for inttypes.h... yes\n",
            "checking for stdint.h... yes\n",
            "checking for unistd.h... yes\n",
            "checking for dlfcn.h... yes\n",
            "checking for objdir... .libs\n",
            "checking if gcc supports -fno-rtti -fno-exceptions... no\n",
            "checking for gcc option to produce PIC... -fPIC -DPIC\n",
            "checking if gcc PIC flag -fPIC -DPIC works... yes\n",
            "checking if gcc static flag -static works... yes\n",
            "checking if gcc supports -c -o file.o... yes\n",
            "checking if gcc supports -c -o file.o... (cached) yes\n",
            "checking whether the gcc linker (/usr/bin/ld) supports shared libraries... yes\n",
            "checking whether -lc should be explicitly linked in... no\n",
            "checking dynamic linker characteristics... GNU/Linux ld.so\n",
            "checking how to hardcode library paths into programs... immediate\n",
            "checking whether stripping libraries is possible... yes\n",
            "checking if libtool supports shared libraries... yes\n",
            "checking whether to build shared libraries... yes\n",
            "checking whether to build static libraries... yes\n",
            "checking how to run the C++ preprocessor... g++ -E\n",
            "checking for ld used by g++... /usr/bin/ld\n",
            "checking if the linker (/usr/bin/ld) is GNU ld... yes\n",
            "checking whether the g++ linker (/usr/bin/ld) supports shared libraries... yes\n",
            "checking for g++ option to produce PIC... -fPIC -DPIC\n",
            "checking if g++ PIC flag -fPIC -DPIC works... yes\n",
            "checking if g++ static flag -static works... yes\n",
            "checking if g++ supports -c -o file.o... yes\n",
            "checking if g++ supports -c -o file.o... (cached) yes\n",
            "checking whether the g++ linker (/usr/bin/ld) supports shared libraries... yes\n",
            "checking dynamic linker characteristics... (cached) GNU/Linux ld.so\n",
            "checking how to hardcode library paths into programs... immediate\n",
            "checking for library containing strerror... none required\n",
            "checking whether byte ordering is bigendian... no\n",
            "checking for ld used by GCC... /usr/bin/ld\n",
            "checking if the linker (/usr/bin/ld) is GNU ld... yes\n",
            "checking for shared library run path origin... done\n",
            "checking for iconv... yes\n",
            "checking for working iconv... yes\n",
            "checking for iconv declaration... \n",
            "         extern size_t iconv (iconv_t cd, char * *inbuf, size_t *inbytesleft, char * *outbuf, size_t *outbytesleft);\n",
            "checking for ANSI C header files... (cached) yes\n",
            "checking for an ANSI C-conforming const... yes\n",
            "checking whether byte ordering is bigendian... (cached) no\n",
            "checking for string.h... (cached) yes\n",
            "checking for stdlib.h... (cached) yes\n",
            "checking for unistd.h... (cached) yes\n",
            "checking fcntl.h usability... yes\n",
            "checking fcntl.h presence... yes\n",
            "checking for fcntl.h... yes\n",
            "checking for stdint.h... (cached) yes\n",
            "checking for sys/stat.h... (cached) yes\n",
            "checking sys/mman.h usability... yes\n",
            "checking sys/mman.h presence... yes\n",
            "checking for sys/mman.h... yes\n",
            "checking sys/times.h usability... yes\n",
            "checking sys/times.h presence... yes\n",
            "checking for sys/times.h... yes\n",
            "checking for sys/types.h... (cached) yes\n",
            "checking dirent.h usability... yes\n",
            "checking dirent.h presence... yes\n",
            "checking for dirent.h... yes\n",
            "checking ctype.h usability... yes\n",
            "checking ctype.h presence... yes\n",
            "checking for ctype.h... yes\n",
            "checking for sys/types.h... (cached) yes\n",
            "checking io.h usability... no\n",
            "checking io.h presence... no\n",
            "checking for io.h... no\n",
            "checking windows.h usability... no\n",
            "checking windows.h presence... no\n",
            "checking for windows.h... no\n",
            "checking pthread.h usability... yes\n",
            "checking pthread.h presence... yes\n",
            "checking for pthread.h... yes\n",
            "checking for off_t... yes\n",
            "checking for size_t... yes\n",
            "checking size of char... 1\n",
            "checking size of short... 2\n",
            "checking size of int... 4\n",
            "checking size of long... 8\n",
            "checking size of long long... 8\n",
            "checking size of size_t... 8\n",
            "checking for size_t... (cached) yes\n",
            "checking for unsigned long long int... yes\n",
            "checking for stdlib.h... (cached) yes\n",
            "checking for unistd.h... (cached) yes\n",
            "checking for sys/param.h... yes\n",
            "checking for getpagesize... yes\n",
            "checking for working mmap... yes\n",
            "checking for main in -lstdc++... yes\n",
            "checking for pthread_create in -lpthread... yes\n",
            "checking for pthread_join in -lpthread... yes\n",
            "checking for getenv... yes\n",
            "checking for opendir... yes\n",
            "checking whether make is GNU Make... yes\n",
            "checking if g++ supports stl <vector> (required)... yes\n",
            "checking if g++ supports stl <list> (required)... yes\n",
            "checking if g++ supports stl <map> (required)... yes\n",
            "checking if g++ supports stl <set> (required)... yes\n",
            "checking if g++ supports stl <queue> (required)... yes\n",
            "checking if g++ supports stl <functional> (required)... yes\n",
            "checking if g++ supports stl <algorithm> (required)... yes\n",
            "checking if g++ supports stl <string> (required)... yes\n",
            "checking if g++ supports stl <iostream> (required)... yes\n",
            "checking if g++ supports stl <sstream> (required)... yes\n",
            "checking if g++ supports stl <fstream> (required)... yes\n",
            "checking if g++ supports template <class T> (required)... yes\n",
            "checking if g++ supports const_cast<> (required)... yes\n",
            "checking if g++ supports static_cast<> (required)... yes\n",
            "checking if g++ supports reinterpret_cast<> (required)... yes\n",
            "checking if g++ supports namespaces (required) ... yes\n",
            "checking if g++ supports __thread (optional)... yes\n",
            "checking if g++ supports template <class T> (required)... yes\n",
            "checking if g++ supports GCC native atomic operations (optional)... yes\n",
            "checking if g++ supports OSX native atomic operations (optional)... no\n",
            "checking if g++ environment provides all required features... yes\n",
            "configure: creating ./config.status\n",
            "config.status: creating Makefile\n",
            "config.status: creating src/Makefile\n",
            "config.status: creating src/Makefile.msvc\n",
            "config.status: creating man/Makefile\n",
            "config.status: creating doc/Makefile\n",
            "config.status: creating tests/Makefile\n",
            "config.status: creating swig/version.h\n",
            "config.status: creating mecab.iss\n",
            "config.status: creating mecab-config\n",
            "config.status: creating mecabrc\n",
            "config.status: creating config.h\n",
            "config.status: config.h is unchanged\n",
            "config.status: executing depfiles commands\n",
            "config.status: executing libtool commands\n",
            "config.status: executing default commands\n",
            "make  all-recursive\n",
            "make[1]: Entering directory '/tmp/mecab-0.996-ko-0.9.2'\n",
            "Making all in src\n",
            "make[2]: Entering directory '/tmp/mecab-0.996-ko-0.9.2/src'\n",
            "make[2]: Nothing to be done for 'all'.\n",
            "make[2]: Leaving directory '/tmp/mecab-0.996-ko-0.9.2/src'\n",
            "Making all in man\n",
            "make[2]: Entering directory '/tmp/mecab-0.996-ko-0.9.2/man'\n",
            "make[2]: Nothing to be done for 'all'.\n",
            "make[2]: Leaving directory '/tmp/mecab-0.996-ko-0.9.2/man'\n",
            "Making all in doc\n",
            "make[2]: Entering directory '/tmp/mecab-0.996-ko-0.9.2/doc'\n",
            "make[2]: Nothing to be done for 'all'.\n",
            "make[2]: Leaving directory '/tmp/mecab-0.996-ko-0.9.2/doc'\n",
            "Making all in tests\n",
            "make[2]: Entering directory '/tmp/mecab-0.996-ko-0.9.2/tests'\n",
            "make[2]: Nothing to be done for 'all'.\n",
            "make[2]: Leaving directory '/tmp/mecab-0.996-ko-0.9.2/tests'\n",
            "make[2]: Entering directory '/tmp/mecab-0.996-ko-0.9.2'\n",
            "make[2]: Leaving directory '/tmp/mecab-0.996-ko-0.9.2'\n",
            "make[1]: Leaving directory '/tmp/mecab-0.996-ko-0.9.2'\n",
            "Making check in src\n",
            "make[1]: Entering directory '/tmp/mecab-0.996-ko-0.9.2/src'\n",
            "make[1]: Nothing to be done for 'check'.\n",
            "make[1]: Leaving directory '/tmp/mecab-0.996-ko-0.9.2/src'\n",
            "Making check in man\n",
            "make[1]: Entering directory '/tmp/mecab-0.996-ko-0.9.2/man'\n",
            "make[1]: Nothing to be done for 'check'.\n",
            "make[1]: Leaving directory '/tmp/mecab-0.996-ko-0.9.2/man'\n",
            "Making check in doc\n",
            "make[1]: Entering directory '/tmp/mecab-0.996-ko-0.9.2/doc'\n",
            "make[1]: Nothing to be done for 'check'.\n",
            "make[1]: Leaving directory '/tmp/mecab-0.996-ko-0.9.2/doc'\n",
            "Making check in tests\n",
            "make[1]: Entering directory '/tmp/mecab-0.996-ko-0.9.2/tests'\n",
            "make  check-TESTS\n",
            "make[2]: Entering directory '/tmp/mecab-0.996-ko-0.9.2/tests'\n",
            "./pos-id.def is not found. minimum setting is used\n",
            "reading ./unk.def ... 2\n",
            "emitting double-array: 100% |###########################################| \n",
            "./model.def is not found. skipped.\n",
            "./pos-id.def is not found. minimum setting is used\n",
            "reading ./dic.csv ... 177\n",
            "emitting double-array: 100% |###########################################| \n",
            "reading ./matrix.def ... 178x178\n",
            "emitting matrix      : 100% |###########################################| \n",
            "\n",
            "done!\n",
            "./pos-id.def is not found. minimum setting is used\n",
            "reading ./unk.def ... 2\n",
            "emitting double-array: 100% |###########################################| \n",
            "./model.def is not found. skipped.\n",
            "./pos-id.def is not found. minimum setting is used\n",
            "reading ./dic.csv ... 83\n",
            "emitting double-array: 100% |###########################################| \n",
            "reading ./matrix.def ... 84x84\n",
            "emitting matrix      : 100% |###########################################| \n",
            "\n",
            "done!\n",
            "./pos-id.def is not found. minimum setting is used\n",
            "reading ./unk.def ... 2\n",
            "emitting double-array: 100% |###########################################| \n",
            "./model.def is not found. skipped.\n",
            "./pos-id.def is not found. minimum setting is used\n",
            "reading ./dic.csv ... 450\n",
            "emitting double-array: 100% |###########################################| \n",
            "reading ./matrix.def ... 1x1\n",
            "\n",
            "done!\n",
            "./pos-id.def is not found. minimum setting is used\n",
            "reading ./unk.def ... 2\n",
            "emitting double-array: 100% |###########################################| \n",
            "./model.def is not found. skipped.\n",
            "./pos-id.def is not found. minimum setting is used\n",
            "reading ./dic.csv ... 162\n",
            "emitting double-array: 100% |###########################################| \n",
            "reading ./matrix.def ... 3x3\n",
            "emitting matrix      : 100% |###########################################| \n",
            "\n",
            "done!\n",
            "./pos-id.def is not found. minimum setting is used\n",
            "reading ./unk.def ... 2\n",
            "emitting double-array: 100% |###########################################| \n",
            "./model.def is not found. skipped.\n",
            "./pos-id.def is not found. minimum setting is used\n",
            "reading ./dic.csv ... 4\n",
            "emitting double-array: 100% |###########################################| \n",
            "reading ./matrix.def ... 1x1\n",
            "\n",
            "done!\n",
            "./pos-id.def is not found. minimum setting is used\n",
            "reading ./unk.def ... 11\n",
            "emitting double-array: 100% |###########################################| \n",
            "./model.def is not found. skipped.\n",
            "./pos-id.def is not found. minimum setting is used\n",
            "reading ./dic.csv ... 1\n",
            "reading ./matrix.def ... 1x1\n",
            "\n",
            "done!\n",
            "./pos-id.def is not found. minimum setting is used\n",
            "reading ./unk.def ... 2\n",
            "emitting double-array: 100% |###########################################| \n",
            "./model.def is not found. skipped.\n",
            "./pos-id.def is not found. minimum setting is used\n",
            "reading ./dic.csv ... 1\n",
            "reading ./matrix.def ... 1x1\n",
            "\n",
            "done!\n",
            "PASS: run-dics.sh\n",
            "PASS: run-eval.sh\n",
            "seed/pos-id.def is not found. minimum setting is used\n",
            "reading seed/unk.def ... 40\n",
            "emitting double-array: 100% |###########################################| \n",
            "seed/model.def is not found. skipped.\n",
            "seed/pos-id.def is not found. minimum setting is used\n",
            "reading seed/dic.csv ... 4335\n",
            "emitting double-array: 100% |###########################################| \n",
            "reading seed/matrix.def ... 1x1\n",
            "\n",
            "done!\n",
            "reading corpus ...\n",
            "Number of sentences: 34\n",
            "Number of features:  64108\n",
            "eta:                 0.00005\n",
            "freq:                1\n",
            "eval-size:           6\n",
            "unk-eval-size:       4\n",
            "threads:             1\n",
            "charset:             EUC-JP\n",
            "C(sigma^2):          1.00000\n",
            "\n",
            "iter=0 err=1.00000 F=0.35771 target=2406.28355 diff=1.00000\n",
            "iter=1 err=0.97059 F=0.65652 target=1484.25231 diff=0.38318\n",
            "iter=2 err=0.91176 F=0.79331 target=863.32765 diff=0.41834\n",
            "iter=3 err=0.85294 F=0.89213 target=596.72480 diff=0.30881\n",
            "iter=4 err=0.61765 F=0.95467 target=336.30744 diff=0.43641\n",
            "iter=5 err=0.50000 F=0.96702 target=246.53039 diff=0.26695\n",
            "iter=6 err=0.35294 F=0.95472 target=188.93963 diff=0.23361\n",
            "iter=7 err=0.20588 F=0.99106 target=168.62665 diff=0.10751\n",
            "iter=8 err=0.05882 F=0.99777 target=158.64865 diff=0.05917\n",
            "iter=9 err=0.08824 F=0.99665 target=154.14530 diff=0.02839\n",
            "iter=10 err=0.08824 F=0.99665 target=151.94257 diff=0.01429\n",
            "iter=11 err=0.02941 F=0.99888 target=147.20825 diff=0.03116\n",
            "iter=12 err=0.00000 F=1.00000 target=147.34956 diff=0.00096\n",
            "iter=13 err=0.02941 F=0.99888 target=146.32592 diff=0.00695\n",
            "iter=14 err=0.00000 F=1.00000 target=145.77299 diff=0.00378\n",
            "iter=15 err=0.02941 F=0.99888 target=145.24641 diff=0.00361\n",
            "iter=16 err=0.00000 F=1.00000 target=144.96490 diff=0.00194\n",
            "iter=17 err=0.02941 F=0.99888 target=144.90246 diff=0.00043\n",
            "iter=18 err=0.00000 F=1.00000 target=144.75959 diff=0.00099\n",
            "iter=19 err=0.00000 F=1.00000 target=144.71727 diff=0.00029\n",
            "iter=20 err=0.00000 F=1.00000 target=144.66337 diff=0.00037\n",
            "iter=21 err=0.00000 F=1.00000 target=144.61349 diff=0.00034\n",
            "iter=22 err=0.00000 F=1.00000 target=144.62987 diff=0.00011\n",
            "iter=23 err=0.00000 F=1.00000 target=144.60060 diff=0.00020\n",
            "iter=24 err=0.00000 F=1.00000 target=144.59125 diff=0.00006\n",
            "iter=25 err=0.00000 F=1.00000 target=144.58619 diff=0.00004\n",
            "iter=26 err=0.00000 F=1.00000 target=144.58219 diff=0.00003\n",
            "iter=27 err=0.00000 F=1.00000 target=144.58059 diff=0.00001\n",
            "\n",
            "Done! writing model file ... \n",
            "model-ipadic.c1.0.f1.model is not a binary model. reopen it as text mode...\n",
            "reading seed/unk.def ... 40\n",
            "reading seed/dic.csv ... 4335\n",
            "emitting model-ipadic.c1.0.f1.dic/left-id.def/ model-ipadic.c1.0.f1.dic/right-id.def\n",
            "emitting model-ipadic.c1.0.f1.dic/unk.def ... 40\n",
            "emitting model-ipadic.c1.0.f1.dic/dic.csv ... 4335\n",
            "emitting matrix      : 100% |###########################################| \n",
            "copying seed/char.def to model-ipadic.c1.0.f1.dic/char.def\n",
            "copying seed/rewrite.def to model-ipadic.c1.0.f1.dic/rewrite.def\n",
            "copying seed/dicrc to model-ipadic.c1.0.f1.dic/dicrc\n",
            "copying seed/feature.def to model-ipadic.c1.0.f1.dic/feature.def\n",
            "copying model-ipadic.c1.0.f1.model to model-ipadic.c1.0.f1.dic/model.def\n",
            "\n",
            "done!\n",
            "model-ipadic.c1.0.f1.dic/pos-id.def is not found. minimum setting is used\n",
            "reading model-ipadic.c1.0.f1.dic/unk.def ... 40\n",
            "emitting double-array: 100% |###########################################| \n",
            "model-ipadic.c1.0.f1.dic/pos-id.def is not found. minimum setting is used\n",
            "reading model-ipadic.c1.0.f1.dic/dic.csv ... 4335\n",
            "emitting double-array: 100% |###########################################| \n",
            "reading model-ipadic.c1.0.f1.dic/matrix.def ... 346x346\n",
            "emitting matrix      : 100% |###########################################| \n",
            "\n",
            "done!\n",
            "              precision          recall         F\n",
            "LEVEL 0:    12.8959(57/442) 11.8998(57/479) 12.3779\n",
            "LEVEL 1:    12.2172(54/442) 11.2735(54/479) 11.7264\n",
            "LEVEL 2:    11.7647(52/442) 10.8559(52/479) 11.2921\n",
            "LEVEL 4:    11.7647(52/442) 10.8559(52/479) 11.2921\n",
            "PASS: run-cost-train.sh\n",
            "==================\n",
            "All 3 tests passed\n",
            "==================\n",
            "make[2]: Leaving directory '/tmp/mecab-0.996-ko-0.9.2/tests'\n",
            "make[1]: Leaving directory '/tmp/mecab-0.996-ko-0.9.2/tests'\n",
            "make[1]: Entering directory '/tmp/mecab-0.996-ko-0.9.2'\n",
            "make[1]: Leaving directory '/tmp/mecab-0.996-ko-0.9.2'\n",
            "Making install in src\n",
            "make[1]: Entering directory '/tmp/mecab-0.996-ko-0.9.2/src'\n",
            "make[2]: Entering directory '/tmp/mecab-0.996-ko-0.9.2/src'\n",
            "test -z \"/usr/local/lib\" || /bin/mkdir -p \"/usr/local/lib\"\n",
            " /bin/bash ../libtool   --mode=install /usr/bin/install -c   libmecab.la '/usr/local/lib'\n",
            "libtool: install: /usr/bin/install -c .libs/libmecab.so.2.0.0 /usr/local/lib/libmecab.so.2.0.0\n",
            "libtool: install: (cd /usr/local/lib && { ln -s -f libmecab.so.2.0.0 libmecab.so.2 || { rm -f libmecab.so.2 && ln -s libmecab.so.2.0.0 libmecab.so.2; }; })\n",
            "libtool: install: (cd /usr/local/lib && { ln -s -f libmecab.so.2.0.0 libmecab.so || { rm -f libmecab.so && ln -s libmecab.so.2.0.0 libmecab.so; }; })\n",
            "libtool: install: /usr/bin/install -c .libs/libmecab.lai /usr/local/lib/libmecab.la\n",
            "libtool: install: /usr/bin/install -c .libs/libmecab.a /usr/local/lib/libmecab.a\n",
            "libtool: install: chmod 644 /usr/local/lib/libmecab.a\n",
            "libtool: install: ranlib /usr/local/lib/libmecab.a\n",
            "libtool: finish: PATH=\"/opt/bin:/usr/local/nvidia/bin:/usr/local/cuda/bin:/usr/local/sbin:/usr/local/bin:/usr/sbin:/usr/bin:/sbin:/bin:/tools/node/bin:/tools/google-cloud-sdk/bin:/sbin\" ldconfig -n /usr/local/lib\n",
            "----------------------------------------------------------------------\n",
            "Libraries have been installed in:\n",
            "   /usr/local/lib\n",
            "\n",
            "If you ever happen to want to link against installed libraries\n",
            "in a given directory, LIBDIR, you must either use libtool, and\n",
            "specify the full pathname of the library, or use the `-LLIBDIR'\n",
            "flag during linking and do at least one of the following:\n",
            "   - add LIBDIR to the `LD_LIBRARY_PATH' environment variable\n",
            "     during execution\n",
            "   - add LIBDIR to the `LD_RUN_PATH' environment variable\n",
            "     during linking\n",
            "   - use the `-Wl,-rpath -Wl,LIBDIR' linker flag\n",
            "   - have your system administrator add LIBDIR to `/etc/ld.so.conf'\n",
            "\n",
            "See any operating system documentation about shared libraries for\n",
            "more information, such as the ld(1) and ld.so(8) manual pages.\n",
            "----------------------------------------------------------------------\n",
            "test -z \"/usr/local/bin\" || /bin/mkdir -p \"/usr/local/bin\"\n",
            "  /bin/bash ../libtool   --mode=install /usr/bin/install -c mecab '/usr/local/bin'\n",
            "libtool: install: /usr/bin/install -c .libs/mecab /usr/local/bin/mecab\n",
            "test -z \"/usr/local/libexec/mecab\" || /bin/mkdir -p \"/usr/local/libexec/mecab\"\n",
            "  /bin/bash ../libtool   --mode=install /usr/bin/install -c mecab-dict-index mecab-dict-gen mecab-cost-train mecab-system-eval mecab-test-gen '/usr/local/libexec/mecab'\n",
            "libtool: install: /usr/bin/install -c .libs/mecab-dict-index /usr/local/libexec/mecab/mecab-dict-index\n",
            "libtool: install: /usr/bin/install -c .libs/mecab-dict-gen /usr/local/libexec/mecab/mecab-dict-gen\n",
            "libtool: install: /usr/bin/install -c .libs/mecab-cost-train /usr/local/libexec/mecab/mecab-cost-train\n",
            "libtool: install: /usr/bin/install -c .libs/mecab-system-eval /usr/local/libexec/mecab/mecab-system-eval\n",
            "libtool: install: /usr/bin/install -c .libs/mecab-test-gen /usr/local/libexec/mecab/mecab-test-gen\n",
            "test -z \"/usr/local/include\" || /bin/mkdir -p \"/usr/local/include\"\n",
            " /usr/bin/install -c -m 644 mecab.h '/usr/local/include'\n",
            "make[2]: Leaving directory '/tmp/mecab-0.996-ko-0.9.2/src'\n",
            "make[1]: Leaving directory '/tmp/mecab-0.996-ko-0.9.2/src'\n",
            "Making install in man\n",
            "make[1]: Entering directory '/tmp/mecab-0.996-ko-0.9.2/man'\n",
            "make[2]: Entering directory '/tmp/mecab-0.996-ko-0.9.2/man'\n",
            "make[2]: Nothing to be done for 'install-exec-am'.\n",
            "test -z \"/usr/local/share/man/man1\" || /bin/mkdir -p \"/usr/local/share/man/man1\"\n",
            " /usr/bin/install -c -m 644 mecab.1 '/usr/local/share/man/man1'\n",
            "make[2]: Leaving directory '/tmp/mecab-0.996-ko-0.9.2/man'\n",
            "make[1]: Leaving directory '/tmp/mecab-0.996-ko-0.9.2/man'\n",
            "Making install in doc\n",
            "make[1]: Entering directory '/tmp/mecab-0.996-ko-0.9.2/doc'\n",
            "make[2]: Entering directory '/tmp/mecab-0.996-ko-0.9.2/doc'\n",
            "make[2]: Nothing to be done for 'install-exec-am'.\n",
            "make[2]: Nothing to be done for 'install-data-am'.\n",
            "make[2]: Leaving directory '/tmp/mecab-0.996-ko-0.9.2/doc'\n",
            "make[1]: Leaving directory '/tmp/mecab-0.996-ko-0.9.2/doc'\n",
            "Making install in tests\n",
            "make[1]: Entering directory '/tmp/mecab-0.996-ko-0.9.2/tests'\n",
            "make[2]: Entering directory '/tmp/mecab-0.996-ko-0.9.2/tests'\n",
            "make[2]: Nothing to be done for 'install-exec-am'.\n",
            "make[2]: Nothing to be done for 'install-data-am'.\n",
            "make[2]: Leaving directory '/tmp/mecab-0.996-ko-0.9.2/tests'\n",
            "make[1]: Leaving directory '/tmp/mecab-0.996-ko-0.9.2/tests'\n",
            "make[1]: Entering directory '/tmp/mecab-0.996-ko-0.9.2'\n",
            "make[2]: Entering directory '/tmp/mecab-0.996-ko-0.9.2'\n",
            "test -z \"/usr/local/bin\" || /bin/mkdir -p \"/usr/local/bin\"\n",
            " /usr/bin/install -c mecab-config '/usr/local/bin'\n",
            "test -z \"/usr/local/etc\" || /bin/mkdir -p \"/usr/local/etc\"\n",
            " /usr/bin/install -c -m 644 mecabrc '/usr/local/etc'\n",
            "make[2]: Leaving directory '/tmp/mecab-0.996-ko-0.9.2'\n",
            "make[1]: Leaving directory '/tmp/mecab-0.996-ko-0.9.2'\n",
            "/sbin/ldconfig.real: /usr/local/lib/python3.7/dist-packages/ideep4py/lib/libmkldnn.so.0 is not a symbolic link\n",
            "\n",
            "--2022-03-07 16:12:41--  https://www.dropbox.com/s/i8girnk5p80076c/mecab-ko-dic-2.1.1-20180720.tar.gz?dl=1\n",
            "Resolving www.dropbox.com (www.dropbox.com)... 162.125.85.18, 2620:100:6035:18::a27d:5512\n",
            "Connecting to www.dropbox.com (www.dropbox.com)|162.125.85.18|:443... connected.\n",
            "HTTP request sent, awaiting response... 301 Moved Permanently\n",
            "Location: /s/dl/i8girnk5p80076c/mecab-ko-dic-2.1.1-20180720.tar.gz [following]\n",
            "--2022-03-07 16:12:42--  https://www.dropbox.com/s/dl/i8girnk5p80076c/mecab-ko-dic-2.1.1-20180720.tar.gz\n",
            "Reusing existing connection to www.dropbox.com:443.\n",
            "HTTP request sent, awaiting response... 302 Found\n",
            "Location: https://ucbcf9a15e64f948fcf361febab3.dl.dropboxusercontent.com/cd/0/get/BhBIRS_oS9aOmZ9hKw9Reh37G_pwCSHHFEbMLtMtkpPA1EJOk5WpPFiFPhJ0Flo42vEL7VRaWN6uWCe_NmBNjybfFriR_SanFbkTqvStwxGxM-CKzVmwc8i3gr53mqV_QUndisEsrGqrvtnctlguECXv/file?dl=1# [following]\n",
            "--2022-03-07 16:12:42--  https://ucbcf9a15e64f948fcf361febab3.dl.dropboxusercontent.com/cd/0/get/BhBIRS_oS9aOmZ9hKw9Reh37G_pwCSHHFEbMLtMtkpPA1EJOk5WpPFiFPhJ0Flo42vEL7VRaWN6uWCe_NmBNjybfFriR_SanFbkTqvStwxGxM-CKzVmwc8i3gr53mqV_QUndisEsrGqrvtnctlguECXv/file?dl=1\n",
            "Resolving ucbcf9a15e64f948fcf361febab3.dl.dropboxusercontent.com (ucbcf9a15e64f948fcf361febab3.dl.dropboxusercontent.com)... 162.125.85.15, 2620:100:6035:15::a27d:550f\n",
            "Connecting to ucbcf9a15e64f948fcf361febab3.dl.dropboxusercontent.com (ucbcf9a15e64f948fcf361febab3.dl.dropboxusercontent.com)|162.125.85.15|:443... connected.\n",
            "HTTP request sent, awaiting response... 200 OK\n",
            "Length: 49775061 (47M) [application/binary]\n",
            "Saving to: ‘mecab-ko-dic-2.1.1-20180720.tar.gz?dl=1.1’\n",
            "\n",
            "mecab-ko-dic-2.1.1- 100%[===================>]  47.47M  18.7MB/s    in 2.5s    \n",
            "\n",
            "2022-03-07 16:12:45 (18.7 MB/s) - ‘mecab-ko-dic-2.1.1-20180720.tar.gz?dl=1.1’ saved [49775061/49775061]\n",
            "\n",
            "Reading package lists... Done\n",
            "Building dependency tree       \n",
            "Reading state information... Done\n",
            "autoconf is already the newest version (2.69-11).\n",
            "The following package was automatically installed and is no longer required:\n",
            "  libnvidia-common-470\n",
            "Use 'apt autoremove' to remove it.\n",
            "0 upgraded, 0 newly installed, 0 to remove and 39 not upgraded.\n",
            "mecab-ko-dic-2.1.1-20180720/\n",
            "mecab-ko-dic-2.1.1-20180720/configure\n",
            "mecab-ko-dic-2.1.1-20180720/COPYING\n",
            "mecab-ko-dic-2.1.1-20180720/autogen.sh\n",
            "mecab-ko-dic-2.1.1-20180720/Place-station.csv\n",
            "mecab-ko-dic-2.1.1-20180720/NNG.csv\n",
            "mecab-ko-dic-2.1.1-20180720/README\n",
            "mecab-ko-dic-2.1.1-20180720/EF.csv\n",
            "mecab-ko-dic-2.1.1-20180720/MAG.csv\n",
            "mecab-ko-dic-2.1.1-20180720/Preanalysis.csv\n",
            "mecab-ko-dic-2.1.1-20180720/NNB.csv\n",
            "mecab-ko-dic-2.1.1-20180720/Person-actor.csv\n",
            "mecab-ko-dic-2.1.1-20180720/VV.csv\n",
            "mecab-ko-dic-2.1.1-20180720/Makefile.in\n",
            "mecab-ko-dic-2.1.1-20180720/matrix.def\n",
            "mecab-ko-dic-2.1.1-20180720/EC.csv\n",
            "mecab-ko-dic-2.1.1-20180720/NNBC.csv\n",
            "mecab-ko-dic-2.1.1-20180720/clean\n",
            "mecab-ko-dic-2.1.1-20180720/ChangeLog\n",
            "mecab-ko-dic-2.1.1-20180720/J.csv\n",
            "mecab-ko-dic-2.1.1-20180720/.keep\n",
            "mecab-ko-dic-2.1.1-20180720/feature.def\n",
            "mecab-ko-dic-2.1.1-20180720/Foreign.csv\n",
            "mecab-ko-dic-2.1.1-20180720/XPN.csv\n",
            "mecab-ko-dic-2.1.1-20180720/EP.csv\n",
            "mecab-ko-dic-2.1.1-20180720/NR.csv\n",
            "mecab-ko-dic-2.1.1-20180720/left-id.def\n",
            "mecab-ko-dic-2.1.1-20180720/Place.csv\n",
            "mecab-ko-dic-2.1.1-20180720/Symbol.csv\n",
            "mecab-ko-dic-2.1.1-20180720/dicrc\n",
            "mecab-ko-dic-2.1.1-20180720/NP.csv\n",
            "mecab-ko-dic-2.1.1-20180720/ETM.csv\n",
            "mecab-ko-dic-2.1.1-20180720/IC.csv\n",
            "mecab-ko-dic-2.1.1-20180720/Place-address.csv\n",
            "mecab-ko-dic-2.1.1-20180720/Group.csv\n",
            "mecab-ko-dic-2.1.1-20180720/model.def\n",
            "mecab-ko-dic-2.1.1-20180720/XSN.csv\n",
            "mecab-ko-dic-2.1.1-20180720/INSTALL\n",
            "mecab-ko-dic-2.1.1-20180720/rewrite.def\n",
            "mecab-ko-dic-2.1.1-20180720/Inflect.csv\n",
            "mecab-ko-dic-2.1.1-20180720/configure.ac\n",
            "mecab-ko-dic-2.1.1-20180720/NNP.csv\n",
            "mecab-ko-dic-2.1.1-20180720/CoinedWord.csv\n",
            "mecab-ko-dic-2.1.1-20180720/XSV.csv\n",
            "mecab-ko-dic-2.1.1-20180720/pos-id.def\n",
            "mecab-ko-dic-2.1.1-20180720/Makefile.am\n",
            "mecab-ko-dic-2.1.1-20180720/unk.def\n",
            "mecab-ko-dic-2.1.1-20180720/missing\n",
            "mecab-ko-dic-2.1.1-20180720/VCP.csv\n",
            "mecab-ko-dic-2.1.1-20180720/install-sh\n",
            "mecab-ko-dic-2.1.1-20180720/Hanja.csv\n",
            "mecab-ko-dic-2.1.1-20180720/MAJ.csv\n",
            "mecab-ko-dic-2.1.1-20180720/XSA.csv\n",
            "mecab-ko-dic-2.1.1-20180720/Wikipedia.csv\n",
            "mecab-ko-dic-2.1.1-20180720/tools/\n",
            "mecab-ko-dic-2.1.1-20180720/tools/add-userdic.sh\n",
            "mecab-ko-dic-2.1.1-20180720/tools/mecab-bestn.sh\n",
            "mecab-ko-dic-2.1.1-20180720/tools/convert_for_using_store.sh\n",
            "mecab-ko-dic-2.1.1-20180720/user-dic/\n",
            "mecab-ko-dic-2.1.1-20180720/user-dic/nnp.csv\n",
            "mecab-ko-dic-2.1.1-20180720/user-dic/place.csv\n",
            "mecab-ko-dic-2.1.1-20180720/user-dic/person.csv\n",
            "mecab-ko-dic-2.1.1-20180720/user-dic/README.md\n",
            "mecab-ko-dic-2.1.1-20180720/NorthKorea.csv\n",
            "mecab-ko-dic-2.1.1-20180720/VX.csv\n",
            "mecab-ko-dic-2.1.1-20180720/right-id.def\n",
            "mecab-ko-dic-2.1.1-20180720/VA.csv\n",
            "mecab-ko-dic-2.1.1-20180720/char.def\n",
            "mecab-ko-dic-2.1.1-20180720/NEWS\n",
            "mecab-ko-dic-2.1.1-20180720/MM.csv\n",
            "mecab-ko-dic-2.1.1-20180720/ETN.csv\n",
            "mecab-ko-dic-2.1.1-20180720/AUTHORS\n",
            "mecab-ko-dic-2.1.1-20180720/Person.csv\n",
            "mecab-ko-dic-2.1.1-20180720/XR.csv\n",
            "mecab-ko-dic-2.1.1-20180720/VCN.csv\n",
            "Looking in current directory for macros.\n",
            "configure.ac:2: warning: AM_INIT_AUTOMAKE: two- and three-arguments forms are deprecated.  For more info, see:\n",
            "configure.ac:2: http://www.gnu.org/software/automake/manual/automake.html#Modernize-AM_005fINIT_005fAUTOMAKE-invocation\n",
            "checking for a BSD-compatible install... /usr/bin/install -c\n",
            "checking whether build environment is sane... yes\n",
            "/tmp/mecab-ko-dic-2.1.1-20180720/missing: Unknown `--is-lightweight' option\n",
            "Try `/tmp/mecab-ko-dic-2.1.1-20180720/missing --help' for more information\n",
            "configure: WARNING: 'missing' script is too old or missing\n",
            "checking for a thread-safe mkdir -p... /bin/mkdir -p\n",
            "checking for gawk... no\n",
            "checking for mawk... mawk\n",
            "checking whether make sets $(MAKE)... yes\n",
            "checking whether make supports nested variables... yes\n",
            "checking for mecab-config... /usr/local/bin/mecab-config\n",
            "checking that generated files are newer than configure... done\n",
            "configure: creating ./config.status\n",
            "config.status: creating Makefile\n",
            "make: Nothing to be done for 'all'.\n",
            "make[1]: Entering directory '/tmp/mecab-ko-dic-2.1.1-20180720'\n",
            "make[1]: Nothing to be done for 'install-exec-am'.\n",
            " /bin/mkdir -p '/usr/local/lib/mecab/dic/mecab-ko-dic'\n",
            " /usr/bin/install -c -m 644 model.bin matrix.bin char.bin sys.dic unk.dic left-id.def right-id.def rewrite.def pos-id.def dicrc '/usr/local/lib/mecab/dic/mecab-ko-dic'\n",
            "make[1]: Leaving directory '/tmp/mecab-ko-dic-2.1.1-20180720'\n",
            "/sbin/ldconfig.real: /usr/local/lib/python3.7/dist-packages/ideep4py/lib/libmkldnn.so.0 is not a symbolic link\n",
            "\n",
            "fatal: destination path 'mecab-python-0.996' already exists and is not an empty directory.\n",
            "Requirement already satisfied: konlpy in /usr/local/lib/python3.7/dist-packages (0.6.0)\n",
            "Requirement already satisfied: numpy>=1.6 in /usr/local/lib/python3.7/dist-packages (from konlpy) (1.21.5)\n",
            "Requirement already satisfied: JPype1>=0.7.0 in /usr/local/lib/python3.7/dist-packages (from konlpy) (1.3.0)\n",
            "Requirement already satisfied: lxml>=4.1.0 in /usr/local/lib/python3.7/dist-packages (from konlpy) (4.2.6)\n",
            "Requirement already satisfied: typing-extensions in /usr/local/lib/python3.7/dist-packages (from JPype1>=0.7.0->konlpy) (3.10.0.2)\n"
          ]
        }
      ],
      "source": [
        "# konlpy, Mecab 형태소 분석기 설치 스크립트 실행\n",
        "!curl -s https://raw.githubusercontent.com/teddylee777/machine-learning/master/99-Misc/01-Colab/mecab-colab.sh | bash"
      ]
    },
    {
      "cell_type": "code",
      "execution_count": null,
      "metadata": {
        "id": "eAjjfdx8Qjtq"
      },
      "outputs": [],
      "source": [
        "import konlpy\n",
        "from konlpy.tag import Kkma, Komoran, Okt, Mecab\n",
        "kkma = Kkma()\n",
        "komoran = Komoran()\n",
        "okt = Okt()\n",
        "mecab = Mecab()"
      ]
    },
    {
      "cell_type": "code",
      "execution_count": null,
      "metadata": {
        "id": "Jyl0le1ITxbb"
      },
      "outputs": [],
      "source": [
        "text ='영실아안녕오늘날씨어때?'"
      ]
    },
    {
      "cell_type": "code",
      "execution_count": null,
      "metadata": {
        "colab": {
          "base_uri": "https://localhost:8080/"
        },
        "id": "l5xFTuU7T8fo",
        "outputId": "ede1e822-3890-429d-e833-dc1e6f2ac77b"
      },
      "outputs": [
        {
          "output_type": "execute_result",
          "data": {
            "text/plain": [
              "[('영', 'MAG'),\n",
              " ('싣', 'VV'),\n",
              " ('아', 'ECD'),\n",
              " ('안녕', 'NNG'),\n",
              " ('오늘날', 'NNG'),\n",
              " ('씨', 'VV'),\n",
              " ('어', 'ECD'),\n",
              " ('때', 'NNG'),\n",
              " ('?', 'SF')]"
            ]
          },
          "metadata": {},
          "execution_count": 28
        }
      ],
      "source": [
        "kkma.pos(text)"
      ]
    },
    {
      "cell_type": "code",
      "execution_count": null,
      "metadata": {
        "colab": {
          "base_uri": "https://localhost:8080/"
        },
        "id": "y_3BVBlRULT3",
        "outputId": "35f1402d-de6b-4645-ba65-888328fc5d55"
      },
      "outputs": [
        {
          "output_type": "execute_result",
          "data": {
            "text/plain": [
              "[('영', 'NNP'),\n",
              " ('실', 'NNP'),\n",
              " ('아', 'NNP'),\n",
              " ('안녕', 'NNP'),\n",
              " ('오늘날', 'NNP'),\n",
              " ('씨', 'NNB'),\n",
              " ('어떻', 'VA'),\n",
              " ('어', 'EF'),\n",
              " ('?', 'SF')]"
            ]
          },
          "metadata": {},
          "execution_count": 29
        }
      ],
      "source": [
        "komoran.pos(text)"
      ]
    },
    {
      "cell_type": "code",
      "execution_count": null,
      "metadata": {
        "colab": {
          "base_uri": "https://localhost:8080/"
        },
        "id": "eaQ5Ocy_UOP4",
        "outputId": "ee4a2d25-7160-4fd1-8c44-d1af55906a62"
      },
      "outputs": [
        {
          "output_type": "execute_result",
          "data": {
            "text/plain": [
              "[('영', 'Modifier'),\n",
              " ('실아', 'Noun'),\n",
              " ('안녕', 'Noun'),\n",
              " ('오늘날', 'Noun'),\n",
              " ('씨', 'Suffix'),\n",
              " ('어때', 'Adjective'),\n",
              " ('?', 'Punctuation')]"
            ]
          },
          "metadata": {},
          "execution_count": 30
        }
      ],
      "source": [
        "okt.pos(text)"
      ]
    },
    {
      "cell_type": "code",
      "execution_count": null,
      "metadata": {
        "colab": {
          "base_uri": "https://localhost:8080/"
        },
        "id": "UYQcIQdmUQSq",
        "outputId": "6445e3b7-5a78-43d0-e486-ba92c0c32622"
      },
      "outputs": [
        {
          "output_type": "execute_result",
          "data": {
            "text/plain": [
              "[('영실', 'NNG'),\n",
              " ('아', 'IC'),\n",
              " ('안녕', 'IC'),\n",
              " ('오늘', 'MAG'),\n",
              " ('날씨', 'NNG'),\n",
              " ('어때', 'VA+EF'),\n",
              " ('?', 'SF')]"
            ]
          },
          "metadata": {},
          "execution_count": 31
        }
      ],
      "source": [
        "mecab.pos(text)"
      ]
    },
    {
      "cell_type": "code",
      "execution_count": null,
      "metadata": {
        "colab": {
          "base_uri": "https://localhost:8080/"
        },
        "id": "clJO0eybVGTT",
        "outputId": "44cc4d2e-3a9c-4d37-8b45-2236784526cd"
      },
      "outputs": [
        {
          "output_type": "execute_result",
          "data": {
            "text/plain": [
              "0                                  아 더빙.. 진짜 짜증나네요 목소리\n",
              "1                    흠...포스터보고 초딩영화줄....오버연기조차 가볍지 않구나\n",
              "2                                    너무재밓었다그래서보는것을추천한다\n",
              "3                        교도소 이야기구먼 ..솔직히 재미는 없다..평점 조정\n",
              "4    사이몬페그의 익살스런 연기가 돋보였던 영화!스파이더맨에서 늙어보이기만 했던 커스틴 ...\n",
              "Name: document, dtype: object"
            ]
          },
          "metadata": {},
          "execution_count": 32
        }
      ],
      "source": [
        "# 전처리 전\n",
        "train['document'].head()"
      ]
    },
    {
      "cell_type": "code",
      "execution_count": null,
      "metadata": {
        "colab": {
          "base_uri": "https://localhost:8080/"
        },
        "id": "D6tOPgmKUpiA",
        "outputId": "cd140a4b-3e02-4275-8dea-756c9f2dc36a"
      },
      "outputs": [
        {
          "output_type": "execute_result",
          "data": {
            "text/plain": [
              "0                                        아더빙진짜짜증나네요목소리\n",
              "1                              흠포스터보고초딩영화줄오버연기조차가볍지않구나\n",
              "2                                    너무재밓었다그래서보는것을추천한다\n",
              "3                                 교도소이야기구먼솔직히재미는없다평점조정\n",
              "4    사이몬페그의익살스런연기가돋보였던영화스파이더맨에서늙어보이기만했던커스틴던스트가너무나도이...\n",
              "Name: document, dtype: object"
            ]
          },
          "metadata": {},
          "execution_count": 33
        }
      ],
      "source": [
        "# 전처리\n",
        "train['document'] = train['document'].str.replace(\"[^A-Za-z가-힣ㄱ-하-ㅣ]\", \"\")\n",
        "train['document'].head()"
      ]
    },
    {
      "cell_type": "code",
      "execution_count": null,
      "metadata": {
        "colab": {
          "base_uri": "https://localhost:8080/"
        },
        "id": "KoLH1TAkVZhj",
        "outputId": "afc59661-388a-4063-c5f1-dd7c61204047"
      },
      "outputs": [
        {
          "output_type": "execute_result",
          "data": {
            "text/plain": [
              "(149995, 3)"
            ]
          },
          "metadata": {},
          "execution_count": 34
        }
      ],
      "source": [
        "# 결측치 제거\n",
        "train = train.dropna()\n",
        "train.shape"
      ]
    },
    {
      "cell_type": "code",
      "execution_count": null,
      "metadata": {
        "id": "hjEdmgalV4aZ"
      },
      "outputs": [],
      "source": [
        "# 스탑워드와 형태소 분석 (한글 불용어)\n",
        "def word_tokenization(text):\n",
        "  stop_words = [\"는\", \"을\", \"를\", \"이\", \"가\", \"의\", \"던\", \"고\", \"하\", \"다\", \"은\", \"에\", \"들\", \"지\", \"게\", \"도\"]\n",
        "  return [word for word in mecab.morphs(text) if word not in stop_words]"
      ]
    },
    {
      "cell_type": "code",
      "execution_count": null,
      "metadata": {
        "colab": {
          "base_uri": "https://localhost:8080/"
        },
        "id": "QTBnKX-eW69m",
        "outputId": "e17c5394-3207-47ee-d565-4734b08196ff"
      },
      "outputs": [
        {
          "output_type": "execute_result",
          "data": {
            "text/plain": [
              "0                      [아, 더, 빙, 진짜, 짜증, 나, 네, 요목, 소리]\n",
              "1       [흠, 포스터, 보고, 초딩, 영화, 줄, 오버, 연기, 조차, 가볍, 않, 구나]\n",
              "2                              [너무, 재, 밓었다그래서보는것을추천한다]\n",
              "3                   [교도소, 이야기, 구먼, 솔직히, 재미, 없, 평점, 조정]\n",
              "4    [사이몬페그, 익살, 스런, 연기, 돋보였, 영화, 스파이더맨, 에서, 늙, 어, ...\n",
              "Name: document, dtype: object"
            ]
          },
          "metadata": {},
          "execution_count": 36
        }
      ],
      "source": [
        "data = train['document'].apply(lambda x: word_tokenization(x))\n",
        "data.head()"
      ]
    },
    {
      "cell_type": "code",
      "execution_count": null,
      "metadata": {
        "id": "vxGwrx4PYAzm"
      },
      "outputs": [],
      "source": [
        "training_size = 120000\n",
        "train_sentences = data[:training_size]\n",
        "valid_sentences = data[training_size:]\n",
        "train_labels = train['label'][:training_size]\n",
        "valid_labels = train['label'][training_size:]"
      ]
    },
    {
      "cell_type": "code",
      "execution_count": null,
      "metadata": {
        "colab": {
          "base_uri": "https://localhost:8080/"
        },
        "id": "0h73a6BVYpyP",
        "outputId": "cd4dae0a-17ab-4033-d57d-a049021b16a3"
      },
      "outputs": [
        {
          "output_type": "stream",
          "name": "stdout",
          "text": [
            "총 단어 개수 60039\n"
          ]
        }
      ],
      "source": [
        "from tensorflow.keras.preprocessing.text import Tokenizer\n",
        "from tensorflow.keras.preprocessing.sequence import pad_sequences\n",
        "\n",
        "#vocav_size 설정\n",
        "tokenizer = Tokenizer()\n",
        "tokenizer.fit_on_texts(data)\n",
        "print(\"총 단어 개수\", len(tokenizer.word_index))"
      ]
    },
    {
      "cell_type": "code",
      "execution_count": null,
      "metadata": {
        "colab": {
          "base_uri": "https://localhost:8080/"
        },
        "id": "2B9PLeC5ZIDB",
        "outputId": "d2f0f70b-164f-44e7-bcb9-4e35d71c20b1"
      },
      "outputs": [
        {
          "output_type": "execute_result",
          "data": {
            "text/plain": [
              "15690"
            ]
          },
          "metadata": {},
          "execution_count": 39
        }
      ],
      "source": [
        "# 5회이상만 vocab_size에 포함\n",
        "def get_vocab_size(threshold):\n",
        "  cnt = 0\n",
        "  for x in tokenizer.word_counts.values():\n",
        "    if x >= threshold:\n",
        "      cnt = cnt + 1\n",
        "  return cnt\n",
        "\n",
        "vocab_size = get_vocab_size(5)\n",
        "vocab_size"
      ]
    },
    {
      "cell_type": "code",
      "execution_count": null,
      "metadata": {
        "colab": {
          "base_uri": "https://localhost:8080/"
        },
        "id": "dyI0wx3-adBR",
        "outputId": "44218885-e838-434b-89f9-ddaf25b3ab64"
      },
      "outputs": [
        {
          "output_type": "stream",
          "name": "stdout",
          "text": [
            "0 <OOV>\n",
            "1 영화\n",
            "2 한\n",
            "3 보\n",
            "4 있\n",
            "5 없\n",
            "6 좋\n",
            "7 나\n",
            "8 었\n",
            "9 는데\n",
            "60040\n"
          ]
        }
      ],
      "source": [
        "oov_tok = \"<OOV>\"\n",
        "vocab_size = 15000\n",
        "\n",
        "tokenizer = Tokenizer(oov_token=oov_tok, num_words=vocab_size)\n",
        "tokenizer.fit_on_texts(data)\n",
        "\n",
        "for num, word in enumerate(tokenizer.word_index):\n",
        "  if num == 10:\n",
        "    break\n",
        "  print(num, word)\n",
        "print(len(tokenizer.word_index))"
      ]
    },
    {
      "cell_type": "code",
      "execution_count": null,
      "metadata": {
        "colab": {
          "base_uri": "https://localhost:8080/"
        },
        "id": "6ULRFLfZbqmI",
        "outputId": "cc3b033c-2539-4f58-8ad4-0d12717a68d9"
      },
      "outputs": [
        {
          "output_type": "stream",
          "name": "stdout",
          "text": [
            "0                   [아, 더, 빙, 진짜, 짜증, 나, 네, 요목, 소리]\n",
            "1    [흠, 포스터, 보고, 초딩, 영화, 줄, 오버, 연기, 조차, 가볍, 않, 구나]\n",
            "Name: document, dtype: object\n",
            "[[24, 66, 891, 27, 219, 8, 31, 1, 468], [1019, 490, 323, 635, 2, 108, 1559, 42, 775, 1012, 32, 372]]\n"
          ]
        }
      ],
      "source": [
        "# 문자를 숫자로 표현\n",
        "print(train_sentences[:2])\n",
        "train_sequences = tokenizer.texts_to_sequences(train_sentences)\n",
        "valid_sequences = tokenizer.texts_to_sequences(valid_sentences)\n",
        "print(train_sequences[:2])"
      ]
    },
    {
      "cell_type": "code",
      "execution_count": null,
      "metadata": {
        "colab": {
          "base_uri": "https://localhost:8080/"
        },
        "id": "lbU3FGP8cpuQ",
        "outputId": "d468d337-e4fb-43c8-8e24-f5a289d0b1b3"
      },
      "outputs": [
        {
          "output_type": "execute_result",
          "data": {
            "text/plain": [
              "75"
            ]
          },
          "metadata": {},
          "execution_count": 42
        }
      ],
      "source": [
        "# 문장의 최대 길이\n",
        "max_length = max(len(x) for x in train_sequences)\n",
        "max_length"
      ]
    },
    {
      "cell_type": "code",
      "execution_count": null,
      "metadata": {
        "colab": {
          "base_uri": "https://localhost:8080/"
        },
        "id": "3OmU1PuqdirD",
        "outputId": "ddbf205b-49ba-4cbf-ccb2-cb070b0d96f0"
      },
      "outputs": [
        {
          "output_type": "execute_result",
          "data": {
            "text/plain": [
              "(array([[ 24,  66, 891,  27, 219,   8,  31,   1, 468,   0,   0,   0,   0,\n",
              "           0,   0,   0,   0,   0,   0,   0,   0,   0,   0,   0,   0,   0,\n",
              "           0,   0,   0,   0,   0,   0,   0,   0,   0,   0,   0,   0,   0,\n",
              "           0,   0,   0,   0,   0,   0,   0,   0,   0,   0,   0,   0,   0,\n",
              "           0,   0,   0,   0,   0,   0,   0,   0,   0,   0,   0,   0,   0,\n",
              "           0,   0,   0,   0,   0,   0,   0,   0,   0,   0]], dtype=int32),\n",
              " array([0, 1, 0, ..., 0, 0, 1]))"
            ]
          },
          "metadata": {},
          "execution_count": 43
        }
      ],
      "source": [
        "# 문장 길이를 동일하게 맞춘다\n",
        "trunc_type='post'\n",
        "padding_type='post'\n",
        "\n",
        "train_padded = pad_sequences(train_sequences, truncating=trunc_type, padding=padding_type, maxlen=max_length)\n",
        "valid_padded = pad_sequences(valid_sequences, truncating=trunc_type, padding=padding_type, maxlen=max_length)\n",
        "\n",
        "train_labels = np.asarray(train_labels)\n",
        "valid_labels = np.asarray(valid_labels)\n",
        "\n",
        "train_padded[:1], train_labels"
      ]
    },
    {
      "cell_type": "code",
      "execution_count": null,
      "metadata": {
        "colab": {
          "base_uri": "https://localhost:8080/"
        },
        "id": "BdGk8GCrfMqI",
        "outputId": "037c2206-a702-4da6-c7a9-ffa7954e02e2"
      },
      "outputs": [
        {
          "output_type": "stream",
          "name": "stdout",
          "text": [
            "Model: \"sequential\"\n",
            "_________________________________________________________________\n",
            " Layer (type)                Output Shape              Param #   \n",
            "=================================================================\n",
            " embedding (Embedding)       (None, None, 32)          480000    \n",
            "                                                                 \n",
            " bidirectional (Bidirectiona  (None, None, 32)         6272      \n",
            " l)                                                              \n",
            "                                                                 \n",
            " dense (Dense)               (None, None, 32)          1056      \n",
            "                                                                 \n",
            " dense_1 (Dense)             (None, None, 1)           33        \n",
            "                                                                 \n",
            "=================================================================\n",
            "Total params: 487,361\n",
            "Trainable params: 487,361\n",
            "Non-trainable params: 0\n",
            "_________________________________________________________________\n"
          ]
        }
      ],
      "source": [
        "import tensorflow as tf\n",
        "from tensorflow.keras import Sequential\n",
        "from tensorflow.keras.layers import Dense, LSTM, Embedding, Bidirectional\n",
        "\n",
        "def create_model():\n",
        "  model = Sequential([\n",
        "                      Embedding(vocab_size, 32),\n",
        "                      Bidirectional(LSTM(16, return_sequences=True)),\n",
        "                      Dense(32, activation='relu'),\n",
        "                      Dense(1, activation='sigmoid')\n",
        "  ])\n",
        "\n",
        "  model.compile(loss='binary_crossentropy',optimizer='adam', metrics=['accuracy'])\n",
        "  return model\n",
        "\n",
        "model = create_model()\n",
        "model.summary()"
      ]
    },
    {
      "cell_type": "code",
      "execution_count": null,
      "metadata": {
        "id": "TuYFYrF6hbED"
      },
      "outputs": [],
      "source": [
        "# 체크포인트 설정\n",
        "checkpoint_path = 'best_performed_model.ckpt'\n",
        "checkpoint = tf.keras.callbacks.ModelCheckpoint(checkpoint_path,\n",
        "                                                save_weights_only=True,\n",
        "                                                save_best_only=True,\n",
        "                                                monitor='val_loss',\n",
        "                                                verbose=1)"
      ]
    },
    {
      "cell_type": "code",
      "execution_count": null,
      "metadata": {
        "id": "0e4nrXxUiIDf"
      },
      "outputs": [],
      "source": [
        "# 조기종료 설정\n",
        "earlystopping = tf.keras.callbacks.EarlyStopping(monitor='val_loss', patience=2)"
      ]
    },
    {
      "cell_type": "code",
      "source": [
        "train_padded.shape, train_labels.shape, valid_padded.shape, valid_labels.shape"
      ],
      "metadata": {
        "colab": {
          "base_uri": "https://localhost:8080/"
        },
        "id": "fqA7-m4LClAs",
        "outputId": "47f7f856-e844-400d-ac57-a096a83f5c86"
      },
      "execution_count": null,
      "outputs": [
        {
          "output_type": "execute_result",
          "data": {
            "text/plain": [
              "((120000, 75), (120000,), (29995, 75), (29995,))"
            ]
          },
          "metadata": {},
          "execution_count": 47
        }
      ]
    },
    {
      "cell_type": "code",
      "execution_count": null,
      "metadata": {
        "id": "QpufLlVIhmuU"
      },
      "outputs": [],
      "source": [
        "# 추 후 오류 해결해 보기\n",
        "# # 훈련\n",
        "# history = model.fit(train_padded, train_labels, validation_data=(valid_padded, valid_labels), \n",
        "#                     batch_size=64, epochs=10, verbose=2, callbacks=[earlystopping, checkpoint])"
      ]
    },
    {
      "cell_type": "code",
      "source": [
        "!git clone https://github.com/SKTBrain/KoBERT.git"
      ],
      "metadata": {
        "colab": {
          "base_uri": "https://localhost:8080/"
        },
        "id": "NdXTklc-GDD4",
        "outputId": "e2876128-6b61-4035-c107-715c04db98f1"
      },
      "execution_count": null,
      "outputs": [
        {
          "output_type": "stream",
          "name": "stdout",
          "text": [
            "Cloning into 'KoBERT'...\n",
            "remote: Enumerating objects: 420, done.\u001b[K\n",
            "remote: Counting objects: 100% (265/265), done.\u001b[K\n",
            "remote: Compressing objects: 100% (171/171), done.\u001b[K\n",
            "remote: Total 420 (delta 136), reused 174 (delta 83), pack-reused 155\u001b[K\n",
            "Receiving objects: 100% (420/420), 232.51 KiB | 912.00 KiB/s, done.\n",
            "Resolving deltas: 100% (218/218), done.\n"
          ]
        }
      ]
    },
    {
      "cell_type": "code",
      "source": [
        "cd KoBERT"
      ],
      "metadata": {
        "colab": {
          "base_uri": "https://localhost:8080/"
        },
        "id": "mBtC5777GC5l",
        "outputId": "5f5514d7-77c4-4dd3-9036-cc026c884c31"
      },
      "execution_count": null,
      "outputs": [
        {
          "output_type": "stream",
          "name": "stdout",
          "text": [
            "/content/KoBERT/KoBERT\n"
          ]
        }
      ]
    },
    {
      "cell_type": "code",
      "source": [
        "pip install -r requirements.txt"
      ],
      "metadata": {
        "colab": {
          "base_uri": "https://localhost:8080/"
        },
        "id": "GvuhzOrCGNgB",
        "outputId": "7886a7e4-3822-46ec-e53a-664dabada626"
      },
      "execution_count": null,
      "outputs": [
        {
          "output_type": "stream",
          "name": "stdout",
          "text": [
            "Requirement already satisfied: boto3 in /usr/local/lib/python3.7/dist-packages (from -r requirements.txt (line 1)) (1.21.13)\n",
            "Requirement already satisfied: gluonnlp>=0.6.0 in /usr/local/lib/python3.7/dist-packages (from -r requirements.txt (line 2)) (0.10.0)\n",
            "Requirement already satisfied: mxnet>=1.4.0 in /usr/local/lib/python3.7/dist-packages (from -r requirements.txt (line 3)) (1.9.0)\n",
            "Requirement already satisfied: onnxruntime==1.8.0 in /usr/local/lib/python3.7/dist-packages (from -r requirements.txt (line 4)) (1.8.0)\n",
            "Requirement already satisfied: sentencepiece>=0.1.6 in /usr/local/lib/python3.7/dist-packages (from -r requirements.txt (line 5)) (0.1.96)\n",
            "Requirement already satisfied: torch>=1.7.0 in /usr/local/lib/python3.7/dist-packages (from -r requirements.txt (line 6)) (1.10.0+cu111)\n",
            "Requirement already satisfied: transformers>=4.8.1 in /usr/local/lib/python3.7/dist-packages (from -r requirements.txt (line 7)) (4.17.0)\n",
            "Requirement already satisfied: flatbuffers in /usr/local/lib/python3.7/dist-packages (from onnxruntime==1.8.0->-r requirements.txt (line 4)) (2.0)\n",
            "Requirement already satisfied: numpy>=1.16.6 in /usr/local/lib/python3.7/dist-packages (from onnxruntime==1.8.0->-r requirements.txt (line 4)) (1.21.5)\n",
            "Requirement already satisfied: protobuf in /usr/local/lib/python3.7/dist-packages (from onnxruntime==1.8.0->-r requirements.txt (line 4)) (3.17.3)\n",
            "Requirement already satisfied: cython in /usr/local/lib/python3.7/dist-packages (from gluonnlp>=0.6.0->-r requirements.txt (line 2)) (0.29.28)\n",
            "Requirement already satisfied: packaging in /usr/local/lib/python3.7/dist-packages (from gluonnlp>=0.6.0->-r requirements.txt (line 2)) (21.3)\n",
            "Requirement already satisfied: graphviz<0.9.0,>=0.8.1 in /usr/local/lib/python3.7/dist-packages (from mxnet>=1.4.0->-r requirements.txt (line 3)) (0.8.4)\n",
            "Requirement already satisfied: requests<3,>=2.20.0 in /usr/local/lib/python3.7/dist-packages (from mxnet>=1.4.0->-r requirements.txt (line 3)) (2.23.0)\n",
            "Requirement already satisfied: typing-extensions in /usr/local/lib/python3.7/dist-packages (from torch>=1.7.0->-r requirements.txt (line 6)) (3.10.0.2)\n",
            "Requirement already satisfied: sacremoses in /usr/local/lib/python3.7/dist-packages (from transformers>=4.8.1->-r requirements.txt (line 7)) (0.0.47)\n",
            "Requirement already satisfied: tokenizers!=0.11.3,>=0.11.1 in /usr/local/lib/python3.7/dist-packages (from transformers>=4.8.1->-r requirements.txt (line 7)) (0.11.6)\n",
            "Requirement already satisfied: huggingface-hub<1.0,>=0.1.0 in /usr/local/lib/python3.7/dist-packages (from transformers>=4.8.1->-r requirements.txt (line 7)) (0.4.0)\n",
            "Requirement already satisfied: importlib-metadata in /usr/local/lib/python3.7/dist-packages (from transformers>=4.8.1->-r requirements.txt (line 7)) (4.11.2)\n",
            "Requirement already satisfied: pyyaml>=5.1 in /usr/local/lib/python3.7/dist-packages (from transformers>=4.8.1->-r requirements.txt (line 7)) (6.0)\n",
            "Requirement already satisfied: regex!=2019.12.17 in /usr/local/lib/python3.7/dist-packages (from transformers>=4.8.1->-r requirements.txt (line 7)) (2019.12.20)\n",
            "Requirement already satisfied: tqdm>=4.27 in /usr/local/lib/python3.7/dist-packages (from transformers>=4.8.1->-r requirements.txt (line 7)) (4.63.0)\n",
            "Requirement already satisfied: filelock in /usr/local/lib/python3.7/dist-packages (from transformers>=4.8.1->-r requirements.txt (line 7)) (3.6.0)\n",
            "Requirement already satisfied: pyparsing!=3.0.5,>=2.0.2 in /usr/local/lib/python3.7/dist-packages (from packaging->gluonnlp>=0.6.0->-r requirements.txt (line 2)) (3.0.7)\n",
            "Requirement already satisfied: urllib3!=1.25.0,!=1.25.1,<1.26,>=1.21.1 in /usr/local/lib/python3.7/dist-packages (from requests<3,>=2.20.0->mxnet>=1.4.0->-r requirements.txt (line 3)) (1.25.11)\n",
            "Requirement already satisfied: certifi>=2017.4.17 in /usr/local/lib/python3.7/dist-packages (from requests<3,>=2.20.0->mxnet>=1.4.0->-r requirements.txt (line 3)) (2021.10.8)\n",
            "Requirement already satisfied: chardet<4,>=3.0.2 in /usr/local/lib/python3.7/dist-packages (from requests<3,>=2.20.0->mxnet>=1.4.0->-r requirements.txt (line 3)) (3.0.4)\n",
            "Requirement already satisfied: idna<3,>=2.5 in /usr/local/lib/python3.7/dist-packages (from requests<3,>=2.20.0->mxnet>=1.4.0->-r requirements.txt (line 3)) (2.10)\n",
            "Requirement already satisfied: s3transfer<0.6.0,>=0.5.0 in /usr/local/lib/python3.7/dist-packages (from boto3->-r requirements.txt (line 1)) (0.5.2)\n",
            "Requirement already satisfied: botocore<1.25.0,>=1.24.13 in /usr/local/lib/python3.7/dist-packages (from boto3->-r requirements.txt (line 1)) (1.24.13)\n",
            "Requirement already satisfied: jmespath<1.0.0,>=0.7.1 in /usr/local/lib/python3.7/dist-packages (from boto3->-r requirements.txt (line 1)) (0.10.0)\n",
            "Requirement already satisfied: python-dateutil<3.0.0,>=2.1 in /usr/local/lib/python3.7/dist-packages (from botocore<1.25.0,>=1.24.13->boto3->-r requirements.txt (line 1)) (2.8.2)\n",
            "Requirement already satisfied: six>=1.5 in /usr/local/lib/python3.7/dist-packages (from python-dateutil<3.0.0,>=2.1->botocore<1.25.0,>=1.24.13->boto3->-r requirements.txt (line 1)) (1.15.0)\n",
            "Requirement already satisfied: zipp>=0.5 in /usr/local/lib/python3.7/dist-packages (from importlib-metadata->transformers>=4.8.1->-r requirements.txt (line 7)) (3.7.0)\n",
            "Requirement already satisfied: click in /usr/local/lib/python3.7/dist-packages (from sacremoses->transformers>=4.8.1->-r requirements.txt (line 7)) (7.1.2)\n",
            "Requirement already satisfied: joblib in /usr/local/lib/python3.7/dist-packages (from sacremoses->transformers>=4.8.1->-r requirements.txt (line 7)) (1.1.0)\n"
          ]
        }
      ]
    },
    {
      "cell_type": "code",
      "source": [
        "from gluonnlp.data import SentencepieceTokenizer\n",
        "from kobert.utils import get_tokenizer\n",
        "tok_path = get_tokenizer()\n",
        "sp = SentencepieceTokenizer(tok_path)\n",
        "print(sp('영실아오늘날씨어때?'))"
      ],
      "metadata": {
        "colab": {
          "base_uri": "https://localhost:8080/"
        },
        "id": "VZhZJ7ZPGdkq",
        "outputId": "67abf7b1-3c60-4cd8-fe55-d37f86b6f05a"
      },
      "execution_count": null,
      "outputs": [
        {
          "output_type": "stream",
          "name": "stdout",
          "text": [
            "/content/KoBERT/KoBERT/.cache/kobert_news_wiki_ko_cased-1087f8699e.spiece[██████████████████████████████████████████████████]\n",
            "['▁영', '실', '아', '오늘', '날', '씨', '어', '때', '?']\n"
          ]
        }
      ]
    },
    {
      "cell_type": "code",
      "source": [
        "def word_tokenization_kovert(text):\n",
        "  return [word for word in sp(text)]\n",
        "\n",
        "def train_preprocessing(df):\n",
        "  df['document'] = df['document'].str.replace(\"[^A-Za-z가-힣ㄱ-하-ㅣ]\", \"\")\n",
        "  df=df.dropna()\n",
        "  data = df['document'].apply(lambda x:word_tokenization_kovert(x))\n",
        "  print(data.head())\n",
        "  data=tokenizer.texts_to_sequences(data)\n",
        "  data=pad_sequences(data, truncating=trunc_type, padding=padding_type, maxlen=max_length)\n",
        "\n",
        "  training_size = 120000\n",
        "  train_sentences = data[:training_size]\n",
        "  valid_sentences = data[training_size:]\n",
        "  train_labels = train['label'][:training_size]\n",
        "  valid_labels = train['label'][training_size:]\n",
        "  train_labels = np.asarray(train_labels)\n",
        "  valid_labels = np.asarray(valid_labels)\n",
        "  return train_sentences, valid_sentences, train_labels, valid_labels"
      ],
      "metadata": {
        "id": "MRNgs9SnHRj5"
      },
      "execution_count": null,
      "outputs": []
    },
    {
      "cell_type": "code",
      "source": [
        "train_padded, valid_padded, train_labels, valid_labels = train_preprocessing(train)"
      ],
      "metadata": {
        "colab": {
          "base_uri": "https://localhost:8080/"
        },
        "id": "EiqHp2KfJYTh",
        "outputId": "91f0037f-3da2-4bda-cee9-a7f196c9a042"
      },
      "execution_count": null,
      "outputs": [
        {
          "output_type": "stream",
          "name": "stdout",
          "text": [
            "0                   [▁아, 더, 빙, 진짜, 짜, 증, 나, 네요, 목, 소리]\n",
            "1    [▁, 흠, 포, 스터, 보고, 초, 딩, 영화, 줄, 오, 버, 연, 기, 조차,...\n",
            "2           [▁너무, 재, 밓, 었다, 그래, 서, 보는, 것, 을, 추, 천, 한다]\n",
            "3    [▁교, 도, 소, 이, 야, 기구, 먼, 솔, 직, 히, 재, 미, 는, 없, 다...\n",
            "4    [▁사이, 몬, 페, 그, 의, 익, 살, 스, 런, 연, 기가, 돋, 보, 였던,...\n",
            "Name: document, dtype: object\n"
          ]
        }
      ]
    },
    {
      "cell_type": "code",
      "source": [
        "# 추 후 오류 잡아보기\n",
        "# # 훈련\n",
        "# model3 = create_model()\n",
        "# history = model3.fit(train_padded, train_labels, validation_data=(valid_padded, valid_labels), \n",
        "#                     batch_size=64, epochs=10, verbose=2, callbacks=[earlystopping, checkpoint])"
      ],
      "metadata": {
        "id": "uikx92I3KEYK"
      },
      "execution_count": null,
      "outputs": []
    },
    {
      "cell_type": "code",
      "source": [
        "# 참조해보기\n",
        "# tf.keras.utils.plot_model(model, show_shapes=True)"
      ],
      "metadata": {
        "id": "AiXivyd-e9z2"
      },
      "execution_count": null,
      "outputs": []
    },
    {
      "cell_type": "code",
      "source": [
        "# 자연어 생성"
      ],
      "metadata": {
        "id": "X_y9mN9eF_Dj"
      },
      "execution_count": null,
      "outputs": []
    },
    {
      "cell_type": "markdown",
      "source": [
        "# CNN"
      ],
      "metadata": {
        "id": "thB9gxlDfKHi"
      }
    },
    {
      "cell_type": "code",
      "source": [
        ""
      ],
      "metadata": {
        "id": "lI7L24OefM_h"
      },
      "execution_count": null,
      "outputs": []
    }
  ],
  "metadata": {
    "accelerator": "GPU",
    "colab": {
      "collapsed_sections": [],
      "machine_shape": "hm",
      "name": "파이썬딥러닝텐서플로.ipynb",
      "provenance": [],
      "authorship_tag": "ABX9TyNfAeMc68bjOdfKR+Kd1/fE",
      "include_colab_link": true
    },
    "kernelspec": {
      "display_name": "Python 3",
      "name": "python3"
    },
    "language_info": {
      "name": "python"
    }
  },
  "nbformat": 4,
  "nbformat_minor": 0
}